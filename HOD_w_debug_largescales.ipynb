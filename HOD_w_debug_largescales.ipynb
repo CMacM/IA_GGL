{
 "cells": [
  {
   "cell_type": "markdown",
   "metadata": {},
   "source": [
    "Check the large scale galaxy bias as implied by the HOD models we use for each source and lens sample."
   ]
  },
  {
   "cell_type": "code",
   "execution_count": 1,
   "metadata": {},
   "outputs": [
    {
     "name": "stderr",
     "output_type": "stream",
     "text": [
      "/usr/local/lib/python2.7/dist-packages/halotools/sim_manager/halo_table_cache.py:12: UserWarning: Some of the functionality of the HaloTableCache classrequires h5py to be installed.\n",
      "  warn(\"Some of the functionality of the HaloTableCache class\"\n",
      "/usr/local/lib/python2.7/dist-packages/halotools/sim_manager/user_supplied_ptcl_catalog.py:13: UserWarning: Most of the functionality of the sim_manager sub-package requires h5py to be installed,\n",
      "which can be accomplished either with pip or conda\n",
      "  warn(\"Most of the functionality of the sim_manager \"\n",
      "/usr/local/lib/python2.7/dist-packages/halotools/sim_manager/download_manager.py:39: UserWarning: Some of the functionality of the DownloadManager requires h5py to be installed,\n",
      "which can be accomplished either with pip or conda\n",
      "  warn(\"Some of the functionality of the DownloadManager requires h5py to be installed,\\n\"\n",
      "/usr/local/lib/python2.7/dist-packages/halotools/sim_manager/cached_halo_catalog.py:15: UserWarning: Most of the functionality of the sim_manager sub-package requires h5py to be installed,\n",
      "which can be accomplished either with pip or conda. \n",
      "  warn(\"Most of the functionality of the \"\n"
     ]
    }
   ],
   "source": [
    "# Import modules\n",
    "% matplotlib inline\n",
    "import numpy as np; \n",
    "import scipy.integrate; \n",
    "import scipy.interpolate; \n",
    "import matplotlib.pyplot as plt\n",
    "import pyccl as ccl; \n",
    "import shared_functions_wlp_wls as shared; \n",
    "import shared_functions_setup as setup"
   ]
  },
  {
   "cell_type": "code",
   "execution_count": 2,
   "metadata": {
    "collapsed": true
   },
   "outputs": [],
   "source": [
    "# Set the survey\n",
    "survey = 'SDSS'\n",
    "if (survey == 'SDSS'):\n",
    "    import params as pa\n",
    "elif (survey == 'LSST_DESI'):\n",
    "    import params_LSST_DESI as pa"
   ]
  },
  {
   "cell_type": "code",
   "execution_count": 3,
   "metadata": {
    "collapsed": true
   },
   "outputs": [],
   "source": [
    "#Initialize the cosmology\n",
    "OmM = pa.OmC_l + pa.OmB_l; OmB=pa.OmB_l; h0 = pa.HH0_l / 100.; sigma80=pa.sigma8_l; n_s0 = pa.n_s_l;\n",
    "\n",
    "p = ccl.Parameters(Omega_c = OmM-OmB, Omega_b = OmB, h = h0, sigma8=sigma80, n_s=n_s0)\n",
    "cosmo = ccl.Cosmology(p)\n",
    "\n",
    "rho_crit = 3. * 10**10 * pa.mperMpc / (8. * np.pi * pa.Gnewt * pa.Msun)  # Msol h^2 / Mpc^3, for use with M in Msol / h (comoving distances)\n",
    "rho_m = (OmM) * rho_crit # units of Msol h^2 / Mpc^3 (comoving distances)"
   ]
  },
  {
   "cell_type": "code",
   "execution_count": 4,
   "metadata": {
    "collapsed": true
   },
   "outputs": [],
   "source": [
    "# Get the window function of sources x lenses (this is the redshift range we care about)\n",
    "#(z, dNdz) = shared.window(survey)    \n",
    "\n",
    "# At the moment get the window function of just lenses\n",
    "z = np.linspace(pa.zLmin, pa.zLmax, 100)\n",
    "dNdz = setup.get_dNdzL(z, survey)"
   ]
  },
  {
   "cell_type": "code",
   "execution_count": 5,
   "metadata": {
    "collapsed": true
   },
   "outputs": [],
   "source": [
    "logkmin = -6; kpts =40000; logkmax = 5; \n",
    "kvec_FT = np.logspace(logkmin, logkmax, kpts)\n",
    "# Actually we will use a downsampled version of this:\n",
    "k = np.logspace(np.log10(kvec_FT[0]), np.log10(kvec_FT[-1]), 40)"
   ]
  },
  {
   "cell_type": "code",
   "execution_count": 6,
   "metadata": {
    "collapsed": true
   },
   "outputs": [],
   "source": [
    "# Let the galaxy-galaxy two-halo term be given by halofit * bias**2\n",
    "\n",
    "# DON'T FORGET that CCL power spectra are not in little h units. P(k) has units Mpc^3, takes k in units 1/Mpc\n",
    "\n",
    "Pknonlin = np.zeros((len(k), len(z)))\n",
    "#Pklin = np.zeros((len(k), len(z)))\n",
    "for zi in range(0,len(z)):\n",
    "    # Change k and Pk to little h units\n",
    "    Pknonlin[:, zi] = ccl.power.nonlin_matter_power(cosmo, k * h0, 1. / (1. + z[zi])) * h0**3\n",
    "    #Pklin[:, zi] = ccl.power.linear_matter_power(cosmo, k * h0, 1. / (1. + z[zi])) * h0**3\n",
    "    \n",
    "Pkgg = pa.bd*pa.bd * Pknonlin\n",
    "#Pkgg_lin = pa.bd * pa.bd * Pklin\n",
    "\n",
    "# Integrate over z\n",
    "P_2h_gg_avgz = np.zeros(len(k))\n",
    "#P_2h_gg_avgz_lin = np.zeros(len(k))\n",
    "for ki in range(0,len(k)):\n",
    "    P_2h_gg_avgz[ki] = scipy.integrate.simps(dNdz * Pkgg[ki,:], z)\n",
    "    #P_2h_gg_avgz_lin[ki] = scipy.integrate.simps(dNdz * Pkgg_lin[ki,:], z)"
   ]
  },
  {
   "cell_type": "code",
   "execution_count": 7,
   "metadata": {},
   "outputs": [],
   "source": [
    "# Use the longer k vector to Fourier transform\n",
    "\n",
    "interp_in_k = scipy.interpolate.interp1d(np.log(k), np.log(P_2h_gg_avgz))\n",
    "twoh_Pgg_klong = np.exp(interp_in_k(np.log(kvec_FT)))\n",
    "\n",
    "savePgg = np.column_stack((kvec_FT, twoh_Pgg_klong))\n",
    "np.savetxt('./txtfiles/halofit_Pk/Pk_2h_SDSS_lens_nonlin_fixhunits.txt', savePgg)      "
   ]
  },
  {
   "cell_type": "code",
   "execution_count": 8,
   "metadata": {},
   "outputs": [],
   "source": [
    "# Load  the combined xi from file after Fourier transforming\n",
    "\n",
    "(r, xi_tot) = np.loadtxt('./txtfiles/halofit_xi/xi_2h_SDSS_lens_nonlin_fixhunits.txt', unpack=True)\n",
    "\n",
    "#plt.figure(figsize=[10,10])\n",
    "#plt.loglog(r, xi_tot, 'm', label='1h+2h')\n",
    "#plt.ylabel('$\\\\xi(r)$')\n",
    "#plt.xlabel('$r$, Mpc/h')\n",
    "#plt.xlim(0.01, 100)\n",
    "#plt.ylim(0.001, 10**6)\n",
    "#plt.title('$\\\\xi(r)$, SDSS')\n",
    "#plt.legend()\n",
    "#plt.show()\n",
    "#plt.savefig('./plots/xi_SDSS.png')"
   ]
  },
  {
   "cell_type": "code",
   "execution_count": 9,
   "metadata": {},
   "outputs": [
    {
     "data": {
      "image/png": "[encoded data removed]",
      "text/plain": [
       "<matplotlib.figure.Figure at 0x7f2f841e1b50>"
      ]
     },
     "metadata": {},
     "output_type": "display_data"
    }
   ],
   "source": [
    "# Project:\n",
    "\n",
    "for ri in range(0,len(r)):\n",
    "    if xi_tot[ri]<10**(-12):\n",
    "        xi_tot[ri]=10**(-12)\n",
    "\n",
    "#interpolate in r:\n",
    "interp_xi = scipy.interpolate.interp1d(np.log(r), np.log(xi_tot))\n",
    "\n",
    "rp = np.logspace(-2, 2, 20)\n",
    "Pi = np.logspace(-5, np.log10(80.), 1000) # use the same projection length as Reid & Spergel 2008\n",
    "\n",
    "logxi_2d = np.zeros((len(rp), len(Pi)))\n",
    "for ri in range(0,len(rp)):\n",
    "    for pi in range(0,len(Pi)):\n",
    "        r_2d = np.sqrt( rp[ri]**2 + Pi[pi]**2 )\n",
    "        logxi_2d[ri, pi] = interp_xi(np.log(r_2d))\n",
    "\n",
    "wgg = [0]*len(rp)\n",
    "for ri in range(0,len(rp)):\n",
    "   # print np.log(np.sqrt(rp[ri]**2 + Pi**2))\n",
    "    wgg[ri] = 2.*scipy.integrate.simps(np.exp(logxi_2d[ri,:]), Pi)\n",
    "    \n",
    "plt.figure()\n",
    "plt.loglog(rp, np.asarray(wgg), 'm', label='1h+2h')\n",
    "plt.ylabel('$w_{gg}$')\n",
    "plt.xlabel('$r_p$, Mpc/h')\n",
    "plt.title('$w_{gg}$, SDSS')\n",
    "plt.xlim(0.04, 30)\n",
    "plt.ylim(8, 7000)\n",
    "plt.legend()\n",
    "#plt.show()\n",
    "plt.savefig('./plots/wgg_SDSS.pdf')"
   ]
  },
  {
   "cell_type": "code",
   "execution_count": null,
   "metadata": {
    "collapsed": true
   },
   "outputs": [],
   "source": [
    "#"
   ]
  }
 ],
 "metadata": {
  "kernelspec": {
   "display_name": "Python 2",
   "language": "python",
   "name": "python2"
  },
  "language_info": {
   "codemirror_mode": {
    "name": "ipython",
    "version": 2
   },
   "file_extension": ".py",
   "mimetype": "text/x-python",
   "name": "python",
   "nbconvert_exporter": "python",
   "pygments_lexer": "ipython2",
   "version": "2.7.12"
  }
 },
 "nbformat": 4,
 "nbformat_minor": 2
}
