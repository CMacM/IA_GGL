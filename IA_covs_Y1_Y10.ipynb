{
 "cells": [
  {
   "cell_type": "code",
   "execution_count": 1,
   "id": "a331cfe1-a9d9-4fdd-94ff-ec5a1268d358",
   "metadata": {},
   "outputs": [],
   "source": [
    "import numpy as np\n",
    "import sacc\n",
    "import matplotlib.pyplot as plt\n",
    "import pyccl as ccl\n",
    "import scipy\n",
    "import importlib as imp\n",
    "import astropy.io.fits as fits\n",
    "\n",
    "import CM_code.spurious_george as sp\n",
    "imp.reload(sp)\n",
    "import CM_code.halo_model as halo\n",
    "imp.reload(halo)\n",
    "import CM_code.lsst_coZmology as zed\n",
    "imp.reload(zed)\n",
    "import CM_code.tjp_helper as tjp_helper\n",
    "imp.reload(tjp_helper)\n",
    "\n",
    "# import main.py from TJPCov folder\n",
    "import tjpcov as tjp\n",
    "from tjpcov.covariance_calculator import CovarianceCalculator\n",
    "\n",
    "\n",
    "plt.rcParams['font.family'] = 'serif'\n",
    "plt.rcParams['font.serif'] = ['cmr10']\n",
    "plt.rcParams['mathtext.fontset'] ='cm'\n",
    "plt.rcParams['figure.facecolor'] = 'white'\n",
    "plt.rc('axes', unicode_minus=False)\n",
    "plt.rc('axes.formatter', use_mathtext=True)"
   ]
  },
  {
   "cell_type": "markdown",
   "id": "e07c9ddc-d1a1-4478-8415-e3a94a457304",
   "metadata": {},
   "source": [
    "### Y1 MEM Covaraince "
   ]
  },
  {
   "cell_type": "code",
   "execution_count": 2,
   "id": "6e9d8e01-5f11-4046-9153-2b59ffb7f8c7",
   "metadata": {},
   "outputs": [],
   "source": [
    "# create LSST sacc file\n",
    "s = sacc.Sacc()\n",
    "\n",
    "th_lsst = sp.theta_cents #forecasts\n",
    "\n",
    "# start by adding redshift data (this will be used internally by TJP\n",
    "# to create WL and NC tracers\n",
    "z_l, dndz_l, zleff = zed.get_dndz_phot('lens', year=1)\n",
    "s.add_tracer('NZ','lens', z=z_l, nz=dndz_l)\n",
    "\n",
    "z_s, dndz_s, zseff = zed.get_dndz_phot('source', year=1)\n",
    "s.add_tracer('NZ','source', z=z_s, nz=dndz_s)\n",
    "\n",
    "A_IA = 0.16 * 5. * np.ones(len(z_l))\n",
    "\n",
    "lensTracer = ccl.NumberCountsTracer(zed.cosmo_SRD, has_rsd=False, dndz=(z_l, dndz_l), \n",
    "                                    bias=(z_l, sp.lens_bias(z_l)))\n",
    "shearTracer = ccl.WeakLensingTracer(zed.cosmo_SRD, (z_s, dndz_s), has_shear=True,\n",
    "                                   ia_bias=(z_s, A_IA))\n",
    "\n",
    "ell = np.unique(np.geomspace(180/(th_lsst[-1]/60.) - 10, 180/(th_lsst[0]/60.) + 10, 1024).astype(int))\n",
    "\n",
    "Cl = ccl.angular_cl(zed.cosmo_SRD, lensTracer, shearTracer, ell)\n",
    "\n",
    "LSST_xi = ccl.correlation(zed.cosmo_SRD, ell, Cl, th_lsst/60., type='NG') # take theta in degrees\n",
    "\n",
    "s.add_theta_xi('galaxy_shearDensity_xi_t', 'lens', 'source', th_lsst, LSST_xi) # save in arcmins\n",
    "\n",
    "s.save_fits('forecast_IA_data_lsst-y1.fits', overwrite=True)"
   ]
  },
  {
   "cell_type": "code",
   "execution_count": 5,
   "id": "6574fd86-09f1-47a4-88d3-d119c4ad926a",
   "metadata": {},
   "outputs": [
    {
     "name": "stdout",
     "output_type": "stream",
     "text": [
      "Computing independent covariance blocks\n",
      "('lens', 'source') ('lens', 'source')\n"
     ]
    },
    {
     "name": "stderr",
     "output_type": "stream",
     "text": [
      "/home/b7009348/WGL_project/LSST_forecast_code/tjpcov/covariance_builder.py:897: UserWarning: Missing n_ell_coupled info for some tracers in the sacc file. You will have to pass it withthe cache\n",
      "  warnings.warn(\n"
     ]
    },
    {
     "name": "stdout",
     "output_type": "stream",
     "text": [
      "Building the covariance: placing blocks in their place\n",
      "('lens', 'source') ('lens', 'source')\n",
      "Computing independent covariance blocks\n",
      "('lens', 'source') ('lens', 'source')\n",
      "Building the covariance: placing blocks in their place\n",
      "('lens', 'source') ('lens', 'source')\n",
      "Computing independent covariance blocks\n",
      "('lens', 'source') ('lens', 'source')\n",
      "Building the covariance: placing blocks in their place\n",
      "('lens', 'source') ('lens', 'source')\n",
      "Computing independent covariance blocks\n",
      "('lens', 'source') ('lens', 'source')\n",
      "Building the covariance: placing blocks in their place\n",
      "('lens', 'source') ('lens', 'source')\n"
     ]
    }
   ],
   "source": [
    "rho = [0.1,0.9]\n",
    "\n",
    "lsst_config = tjp_helper.generate_config(cosmo=zed.cosmo_SRD, sacc_file='forecast_IA_data_lsst-y1.fits',\n",
    "                                   cov_type='RealGaussianFsky', Nlen=18., Nsrc=10., sig_e=0.26, len_bias=np.mean(sp.lens_bias(z_l)), IA=0.8,\n",
    "                                   add_keys=[['ProjectedReal',['lmax', 42427]],['GaussianFsky',['fsky', 18000/41253]]])\n",
    "LSST_covs = []\n",
    "    \n",
    "for value in rho:\n",
    "\n",
    "    lsstX_config = tjp_helper.generate_config(cosmo=zed.cosmo_SRD, sacc_file='forecast_IA_data_lsst-y1.fits',\n",
    "                                       cov_type='RealGaussianFsky', Nlen=18., Nsrc=10., sig_e=np.sqrt(value*0.26*0.26), \n",
    "                                        len_bias=np.mean(sp.lens_bias(z_l)), IA=0.8, \n",
    "                                        add_keys=[['ProjectedReal',['lmax', 42427]],['GaussianFsky',['fsky', 18000/41253]]])\n",
    "    \n",
    "    cov = CovarianceCalculator(lsst_config)\n",
    "    cov_same = cov.get_covariance()\n",
    "\n",
    "    cov = CovarianceCalculator(lsstX_config)\n",
    "    cov_cross = cov.get_covariance()\n",
    "\n",
    "    LSST_covs.append(2.*cov_same - 2.*cov_cross)\n",
    "    \n",
    "np.savez(file='generated_data/lsst-y1-covmats-IA', cov=LSST_covs, rho=rho)"
   ]
  },
  {
   "cell_type": "markdown",
   "id": "d594e2ec-52df-4ffd-b842-d4c5ddd8f318",
   "metadata": {},
   "source": [
    "### Y10 MEM Covarainces"
   ]
  },
  {
   "cell_type": "code",
   "execution_count": 4,
   "id": "42d706d7-91a8-458d-a94a-9c6859fbb20e",
   "metadata": {},
   "outputs": [],
   "source": [
    "# create LSST sacc file\n",
    "s = sacc.Sacc()\n",
    "\n",
    "th_lsst = sp.theta_cents #forecasts\n",
    "\n",
    "# start by adding redshift data (this will be used internally by TJP\n",
    "# to create WL and NC tracers\n",
    "z_l, dndz_l, zleff = zed.get_dndz_phot('lens', year=10)\n",
    "s.add_tracer('NZ','lens', z=z_l, nz=dndz_l)\n",
    "\n",
    "z_s, dndz_s, zseff = zed.get_dndz_phot('source', year=10)\n",
    "s.add_tracer('NZ','source', z=z_s, nz=dndz_s)\n",
    "\n",
    "A_IA = 0.16 * 5. * np.ones(len(z_l))\n",
    "\n",
    "lensTracer = ccl.NumberCountsTracer(zed.cosmo_SRD, has_rsd=False, dndz=(z_l, dndz_l), \n",
    "                                    bias=(z_l, sp.lens_bias(z_l)))\n",
    "shearTracer = ccl.WeakLensingTracer(zed.cosmo_SRD, (z_s, dndz_s), has_shear=True,\n",
    "                                   ia_bias=(z_s, A_IA))\n",
    "\n",
    "ell = np.unique(np.geomspace(180/(th_lsst[-1]/60.) - 10, 180/(th_lsst[0]/60.) + 10, 1024).astype(int))\n",
    "\n",
    "Cl = ccl.angular_cl(zed.cosmo_SRD, lensTracer, shearTracer, ell)\n",
    "\n",
    "LSST_xi = ccl.correlation(zed.cosmo_SRD, ell, Cl, th_lsst/60., type='NG') # take theta in degrees\n",
    "\n",
    "s.add_theta_xi('galaxy_shearDensity_xi_t', 'lens', 'source', th_lsst, LSST_xi) # save in arcmins\n",
    "\n",
    "s.save_fits('forecast_IA_data_lsst-y10.fits', overwrite=True)"
   ]
  },
  {
   "cell_type": "code",
   "execution_count": 6,
   "id": "bc5e68dd-d79b-420d-8759-6204b3227f8f",
   "metadata": {
    "tags": []
   },
   "outputs": [
    {
     "name": "stdout",
     "output_type": "stream",
     "text": [
      "Computing independent covariance blocks\n",
      "('lens', 'source') ('lens', 'source')\n",
      "Building the covariance: placing blocks in their place\n",
      "('lens', 'source') ('lens', 'source')\n",
      "Computing independent covariance blocks\n",
      "('lens', 'source') ('lens', 'source')\n",
      "Building the covariance: placing blocks in their place\n",
      "('lens', 'source') ('lens', 'source')\n",
      "Computing independent covariance blocks\n",
      "('lens', 'source') ('lens', 'source')\n",
      "Building the covariance: placing blocks in their place\n",
      "('lens', 'source') ('lens', 'source')\n",
      "Computing independent covariance blocks\n",
      "('lens', 'source') ('lens', 'source')\n",
      "Building the covariance: placing blocks in their place\n",
      "('lens', 'source') ('lens', 'source')\n"
     ]
    }
   ],
   "source": [
    "rho = [0.1,0.9]\n",
    "\n",
    "lsst_config = tjp_helper.generate_config(cosmo=zed.cosmo_SRD, sacc_file='forecast_IA_data_lsst-y10.fits',\n",
    "                                   cov_type='RealGaussianFsky', Nlen=48., Nsrc=27., sig_e=0.13, len_bias=1.5, IA=0.8,\n",
    "                                   add_keys=[['ProjectedReal',['lmax', 42427]],['GaussianFsky',['fsky', 18000/41253]]])\n",
    "LSST_covs = []\n",
    "    \n",
    "for value in rho:\n",
    "\n",
    "    lsstX_config = tjp_helper.generate_config(cosmo=zed.cosmo_SRD, sacc_file='forecast_IA_data_lsst-y10.fits',\n",
    "                                       cov_type='RealGaussianFsky', Nlen=48., Nsrc=27., sig_e=np.sqrt(value*0.13*0.13), \n",
    "                                        len_bias=1.5, IA=0.8, \n",
    "                                        add_keys=[['ProjectedReal',['lmax', 42427]],['GaussianFsky',['fsky', 18000/41253]]])\n",
    "    \n",
    "    cov = CovarianceCalculator(lsst_config)\n",
    "    cov_same = cov.get_covariance()\n",
    "\n",
    "    cov = CovarianceCalculator(lsstX_config)\n",
    "    cov_cross = cov.get_covariance()\n",
    "\n",
    "    LSST_covs.append(2.*cov_same - 2.*cov_cross) \n",
    "    \n",
    "np.savez(file='generated_data/lsst-y10-covmats-IA', cov=LSST_covs, rho=rho)"
   ]
  }
 ],
 "metadata": {
  "kernelspec": {
   "display_name": "Python [conda env:ccl_tjp]",
   "language": "python",
   "name": "conda-env-ccl_tjp-py"
  },
  "language_info": {
   "codemirror_mode": {
    "name": "ipython",
    "version": 3
   },
   "file_extension": ".py",
   "mimetype": "text/x-python",
   "name": "python",
   "nbconvert_exporter": "python",
   "pygments_lexer": "ipython3",
   "version": "3.9.15"
  }
 },
 "nbformat": 4,
 "nbformat_minor": 5
}
