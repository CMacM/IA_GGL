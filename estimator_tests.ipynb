{
 "cells": [
  {
   "cell_type": "code",
   "execution_count": null,
   "id": "5be45c33-140b-4fef-a1dc-3376ef7ac7d6",
   "metadata": {},
   "outputs": [],
   "source": [
    "import numpy as np\n",
    "import scipy\n",
    "import scipy.integrate\n",
    "import scipy.interpolate\n",
    "import matplotlib.pyplot as plt\n",
    "import shared_functions_setup as setup\n",
    "import shared_functions_wlp_wls as ws\n",
    "import os.path\n",
    "import pyccl as ccl\n",
    "#import main.py as main\n",
    "\n",
    "plt.rcParams['figure.facecolor'] = 'white'\n",
    "plt.rcParams['font.family'] = 'serif'\n",
    "plt.rcParams['font.serif'] = ['cmr10']\n",
    "plt.rcParams['mathtext.fontset'] ='cm'\n",
    "data_dir = '/home/b7009348/WGL_project/DES-data/'"
   ]
  },
  {
   "cell_type": "markdown",
   "id": "82dd76ba-893c-4be5-b6e7-1c71b843d445",
   "metadata": {},
   "source": [
    "- Need to fix some errors in main.py (missing certain files it is calling to, such as boosts txt file)"
   ]
  },
  {
   "cell_type": "markdown",
   "id": "76ad16d4-15d6-4dd0-9cf1-0ab88143b838",
   "metadata": {},
   "source": [
    "#### Set up cosmology and halo model quantities"
   ]
  },
  {
   "cell_type": "code",
   "execution_count": null,
   "id": "ef156c4b-f82b-44d7-9383-2183b9a068b1",
   "metadata": {},
   "outputs": [],
   "source": [
    "# Cosmology\n",
    "cosmo = ccl.Cosmology(Omega_c=0.27, Omega_b=0.045, h=0.67, sigma8=0.83, n_s=0.96)\n",
    "\n",
    "# Wavenumbers and scale factors\n",
    "k_arr = np.geomspace(1E-4,1E1,256)\n",
    "a_arr = np.linspace(0.1,1,32)\n",
    "\n",
    "# We will use a mass definition with Delta = 200 times the matter density\n",
    "hmd_200m = ccl.halos.MassDef200m()\n",
    "\n",
    "# The Duffy 2008 concentration-mass relation\n",
    "cM = ccl.halos.ConcentrationDuffy08(hmd_200m)\n",
    "\n",
    "# The Tinker 2008 mass function\n",
    "nM = ccl.halos.MassFuncTinker08(cosmo, mass_def=hmd_200m)\n",
    "\n",
    "# The Tinker 2010 halo bias\n",
    "bM = ccl.halos.HaloBiasTinker10(cosmo, mass_def=hmd_200m)\n",
    "\n",
    "# The NFW profile to characterize the matter density around halos\n",
    "pM = ccl.halos.profiles.HaloProfileNFW(cM)"
   ]
  },
  {
   "cell_type": "markdown",
   "id": "f25fbd9e-1cf0-459e-8756-97765d1cf7be",
   "metadata": {},
   "source": [
    "#### Create new HOD class using NCen and NSat from Leonard2018 forecasting\n",
    "- Need to double check with Danielle what is done here is correct!"
   ]
  },
  {
   "cell_type": "code",
   "execution_count": null,
   "id": "14b82aa3-9317-45a4-b736-2f2d93bd869e",
   "metadata": {},
   "outputs": [],
   "source": [
    "class HaloProfileHOD(ccl.halos.HaloProfileNFW):\n",
    "    def __init__(self, c_M_relation,\n",
    "                 lMmin=12.02, lMminp=-1.34,\n",
    "                 lM0=6.6, lM0p=-1.43,\n",
    "                 lM1=13.27, lM1p=-0.323):\n",
    "        self.lMmin=lMmin\n",
    "        self.lMminp=lMminp\n",
    "        self.lM0=lM0\n",
    "        self.lM0p=lM0p\n",
    "        self.lM1=lM1\n",
    "        self.lM1p=lM1p\n",
    "        self.a0 = 1./(1+0.65)\n",
    "        self.sigmaLogM = 0.4\n",
    "        self.alpha = 1.\n",
    "        super(HaloProfileHOD, self).__init__(c_M_relation)\n",
    "        self._fourier = self._fourier_analytic_hod\n",
    "    \n",
    "    def _Nc(self, M, a):\n",
    "        # Number of centrals\n",
    "\n",
    "        return ws.get_Ncen_More(M, 'LSST_DESI')\n",
    "    \n",
    "    def _Ns(self, M, a):\n",
    "        # Number of satellites\n",
    "\n",
    "        return ws.get_Nsat_More(M, 'LSST_DESI')\n",
    "\n",
    "    def _lMmin(self, a):\n",
    "        return self.lMmin + self.lMminp * (a - self.a0)\n",
    "\n",
    "    def _lM0(self, a):\n",
    "        return self.lM0 + self.lM0p * (a - self.a0)\n",
    "\n",
    "    def _lM1(self, a):\n",
    "        return self.lM1 + self.lM1p * (a - self.a0)\n",
    "\n",
    "    def _fourier_analytic_hod(self, cosmo, k, M, a, mass_def):\n",
    "        M_use = np.atleast_1d(M)\n",
    "        k_use = np.atleast_1d(k)\n",
    "        \n",
    "        Nc = self._Nc(M_use, a)\n",
    "        Ns = self._Ns(M_use, a)\n",
    "        \n",
    "        # NFW profile\n",
    "        uk = self._fourier_analytic(cosmo, k_use, M_use, a, mass_def) / M_use[:, None]\n",
    "\n",
    "        prof = Nc[:, None] * (1 + Ns[:, None] * uk)\n",
    "\n",
    "        if np.ndim(k) == 0:\n",
    "            prof = np.squeeze(prof, axis=-1)\n",
    "        if np.ndim(M) == 0:\n",
    "            prof = np.squeeze(prof, axis=0)\n",
    "        return prof\n",
    "\n",
    "    def _fourier_variance(self, cosmo, k, M, a, mass_def):\n",
    "        # Fourier-space variance of the HOD profile\n",
    "        M_use = np.atleast_1d(M)\n",
    "        k_use = np.atleast_1d(k)\n",
    "\n",
    "        Nc = self._Nc(M_use, a)\n",
    "        Ns = self._Ns(M_use, a)\n",
    "        \n",
    "        # NFW profile\n",
    "        uk = self._fourier_analytic(cosmo, k_use, M_use, a, mass_def) / M_use[:, None]\n",
    "\n",
    "        prof = Ns[:, None] * uk\n",
    "        prof = Nc[:, None] * (2 * prof + prof**2)\n",
    "\n",
    "        if np.ndim(k) == 0:\n",
    "            prof = np.squeeze(prof, axis=-1)\n",
    "        if np.ndim(M) == 0:\n",
    "            prof = np.squeeze(prof, axis=0)\n",
    "        return prof\n",
    "\n",
    "# this is the galaxy power spectrum calculated from the custom HOD????\n",
    "pg = HaloProfileHOD(cM)"
   ]
  },
  {
   "cell_type": "code",
   "execution_count": null,
   "id": "b02c38d5-2aae-4700-8fa9-df01bd2bc82f",
   "metadata": {},
   "outputs": [],
   "source": [
    "# Halo model calculator\n",
    "hmc = ccl.halos.HMCalculator(cosmo, nM, bM, hmd_200m)"
   ]
  },
  {
   "cell_type": "markdown",
   "id": "29e942af-5622-4a7a-a368-ff29a7366a01",
   "metadata": {},
   "source": [
    "### Use new HOD to compute Galaxy-Galaxy power specturm \n",
    "- Only 1 term included? Check in meeting"
   ]
  },
  {
   "cell_type": "code",
   "execution_count": null,
   "id": "5ad24f79-f0e5-4db1-af7e-7ad6f207e814",
   "metadata": {},
   "outputs": [],
   "source": [
    "class Profile2ptHOD(ccl.halos.Profile2pt):\n",
    "    def fourier_2pt(self, prof, cosmo, k, M, a,\n",
    "                      prof2=None, mass_def=None):\n",
    "        return prof._fourier_variance(cosmo, k, M ,a, mass_def)\n",
    "HOD2pt = Profile2ptHOD()\n",
    "\n",
    "# I think this includes 1 and 2 halo terms?    \n",
    "pk_gg = ccl.halos.halomod_power_spectrum(cosmo, hmc, k_arr, 1.,\n",
    "                                         pg, prof_2pt=HOD2pt,\n",
    "                                         normprof1=True)"
   ]
  },
  {
   "cell_type": "code",
   "execution_count": null,
   "id": "93a37f45-92d6-4f16-9e5c-9d0e608a9b21",
   "metadata": {},
   "outputs": [],
   "source": [
    "plt.figure(figsize=([8,5]))\n",
    "plt.plot(k_arr, pk_gg, label='$P_{gg}(k)$')\n",
    "plt.xscale('log')\n",
    "plt.yscale('log')\n",
    "plt.legend(fontsize=16)\n",
    "plt.ylabel(r'$P(k)\\,\\,[{\\rm Mpc}^3]$', fontsize=15)\n",
    "plt.xlabel(r'$k\\,\\,[{\\rm Mpc}^{-1}]$', fontsize=15);"
   ]
  },
  {
   "cell_type": "markdown",
   "id": "9908beff-9bd8-424b-b87c-cd1fd0c53bfc",
   "metadata": {},
   "source": [
    "### Create theoretical redshift distributions for lenses\n",
    "- Convolve dn/dz with photo-z requirements from LSST SRD"
   ]
  },
  {
   "cell_type": "code",
   "execution_count": null,
   "id": "3b698d6c-8359-4970-946b-5a1ece5a508a",
   "metadata": {},
   "outputs": [],
   "source": [
    "import customHOD as HOD"
   ]
  },
  {
   "cell_type": "code",
   "execution_count": null,
   "id": "e213d6d4-dac0-4d11-be52-3b0fc544b6dd",
   "metadata": {},
   "outputs": [],
   "source": [
    "pk_gg = HOD.get_GG_power()"
   ]
  },
  {
   "cell_type": "code",
   "execution_count": null,
   "id": "b2b1628d-8ed3-40a3-b22e-66bd8f972118",
   "metadata": {},
   "outputs": [],
   "source": [
    "# this is a makeshift distribution maker based on the SRD \n",
    "# document for testing purposes\n",
    "\n",
    "def get_LSST_dNdz(mode, year, z_arr):\n",
    "    if year == 1 and mode == 'lens':\n",
    "        z_0 = 0.26\n",
    "        alpha = 0.94\n",
    "        dNdz = z_arr**2 * np.exp(-(z_arr/z_0)**alpha)\n",
    "    elif year == 10 and mode == 'lens':\n",
    "        z_0 = 0.28\n",
    "        alpha = 0.90\n",
    "        dNdz = z_arr**2. * np.exp(-(z_arr/z_0)**alpha)\n",
    "    elif year == 1 and mode == 'source':\n",
    "        z_0 = 0.13\n",
    "        alpha = 0.78\n",
    "        dNdz = z_arr**2. * np.exp(-(z_arr/z_0)**alpha)\n",
    "    elif year == 10 and mode == 'source':\n",
    "        z_0 = 0.11\n",
    "        alpha = 0.68\n",
    "        dNdz = z_arr**2. * np.exp(-(z_arr/z_0)**alpha)\n",
    "    else:\n",
    "        print('Not an LSST release year')\n",
    "        dNdz = 0.\n",
    "        \n",
    "    return dNdz"
   ]
  },
  {
   "cell_type": "code",
   "execution_count": null,
   "id": "5f513193-6467-4577-a4bc-42512600108f",
   "metadata": {},
   "outputs": [],
   "source": [
    "lens_z_arr = np.linspace(0.2, 1.2, 256)\n",
    "source_z_arr = np.linspace(0.2, 3.0, 256)\n",
    "\n",
    "Y1lens_dNdz = get_LSST_dNdz(mode='lens', year=1, z_arr=lens_z_arr)\n",
    "Y1source_dNdz = get_LSST_dNdz(mode='source', year=1, z_arr=source_z_arr)\n",
    "\n",
    "lensTracer = ccl.NumberCountsTracer(cosmo, has_rsd=False, dndz=(z_arr, Y1lens_dNdz), \n",
    "                                    bias=(lens_z_arr, np.ones(len(lens_z_arr))))\n",
    "matterTracer = ccl.WeakLensingTracer(cosmo, (source_z_arr, Y1source_dNdz))"
   ]
  },
  {
   "cell_type": "code",
   "execution_count": null,
   "id": "69bdb3e2-6201-4e6f-b72b-ecb3b76f8bdd",
   "metadata": {},
   "outputs": [],
   "source": [
    "# create 2D power spectrum objects for galaxy-shear correlation\n",
    "\n",
    "pk_gMf = ccl.halos.halomod_Pk2D(cosmo, hmc, pg, prof2=pM, \n",
    "                                normprof1=True, normprof2=True, \n",
    "                                lk_arr=np.log(k_arr), a_arr=a_arr)"
   ]
  },
  {
   "cell_type": "code",
   "execution_count": null,
   "id": "62101da6-313d-40a2-9063-52d70b03ccc5",
   "metadata": {},
   "outputs": [],
   "source": [
    "ell = np.arange(2,2000)\n",
    "\n",
    "y1_aps = ccl.angular_cl(cosmo, lensTracer, matterTracer, ell)"
   ]
  },
  {
   "cell_type": "code",
   "execution_count": null,
   "id": "ac210684-73ca-4ee7-8512-21bd658e42ff",
   "metadata": {},
   "outputs": [],
   "source": [
    "plt.figure(figsize=[6,5])\n",
    "plt.plot(ell, y1_aps)\n",
    "plt.xscale('log')\n",
    "plt.yscale('log')\n",
    "plt.ylabel(r'$C_{l}$', fontsize=14)\n",
    "plt.xlabel(r'$\\ell$', fontsize=14);"
   ]
  },
  {
   "cell_type": "markdown",
   "id": "9f002cce-8073-44e6-a9c3-6e2a06d9393e",
   "metadata": {},
   "source": [
    "# Scripting and Streamlining HOD and gammaT calculation"
   ]
  },
  {
   "cell_type": "markdown",
   "id": "24a60a0f-51df-49d5-963a-52bd5b691097",
   "metadata": {},
   "source": [
    "### Explanation of LSST forecast data: https://github.com/CosmoLike/DESC_SRD"
   ]
  },
  {
   "cell_type": "code",
   "execution_count": 1,
   "id": "9d8459e9-9b95-45e3-88a5-43f64b083eda",
   "metadata": {},
   "outputs": [
    {
     "name": "stdin",
     "output_type": "stream",
     "text": [
      "Initialised with Omega_c=0.27, Omega_b=0.045, h=0.67, sigma8=0.83, n_s=0.96. Modify cosmology? Input y or n. n\n"
     ]
    }
   ],
   "source": [
    "import spurious_george\n",
    "import numpy as np"
   ]
  },
  {
   "cell_type": "code",
   "execution_count": 2,
   "id": "1ada0e15-4cbb-4c96-9c69-b1871fdc6bb2",
   "metadata": {},
   "outputs": [
    {
     "data": {
      "image/png": "[encoded data removed]",
      "text/plain": [
       "<Figure size 576x360 with 1 Axes>"
      ]
     },
     "metadata": {
      "needs_background": "light"
     },
     "output_type": "display_data"
    }
   ],
   "source": [
    "# define wavenumbers\n",
    "k_arr = np.geomspace(1E-4,1E1,256)\n",
    "\n",
    "# calculate galaxy-galaxy power spectrum\n",
    "pk_gM = spurious_george.get_gM_power(k_arr)"
   ]
  },
  {
   "cell_type": "code",
   "execution_count": 3,
   "id": "ac918796-cac3-41e1-96da-774aad4d5a06",
   "metadata": {},
   "outputs": [
    {
     "data": {
      "image/png": "[encoded data removed]",
      "text/plain": [
       "<Figure size 432x360 with 1 Axes>"
      ]
     },
     "metadata": {
      "needs_background": "light"
     },
     "output_type": "display_data"
    },
    {
     "data": {
      "image/png": "[encoded data removed]",
      "text/plain": [
       "<Figure size 432x360 with 1 Axes>"
      ]
     },
     "metadata": {
      "needs_background": "light"
     },
     "output_type": "display_data"
    }
   ],
   "source": [
    "source_dNdz_ph = spurious_george.get_dNdz_phot(gtype='source', year=1, plot_fig='y')\n",
    "\n",
    "lens_dNdz_ph = spurious_george.get_dNdz_phot(gtype='lens', year=1, plot_fig='y')"
   ]
  },
  {
   "cell_type": "code",
   "execution_count": 4,
   "id": "8a8a0dc7-70dd-4902-aa0a-909fd1d9e3ef",
   "metadata": {},
   "outputs": [
    {
     "data": {
      "image/png": "[encoded data removed]",
      "text/plain": [
       "<Figure size 432x360 with 1 Axes>"
      ]
     },
     "metadata": {
      "needs_background": "light"
     },
     "output_type": "display_data"
    }
   ],
   "source": [
    "ell = np.arange(2,3000)\n",
    "a_arr = np.linspace(0.1,1,32)\n",
    "\n",
    "y1_aps = spurious_george.get_LSST_aps(1, ell, k_arr, a_arr)"
   ]
  },
  {
   "cell_type": "code",
   "execution_count": 5,
   "id": "2e46d0dc-d76c-4f32-bdc1-47f3e4e4a78f",
   "metadata": {},
   "outputs": [
    {
     "data": {
      "image/png": "[encoded data removed]",
      "text/plain": [
       "<Figure size 432x360 with 1 Axes>"
      ]
     },
     "metadata": {
      "needs_background": "light"
     },
     "output_type": "display_data"
    }
   ],
   "source": [
    "# get gammat\n",
    "\n",
    "theta_arr = np.logspace(np.log10(2.5), np.log10(250), 20) * 1/60\n",
    "\n",
    "gammat = spurious_george.get_gammat(y1_aps, theta_arr, ell)"
   ]
  },
  {
   "cell_type": "markdown",
   "id": "78993aa0-4f77-4a4d-a7ef-446884609907",
   "metadata": {},
   "source": [
    "### Estimating F\n",
    "- Using constant weights for all galaxies, not sure if z_ph dependence is needed\n",
    "- Value of 0.02238294230501916 seems reasonable (DES Y1 was 0.07)\n",
    "- Check integration points for num_integrand1 are correct (dz_s between z+ and z-)"
   ]
  },
  {
   "cell_type": "code",
   "execution_count": 6,
   "id": "f4bb6b3e-c22c-49b7-a518-d4723a44842d",
   "metadata": {},
   "outputs": [
    {
     "name": "stdout",
     "output_type": "stream",
     "text": [
      "11.899583475460727\n",
      "0.022382942305019155\n"
     ]
    }
   ],
   "source": [
    "import numpy as np\n",
    "import pyccl as ccl\n",
    "import scipy.integrate\n",
    "import astropy.io.fits as fits\n",
    "cosmo = spurious_george.cosmo\n",
    "\n",
    "weights = spurious_george.compute_weights()\n",
    "year = 1\n",
    "\n",
    "z_s, dNdz_s = spurious_george.get_dNdz_spec(gtype='source', year=year)\n",
    "z_l, dNdz_l = spurious_george.get_dNdz_spec(gtype='lens', year=year)\n",
    "\n",
    "# convolve distributions to estimate dNdz_ph, z_ph is\n",
    "# zs_min <= z_s <= zs_max + 0.5\n",
    "z_ph, dNdz_ph, p_zs_zph = spurious_george.get_dNdz_phot(gtype='source', year=year)\n",
    "\n",
    "#convert source and lens spec-z to com-ra-dist\n",
    "chi_lens = ccl.comoving_radial_distance(cosmo, 1./(1. + z_l))\n",
    "chi_source = ccl.comoving_radial_distance(cosmo, 1./(1. + z_s))\n",
    "\n",
    "#find upper and lower IA lims in com-ra-dist\n",
    "chi_up = chi_lens + 100.\n",
    "chi_low = chi_lens - 100.\n",
    "\n",
    "# remove negative distances from result lower lims\n",
    "chi_low = [0. if x < 0. else x for x in chi_low]\n",
    "    \n",
    "#get scale factors for com-ra-dist lims\n",
    "a_up = ccl.scale_factor_of_chi(cosmo, chi_up)\n",
    "a_low = ccl.scale_factor_of_chi(cosmo, chi_low)\n",
    "\n",
    "#convert scale factors to find lims in redshift space\n",
    "z_up = (1./a_up) - 1.\n",
    "z_low = (1./a_low) - 1.\n",
    "\n",
    "# this gets a little confusing... \n",
    "\n",
    "# calculate integrand for rightmost numerator integral\n",
    "integrand1 = dNdz_s * p_zs_zph\n",
    "\n",
    "# loop over z_+ and z_- for different z_l and integrate between them\n",
    "num_integral1 = np.zeros(np.shape(p_zs_zph))\n",
    "for i in range(len(z_up)):\n",
    "    # sampling points between z_+ and z_-\n",
    "    z_close = np.linspace(z_low[i], z_up[i], 300)\n",
    "    # calucalte rightmost integral\n",
    "    num_integral1[i,:] = scipy.integrate.simps(integrand1, z_close)\n",
    "\n",
    "# calculate rightmost integral on denominator using same integrand as before\n",
    "# but over the full z_s range \n",
    "denom_integral1 = scipy.integrate.simps(integrand1, z_s)\n",
    "\n",
    "# multiply solution to first integral by weights and integrate over z_ph\n",
    "# to find second integral\n",
    "num_integrand2 = weights * num_integral1\n",
    "num_integral2 = scipy.integrate.simps(num_integrand2, z_ph)\n",
    "\n",
    "denom_integrand2 = weights * denom_integral1\n",
    "denom_integral2 = scipy.integrate.simps(denom_integrand2, z_ph)\n",
    "\n",
    "# multiply solution to second integral by dNdz_l and integrate over z_l\n",
    "# to find full numerator and denominator\n",
    "num_integrand3 = dNdz_l * num_integral2\n",
    "num_integral3 = scipy.integrate.simps(num_integrand3, z_l)\n",
    "\n",
    "denom_integrand3 = dNdz_l * denom_integral2\n",
    "denom_integral3 = scipy.integrate.simps(denom_integrand3, z_l)\n",
    "\n",
    "# put numerator over denominator to find F\n",
    "F = num_integral3 / denom_integral3\n",
    "print(F)"
   ]
  }
 ],
 "metadata": {
  "kernelspec": {
   "display_name": "Python 3",
   "language": "python",
   "name": "python3"
  },
  "language_info": {
   "codemirror_mode": {
    "name": "ipython",
    "version": 3
   },
   "file_extension": ".py",
   "mimetype": "text/x-python",
   "name": "python",
   "nbconvert_exporter": "python",
   "pygments_lexer": "ipython3",
   "version": "3.8.0"
  }
 },
 "nbformat": 4,
 "nbformat_minor": 5
}
