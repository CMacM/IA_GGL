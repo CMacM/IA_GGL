{
 "cells": [
  {
   "cell_type": "code",
   "execution_count": 1,
   "id": "5be45c33-140b-4fef-a1dc-3376ef7ac7d6",
   "metadata": {},
   "outputs": [],
   "source": [
    "import numpy as np\n",
    "import scipy\n",
    "import scipy.integrate\n",
    "import scipy.interpolate\n",
    "import matplotlib.pyplot as plt\n",
    "import shared_functions_setup as setup\n",
    "import shared_functions_wlp_wls as ws\n",
    "import os.path\n",
    "import pyccl as ccl\n",
    "#import main.py as main"
   ]
  },
  {
   "cell_type": "code",
   "execution_count": 103,
   "id": "b08ce0c7-c0ef-4049-9cc8-7a099697e933",
   "metadata": {},
   "outputs": [
    {
     "data": {
      "text/plain": [
       "'2.2.0'"
      ]
     },
     "execution_count": 103,
     "metadata": {},
     "output_type": "execute_result"
    }
   ],
   "source": [
    "from importlib.metadata import version\n",
    "version('pyccl')"
   ]
  },
  {
   "cell_type": "markdown",
   "id": "82dd76ba-893c-4be5-b6e7-1c71b843d445",
   "metadata": {},
   "source": [
    "- Need to fix some errors in main.py (missing certain files it is calling to, such as boosts txt file)"
   ]
  },
  {
   "cell_type": "markdown",
   "id": "76ad16d4-15d6-4dd0-9cf1-0ab88143b838",
   "metadata": {},
   "source": [
    "#### Set up cosmology and halo model quantities"
   ]
  },
  {
   "cell_type": "code",
   "execution_count": null,
   "id": "ef156c4b-f82b-44d7-9383-2183b9a068b1",
   "metadata": {},
   "outputs": [],
   "source": [
    "# Cosmology\n",
    "cosmo = ccl.Cosmology(Omega_c=0.27, Omega_b=0.045, h=0.67, sigma8=0.83, n_s=0.96)\n",
    "\n",
    "# Wavenumbers and scale factors\n",
    "k_arr = np.geomspace(1E-4,1E1,256)\n",
    "a_arr = np.linspace(0.1,1,32)\n",
    "\n",
    "# We will use a mass definition with Delta = 200 times the matter density\n",
    "hmd_200m = ccl.halos.MassDef200m()\n",
    "\n",
    "# The Duffy 2008 concentration-mass relation\n",
    "cM = ccl.halos.ConcentrationDuffy08(hmd_200m)\n",
    "\n",
    "# The Tinker 2008 mass function\n",
    "nM = ccl.halos.MassFuncTinker08(cosmo, mass_def=hmd_200m)\n",
    "\n",
    "# The Tinker 2010 halo bias\n",
    "bM = ccl.halos.HaloBiasTinker10(cosmo, mass_def=hmd_200m)\n",
    "\n",
    "# The NFW profile to characterize the matter density around halos\n",
    "pM = ccl.halos.profiles.HaloProfileNFW(cM)"
   ]
  },
  {
   "cell_type": "markdown",
   "id": "f25fbd9e-1cf0-459e-8756-97765d1cf7be",
   "metadata": {},
   "source": [
    "#### Create new HOD class using NCen and NSat from Leonard2018 forecasting\n",
    "- Need to double check with Danielle what is done here is correct!"
   ]
  },
  {
   "cell_type": "code",
   "execution_count": null,
   "id": "14b82aa3-9317-45a4-b736-2f2d93bd869e",
   "metadata": {},
   "outputs": [],
   "source": [
    "class HaloProfileHOD(ccl.halos.HaloProfileNFW):\n",
    "    def __init__(self, c_M_relation,\n",
    "                 lMmin=12.02, lMminp=-1.34,\n",
    "                 lM0=6.6, lM0p=-1.43,\n",
    "                 lM1=13.27, lM1p=-0.323):\n",
    "        self.lMmin=lMmin\n",
    "        self.lMminp=lMminp\n",
    "        self.lM0=lM0\n",
    "        self.lM0p=lM0p\n",
    "        self.lM1=lM1\n",
    "        self.lM1p=lM1p\n",
    "        self.a0 = 1./(1+0.65)\n",
    "        self.sigmaLogM = 0.4\n",
    "        self.alpha = 1.\n",
    "        super(HaloProfileHOD, self).__init__(c_M_relation)\n",
    "        self._fourier = self._fourier_analytic_hod\n",
    "    \n",
    "    def _Nc(self, M, a):\n",
    "        # Number of centrals\n",
    "\n",
    "        return ws.get_Ncen_More(M, 'LSST_DESI')\n",
    "    \n",
    "    def _Ns(self, M, a):\n",
    "        # Number of satellites\n",
    "\n",
    "        return ws.get_Nsat_More(M, 'LSST_DESI')\n",
    "\n",
    "    def _lMmin(self, a):\n",
    "        return self.lMmin + self.lMminp * (a - self.a0)\n",
    "\n",
    "    def _lM0(self, a):\n",
    "        return self.lM0 + self.lM0p * (a - self.a0)\n",
    "\n",
    "    def _lM1(self, a):\n",
    "        return self.lM1 + self.lM1p * (a - self.a0)\n",
    "\n",
    "    def _fourier_analytic_hod(self, cosmo, k, M, a, mass_def):\n",
    "        M_use = np.atleast_1d(M)\n",
    "        k_use = np.atleast_1d(k)\n",
    "        \n",
    "        Nc = self._Nc(M_use, a)\n",
    "        Ns = self._Ns(M_use, a)\n",
    "        \n",
    "        # NFW profile\n",
    "        uk = self._fourier_analytic(cosmo, k_use, M_use, a, mass_def) / M_use[:, None]\n",
    "\n",
    "        prof = Nc[:, None] * (1 + Ns[:, None] * uk)\n",
    "\n",
    "        if np.ndim(k) == 0:\n",
    "            prof = np.squeeze(prof, axis=-1)\n",
    "        if np.ndim(M) == 0:\n",
    "            prof = np.squeeze(prof, axis=0)\n",
    "        return prof\n",
    "\n",
    "    def _fourier_variance(self, cosmo, k, M, a, mass_def):\n",
    "        # Fourier-space variance of the HOD profile\n",
    "        M_use = np.atleast_1d(M)\n",
    "        k_use = np.atleast_1d(k)\n",
    "\n",
    "        Nc = self._Nc(M_use, a)\n",
    "        Ns = self._Ns(M_use, a)\n",
    "        \n",
    "        # NFW profile\n",
    "        uk = self._fourier_analytic(cosmo, k_use, M_use, a, mass_def) / M_use[:, None]\n",
    "\n",
    "        prof = Ns[:, None] * uk\n",
    "        prof = Nc[:, None] * (2 * prof + prof**2)\n",
    "\n",
    "        if np.ndim(k) == 0:\n",
    "            prof = np.squeeze(prof, axis=-1)\n",
    "        if np.ndim(M) == 0:\n",
    "            prof = np.squeeze(prof, axis=0)\n",
    "        return prof\n",
    "\n",
    "# this is the galaxy power spectrum calculated from the custom HOD????\n",
    "pg = HaloProfileHOD(cM)"
   ]
  },
  {
   "cell_type": "code",
   "execution_count": null,
   "id": "b02c38d5-2aae-4700-8fa9-df01bd2bc82f",
   "metadata": {},
   "outputs": [],
   "source": [
    "# Halo model calculator\n",
    "hmc = ccl.halos.HMCalculator(cosmo, nM, bM, hmd_200m)"
   ]
  },
  {
   "cell_type": "markdown",
   "id": "29e942af-5622-4a7a-a368-ff29a7366a01",
   "metadata": {},
   "source": [
    "### Use new HOD to compute Galaxy-Galaxy power specturm \n",
    "- Only 1 term included? Check in meeting"
   ]
  },
  {
   "cell_type": "code",
   "execution_count": null,
   "id": "5ad24f79-f0e5-4db1-af7e-7ad6f207e814",
   "metadata": {},
   "outputs": [],
   "source": [
    "class Profile2ptHOD(ccl.halos.Profile2pt):\n",
    "    def fourier_2pt(self, prof, cosmo, k, M, a,\n",
    "                      prof2=None, mass_def=None):\n",
    "        return prof._fourier_variance(cosmo, k, M ,a, mass_def)\n",
    "HOD2pt = Profile2ptHOD()\n",
    "\n",
    "# I think this includes 1 and 2 halo terms?    \n",
    "pk_gg = ccl.halos.halomod_power_spectrum(cosmo, hmc, k_arr, 1.,\n",
    "                                         pg, prof_2pt=HOD2pt,\n",
    "                                         normprof1=True)"
   ]
  },
  {
   "cell_type": "code",
   "execution_count": null,
   "id": "93a37f45-92d6-4f16-9e5c-9d0e608a9b21",
   "metadata": {},
   "outputs": [],
   "source": [
    "plt.figure(figsize=([8,5]))\n",
    "plt.plot(k_arr, pk_gg, label='$P_{gg}(k)$')\n",
    "plt.xscale('log')\n",
    "plt.yscale('log')\n",
    "plt.legend(fontsize=16)\n",
    "plt.ylabel(r'$P(k)\\,\\,[{\\rm Mpc}^3]$', fontsize=15)\n",
    "plt.xlabel(r'$k\\,\\,[{\\rm Mpc}^{-1}]$', fontsize=15);"
   ]
  },
  {
   "cell_type": "markdown",
   "id": "9908beff-9bd8-424b-b87c-cd1fd0c53bfc",
   "metadata": {},
   "source": [
    "### Create theoretical redshift distributions for lenses\n",
    "- Convolve dn/dz with photo-z requirements from LSST SRD"
   ]
  },
  {
   "cell_type": "code",
   "execution_count": null,
   "id": "3b698d6c-8359-4970-946b-5a1ece5a508a",
   "metadata": {},
   "outputs": [],
   "source": [
    "import customHOD as HOD"
   ]
  },
  {
   "cell_type": "code",
   "execution_count": null,
   "id": "e213d6d4-dac0-4d11-be52-3b0fc544b6dd",
   "metadata": {},
   "outputs": [],
   "source": [
    "pk_gg = HOD.get_GG_power()"
   ]
  },
  {
   "cell_type": "code",
   "execution_count": null,
   "id": "b2b1628d-8ed3-40a3-b22e-66bd8f972118",
   "metadata": {},
   "outputs": [],
   "source": [
    "# this is a makeshift distribution maker based on the SRD \n",
    "# document for testing purposes\n",
    "\n",
    "def get_LSST_dNdz(mode, year, z_arr):\n",
    "    if year == 1 and mode == 'lens':\n",
    "        z_0 = 0.26\n",
    "        alpha = 0.94\n",
    "        dNdz = z_arr**2 * np.exp(-(z_arr/z_0)**alpha)\n",
    "    elif year == 10 and mode == 'lens':\n",
    "        z_0 = 0.28\n",
    "        alpha = 0.90\n",
    "        dNdz = z_arr**2. * np.exp(-(z_arr/z_0)**alpha)\n",
    "    elif year == 1 and mode == 'source':\n",
    "        z_0 = 0.13\n",
    "        alpha = 0.78\n",
    "        dNdz = z_arr**2. * np.exp(-(z_arr/z_0)**alpha)\n",
    "    elif year == 10 and mode == 'source':\n",
    "        z_0 = 0.11\n",
    "        alpha = 0.68\n",
    "        dNdz = z_arr**2. * np.exp(-(z_arr/z_0)**alpha)\n",
    "    else:\n",
    "        print('Not an LSST release year')\n",
    "        dNdz = 0.\n",
    "        \n",
    "    return dNdz"
   ]
  },
  {
   "cell_type": "code",
   "execution_count": null,
   "id": "5f513193-6467-4577-a4bc-42512600108f",
   "metadata": {},
   "outputs": [],
   "source": [
    "lens_z_arr = np.linspace(0.2, 1.2, 256)\n",
    "source_z_arr = np.linspace(0.2, 3.0, 256)\n",
    "\n",
    "Y1lens_dNdz = get_LSST_dNdz(mode='lens', year=1, z_arr=lens_z_arr)\n",
    "Y1source_dNdz = get_LSST_dNdz(mode='source', year=1, z_arr=source_z_arr)\n",
    "\n",
    "lensTracer = ccl.NumberCountsTracer(cosmo, has_rsd=False, dndz=(z_arr, Y1lens_dNdz), \n",
    "                                    bias=(lens_z_arr, np.ones(len(lens_z_arr))))\n",
    "matterTracer = ccl.WeakLensingTracer(cosmo, (source_z_arr, Y1source_dNdz))"
   ]
  },
  {
   "cell_type": "code",
   "execution_count": null,
   "id": "69bdb3e2-6201-4e6f-b72b-ecb3b76f8bdd",
   "metadata": {},
   "outputs": [],
   "source": [
    "# create 2D power spectrum objects for galaxy-shear correlation\n",
    "\n",
    "pk_gMf = ccl.halos.halomod_Pk2D(cosmo, hmc, pg, prof2=pM, \n",
    "                                normprof1=True, normprof2=True, \n",
    "                                lk_arr=np.log(k_arr), a_arr=a_arr)"
   ]
  },
  {
   "cell_type": "code",
   "execution_count": null,
   "id": "62101da6-313d-40a2-9063-52d70b03ccc5",
   "metadata": {},
   "outputs": [],
   "source": [
    "ell = np.arange(2,2000)\n",
    "\n",
    "y1_aps = ccl.angular_cl(cosmo, lensTracer, matterTracer, ell)"
   ]
  },
  {
   "cell_type": "code",
   "execution_count": null,
   "id": "ac210684-73ca-4ee7-8512-21bd658e42ff",
   "metadata": {},
   "outputs": [],
   "source": [
    "plt.figure(figsize=[6,5])\n",
    "plt.plot(ell, y1_aps)\n",
    "plt.xscale('log')\n",
    "plt.yscale('log')\n",
    "plt.ylabel(r'$C_{l}$', fontsize=14)\n",
    "plt.xlabel(r'$\\ell$', fontsize=14);"
   ]
  },
  {
   "cell_type": "markdown",
   "id": "9f002cce-8073-44e6-a9c3-6e2a06d9393e",
   "metadata": {},
   "source": [
    "# Scripting and Streamlining HOD and gammaT calculation"
   ]
  },
  {
   "cell_type": "markdown",
   "id": "24a60a0f-51df-49d5-963a-52bd5b691097",
   "metadata": {},
   "source": [
    "### Explanation of LSST forecast data: https://github.com/CosmoLike/DESC_SRD"
   ]
  },
  {
   "cell_type": "code",
   "execution_count": 2,
   "id": "9d8459e9-9b95-45e3-88a5-43f64b083eda",
   "metadata": {},
   "outputs": [
    {
     "name": "stdin",
     "output_type": "stream",
     "text": [
      "Initialised with Omega_c=0.265036, Omega_b=0.0491168, h=0.6726, sigma8=0.84, n_s=0.9652. Modify cosmology? Input y or n. n\n"
     ]
    }
   ],
   "source": [
    "import spurious_george\n",
    "import numpy as np\n",
    "import scipy.integrate \n",
    "import matplotlib.pyplot as plt"
   ]
  },
  {
   "cell_type": "code",
   "execution_count": 3,
   "id": "1ada0e15-4cbb-4c96-9c69-b1871fdc6bb2",
   "metadata": {},
   "outputs": [],
   "source": [
    "import halo_model as halo\n",
    "# define wavenumbers\n",
    "k_arr = np.geomspace(1E-4,1E1,256)\n",
    "\n",
    "# calculate galaxy-galaxy power spectrum\n",
    "pk_gM = halo.get_1D_power('gm', k_arr, plot_fig='y')"
   ]
  },
  {
   "cell_type": "code",
   "execution_count": 4,
   "id": "89d220a6-cfbd-4d3e-b1d4-e74f0248dc4c",
   "metadata": {},
   "outputs": [],
   "source": [
    "z_s, dNdz_s = spurious_george.get_dNdz_spec(gtype='source', year=1)\n",
    "\n",
    "norm = scipy.integrate.simps(dNdz_s, z_s)\n",
    "#print(norm)\n",
    "\n",
    "norm_dNdz_s = dNdz_s / norm\n",
    "\n",
    "#print(norm_dNdz_s)"
   ]
  },
  {
   "cell_type": "code",
   "execution_count": 5,
   "id": "ac918796-cac3-41e1-96da-774aad4d5a06",
   "metadata": {
    "tags": []
   },
   "outputs": [
    {
     "data": {
      "image/png": "[encoded data removed]",
      "text/plain": [
       "<Figure size 432x360 with 1 Axes>"
      ]
     },
     "metadata": {
      "needs_background": "light"
     },
     "output_type": "display_data"
    },
    {
     "data": {
      "image/png": "[encoded data removed]",
      "text/plain": [
       "<Figure size 432x360 with 1 Axes>"
      ]
     },
     "metadata": {
      "needs_background": "light"
     },
     "output_type": "display_data"
    }
   ],
   "source": [
    "Sz_ph, SdNdz_ph, Sp_zs_zph = spurious_george.get_dNdz_phot(gtype='source', year=1, plot_fig='y')\n",
    "\n",
    "Lz_ph, LdNdz_ph, Lp_zs_zph = spurious_george.get_dNdz_phot(gtype='lens', year=1, plot_fig='y')"
   ]
  },
  {
   "cell_type": "markdown",
   "id": "9ea53be3-c719-4a14-be37-c088188c5c5e",
   "metadata": {},
   "source": [
    " - Currently there is massive overlap of the lens and source samples. Need place upper and lower cuts and bin accordingly"
   ]
  },
  {
   "cell_type": "markdown",
   "id": "78993aa0-4f77-4a4d-a7ef-446884609907",
   "metadata": {},
   "source": [
    "### Estimating F\n",
    "- Value of 0.02238294230501916 seems reasonable (DES Y1 was 0.07)\n",
    "- Check integration points for num_integrand1 are correct (dz_s between z+ and z-)\n",
    "- for r_p<2 Mpc, the projection length is defined to be 2 Mpc For larger r_p, projection length is r_p."
   ]
  },
  {
   "cell_type": "code",
   "execution_count": 2,
   "id": "f4bb6b3e-c22c-49b7-a518-d4723a44842d",
   "metadata": {
    "tags": []
   },
   "outputs": [
    {
     "name": "stdout",
     "output_type": "stream",
     "text": [
      "[0.00119782 0.00120335 0.00120891 0.0012145  0.00122011 0.00122575\n",
      " 0.00123141 0.0012371  0.00124282 0.00124856 0.00125433 0.00126012\n",
      " 0.00126595 0.0012718  0.00127767 0.00128358 0.00128951 0.00129546\n",
      " 0.00130145 0.00130746 0.0013135  0.00131957 0.00132567 0.0013318\n",
      " 0.00133795 0.00134413 0.00135034 0.00135658 0.00136285 0.00136915\n",
      " 0.00137547 0.00138183 0.00138821 0.00139463 0.00140107 0.00140754\n",
      " 0.00141405 0.00142058 0.00142714 0.00143374 0.00144036 0.00144702\n",
      " 0.0014537  0.00146042 0.00146717 0.00147395 0.00148076 0.0014876\n",
      " 0.00149447 0.00150138 0.00150831 0.00151528 0.00152228 0.00152932\n",
      " 0.00153638 0.00154348 0.00155061 0.00155778 0.00156498 0.00157221\n",
      " 0.00157947 0.00158677 0.0015941  0.00160147 0.00160887 0.0016163\n",
      " 0.00162377 0.00163127 0.00163881 0.00164638 0.00165399 0.00166163\n",
      " 0.00166931 0.00167702 0.00168477 0.00169255 0.00170037 0.00170823\n",
      " 0.00171612 0.00172405 0.00173202 0.00174002 0.00174806 0.00175613\n",
      " 0.00176425 0.0017724  0.00178059 0.00178882 0.00179708 0.00180538\n",
      " 0.00181373 0.00182211 0.00183053 0.00183898 0.00184748 0.00185602\n",
      " 0.00186459 0.00187321 0.00188186 0.00189056 0.00189929 0.00190807\n",
      " 0.00191688 0.00192574 0.00193464 0.00194358 0.00195256 0.00196158\n",
      " 0.00197064 0.00197975 0.0019889  0.00199809 0.00200732 0.00201659\n",
      " 0.00202591 0.00203527 0.00204467 0.00205412 0.00206361 0.00207315\n",
      " 0.00208273 0.00209235 0.00210202 0.00211173 0.00212149 0.00213129\n",
      " 0.00214114 0.00215103 0.00216097 0.00217095 0.00218098 0.00219106\n",
      " 0.00220118 0.00221135 0.00222157 0.00223184 0.00224215 0.00225251\n",
      " 0.00226291 0.00227337 0.00228387 0.00229443 0.00230503 0.00231568\n",
      " 0.00232638 0.00233713 0.00234793 0.00235877 0.00236967 0.00238062\n",
      " 0.00239162 0.00240267 0.00241377 0.00242493 0.00243613 0.00244739\n",
      " 0.00245869 0.00247005 0.00248147 0.00249293 0.00250445 0.00251602\n",
      " 0.00252765 0.00253933 0.00255106 0.00256285 0.00257469 0.00258658\n",
      " 0.00259853 0.00261054 0.0026226  0.00263472 0.00264689 0.00265912\n",
      " 0.00267141 0.00268375 0.00269615 0.00270861 0.00272113 0.0027337\n",
      " 0.00274633 0.00275902 0.00277177 0.00278457 0.00279744 0.00281036\n",
      " 0.00282335 0.00283639 0.0028495  0.00286267 0.00287589 0.00288918\n",
      " 0.00290253 0.00291594 0.00292941 0.00294295 0.00295655 0.00297021\n",
      " 0.00298393 0.00299772 0.00301157 0.00302548 0.00303946 0.00305351\n",
      " 0.00306762 0.00308179 0.00309603 0.00311033 0.0031247  0.00313914\n",
      " 0.00315365 0.00316822 0.00318286 0.00319756 0.00321234 0.00322718\n",
      " 0.00324209 0.00325707 0.00327212 0.00328724 0.00330243 0.00331769\n",
      " 0.00333301 0.00334841 0.00336389 0.00337943 0.00339504 0.00341073\n",
      " 0.00342649 0.00344232 0.00345823 0.0034742  0.00349026 0.00350638\n",
      " 0.00352258 0.00353886 0.00355521 0.00357164 0.00358814 0.00360472\n",
      " 0.00362138 0.00363811 0.00365492 0.0036718  0.00368877 0.00370581\n",
      " 0.00372294 0.00374014 0.00375742 0.00377478 0.00379222 0.00380974\n",
      " 0.00382735 0.00384503 0.0038628  0.00388064 0.00389857 0.00391659\n",
      " 0.00393468 0.00395286 0.00397113 0.00398948 0.00400791 0.00402643\n",
      " 0.00404503 0.00406372 0.0040825  0.00410136 0.00412031 0.00413935\n",
      " 0.00415848 0.00417769 0.00419699 0.00421638 0.00423587 0.00425544\n",
      " 0.0042751  0.00429485 0.0043147  0.00433463 0.00435466 0.00437478\n",
      " 0.004395   0.0044153  0.0044357  0.0044562  0.00447679 0.00449747\n",
      " 0.00451825 0.00453913 0.0045601  0.00458117 0.00460234 0.00462361\n",
      " 0.00464497 0.00466643 0.00468799 0.00470965 0.00473141 0.00475328\n",
      " 0.00477524 0.0047973  0.00481947 0.00484174 0.00486411 0.00488658\n",
      " 0.00490916 0.00493184 0.00495463 0.00497752 0.00500052 0.00502363\n",
      " 0.00504684 0.00507016 0.00509358 0.00511712 0.00514076 0.00516452\n",
      " 0.00518838 0.00521235 0.00523643 0.00526063 0.00528494 0.00530936\n",
      " 0.00533389 0.00535853 0.00538329 0.00540817 0.00543315 0.00545826\n",
      " 0.00548348 0.00550881 0.00553427 0.00555984 0.00558553 0.00561134\n",
      " 0.00563726 0.00566331 0.00568948 0.00571577 0.00574218 0.00576871\n",
      " 0.00579536 0.00582214 0.00584904 0.00587607 0.00590322 0.00593049\n",
      " 0.0059579  0.00598542 0.00601308 0.00604086 0.00606878 0.00609682\n",
      " 0.00612499 0.00615329 0.00618172 0.00621028 0.00623898 0.0062678\n",
      " 0.00629676 0.00632586 0.00635509 0.00638445 0.00641395 0.00644359\n",
      " 0.00647336 0.00650327 0.00653332 0.00656351 0.00659383 0.0066243\n",
      " 0.00665491 0.00668566 0.00671655 0.00674758 0.00677876 0.00681008\n",
      " 0.00684155 0.00687316 0.00690492 0.00693682 0.00696888 0.00700108\n",
      " 0.00703343 0.00706592 0.00709857 0.00713137 0.00716432 0.00719743\n",
      " 0.00723068 0.00726409 0.00729766 0.00733138 0.00736525 0.00739928\n",
      " 0.00743347 0.00746782 0.00750232 0.00753699 0.00757182 0.0076068\n",
      " 0.00764195 0.00767726 0.00771273 0.00774837 0.00778417 0.00782014\n",
      " 0.00785627 0.00789257 0.00792904 0.00796568 0.00800249 0.00803946\n",
      " 0.00807661 0.00811393 0.00815142 0.00818909 0.00822692 0.00826494\n",
      " 0.00830313 0.00834149 0.00838004 0.00841876 0.00845766 0.00849674\n",
      " 0.008536   0.00857544 0.00861506 0.00865487 0.00869486 0.00873504\n",
      " 0.0087754  0.00881595 0.00885668 0.0088976  0.00893872 0.00898002\n",
      " 0.00902151 0.0090632  0.00910508 0.00914715 0.00918941 0.00923188\n",
      " 0.00927453 0.00931739 0.00936044 0.00940369 0.00944714 0.0094908\n",
      " 0.00953465 0.00957871 0.00962297 0.00966743 0.0097121  0.00975698\n",
      " 0.00980206 0.00984736 0.00989286 0.00993857 0.00998449 0.01003063\n",
      " 0.01007698 0.01012354 0.01017032 0.01021731 0.01026452 0.01031195\n",
      " 0.0103596  0.01040747 0.01045556 0.01050388 0.01055241 0.01060117\n",
      " 0.01065016 0.01069937 0.01074881 0.01079848 0.01084837 0.0108985\n",
      " 0.01094886 0.01099945 0.01105028 0.01110134 0.01115264 0.01120417\n",
      " 0.01125594 0.01130795 0.01136021 0.0114127  0.01146544 0.01151842\n",
      " 0.01157164 0.01162511 0.01167883 0.01173279 0.01178701 0.01184148\n",
      " 0.01189619 0.01195116 0.01200639 0.01206187 0.0121176  0.0121736\n",
      " 0.01222985 0.01228636 0.01234314 0.01240017 0.01245747 0.01251504\n",
      " 0.01257287 0.01263097 0.01268933 0.01274797 0.01280688 0.01286606\n",
      " 0.01292551 0.01298524 0.01304524 0.01310552 0.01316608 0.01322692\n",
      " 0.01328804 0.01334945 0.01341113 0.0134731  0.01353536 0.01359791\n",
      " 0.01366075 0.01372387 0.01378729 0.013851   0.01391501 0.01397931\n",
      " 0.01404391 0.0141088  0.014174   0.0142395  0.0143053  0.01437141\n",
      " 0.01443782 0.01450453 0.01457156 0.0146389  0.01470654 0.0147745\n",
      " 0.01484278 0.01491137 0.01498028 0.0150495  0.01511905 0.01518891\n",
      " 0.0152591  0.01532962 0.01540046 0.01547162 0.01554312 0.01561495\n",
      " 0.01568711 0.0157596  0.01583243 0.01590559 0.0159791  0.01605294\n",
      " 0.01612712 0.01620165 0.01627652 0.01635174 0.0164273  0.01650322\n",
      " 0.01657948 0.0166561  0.01673307 0.0168104  0.01688809 0.01696613\n",
      " 0.01704454 0.0171233  0.01720244 0.01728193 0.0173618  0.01744203\n",
      " 0.01752264 0.01760361 0.01768497 0.01776669 0.0178488  0.01793128\n",
      " 0.01801415 0.0180974  0.01818103 0.01826505 0.01834946 0.01843426\n",
      " 0.01851945 0.01860503 0.01869102 0.01877739 0.01886417 0.01895135\n",
      " 0.01903893 0.01912692 0.01921531 0.01930412 0.01939333 0.01948295\n",
      " 0.01957299 0.01966345 0.01975433 0.01984562 0.01993734 0.02002948\n",
      " 0.02012205 0.02021504 0.02030847 0.02040232 0.02049661 0.02059134\n",
      " 0.02068651 0.02078211 0.02087816 0.02097465 0.02107159 0.02116898\n",
      " 0.02126681 0.0213651  0.02146384 0.02156304 0.0216627  0.02176282\n",
      " 0.02186341 0.02196445 0.02206597 0.02216795 0.02227041 0.02237334\n",
      " 0.02247675 0.02258063 0.022685   0.02278984 0.02289518 0.023001\n",
      " 0.02310731 0.02321411 0.0233214  0.02342919 0.02353748 0.02364628\n",
      " 0.02375557 0.02386537 0.02397568 0.02408649 0.02419782 0.02430967\n",
      " 0.02442203 0.02453491 0.02464832 0.02476225 0.0248767  0.02499169\n",
      " 0.02510721 0.02522326 0.02533985 0.02545698 0.02557465 0.02569286\n",
      " 0.02581162 0.02593093 0.0260508  0.02617121 0.02629219 0.02641372\n",
      " 0.02653582 0.02665848 0.02678171 0.02690551 0.02702988 0.02715483\n",
      " 0.02728036 0.02740646 0.02753315 0.02766043 0.02778829 0.02791675\n",
      " 0.0280458  0.02817545 0.0283057  0.02843655 0.02856801 0.02870007\n",
      " 0.02883275 0.02896604 0.02909994 0.02923446 0.0293696  0.02950537\n",
      " 0.02964176 0.02977879 0.02991645 0.03005475 0.03019369 0.03033327\n",
      " 0.0304735  0.03061438 0.03075591 0.03089809 0.03104093 0.03118444\n",
      " 0.0313286  0.03147344 0.03161894 0.03176512 0.03191198 0.03205952\n",
      " 0.03220774 0.03235664 0.03250624 0.03265652 0.03280751 0.03295919\n",
      " 0.03311157 0.03326466 0.03341846 0.03357297 0.0337282  0.03388415\n",
      " 0.03404081 0.03419821 0.03435633 0.03451518 0.03467477 0.0348351\n",
      " 0.03499618 0.03515799 0.03532056 0.03548388 0.03564796 0.03581279\n",
      " 0.03597839 0.03614476 0.0363119  0.03647981 0.0366485  0.03681797\n",
      " 0.03698823 0.03715928 0.03733111 0.03750375 0.03767718 0.03785142\n",
      " 0.03802646 0.03820232 0.03837899 0.03855648 0.03873479 0.03891393\n",
      " 0.0390939  0.0392747  0.03945634 0.03963882 0.03982215 0.04000633\n",
      " 0.04019136 0.04037725 0.04056399 0.04075159 0.04094005 0.04112939\n",
      " 0.04131961 0.04151071 0.04170269 0.04189557 0.04208934 0.04228401\n",
      " 0.04247958 0.04267605 0.04287344 0.04307175 0.04327097 0.04347112\n",
      " 0.04367219 0.0438742  0.04407715 0.04428103 0.04448586 0.04469165\n",
      " 0.04489838 0.04510608 0.04531474 0.04552436 0.04573496 0.04594654\n",
      " 0.0461591  0.04637264 0.04658718 0.04680271 0.04701924 0.04723677\n",
      " 0.04745532 0.04767488 0.04789545 0.04811706 0.04833969 0.04856335\n",
      " 0.04878805 0.0490138  0.04924059 0.04946843 0.04969734 0.0499273\n",
      " 0.05015834 0.05039045 0.05062363 0.0508579  0.05109325 0.0513297\n",
      " 0.05156725 0.0518059  0.05204563 0.05228647 0.05252842 0.05277149\n",
      " 0.0530157  0.05326104 0.05350751 0.05375514 0.05400391 0.05425384\n",
      " 0.05450494 0.05475719 0.05501063 0.05526524 0.05552103 0.05577801\n",
      " 0.05603619 0.05629556 0.05655614 0.05681794 0.05708095 0.05734518\n",
      " 0.05761065 0.05787734 0.05814528 0.05841447 0.0586849  0.0589566\n",
      " 0.05922956 0.05950378 0.05977929 0.06005607 0.06033415 0.06061351\n",
      " 0.06089418 0.06117615 0.06145944 0.06174405 0.06202997 0.06231724\n",
      " 0.06260583 0.06289578 0.06318707 0.06347967 0.06377361 0.06406893\n",
      " 0.06436561 0.06466368 0.06496314 0.06526399 0.06556624 0.06586991\n",
      " 0.06617498 0.06648148 0.06678941 0.06709877 0.06740958 0.06772183\n",
      " 0.06803554 0.06835071 0.06866735 0.06898547 0.06930507 0.06962616\n",
      " 0.06994875 0.07027285 0.07059845 0.07092558 0.07125423 0.07158442\n",
      " 0.07191614 0.07224942 0.07258425 0.07292064 0.07325861 0.07359815\n",
      " 0.07393928 0.074282   0.07462632 0.07497214 0.07531957 0.07566863\n",
      " 0.07601933 0.07637166 0.07672563 0.07708126 0.07743856 0.07779752\n",
      " 0.07815816 0.07852049 0.07888451 0.07925024 0.07961767 0.07998682\n",
      " 0.08035771 0.08073032 0.08110468 0.08148079 0.08185867 0.08223831\n",
      " 0.08261973 0.08300293 0.08338793 0.08377473 0.08416335 0.08455378\n",
      " 0.08494604 0.08534015 0.08573609 0.0861338  0.08653331 0.0869347\n",
      " 0.08733797 0.08774312 0.08815018 0.08855915 0.08897003 0.08938285\n",
      " 0.0897976  0.09021429 0.09063295 0.09105357 0.09147616 0.09190074\n",
      " 0.09232731 0.09275589 0.09318648 0.09361909 0.09405374 0.09449043\n",
      " 0.09492917 0.09536998 0.09581286 0.09625782 0.09670487 0.09715401\n",
      " 0.09760507 0.09805824 0.09851355 0.09897101 0.09943061 0.09989239\n",
      " 0.10035633 0.10082247 0.1012908  0.10176134 0.10223409 0.10270908\n",
      " 0.1031863  0.10366578 0.10414752 0.10463153 0.10511782 0.10560641\n",
      " 0.10609731 0.10659053 0.10708607 0.10758396 0.1080842  0.10858663\n",
      " 0.10909132 0.10959839 0.11010786 0.11061974 0.11113405 0.11165079\n",
      " 0.11216997 0.11269161 0.11321572 0.11374231 0.1142714  0.114803\n",
      " 0.11533711 0.11587376 0.11641295 0.1169547  0.11749902 0.11804592\n",
      " 0.11859542 0.11914753 0.11970207 0.12025906]\n"
     ]
    }
   ],
   "source": [
    "F = spurious_george.get_F(year=1)\n",
    "print(F)"
   ]
  },
  {
   "cell_type": "markdown",
   "id": "8d96def3-e2c0-4c24-b097-240a2149a819",
   "metadata": {},
   "source": [
    "- New code to estimate F(theta)"
   ]
  },
  {
   "cell_type": "markdown",
   "id": "8744692b-be8c-4322-b357-1f7388089c5c",
   "metadata": {},
   "source": [
    "### Start by getting xi_ls\n",
    "- We actually want everything in terms of theta"
   ]
  },
  {
   "cell_type": "code",
   "execution_count": 1,
   "id": "1b051030-f152-42f1-8cd8-1a52bff4021c",
   "metadata": {
    "tags": []
   },
   "outputs": [
    {
     "name": "stdin",
     "output_type": "stream",
     "text": [
      "halo_model: Initialised with Omega_c=0.265036, Omega_b=0.0491168, h=0.6726, sigma8=0.84, n_s=0.9652. Modify cosmology? Input y or n. n\n",
      "spurious george: Please define poolsize to be used for parallelised functions 30\n"
     ]
    },
    {
     "name": "stdout",
     "output_type": "stream",
     "text": [
      "poolsize set to 30\n"
     ]
    },
    {
     "name": "stdin",
     "output_type": "stream",
     "text": [
      "macplotlib: Please define poolsize to be used for parallelised functions 30\n"
     ]
    },
    {
     "name": "stdout",
     "output_type": "stream",
     "text": [
      "poolsize set to 30\n"
     ]
    }
   ],
   "source": [
    "import pyccl as ccl\n",
    "import time \n",
    "import numpy as np\n",
    "import spurious_george \n",
    "import scipy \n",
    "import matplotlib.pyplot as plt\n",
    "import shared_functions_setup as setup\n",
    "\n",
    "from __future__ import print_function\n",
    "from ipywidgets import interact, interactive, fixed, interact_manual\n",
    "import ipywidgets as widgets\n",
    "from IPython.display import Image\n",
    "\n",
    "from mpl_toolkits.mplot3d import Axes3D\n",
    "from mpl_toolkits import mplot3d\n",
    "\n",
    "from IPython.display import clear_output\n",
    "\n",
    "import macplotlib as macplot"
   ]
  },
  {
   "cell_type": "code",
   "execution_count": 2,
   "id": "7cea999d-fe07-49dc-bdf3-967e84f16737",
   "metadata": {
    "tags": []
   },
   "outputs": [],
   "source": [
    "# set up different distance measures needed and weights\n",
    "weights = spurious_george.compute_weights()\n",
    "year = 1\n",
    "\n",
    "# get spec-z for sources and lenses\n",
    "z_s, dNdz_s = spurious_george.get_dNdz_spec(gtype='source', year=year)\n",
    "z_l, dNdz_l = spurious_george.get_dNdz_spec(gtype='lens', year=year)\n",
    "\n",
    "zleff = np.mean(z_l)\n",
    "\n",
    "# find upper and lower IA redshift cuts\n",
    "z_up, z_low = spurious_george.get_IA_zlims(year)\n",
    "\n",
    "# get photometric redshift distribution\n",
    "z_ph, dNdz_ph, p_zs_zph = spurious_george.get_dNdz_phot(gtype='source', year=year)\n",
    "\n",
    "# convert redshifts for lenses and sources to scale factors\n",
    "La_arr = 1. / (1. + z_l)\n",
    "Sa_arr = 1. / (1. + z_s)\n",
    "\n",
    "# comoving radial distance from observer to sources and lenses\n",
    "chi_lens = ccl.comoving_radial_distance(spurious_george.halo.cosmo, La_arr) * (spurious_george.pa.HH0 / 100.)\n",
    "chi_source = ccl.comoving_radial_distance(spurious_george.halo.cosmo, Sa_arr) * (spurious_george.pa.HH0 / 100.)\n",
    "\n",
    "# need to flip array so highest z comes first for iteration routine below and because ccl wants scale factors backwards, 1 -> 0\n",
    "chi_flipped = np.flip(chi_lens)\n",
    "\n",
    "# L.o.S pair separation array\n",
    "minPiPos = 10**(-3) \n",
    "max_int = 200. # We integrate the numerator out to 200 Mpc/h away from the lenses because the correlation is zero outside of this.\n",
    "maxPiPos = max_int\n",
    "Pi_pos = np.logspace(np.log10(minPiPos), np.log10(maxPiPos), 1000)\n",
    "\n",
    "# Pi can be positive or negative, so now flip this and include the negative values, but only down to z=0\n",
    "# And avoid including multiple of the same values - this messes up some integration routines.\n",
    "Pi = [0]*len(z_l)\n",
    "try:\n",
    "    for zi in range(len(z_l)):\n",
    "        Pi_pos_vec= list(Pi_pos)[1:]\n",
    "        Pi_pos_vec.reverse()\n",
    "        index_cut = next(j[0] for j in enumerate(Pi_pos_vec) if j[1]<=(chi_flipped[zi]-np.min(chi_source)))\n",
    "        Pi[zi] = np.append(-np.asarray(Pi_pos_vec[index_cut:]), np.append([0],Pi_pos))  \n",
    "except StopIteration:\n",
    "    Pi[-1] = Pi_pos\n"
   ]
  },
  {
   "cell_type": "code",
   "execution_count": null,
   "id": "acab132e-2ebc-4d55-8470-7c07b1587dcf",
   "metadata": {},
   "outputs": [],
   "source": [
    "plt.figure()\n",
    "plt.plot(chi_lens, z_l)"
   ]
  },
  {
   "cell_type": "code",
   "execution_count": 78,
   "id": "cb9b74ab-9621-485e-8650-5563fd7b467c",
   "metadata": {
    "tags": []
   },
   "outputs": [
    {
     "name": "stdout",
     "output_type": "stream",
     "text": [
      "3.5891633008301858 358.9163300830185\n",
      "3.5891631615219497 411.36593441881195\n"
     ]
    }
   ],
   "source": [
    "# define theta vector to convert to r_p and use in final plot\n",
    "theta = np.logspace(np.log10(2.5), np.log10(250), 1000)\n",
    "\n",
    "rpmin = setup.arcmin_to_rp(theta[0], zleff, spurious_george.halo.cosmo)\n",
    "rpmax = setup.arcmin_to_rp(theta[-1], zleff, spurious_george.halo.cosmo)\n",
    "print(rpmin, rpmax)\n",
    "\n",
    "# set some arbitrary projected separations, r_p, for final xi_ls, requires rp < r\n",
    "r_p = np.logspace(np.log10(rpmin), np.log10(rpmax), 1000)\n",
    "\n",
    "rmax = np.sqrt(rpmax**2 + (maxPiPos+1)**2)\n",
    "rmin = np.sqrt(rpmin**2 - minPiPos**2)\n",
    "print(rmin, rmax)\n",
    "\n",
    "# set some arbitrary 3D separations r to compute xi_gg\n",
    "r = np.logspace(np.log10(rmin), np.log10(rmax), 1000)\n",
    "\n",
    "# wavenumbers and scale factors for all-space power spectrum\n",
    "k_arr = np.geomspace(1E-4,5E2,3000)\n",
    "\n",
    "# must flip array because ccl wants scale factors ascending (z_0 == a_1)\n",
    "pk_gg2D = spurious_george.halo.get_Pk2D('gg', k_arr=k_arr, a_arr=np.flip(La_arr))"
   ]
  },
  {
   "cell_type": "code",
   "execution_count": 63,
   "id": "ca5cca33-d299-4493-933b-e581fd6e2f2a",
   "metadata": {
    "tags": []
   },
   "outputs": [],
   "source": [
    "def plot_pkgg(zl):\n",
    "    \n",
    "    pk_gg = pk_gg2D.eval(k_arr, np.flip(La_arr)[zl], cosmo=spurious_george.halo.cosmo)\n",
    "       \n",
    "    plt.figure(figsize=[6,5]);\n",
    "    \n",
    "    trace_steps = [20,40,60,80,100,120,140]\n",
    "    for j in trace_steps:\n",
    "        if zl-j >= 0:\n",
    "            old_pk_gg = pk_gg2D.eval(k_arr, np.flip(La_arr)[zl-j], cosmo=spurious_george.halo.cosmo)\n",
    "            plt.plot(k_arr, old_pk_gg, alpha=18/j, color='magenta')\n",
    "\n",
    "    plt.plot(k_arr, pk_gg, color='magenta');\n",
    "    plt.title(r'$z_{l} = %g$'%(np.flip(z_l[zl])), fontsize=15);\n",
    "    plt.xlabel(r'$k / Mpc^{-1}$', fontsize=15);\n",
    "    plt.ylabel(r'$P_{gg}(k)$', fontsize=15);\n",
    "    plt.xscale('log')\n",
    "    plt.yscale('log')\n",
    "    plt.ylim([1,10**6])\n",
    "    \n",
    "    return\n",
    "\n",
    "#macplot.gif_plot(func = plot_pkgg, loop_data=z_l, duration=30, gif_name='pkgg_test.gif')"
   ]
  },
  {
   "cell_type": "code",
   "execution_count": 64,
   "id": "a75315cd-3955-4eaa-97d6-030e7b89d49e",
   "metadata": {},
   "outputs": [
    {
     "data": {
      "application/vnd.jupyter.widget-view+json": {
       "model_id": "9afd29d5a3434ea886e7e949694eed75",
       "version_major": 2,
       "version_minor": 0
      },
      "text/plain": [
       "interactive(children=(IntSlider(value=149, description='zl', max=299), Output()), _dom_classes=('widget-intera…"
      ]
     },
     "execution_count": 64,
     "metadata": {},
     "output_type": "execute_result"
    }
   ],
   "source": [
    "interactive_plot = interactive(plot_pkgg, zl=(0, 299))\n",
    "interactive_plot"
   ]
  },
  {
   "cell_type": "code",
   "execution_count": 65,
   "id": "661deec5-e69c-4f32-be7e-15306f5a396f",
   "metadata": {},
   "outputs": [],
   "source": [
    "# use 2D power spectrum and lens-source 3D separations to get 3D correlation function xi_ls(r,z_l)\n",
    "xi_gg = np.zeros([len(r), len(z_l)])\n",
    "for zl in range(len(z_l)):\n",
    "    xi_gg[:,zl] = ccl.correlations.correlation_3d(spurious_george.halo.cosmo, np.flip(La_arr[zl]), \n",
    "                                       r, pk_gg2D)"
   ]
  },
  {
   "cell_type": "code",
   "execution_count": 66,
   "id": "04feeec2-6215-468f-bf86-aa4fad0bbd1b",
   "metadata": {
    "tags": []
   },
   "outputs": [
    {
     "data": {
      "application/vnd.jupyter.widget-view+json": {
       "model_id": "4ebbfcb0e0314aeca2d89287351d2329",
       "version_major": 2,
       "version_minor": 0
      },
      "text/plain": [
       "interactive(children=(IntSlider(value=149, description='zl', max=299), Output()), _dom_classes=('widget-intera…"
      ]
     },
     "execution_count": 66,
     "metadata": {},
     "output_type": "execute_result"
    }
   ],
   "source": [
    "def plot(zl):\n",
    "\n",
    "    plt.figure(figsize=[6,5]);\n",
    "    plt.plot(r, xi_gg[:,zl], linewidth=1);\n",
    "    plt.title(r'$z_{l} = %g$'%(np.flip(z_l)[zl]), fontsize=15);\n",
    "    plt.xlabel(r'$\\hat{r}$', fontsize=15);\n",
    "    plt.xscale('log')\n",
    "    plt.yscale('log')\n",
    "    plt.ylabel(r'$\\xi_{gg}(\\hat{r})$', fontsize=15);\n",
    "\n",
    "interactive_plot = interactive(plot, zl=(0, 299))\n",
    "interactive_plot"
   ]
  },
  {
   "cell_type": "markdown",
   "id": "5a6071f2-aa57-4e9b-9d62-168bbe2cdb0f",
   "metadata": {},
   "source": [
    "#### We want xi_ls(r_p, Pi(z_s); z_l) so we need to interpolate xi_ls(r, z_l) across r_p and Pi(z_s)"
   ]
  },
  {
   "cell_type": "code",
   "execution_count": 67,
   "id": "24a0f70c-33c3-4698-81fb-9edb5d54282a",
   "metadata": {},
   "outputs": [
    {
     "name": "stdout",
     "output_type": "stream",
     "text": [
      "Order preserved for zl indices 0-299\n",
      "Shape of xi_ls output is  300\n",
      "Runtime: 5.90436 minutes\n"
     ]
    }
   ],
   "source": [
    "# ccl utilises multiple cores, but a standard for loop is single threaded. Itertools\n",
    "# doesn't have much to speed up our runtime so we're going to try compute xi_ls at multiple values\n",
    "# simultaneously using mulitple threads\n",
    "import multiprocessing as mp \n",
    "\n",
    "# define function used to calculate xi_ls(r,Pi) at fixed zl\n",
    "def calculate_xi_ls(zl, r, r_p, Pi, xi_gg):\n",
    "    # xi_gg is a function of r, so we interpolate it across r to later find x_ls as a function of rp and pi\n",
    "    xi_interp_r = scipy.interpolate.interp1d(r, xi_gg[:, zl])\n",
    "    # preallocate array for xi(rp,pi(zl))\n",
    "    xi_ofPi = np.zeros((len(r_p), len(Pi[zl])))\n",
    "    for ri in range(len(r_p)):\n",
    "        for pi in range(len(Pi[zl])):\n",
    "            rp_pi_zl = np.sqrt((r_p[ri]**2 + Pi[zl][pi]**2))\n",
    "            xi_ofPi[ri, pi] = xi_interp_r(rp_pi_zl)\n",
    "    \n",
    "    return xi_ofPi\n",
    "\n",
    "# wrap function inside another function so it can be passsed to multiprocessing with a single set\n",
    "# of iterables\n",
    "global wrap_for_mp\n",
    "def wrap_for_mp(iterable):\n",
    "    return calculate_xi_ls(zl=iterable, r=r, r_p=r_p, Pi=Pi, xi_gg=xi_gg), iterable\n",
    "\n",
    "# how many iterations do you want it done in?\n",
    "iteration_number = 10\n",
    "\n",
    "# set size of pool used, easier to define this way so we optimise number of processes \n",
    "# allocated\n",
    "poolsize = int(len(z_l) / iteration_number)\n",
    "\n",
    "# preallocate list for outputs\n",
    "xi_ls = [0] * len(z_l)\n",
    "\n",
    "# set first set of indices to be passed to multiprocessing and computed \n",
    "iterables = list(range(len(z_l)))\n",
    "\n",
    "# open multiprocess pool in with statement so it closes after it's complete\n",
    "start = time.time()\n",
    "with mp.Pool(poolsize) as p:\n",
    "    # output values and process ID (imap should ensure correct order)\n",
    "    xi_ls, order = zip(*p.imap(wrap_for_mp, iterables))\n",
    "\n",
    "# run quick test to ensure order of outputs was preserved\n",
    "check_order = list(order)\n",
    "if check_order == iterables:\n",
    "    print('Order preserved for zl indices %d-%d'%(iterables[0],iterables[-1]))\n",
    "else:\n",
    "    print('Order scrambled, data corrupted, exiting...')\n",
    "    exit()\n",
    "    \n",
    "print('Shape of xi_ls output is ', len(xi_ls))\n",
    "end = time.time()\n",
    "print('Runtime: %g minutes'%((end-start)/60))"
   ]
  },
  {
   "cell_type": "markdown",
   "id": "efd73bed-e6b0-45ca-9b1d-fc1a6b7e9c77",
   "metadata": {},
   "source": [
    "### Make GIF of xi_ls vs r_p, varying with Pi to verify output"
   ]
  },
  {
   "cell_type": "code",
   "execution_count": null,
   "id": "b8d58895-cc51-449b-bcc4-d57397087210",
   "metadata": {
    "tags": []
   },
   "outputs": [],
   "source": [
    "# import os\n",
    "# from PIL import Image\n",
    "\n",
    "# frames = []\n",
    "\n",
    "# #need to use for loop as python sort function doesn't sort strings numerically\n",
    "# for i in range(len(Pi[149])):\n",
    "#     if abs(Pi[149][i]) >= 0.1:\n",
    "#         plt.figure(figsize=[6,5]);\n",
    "#         plt.plot(r_p, xi_ls[149][:,i]);\n",
    "#         plt.title(r'$z_{l} = %g, \\Pi = %g$'%(z_l[149], Pi[149][i]), fontsize=15);\n",
    "#         plt.xlabel(r'$r_{p}$', fontsize=15);\n",
    "#         plt.ylabel(r'$\\xi_{ls}(r_{p}, \\Pi, z_{l})$', fontsize=15);\n",
    "#         plt.savefig('frame%d.png'%i, dpi=100);\n",
    "#         plt.close()\n",
    "#         frames.append(Image.open('frame%d.png'%i))\n",
    "#         os.remove('frame%d.png'%i)\n",
    "#     else:\n",
    "#         pass\n",
    "\n",
    "# # Save into a gif file that loops forever\n",
    "# frames[0].save('xi_ls_ofPi.gif', format='GIF',\n",
    "#                 append_images=frames[1:], save_all=True, duration=100,\n",
    "#                 loop=0)"
   ]
  },
  {
   "cell_type": "markdown",
   "id": "ec096472-0b89-4e7c-b64c-dde00bfac05f",
   "metadata": {},
   "source": [
    "### z_l ORDER in xi_ls is FLIPPED, xi_ls[0] = max_z_l etc."
   ]
  },
  {
   "cell_type": "code",
   "execution_count": 68,
   "id": "38b261f6-268d-483f-95e2-eb348fe00581",
   "metadata": {},
   "outputs": [
    {
     "data": {
      "application/vnd.jupyter.widget-view+json": {
       "model_id": "d8d9837ebb194a6ca9397d181c60b11f",
       "version_major": 2,
       "version_minor": 0
      },
      "text/plain": [
       "interactive(children=(IntSlider(value=149, description='zl', max=299), IntSlider(value=999, description='pi', …"
      ]
     },
     "execution_count": 68,
     "metadata": {},
     "output_type": "execute_result"
    }
   ],
   "source": [
    "def plot(zl, pi):\n",
    "\n",
    "    plt.figure(figsize=[6,5]);\n",
    "    plt.plot(r_p, xi_ls[zl][:,pi]);\n",
    "    plt.title(r'$z_{l} = %g, \\Pi = %g$'%(np.flip(z_l)[zl], Pi[zl][pi]), fontsize=15);\n",
    "    plt.xlabel(r'$r_{p}$', fontsize=15);\n",
    "    plt.xscale('log')\n",
    "    plt.ylabel(r'$\\xi_{ls}(r_{p}, \\Pi, z_{l})$', fontsize=15);\n",
    "\n",
    "interactive_plot = interactive(plot, zl=(0, 299), pi=(0,1999))\n",
    "interactive_plot"
   ]
  },
  {
   "cell_type": "code",
   "execution_count": 69,
   "id": "c0fdd737-930a-4f22-a2a9-2122de14ba0d",
   "metadata": {},
   "outputs": [],
   "source": [
    "com_Pi = [0]*len(z_l)\n",
    "z_Pi = [0]*len(z_l)\n",
    "# get comoving distance values associated to Pi\n",
    "for zl in range(len(z_l)):\n",
    "    com_Pi[zl] = chi_flipped[zl] + Pi[zl]\n",
    "    # CCL wants distance in Mpc but we are working in Mpc/h\n",
    "    z_Pi[zl] = (1./ccl.scale_factor_of_chi(spurious_george.halo.cosmo, com_Pi[zl] / (spurious_george.pa.HH0_t/100.))) - 1. \n",
    "    \n",
    "del com_Pi"
   ]
  },
  {
   "cell_type": "code",
   "execution_count": null,
   "id": "ccaed7a7-6856-438e-8125-9f29b711700f",
   "metadata": {},
   "outputs": [],
   "source": [
    "# # Need to interpolate dNdz_s over the z_Pi values\n",
    "\n",
    "# dNdz_Pi_interp = [0] * len(z_l)\n",
    "\n",
    "# # need to do a little bit of extrapolation as z_Pi extends beyond z_s max redshift\n",
    "# interp = scipy.interpolate.interp1d(np.flip(z_s), np.flip(dNdz_s), \n",
    "#                                     bounds_error=False, fill_value='extrapolate')\n",
    "\n",
    "# for zl in range(len(z_l)):\n",
    "#     dNdz_Pi_interp[zi] = interp(z_Pi[zl]) "
   ]
  },
  {
   "cell_type": "code",
   "execution_count": 70,
   "id": "b3a2197a-b5fb-4eb3-894a-96b6fd22fc7c",
   "metadata": {},
   "outputs": [],
   "source": [
    "# Or do we? We could just take SRD Gaussian parameterisation and construct dNdz_Pi using that,\n",
    "# then convolve with error dist to get P(z_Pi, z_ph). Perhaps this will be more represenatative than\n",
    "# interpolating\n",
    "\n",
    "# set best fit values based on survey year \n",
    "if year == 1:\n",
    "    z0 = 0.26\n",
    "    alpha = 0.94\n",
    "elif year == 10:\n",
    "    z0 = 0.28\n",
    "    alpha = 0.98\n",
    "else: \n",
    "    print('Not a current survey year')\n",
    "    exit()\n",
    "    \n",
    "# start by constructing dNdz_Pi using SRD parameterisation\n",
    "dNdz_Pi = [0] * len(z_l)\n",
    "for zi in range(len(z_l)):\n",
    "    dNdz_Pi[zi] = z_Pi[zi]**2 * np.exp(-(z_Pi[zi]/z0) ** alpha)\n",
    "\n",
    "# next get error dist p_zPi_zph\n",
    "\n",
    "p_zPi_zph = [0] * len(z_l)\n",
    "# first loop over z_Pi values for each lens redshift\n",
    "for zl in range(len(z_l)):\n",
    "    # define photo-z shift value for each zl\n",
    "    chi_plus = ccl.comoving_radial_distance(spurious_george.halo.cosmo, \n",
    "                                        1./(1. + np.max(z_Pi[zl]))) * (spurious_george.pa.HH0/100.) + np.max(Pi[zl])\n",
    "    a_plus = ccl.scale_factor_of_chi(spurious_george.halo.cosmo, chi_plus / (spurious_george.pa.HH0/100.))\n",
    "    zph_plus = (1. / a_plus) - 1.\n",
    "    # set arbitrary photo-z values in range of z_Pi boosted by 200Mpc in z                                 \n",
    "    zPi_ph = np.linspace(np.min(z_Pi[zl]), zph_plus, len(z_Pi[zl]))\n",
    "    # variance for each z_Pi\n",
    "    sig_z = 0.05*(1. + z_Pi[zl])\n",
    "    p = np.zeros([len(zPi_ph), len(z_Pi[zl])])\n",
    "    # loop over specific z_Pi values to find error dist for each z_Pi\n",
    "    for zi in range(len(z_Pi[zl])):\n",
    "        # create 2D array of z_ph probability at each z_Pi\n",
    "        p[zi,:] =  1. / (np.sqrt(2. * np.pi) * sig_z) * np.exp(-((zPi_ph - z_Pi[zl][zi])**2) / (2. * sig_z**2))\n",
    "    # save p(z_Pi,z_ph) at each lens redshift\n",
    "    p_zPi_zph[zl] = p"
   ]
  },
  {
   "cell_type": "code",
   "execution_count": 71,
   "id": "f58c1424-6516-42bd-8404-1a6ed04cae72",
   "metadata": {},
   "outputs": [
    {
     "name": "stdout",
     "output_type": "stream",
     "text": [
      "3.877317859674112\n",
      "4.31059983267158\n"
     ]
    }
   ],
   "source": [
    "print(np.max(z_Pi[0]))\n",
    "chi = ccl.comoving_radial_distance(spurious_george.halo.cosmo, \n",
    "                                        1./(1. + np.max(z_Pi[0]))) * (spurious_george.pa.HH0/100.)\n",
    "\n",
    "chi_plus = ccl.comoving_radial_distance(spurious_george.halo.cosmo, \n",
    "                                        1./(1. + np.max(z_Pi[0]))) * (spurious_george.pa.HH0/100.) + np.max(Pi[0])\n",
    "\n",
    "a_plus = ccl.scale_factor_of_chi(spurious_george.halo.cosmo, chi_plus / (spurious_george.pa.HH0/100.)) \n",
    "\n",
    "z_plus = (1. / a_plus) - 1.\n",
    "print(z_plus)"
   ]
  },
  {
   "cell_type": "code",
   "execution_count": 72,
   "id": "0614c500-9031-41c2-9f8c-71dccfd37c25",
   "metadata": {},
   "outputs": [
    {
     "name": "stdout",
     "output_type": "stream",
     "text": [
      "0.07383999491999993\n",
      "0.14426866692544982\n"
     ]
    }
   ],
   "source": [
    "print(np.max(z_Pi[-1]))\n",
    "chi = ccl.comoving_radial_distance(spurious_george.halo.cosmo, \n",
    "                                        1./(1. + np.max(z_Pi[-1]))) * (spurious_george.pa.HH0/100.)\n",
    "\n",
    "chi_plus = ccl.comoving_radial_distance(spurious_george.halo.cosmo, \n",
    "                                        1./(1. + np.max(z_Pi[-1]))) * (spurious_george.pa.HH0/100.) + np.max(Pi[-1])\n",
    "\n",
    "a_plus = ccl.scale_factor_of_chi(spurious_george.halo.cosmo, chi_plus / (spurious_george.pa.HH0/100.))\n",
    "\n",
    "z_plus = (1. / a_plus) - 1.\n",
    "print(z_plus)"
   ]
  },
  {
   "cell_type": "markdown",
   "id": "c8d56591-4f71-49fe-9949-243667ee530c",
   "metadata": {},
   "source": [
    "- Now we have dNdz_Pi and P(z_pi, z_ph), so we can treat z_s as z_pi"
   ]
  },
  {
   "cell_type": "markdown",
   "id": "e9f8d5cb-00c7-497e-8150-5f79dd0e846a",
   "metadata": {},
   "source": [
    "### Compute integrals\n",
    "- First we will define functions to solve the integrals over z_pi and z_ph\n",
    "- Then we will parallelise these to compute the integrals for $B_{zl}$(rp) - 1 for all z_l values\n",
    "- Finally we will integrate over z_l to leave us with a len(rp) vector representing B(rp) - 1 \n",
    "#### Check photo-z definition of +0.2 with Danielle!"
   ]
  },
  {
   "cell_type": "code",
   "execution_count": 73,
   "id": "a36474bb-eb37-47a1-81e8-e3819e0a01eb",
   "metadata": {
    "tags": []
   },
   "outputs": [],
   "source": [
    "def integrate_zPi(zl):\n",
    "    # preallocate arrays to store data\n",
    "    igl_zPi = np.zeros([len(r_p), len(z_Pi[zl])])\n",
    "    num_igd_zPi = np.zeros([len(z_Pi[zl]), len(z_Pi[zl])])\n",
    "    denom_igd_zPi = np.zeros([len(z_Pi[zl]), len(z_Pi[zl])])\n",
    "    for ri in range(len(r_p)):\n",
    "        # rows are rp, columns represent different Pi values\n",
    "        num_igd_zPi = dNdz_Pi[zl] * xi_ls[zl][ri,:] * p_zPi_zph[zl]\n",
    "        denom_igd_zPi = dNdz_Pi[zl] * p_zPi_zph[zl]\n",
    "        # for P(zpi,zph), we want to integrate over the z_Pi values, these are rows so axis=0\n",
    "        igl_zPi[ri,:] = scipy.integrate.simps(num_igd_zPi, z_Pi[zl], axis=0) / scipy.integrate.simps(denom_igd_zPi, z_Pi[zl])\n",
    "    \n",
    "    # this leaves us with an array that is [len(rp) x len(zph)]\n",
    "    return igl_zPi\n",
    "\n",
    "def integrate_zph(zl):\n",
    "    # now we want to integrate over zph, so we need array to store integrals for different rp\n",
    "    igl_zph = np.zeros([len(r_p)])\n",
    "    # arbitrarily define photometric redshifts slightly extended in range from zPi\n",
    "    chi_plus = ccl.comoving_radial_distance(spurious_george.halo.cosmo, \n",
    "                                        1./(1. + np.max(z_Pi[zl]))) * (spurious_george.pa.HH0/100.) + np.max(Pi[zl])\n",
    "    a_plus = ccl.scale_factor_of_chi(spurious_george.halo.cosmo, chi_plus / (spurious_george.pa.HH0/100.))\n",
    "    zph_plus = (1. / a_plus) - 1. \n",
    "    zPi_ph = np.linspace(np.min(z_Pi[zl]), zph_plus, len(z_Pi[zl]))\n",
    "    # call to previous function to get first integral\n",
    "    igd_zph = weights * integrate_zPi(zl)\n",
    "    # integrate over zph for a certain zl, zph are the columns so specify axis=1\n",
    "    igl_zph = scipy.integrate.simps(igd_zph, zPi_ph, axis=1) / scipy.integrate.simps(weights * np.ones([len(zPi_ph)]), zPi_ph)\n",
    "    \n",
    "    # return len(rp) array representing [B(rp) - 1] at zl \n",
    "    return igl_zph, zl\n"
   ]
  },
  {
   "cell_type": "code",
   "execution_count": 74,
   "id": "4315ad60-c20f-4d1d-b7cb-70d05ace2f36",
   "metadata": {
    "tags": []
   },
   "outputs": [
    {
     "name": "stdout",
     "output_type": "stream",
     "text": [
      "Order preserved for zl indices 0-299\n",
      "Runtime = 4042.75\n"
     ]
    }
   ],
   "source": [
    "# parallelised integration routine\n",
    "iterables = list(range(len(z_l)))\n",
    "\n",
    "poolsize = 30\n",
    "\n",
    "# allocate array to store [B(rp) - 1] for each zl\n",
    "igl_zph = np.zeros([len(z_l), len(r_p)])\n",
    "\n",
    "start = time.time()\n",
    "with mp.Pool(poolsize) as p:\n",
    "    # output values and process ID (imap should ensure correct order)\n",
    "    igl_zph, order = zip(*p.map(integrate_zph, iterables))\n",
    "\n",
    "# run quick test to ensure order of outputs was preserved\n",
    "check_order = list(order)\n",
    "if check_order == iterables:\n",
    "    print('Order preserved for zl indices %d-%d'%(iterables[0],iterables[-1]))\n",
    "else:\n",
    "    print('Order scrambled, data corrupted, exiting...')\n",
    "    exit()\n",
    "    \n",
    "# replace NaN with 0. NaN is produced due to divide by zero error \n",
    "#resulting from Pi[-1][:] = 0\n",
    "if np.isnan(igl_zph[-1], out=np.empty(len(igl_zph[-1]))).all() == True:\n",
    "    igl_zph[-1][:] = np.zeros([len(igl_zph[-1])])\n",
    "\n",
    "# All [B(rp) - 1]_zl have been collected into a [len(z_l) x len(r_p)] array \n",
    "# We must flip along the rows as previous integrals were collected with zl descending, \n",
    "# but we integrate over an ascending sample\n",
    "igd_zl = np.flip(igl_zph, axis=0) * dNdz_l[:,None]\n",
    "igl_zl = scipy.integrate.simps(igd_zl, z_l, axis=0) / scipy.integrate.simps(dNdz_l, z_l)\n",
    "\n",
    "np.savez('boost_test', B_min1 = igl_zl, B = igl_zl - 1., rp = r_p)\n",
    "\n",
    "end = time.time()\n",
    "print('Runtime = %g'%(end-start))"
   ]
  },
  {
   "cell_type": "code",
   "execution_count": 75,
   "id": "524d16a1-0e7d-43ac-ab54-a51c7618dc3b",
   "metadata": {},
   "outputs": [
    {
     "data": {
      "text/plain": [
       "Text(0, 0.5, '$B(r_{p}) - 1$')"
      ]
     },
     "execution_count": 75,
     "metadata": {},
     "output_type": "execute_result"
    },
    {
     "data": {
      "image/png": "[encoded data removed]",
      "text/plain": [
       "<Figure size 576x432 with 1 Axes>"
      ]
     },
     "metadata": {
      "needs_background": "light"
     },
     "output_type": "display_data"
    }
   ],
   "source": [
    "plt.figure(figsize=[8,6])\n",
    "plt.plot(r_p, igl_zl)\n",
    "plt.xscale('log')\n",
    "plt.yscale('log')\n",
    "plt.xlabel(r'$r_{p}$', fontsize=15)\n",
    "plt.ylabel(r'$B(r_{p}) - 1$', fontsize=15)"
   ]
  },
  {
   "cell_type": "code",
   "execution_count": 80,
   "id": "ab3de292-e2fb-4274-9633-a5f792c65561",
   "metadata": {},
   "outputs": [
    {
     "data": {
      "image/png": "[encoded data removed]",
      "text/plain": [
       "<Figure size 576x432 with 1 Axes>"
      ]
     },
     "metadata": {
      "needs_background": "light"
     },
     "output_type": "display_data"
    }
   ],
   "source": [
    "B_min1 = np.load('boost_test.npz')['B_min1']\n",
    "\n",
    "def plot():\n",
    "    plt.figure(figsize=[8,6])\n",
    "    plt.plot(theta, B_min1)\n",
    "    plt.xscale('log')\n",
    "    plt.yscale('log')\n",
    "    plt.xlabel(r'$\\theta (arcmin)$', fontsize=15)\n",
    "    plt.ylabel(r'$B(\\theta) - 1$', fontsize=15)\n",
    "    \n",
    "plot()\n",
    "plt.savefig('b_min1_theta.png', dpi=300)"
   ]
  },
  {
   "cell_type": "code",
   "execution_count": null,
   "id": "f5579ddb-4609-42a7-b8c3-66213e60c539",
   "metadata": {},
   "outputs": [],
   "source": [
    "# tests for single zl value"
   ]
  },
  {
   "cell_type": "markdown",
   "id": "ebb45697-c411-4d1f-a199-ac23107bbf21",
   "metadata": {},
   "source": [
    "### Old paralleisation code that doesn't really work but I'm keeping just in case the new thing is completely wrong"
   ]
  },
  {
   "cell_type": "code",
   "execution_count": null,
   "id": "efca907e-31a3-4584-88fc-f8860bedd519",
   "metadata": {},
   "outputs": [],
   "source": [
    "# # make sure process doesn't run beyond length of zl array \n",
    "# while iterables[-1] < len(z_l):\n",
    "    \n",
    "#     # open multiprocess pool in with statement so it closes after it's complete\n",
    "#     with mp.Pool(poolsize) as p:\n",
    "#         # output values and process ID (imap should ensure correct order)\n",
    "#         xi_ofPi, order = zip(*p.imap(wrap_for_mp, iterables))\n",
    "\n",
    "#     # run quick test to ensure order of outputs was preserved\n",
    "#     check_order = list(order)\n",
    "#     if check_order == iterables:\n",
    "#         print('Order preserved for zi values %d-%d'%(iterables[0],iterables[-1]))\n",
    "#     else:\n",
    "#         print('Order scrambled, data corrupted, exiting...')\n",
    "#         break\n",
    "        \n",
    "#     print(np.shape(xi_ofPi))\n",
    "#     # set corresponding positions in xi_ls == xi_ofPi\n",
    "#     start_index = iterables[0]\n",
    "#     xi_ls[iterables[0:30]] = xi_ofPi\n",
    "    \n",
    "#     # increase values of iterables array for next set of iterations\n",
    "#     iterables = [i + poolsize for i in iterables]"
   ]
  },
  {
   "cell_type": "markdown",
   "id": "932e85ea-696f-4739-a869-fc10d7373173",
   "metadata": {},
   "source": [
    "### Original Interpolation Code"
   ]
  },
  {
   "cell_type": "code",
   "execution_count": null,
   "id": "3be66b96-89ad-4a84-9bd9-d7eb30f46158",
   "metadata": {},
   "outputs": [],
   "source": [
    "# xi_interp_r = [0] * len(z_l)\n",
    "# xi_ofPi = [0] * len(z_l)\n",
    "\n",
    "# for zl in range(len(z_l)):\n",
    "#     # xi_gg is a function of r, so we interpolate it across r to later find x_ls as a function of rp and pi\n",
    "#     xi_interp_r[zl] = scipy.interpolate.interp1d(r, xi_gg[:, zl])\n",
    "#     # preallocate array for xi(rp,pi(zl))\n",
    "#     xi_ofPi[zl] = np.zeros((len(r_p), len(Pi[zl])))\n",
    "#     for ri in range(len(r_p)):\n",
    "#         for pi in range(len(Pi[zl])):\n",
    "#             rp_pi_zl = np.sqrt((r_p[ri]**2 + Pi[zl][pi]**2))\n",
    "#             xi_ofPi[zl][ri, pi] = xi_interp_r[zl](rp_pi_zl)"
   ]
  }
 ],
 "metadata": {
  "kernelspec": {
   "display_name": "Python 3",
   "language": "python",
   "name": "python3"
  },
  "language_info": {
   "codemirror_mode": {
    "name": "ipython",
    "version": 3
   },
   "file_extension": ".py",
   "mimetype": "text/x-python",
   "name": "python",
   "nbconvert_exporter": "python",
   "pygments_lexer": "ipython3",
   "version": "3.8.0"
  }
 },
 "nbformat": 4,
 "nbformat_minor": 5
}
