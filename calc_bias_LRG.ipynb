{
 "cells": [
  {
   "cell_type": "code",
   "execution_count": 7,
   "metadata": {
    "collapsed": true
   },
   "outputs": [],
   "source": [
    "%matplotlib inline\n",
    "import numpy as np\n",
    "import scipy.integrate\n",
    "import scipy.interpolate\n",
    "import shared_functions_setup as setup"
   ]
  },
  {
   "cell_type": "code",
   "execution_count": 8,
   "metadata": {
    "collapsed": true
   },
   "outputs": [],
   "source": [
    "SURVEY = 'LSST_DESI'\n",
    "\n",
    "if (SURVEY=='SDSS'):\n",
    "    import params as pa\n",
    "elif (SURVEY=='LSST_DESI'):\n",
    "    import params_LSST_DESI as pa\n",
    "else:\n",
    "    print \"We don't have support for that survey yet; exiting.\"\n",
    "    exit()"
   ]
  },
  {
   "cell_type": "code",
   "execution_count": 9,
   "metadata": {
    "collapsed": true
   },
   "outputs": [],
   "source": [
    "def growth(z_, OmC, OmB, HH0, Nnu):\n",
    "    \"\"\" Returns the growth factor, normalized to 1 at z=0\"\"\"\n",
    "    \n",
    "    OmR\t=\t2.47*10**(-5)/(HH0/100.)**2\n",
    "    OmN\t=\tNnu*(7./8.)*(4./11.)**(4./3.)*OmR\n",
    "    OmL = 1. - OmC - OmB - OmR - OmN\n",
    "    \n",
    "    def int_(z):\n",
    "        return (1.+z) / ( (OmC+OmB)*(1+z)**3 + OmL + (OmR+OmN) * (1+z)**4 )**(1.5)\n",
    "\n",
    "    norm = scipy.integrate.quad(int_, 0, 1000.)[0]\n",
    "    \n",
    "    ans= scipy.integrate.quad(int_, z_, 1000)[0]\n",
    "\n",
    "    D = ans / norm\n",
    "\n",
    "    return D\n"
   ]
  },
  {
   "cell_type": "code",
   "execution_count": 10,
   "metadata": {},
   "outputs": [
    {
     "name": "stdout",
     "output_type": "stream",
     "text": [
      "b= 3.88117518001\n"
     ]
    }
   ],
   "source": [
    "zL = np.linspace(pa.zLmin, pa.zLmax, 100)\n",
    "\n",
    "D = np.zeros(len(zL))\n",
    "for zi in range(0,len(zL)):\n",
    "    D[zi] = growth(zL[zi], pa.OmC, pa.OmB, pa.HH0, pa.Nnu)\n",
    "    \n",
    "dndzl = setup.get_dNdzL(zL, SURVEY)\n",
    "\n",
    "D_avg = scipy.integrate.simps(dndzl * D, zL)\n",
    "\n",
    "b = 1.7 / D_avg\n",
    "print \"b=\", b"
   ]
  },
  {
   "cell_type": "code",
   "execution_count": null,
   "metadata": {
    "collapsed": true
   },
   "outputs": [],
   "source": []
  }
 ],
 "metadata": {
  "kernelspec": {
   "display_name": "Python 2",
   "language": "python",
   "name": "python2"
  },
  "language_info": {
   "codemirror_mode": {
    "name": "ipython",
    "version": 2
   },
   "file_extension": ".py",
   "mimetype": "text/x-python",
   "name": "python",
   "nbconvert_exporter": "python",
   "pygments_lexer": "ipython2",
   "version": "2.7.12"
  }
 },
 "nbformat": 4,
 "nbformat_minor": 2
}
