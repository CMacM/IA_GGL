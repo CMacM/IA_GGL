{
 "cells": [
  {
   "cell_type": "code",
   "execution_count": 67,
   "id": "a8d26dbe-a6e4-4d86-9de3-6b08a488e085",
   "metadata": {},
   "outputs": [],
   "source": [
    "import numpy as np\n",
    "import sacc\n",
    "import matplotlib.pyplot as plt\n",
    "import pyccl as ccl\n",
    "import scipy\n",
    "import importlib as imp\n",
    "\n",
    "import CM_code.spurious_george as sp\n",
    "imp.reload(sp)\n",
    "import CM_code.halo_model as halo\n",
    "imp.reload(halo)\n",
    "import CM_code.lsst_coZmology as zed\n",
    "imp.reload(zed)\n",
    "\n",
    "# import main.py from TJPCov folder\n",
    "import tjpcov as tjp"
   ]
  },
  {
   "cell_type": "markdown",
   "id": "f58300c0-dbd3-4fe2-ab9b-1d2355a45e72",
   "metadata": {
    "tags": []
   },
   "source": [
    "### Create SACC object to be passed to TJP"
   ]
  },
  {
   "cell_type": "code",
   "execution_count": 105,
   "id": "b12d3e85-0725-4a17-b66b-3d22466eb42c",
   "metadata": {},
   "outputs": [],
   "source": [
    "s = sacc.Sacc()\n",
    "\n",
    "# start by adding redshift data (this will be used internally by TJP\n",
    "# to create WL and NC tracers\n",
    "z_l, dndz_l, zleff = zed.get_dndz_spec('lens')\n",
    "s.add_tracer('NZ','lens', z=z_l, nz=dndz_l)\n",
    "\n",
    "z_s, dndz_s, zseff = zed.get_dndz_spec('source')\n",
    "s.add_tracer('NZ','source', z=z_s, nz=dndz_s)\n",
    "A_IA = 5. * np.ones(len(z_s))\n",
    "\n",
    "#s.metadata['fsky'] = sp.pa.fsky # fsky from Danielle's LSST params\n",
    "\n",
    "# import frequently used values from spurious george\n",
    "th_min = sp.theta_min\n",
    "th_max = sp.theta_max\n",
    "th_bins = sp.theta_cents\n",
    "N_bins = sp.N_bins\n",
    "\n",
    "d2r = np.pi / 180.\n",
    "\n",
    "ell = np.unique(np.geomspace(180/(sp.theta_max/60.) - 10, \n",
    "                             180/(sp.theta_min/60.) + 10, \n",
    "                             1024).astype(int))\n",
    "\n",
    "th=np.logspace(np.log10(th_min*0.98),np.log10(1.),N_bins*30)\n",
    "th2=np.linspace(1.,th_max*1.02,N_bins*30) \n",
    "#s.metadata['th'] = np.unique(np.sort(np.append(th,th2)))\n",
    "\n",
    "s.save_fits('forecast_tracer_data_lsst-y1.fits', overwrite=True)"
   ]
  },
  {
   "cell_type": "code",
   "execution_count": 101,
   "id": "bc3fad68-31a2-4b50-b029-014ae5037a2f",
   "metadata": {},
   "outputs": [
    {
     "name": "stdout",
     "output_type": "stream",
     "text": [
      "54010\n"
     ]
    }
   ],
   "source": [
    "print(np.max(ell))"
   ]
  },
  {
   "cell_type": "markdown",
   "id": "fbc84809-d6f9-48cb-abbd-056695bf7078",
   "metadata": {},
   "source": [
    "### Need to figure out how to get TJP to give a single covariance on $\\gamma_t$"
   ]
  },
  {
   "cell_type": "code",
   "execution_count": 106,
   "id": "be47e633-b018-4627-8209-05944c6983ef",
   "metadata": {},
   "outputs": [
    {
     "name": "stdout",
     "output_type": "stream",
     "text": [
      "Computing independent covariance blocks\n",
      "Building the covariance: placing blocks in their place\n"
     ]
    },
    {
     "name": "stderr",
     "output_type": "stream",
     "text": [
      "/nobackup/b7009348/miniconda3/envs/ccl_tjp/lib/python3.9/site-packages/sacc/sacc.py:368: UserWarning: Empty index selected\n",
      "  warnings.warn(\"Empty index selected\")\n"
     ]
    },
    {
     "ename": "ValueError",
     "evalue": "The covariance is all 0's. This very likely means that the sacc file does not contain any tracer data type compatible with this covariance class tracers: ('xi', 'xi').",
     "output_type": "error",
     "traceback": [
      "\u001b[0;31m---------------------------------------------------------------------------\u001b[0m",
      "\u001b[0;31mValueError\u001b[0m                                Traceback (most recent call last)",
      "Cell \u001b[0;32mIn [106], line 5\u001b[0m\n\u001b[1;32m      2\u001b[0m config \u001b[38;5;241m=\u001b[39m \u001b[38;5;124m'\u001b[39m\u001b[38;5;124msame_estimator_tjpconf_MSM_lsst-y1.yaml\u001b[39m\u001b[38;5;124m'\u001b[39m\n\u001b[1;32m      3\u001b[0m cov \u001b[38;5;241m=\u001b[39m CovarianceCalculator(config)\n\u001b[0;32m----> 5\u001b[0m \u001b[43mcov\u001b[49m\u001b[38;5;241;43m.\u001b[39;49m\u001b[43mget_covariance\u001b[49m\u001b[43m(\u001b[49m\u001b[43m)\u001b[49m\n",
      "File \u001b[0;32m~/WGL_project/LSST_forecast_code/tjpcov/covariance_calculator.py:111\u001b[0m, in \u001b[0;36mCovarianceCalculator.get_covariance\u001b[0;34m(self)\u001b[0m\n\u001b[1;32m    102\u001b[0m \u001b[38;5;124;03m\"\"\"\u001b[39;00m\n\u001b[1;32m    103\u001b[0m \u001b[38;5;124;03mReturn the covariance with all the requested contributions added up.\u001b[39;00m\n\u001b[1;32m    104\u001b[0m \n\u001b[0;32m   (...)\u001b[0m\n\u001b[1;32m    108\u001b[0m \u001b[38;5;124;03m    added up.\u001b[39;00m\n\u001b[1;32m    109\u001b[0m \u001b[38;5;124;03m\"\"\"\u001b[39;00m\n\u001b[1;32m    110\u001b[0m \u001b[38;5;28;01mif\u001b[39;00m \u001b[38;5;28mself\u001b[39m\u001b[38;5;241m.\u001b[39mcov_total \u001b[38;5;129;01mis\u001b[39;00m \u001b[38;5;28;01mNone\u001b[39;00m:\n\u001b[0;32m--> 111\u001b[0m     cov_terms \u001b[38;5;241m=\u001b[39m \u001b[38;5;28;43mself\u001b[39;49m\u001b[38;5;241;43m.\u001b[39;49m\u001b[43mget_covariance_terms\u001b[49m\u001b[43m(\u001b[49m\u001b[43m)\u001b[49m\n\u001b[1;32m    113\u001b[0m     \u001b[38;5;66;03m# No need to do it only for rank == 0 since all Builder processes\u001b[39;00m\n\u001b[1;32m    114\u001b[0m     \u001b[38;5;66;03m# have self.cov well defined and this is quite unexpensive.\u001b[39;00m\n\u001b[1;32m    115\u001b[0m     \u001b[38;5;28mself\u001b[39m\u001b[38;5;241m.\u001b[39mcov_total \u001b[38;5;241m=\u001b[39m \u001b[38;5;28msum\u001b[39m(cov_terms\u001b[38;5;241m.\u001b[39mvalues())\n",
      "File \u001b[0;32m~/WGL_project/LSST_forecast_code/tjpcov/covariance_calculator.py:138\u001b[0m, in \u001b[0;36mCovarianceCalculator.get_covariance_terms\u001b[0;34m(self)\u001b[0m\n\u001b[1;32m    136\u001b[0m cov \u001b[38;5;241m=\u001b[39m []\n\u001b[1;32m    137\u001b[0m \u001b[38;5;28;01mfor\u001b[39;00m cmat \u001b[38;5;129;01min\u001b[39;00m cov_dict\u001b[38;5;241m.\u001b[39mvalues():\n\u001b[0;32m--> 138\u001b[0m     cov\u001b[38;5;241m.\u001b[39mappend(\u001b[43mcmat\u001b[49m\u001b[38;5;241;43m.\u001b[39;49m\u001b[43mget_covariance\u001b[49m\u001b[43m(\u001b[49m\u001b[43m)\u001b[49m)\n\u001b[1;32m    140\u001b[0m \u001b[38;5;66;03m# No need to do it only for rank == 0 since all Builder\u001b[39;00m\n\u001b[1;32m    141\u001b[0m \u001b[38;5;66;03m# processes have self.cov well defined and this is quite\u001b[39;00m\n\u001b[1;32m    142\u001b[0m \u001b[38;5;66;03m# unexpensive.\u001b[39;00m\n\u001b[1;32m    143\u001b[0m cov_terms[ctype] \u001b[38;5;241m=\u001b[39m \u001b[38;5;28msum\u001b[39m(cov)\n",
      "File \u001b[0;32m~/WGL_project/LSST_forecast_code/tjpcov/covariance_builder.py:358\u001b[0m, in \u001b[0;36mCovarianceBuilder.get_covariance\u001b[0;34m(self, **kwargs)\u001b[0m\n\u001b[1;32m    352\u001b[0m     cov \u001b[38;5;241m=\u001b[39m \u001b[38;5;28mself\u001b[39m\u001b[38;5;241m.\u001b[39m_build_matrix_from_blocks(blocks, tracers_cov)\n\u001b[1;32m    354\u001b[0m     \u001b[38;5;28;01mif\u001b[39;00m \u001b[38;5;129;01mnot\u001b[39;00m np\u001b[38;5;241m.\u001b[39many(cov):\n\u001b[1;32m    355\u001b[0m         \u001b[38;5;66;03m# You'll get a covariance full of 0's if none of the data\u001b[39;00m\n\u001b[1;32m    356\u001b[0m         \u001b[38;5;66;03m# types in the sacc file are compatible with the class\u001b[39;00m\n\u001b[1;32m    357\u001b[0m         \u001b[38;5;66;03m# _tracer_types\u001b[39;00m\n\u001b[0;32m--> 358\u001b[0m         \u001b[38;5;28;01mraise\u001b[39;00m \u001b[38;5;167;01mValueError\u001b[39;00m(\n\u001b[1;32m    359\u001b[0m             \u001b[38;5;124m\"\u001b[39m\u001b[38;5;124mThe covariance is all 0\u001b[39m\u001b[38;5;124m'\u001b[39m\u001b[38;5;124ms. This very likely \u001b[39m\u001b[38;5;124m\"\u001b[39m\n\u001b[1;32m    360\u001b[0m             \u001b[38;5;124m\"\u001b[39m\u001b[38;5;124mmeans that the sacc file does not contain \u001b[39m\u001b[38;5;124m\"\u001b[39m\n\u001b[1;32m    361\u001b[0m             \u001b[38;5;124m\"\u001b[39m\u001b[38;5;124many tracer data type compatible with this \u001b[39m\u001b[38;5;124m\"\u001b[39m\n\u001b[1;32m    362\u001b[0m             \u001b[38;5;124m\"\u001b[39m\u001b[38;5;124mcovariance class tracers: \u001b[39m\u001b[38;5;124m\"\u001b[39m\n\u001b[1;32m    363\u001b[0m             \u001b[38;5;124mf\u001b[39m\u001b[38;5;124m\"\u001b[39m\u001b[38;5;132;01m{\u001b[39;00m\u001b[38;5;28mself\u001b[39m\u001b[38;5;241m.\u001b[39m_tracer_types\u001b[38;5;132;01m}\u001b[39;00m\u001b[38;5;124m.\u001b[39m\u001b[38;5;124m\"\u001b[39m\n\u001b[1;32m    364\u001b[0m         )\n\u001b[1;32m    365\u001b[0m     \u001b[38;5;28mself\u001b[39m\u001b[38;5;241m.\u001b[39mcov \u001b[38;5;241m=\u001b[39m cov\n\u001b[1;32m    367\u001b[0m \u001b[38;5;66;03m# Broadcast the covariance to the other processes so all of them\u001b[39;00m\n\u001b[1;32m    368\u001b[0m \u001b[38;5;66;03m# have self.cov not None and avoid recomputing blocks\u001b[39;00m\n",
      "\u001b[0;31mValueError\u001b[0m: The covariance is all 0's. This very likely means that the sacc file does not contain any tracer data type compatible with this covariance class tracers: ('xi', 'xi')."
     ]
    }
   ],
   "source": [
    "from tjpcov.covariance_calculator import CovarianceCalculator\n",
    "config = 'same_estimator_tjpconf_MSM_lsst-y1.yaml'\n",
    "cov = CovarianceCalculator(config)\n",
    "\n",
    "cov.get_covariance()"
   ]
  },
  {
   "cell_type": "code",
   "execution_count": 92,
   "id": "ee76a247-0b40-48de-9c89-357caf6a272b",
   "metadata": {},
   "outputs": [
    {
     "name": "stdout",
     "output_type": "stream",
     "text": [
      "- cl_00\n",
      "- cl_0e\n",
      "- cl_0b\n",
      "- cl_e0\n",
      "- cl_b0\n",
      "- cl_ee\n",
      "- cl_eb\n",
      "- cl_be\n",
      "- cl_bb\n",
      "- xi_00\n",
      "- xi_0e\n",
      "- xi_0b\n",
      "- xi_e0\n",
      "- xi_b0\n",
      "- xi_plus_re\n",
      "- xi_plus_im\n",
      "- xi_minus_re\n",
      "- xi_minus_im\n",
      "- count\n",
      "- clusterGalaxy_densityConvergence_cl\n",
      "- clusterGalaxy_densityConvergence_xi\n",
      "- clusterGalaxy_densityShear_cl_b\n",
      "- clusterGalaxy_densityShear_cl_e\n",
      "- clusterGalaxy_densityShear_xi_t\n",
      "- clusterGalaxy_densityShear_xi_x\n",
      "- clusterGalaxy_density_cl\n",
      "- clusterGalaxy_density_xi\n",
      "- cluster_density_cl\n",
      "- cluster_density_xi\n",
      "- cluster_mass_count_wl\n",
      "- cluster_mass_count_xray\n",
      "- cmbCluster_polarizationDensity_cl_b\n",
      "- cmbCluster_polarizationDensity_cl_e\n",
      "- cmbCluster_polarizationDensity_xi_t\n",
      "- cmbCluster_polarizationDensity_xi_x\n",
      "- cmbCluster_temperatureDensity_cl\n",
      "- cmbCluster_temperatureDensity_xi\n",
      "- cmbCluster_convergenceDensity_cl\n",
      "- cmbCluster_convergenceDensity_xi\n",
      "- cmbGalaxy_convergenceDensity_cl\n",
      "- cmbGalaxy_convergenceDensity_xi\n",
      "- cmbGalaxy_convergenceShear_cl_b\n",
      "- cmbGalaxy_convergenceShear_cl_e\n",
      "- cmbGalaxy_convergenceShear_xi_t\n",
      "- cmbGalaxy_convergenceShear_xi_x\n",
      "- cmbGalaxy_convergence_cl\n",
      "- cmbGalaxy_convergence_xi\n",
      "- cmbGalaxy_polarizationConvergence_cl_b\n",
      "- cmbGalaxy_polarizationConvergence_cl_e\n",
      "- cmbGalaxy_polarizationConvergence_xi_t\n",
      "- cmbGalaxy_polarizationConvergence_xi_x\n",
      "- cmbGalaxy_polarizationDensity_cl_b\n",
      "- cmbGalaxy_polarizationDensity_cl_e\n",
      "- cmbGalaxy_polarizationDensity_xi_t\n",
      "- cmbGalaxy_polarizationDensity_xi_x\n",
      "- cmbGalaxy_polarizationShear_cl_bb\n",
      "- cmbGalaxy_polarizationShear_cl_be\n",
      "- cmbGalaxy_polarizationShear_cl_eb\n",
      "- cmbGalaxy_polarizationShear_cl_ee\n",
      "- cmbGalaxy_polarizationShear_xi_minus\n",
      "- cmbGalaxy_polarizationShear_xi_plus\n",
      "- cmbGalaxy_polarizationShear_xi_imagMinus\n",
      "- cmbGalaxy_polarizationShear_xi_imagPlus\n",
      "- cmbGalaxy_polarizationShear_cosebi_e\n",
      "- cmbGalaxy_polarizationShear_cosebi_b\n",
      "- cmbGalaxy_temperatureConvergence_cl\n",
      "- cmbGalaxy_temperatureConvergence_xi\n",
      "- cmbGalaxy_temperatureDensity_cl\n",
      "- cmbGalaxy_temperatureDensity_xi\n",
      "- cmbGalaxy_temperatureShear_cl_b\n",
      "- cmbGalaxy_temperatureShear_cl_e\n",
      "- cmbGalaxy_temperatureShear_xi_t\n",
      "- cmbGalaxy_temperatureShear_xi_x\n",
      "- cmb_convergence_cl\n",
      "- cmb_convergence_xi\n",
      "- cmb_polarization_cl_bb\n",
      "- cmb_polarization_cl_be\n",
      "- cmb_polarization_cl_eb\n",
      "- cmb_polarization_cl_ee\n",
      "- cmb_polarization_xi_minus\n",
      "- cmb_polarization_xi_plus\n",
      "- cmb_polarization_xi_imagMinus\n",
      "- cmb_polarization_xi_imagPlus\n",
      "- cmb_polarization_cosebi_e\n",
      "- cmb_polarization_cosebi_b\n",
      "- cmb_polarizationConvergence_cl_e\n",
      "- cmb_polarizationConvergence_cl_b\n",
      "- cmb_polarizationConvergence_xi_t\n",
      "- cmb_polarizationConvergence_xi_x\n",
      "- cmb_temperaturePolarization_cl_e\n",
      "- cmb_temperaturePolarization_cl_b\n",
      "- cmb_temperaturePolarization_xi_t\n",
      "- cmb_temperaturePolarization_xi_x\n",
      "- cmb_temperature_cl\n",
      "- cmb_temperatureConvergence_cl\n",
      "- cmb_temperatureConvergence_xi\n",
      "- galaxy_convergenceDensity_cl\n",
      "- galaxy_convergenceDensity_xi\n",
      "- galaxy_convergence_cl\n",
      "- galaxy_convergence_xi\n",
      "- galaxy_density_cl\n",
      "- galaxy_density_xi\n",
      "- galaxy_shearConvergence_cl_b\n",
      "- galaxy_shearConvergence_cl_e\n",
      "- galaxy_shearConvergence_xi_t\n",
      "- galaxy_shearConvergence_xi_x\n",
      "- galaxy_shearDensity_cl_b\n",
      "- galaxy_shearDensity_cl_e\n",
      "- galaxy_shearDensity_xi_t\n",
      "- galaxy_shearDensity_xi_x\n",
      "- galaxy_shear_cl_bb\n",
      "- galaxy_shear_cl_be\n",
      "- galaxy_shear_cl_eb\n",
      "- galaxy_shear_cl_ee\n",
      "- galaxy_shear_cosebi_bb\n",
      "- galaxy_shear_cosebi_ee\n",
      "- galaxy_shear_xi_minus\n",
      "- galaxy_shear_xi_plus\n",
      "- galaxy_shear_xi_imagMinus\n",
      "- galaxy_shear_xi_imagPlus\n"
     ]
    }
   ],
   "source": [
    "print(sacc.standard_types)"
   ]
  }
 ],
 "metadata": {
  "kernelspec": {
   "display_name": "Python [conda env:ccl_tjp]",
   "language": "python",
   "name": "conda-env-ccl_tjp-py"
  },
  "language_info": {
   "codemirror_mode": {
    "name": "ipython",
    "version": 3
   },
   "file_extension": ".py",
   "mimetype": "text/x-python",
   "name": "python",
   "nbconvert_exporter": "python",
   "pygments_lexer": "ipython3",
   "version": "3.9.15"
  }
 },
 "nbformat": 4,
 "nbformat_minor": 5
}
