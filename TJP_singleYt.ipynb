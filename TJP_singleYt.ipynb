{
 "cells": [
  {
   "cell_type": "code",
   "execution_count": 1,
   "id": "a8d26dbe-a6e4-4d86-9de3-6b08a488e085",
   "metadata": {},
   "outputs": [],
   "source": [
    "import numpy as np\n",
    "import sacc\n",
    "import matplotlib.pyplot as plt\n",
    "import pyccl as ccl\n",
    "import scipy\n",
    "import importlib as imp\n",
    "import astropy.io.fits as fits\n",
    "\n",
    "import CM_code.spurious_george as sp\n",
    "imp.reload(sp)\n",
    "import CM_code.halo_model as halo\n",
    "imp.reload(halo)\n",
    "import CM_code.lsst_coZmology as zed\n",
    "imp.reload(zed)\n",
    "\n",
    "# import main.py from TJPCov folder\n",
    "import tjpcov as tjp\n",
    "from tjpcov.covariance_calculator import CovarianceCalculator\n",
    "\n",
    "data_dir = '/home/b7009348/WGL_project/DES-data/'\n",
    "lens_file = data_dir+'DES_Y1A1_3x2pt_redMaGiC_zerr_CATALOG.fits'\n",
    "source_Zs = data_dir+'mof_BPZ_(stacking).fits'\n",
    "im3_file_full = data_dir+'y1_im3_shapes_matched.fits'\n",
    "\n",
    "plt.rcParams['font.family'] = 'serif'\n",
    "plt.rcParams['font.serif'] = ['cmr10']\n",
    "plt.rcParams['mathtext.fontset'] ='cm'\n",
    "plt.rcParams['figure.facecolor'] = 'white'\n",
    "plt.rc('axes', unicode_minus=False)\n",
    "plt.rc('axes.formatter', use_mathtext=True)"
   ]
  },
  {
   "cell_type": "markdown",
   "id": "f58300c0-dbd3-4fe2-ab9b-1d2355a45e72",
   "metadata": {
    "tags": []
   },
   "source": [
    "## Start with DES\n",
    "\n",
    "### Create SACC object to be passed to TJP"
   ]
  },
  {
   "cell_type": "code",
   "execution_count": 2,
   "id": "0fbd53ab-10c5-4113-b04e-124b882f11db",
   "metadata": {
    "tags": []
   },
   "outputs": [],
   "source": [
    "# Load in DES redshift data\n",
    "\n",
    "# load in im3 data \n",
    "with fits.open(im3_file_full) as hdu:\n",
    "    data = hdu[1].data\n",
    "    im3_ID = data['coadd_objects_id']\n",
    "    im3_weight = data['weight']\n",
    "del data\n",
    "\n",
    "# load in z_mc for all sources\n",
    "with fits.open(source_Zs) as hdu:\n",
    "    data = hdu[1].data\n",
    "    source_zmc = data['Z_MC']\n",
    "    zmc_ID = data['COADD_OBJECTS_ID']  \n",
    "del data\n",
    "\n",
    "# match z_mc values to source IDs\n",
    "matches, zmc_indices, shape_indices = np.intersect1d(zmc_ID, im3_ID, return_indices=True)\n",
    "\n",
    "# slice z_mc values to only to those in matched catalogue\n",
    "source_zmc = source_zmc[zmc_indices]\n",
    "\n",
    "# delete uneccessary arrays\n",
    "del matches, zmc_indices, shape_indices, zmc_ID, im3_ID\n",
    "\n",
    "with fits.open(lens_file) as hdu:\n",
    "    data = hdu[1].data\n",
    "    lens_z = data['ZREDMAGIC']\n",
    "    w_l = data['WEIGHT']\n",
    "del data\n",
    "\n",
    "nbins = 299\n",
    "\n",
    "im3_dndz, im3_bins = np.histogram(source_zmc, bins=nbins, weights=im3_weight)\n",
    "lens_dndz, lens_bins = np.histogram(lens_z, bins=nbins, weights=w_l)\n",
    "\n",
    "del w_l, lens_z, source_zmc"
   ]
  },
  {
   "cell_type": "code",
   "execution_count": 42,
   "id": "bb776a7a-45f7-47e2-8198-7e8745ac8c00",
   "metadata": {
    "collapsed": true,
    "jupyter": {
     "outputs_hidden": true
    },
    "tags": []
   },
   "outputs": [
    {
     "name": "stdout",
     "output_type": "stream",
     "text": [
      "[  1.           1.00203507   1.00407429   1.00611765   1.00816517\n",
      "   1.01021686   1.01227273   1.01433278   1.01639702   1.01846546\n",
      "   1.02053811   1.02261498   1.02469607   1.02678141   1.02887098\n",
      "   1.03096481   1.0330629    1.03516525   1.03727189   1.03938281\n",
      "   1.04149803   1.04361756   1.04574139   1.04786955   1.05000205\n",
      "   1.05213888   1.05428005   1.05642559   1.05857549   1.06072977\n",
      "   1.06288843   1.06505149   1.06721895   1.06939081   1.0715671\n",
      "   1.07374782   1.07593297   1.07812258   1.08031663   1.08251516\n",
      "   1.08471815   1.08692563   1.08913761   1.09135408   1.09357506\n",
      "   1.09580057   1.0980306    1.10026518   1.10250429   1.10474797\n",
      "   1.10699621   1.10924903   1.11150643   1.11376843   1.11603503\n",
      "   1.11830624   1.12058208   1.12286254   1.12514765   1.12743741\n",
      "   1.12973182   1.13203091   1.13433467   1.13664313   1.13895628\n",
      "   1.14127414   1.14359671   1.14592402   1.14825605   1.15059284\n",
      "   1.15293438   1.15528068   1.15763176   1.15998763   1.16234829\n",
      "   1.16471375   1.16708403   1.16945913   1.17183906   1.17422384\n",
      "   1.17661347   1.17900797   1.18140733   1.18381158   1.18622072\n",
      "   1.18863477   1.19105373   1.19347761   1.19590642   1.19834018\n",
      "   1.20077889   1.20322256   1.20567121   1.20812483   1.21058346\n",
      "   1.21304708   1.21551572   1.21798938   1.22046808   1.22295182\n",
      "   1.22544062   1.22793448   1.23043341   1.23293743   1.23544655\n",
      "   1.23796078   1.24048012   1.24300458   1.24553419   1.24806894\n",
      "   1.25060885   1.25315393   1.25570419   1.25825964   1.26082029\n",
      "   1.26338615   1.26595723   1.26853355   1.2711151    1.27370192\n",
      "   1.27629399   1.27889134   1.28149398   1.28410191   1.28671515\n",
      "   1.28933371   1.2919576    1.29458683   1.29722141   1.29986135\n",
      "   1.30250666   1.30515735   1.30781344   1.31047494   1.31314185\n",
      "   1.31581419   1.31849197   1.32117519   1.32386388   1.32655804\n",
      "   1.32925768   1.33196282   1.33467346   1.33738962   1.3401113\n",
      "   1.34283853   1.3455713    1.34830964   1.35105354   1.35380304\n",
      "   1.35655812   1.35931882   1.36208513   1.36485707   1.36763466\n",
      "   1.37041789   1.37320679   1.37600137   1.37880163   1.38160759\n",
      "   1.38441926   1.38723666   1.39005978   1.39288866   1.39572329\n",
      "   1.39856368   1.40140986   1.40426183   1.40711961   1.4099832\n",
      "   1.41285262   1.41572787   1.41860898   1.42149596   1.4243888\n",
      "   1.42728754   1.43019217   1.43310272   1.43601919   1.43894159\n",
      "   1.44186994   1.44480425   1.44774453   1.4506908    1.45364306\n",
      "   1.45660133   1.45956562   1.46253594   1.4655123    1.46849473\n",
      "   1.47148322   1.4744778    1.47747847   1.48048524   1.48349814\n",
      "   1.48651716   1.48954233   1.49257366   1.49561116   1.49865483\n",
      "   1.50170471   1.50476078   1.50782308   1.51089161   1.51396638\n",
      "   1.51704742   1.52013472   1.5232283    1.52632818   1.52943437\n",
      "   1.53254688   1.53566573   1.53879092   1.54192247   1.54506039\n",
      "   1.5482047    1.55135541   1.55451253   1.55767608   1.56084606\n",
      "   1.5640225    1.5672054    1.57039477   1.57359064   1.57679301\n",
      "   1.5800019    1.58321732   1.58643928   1.5896678    1.59290289\n",
      "   1.59614456   1.59939283   1.60264771   1.60590922   1.60917736\n",
      "   1.61245215   1.61573361   1.61902175   1.62231657   1.6256181\n",
      "   1.62892635   1.63224134   1.63556307   1.63889156   1.64222682\n",
      "   1.64556887   1.64891772   1.65227339   1.65563589   1.65900523\n",
      "   1.66238142   1.66576449   1.66915444   1.67255129   1.67595506\n",
      "   1.67936575   1.68278338   1.68620796   1.68963952   1.69307806\n",
      "   1.69652359   1.69997614   1.70343572   1.70690233   1.710376\n",
      "   1.71385674   1.71734457   1.72083949   1.72434152   1.72785068\n",
      "   1.73136698   1.73489044   1.73842107   1.74195888   1.74550389\n",
      "   1.74905612   1.75261558   1.75618228   1.75975624   1.76333747\n",
      "   1.76692599   1.77052181   1.77412495   1.77773542   1.78135324\n",
      "   1.78497843   1.78861099   1.79225094   1.7958983    1.79955309\n",
      "   1.80321531   1.80688498   1.81056212   1.81424675   1.81793887\n",
      "   1.82163851   1.82534568   1.82906039   1.83278266   1.8365125\n",
      "   2.06305278   3.12610555   4.18915833   5.25221111   6.31526388\n",
      "   7.37831666   8.44136943   9.50442221  10.56747499  11.63052776\n",
      "  12.69358054  13.75663332  14.81968609  15.88273887  16.94579165\n",
      "  18.00884442  19.0718972   20.13494997  21.19800275  22.26105553\n",
      "  23.3241083   24.38716108  25.45021386  26.51326663  27.57631941\n",
      "  28.63937219  29.70242496  30.76547774  31.82853051  32.89158329\n",
      "  33.95463607  35.01768884  36.08074162  37.1437944   38.20684717\n",
      "  39.26989995  40.33295273  41.3960055   42.45905828  43.52211106\n",
      "  44.58516383  45.64821661  46.71126938  47.77432216  48.83737494\n",
      "  49.90042771  50.96348049  52.02653327  53.08958604  54.15263882\n",
      "  55.2156916   56.27874437  57.34179715  58.40484992  59.4679027\n",
      "  60.53095548  61.59400825  62.65706103  63.72011381  64.78316658\n",
      "  65.84621936  66.90927214  67.97232491  69.03537769  70.09843046\n",
      "  71.16148324  72.22453602  73.28758879  74.35064157  75.41369435\n",
      "  76.47674712  77.5397999   78.60285268  79.66590545  80.72895823\n",
      "  81.792011    82.85506378  83.91811656  84.98116933  86.04422211\n",
      "  87.10727489  88.17032766  89.23338044  90.29643322  91.35948599\n",
      "  92.42253877  93.48559154  94.54864432  95.6116971   96.67474987\n",
      "  97.73780265  98.80085543  99.8639082  100.92696098 101.99001376\n",
      " 103.05306653 104.11611931 105.17917209 106.24222486 107.30527764\n",
      " 108.36833041 109.43138319 110.49443597 111.55748874 112.62054152\n",
      " 113.6835943  114.74664707 115.80969985 116.87275263 117.9358054\n",
      " 118.99885818 120.06191095 121.12496373 122.18801651 123.25106928\n",
      " 124.31412206 125.37717484 126.44022761 127.50328039 128.56633317\n",
      " 129.62938594 130.69243872 131.75549149 132.81854427 133.88159705\n",
      " 134.94464982 136.0077026  137.07075538 138.13380815 139.19686093\n",
      " 140.25991371 141.32296648 142.38601926 143.44907203 144.51212481\n",
      " 145.57517759 146.63823036 147.70128314 148.76433592 149.82738869\n",
      " 150.89044147 151.95349425 153.01654702 154.0795998  155.14265257\n",
      " 156.20570535 157.26875813 158.3318109  159.39486368 160.45791646\n",
      " 161.52096923 162.58402201 163.64707479 164.71012756 165.77318034\n",
      " 166.83623312 167.89928589 168.96233867 170.02539144 171.08844422\n",
      " 172.151497   173.21454977 174.27760255 175.34065533 176.4037081\n",
      " 177.46676088 178.52981366 179.59286643 180.65591921 181.71897198\n",
      " 182.78202476 183.84507754 184.90813031 185.97118309 187.03423587\n",
      " 188.09728864 189.16034142 190.2233942  191.28644697 192.34949975\n",
      " 193.41255252 194.4756053  195.53865808 196.60171085 197.66476363\n",
      " 198.72781641 199.79086918 200.85392196 201.91697474 202.98002751\n",
      " 204.04308029 205.10613306 206.16918584 207.23223862 208.29529139\n",
      " 209.35834417 210.42139695 211.48444972 212.5475025  213.61055528\n",
      " 214.67360805 215.73666083 216.7997136  217.86276638 218.92581916\n",
      " 219.98887193 221.05192471 222.11497749 223.17803026 224.24108304\n",
      " 225.30413582 226.36718859 227.43024137 228.49329415 229.55634692\n",
      " 230.6193997  231.68245247 232.74550525 233.80855803 234.8716108\n",
      " 235.93466358 236.99771636 238.06076913 239.12382191 240.18687469\n",
      " 241.24992746 242.31298024 243.37603301 244.43908579 245.50213857\n",
      " 246.56519134 247.62824412 248.6912969  249.75434967 250.81740245\n",
      " 251.88045523 252.943508   254.00656078 255.06961355 256.13266633\n",
      " 257.19571911 258.25877188 259.32182466 260.38487744 261.44793021\n",
      " 262.51098299 263.57403577 264.63708854 265.70014132 266.76319409\n",
      " 267.82624687 268.88929965 269.95235242 271.0154052  272.07845798\n",
      " 273.14151075 274.20456353 275.26761631 276.33066908 277.39372186\n",
      " 278.45677463 279.51982741 280.58288019 281.64593296 282.70898574\n",
      " 283.77203852 284.83509129 285.89814407 286.96119685 288.02424962\n",
      " 289.0873024  290.15035518 291.21340795 292.27646073 293.3395135\n",
      " 294.40256628 295.46561906 296.52867183 297.59172461 298.65477739\n",
      " 299.71783016 300.78088294 301.84393572 302.90698849 303.97004127\n",
      " 305.03309404 306.09614682 307.1591996  308.22225237 309.28530515\n",
      " 310.34835793 311.4114107  312.47446348 313.53751626 314.60056903\n",
      " 315.66362181 316.72667458 317.78972736 318.85278014]\n"
     ]
    }
   ],
   "source": [
    "theta_eff = s.get_theta_xi('galaxy_shearDensity_xi_t', 'lens', 'source')[0]\n",
    "nbpw = theta_eff.size\n",
    "\n",
    "thetab_min, thetab_max = theta_eff.min(), theta_eff.max()\n",
    "\n",
    "del_logtheta = np.log10(theta_eff[1:] / theta_eff[:-1]).mean()\n",
    "theta_min = 2 * thetab_min / (10**del_logtheta + 1)\n",
    "theta_max = 2 * thetab_max / (1 + 10 ** (-del_logtheta))\n",
    "\n",
    "th_min = theta_min\n",
    "th_max = theta_max\n",
    "theta_edges = np.logspace(\n",
    "    np.log10(th_min), np.log10(th_max), nbpw + 1\n",
    ")\n",
    "th = np.logspace(np.log10(th_min * 0.98), np.log10(1), nbpw * 30)\n",
    "# binned covariance can be sensitive to the th values. Make sure\n",
    "# you check convergence for your application\n",
    "th2 = np.linspace(1, th_max * 1.02, nbpw * 30)\n",
    "\n",
    "theta = np.unique(np.sort(np.append(th, th2)))\n",
    "print(theta)"
   ]
  },
  {
   "cell_type": "code",
   "execution_count": 41,
   "id": "ba312ee5-5d22-45a8-b66d-bb770ebf32b9",
   "metadata": {
    "tags": []
   },
   "outputs": [],
   "source": [
    "# create DES sacc file\n",
    "s = sacc.Sacc()\n",
    "\n",
    "th_des = np.logspace(np.log10(2.5),np.log10(250),10)\n",
    "\n",
    "s.add_tracer('NZ','lens', z=lens_bins[:-1], nz=lens_dndz)\n",
    "s.add_tracer('NZ','source', z=im3_bins[:-1], nz=im3_dndz)\n",
    "\n",
    "A_IA = 0.5 * np.ones(len(im3_bins[:-1]))\n",
    "\n",
    "lensTracer = ccl.NumberCountsTracer(zed.cosmo_SRD, has_rsd=False, dndz=(lens_bins[:-1], lens_dndz), \n",
    "                                    bias=(lens_bins[:-1], 1.6*np.ones(len(lens_dndz))))\n",
    "shearTracer = ccl.WeakLensingTracer(zed.cosmo_SRD, (im3_bins[:-1], im3_dndz), has_shear=True, \n",
    "                                     ia_bias=(im3_bins[:-1], A_IA))\n",
    "\n",
    "DESintrinsicTracer = ccl.WeakLensingTracer(zed.cosmo_SRD, (im3_bins[:-1], im3_dndz), has_shear=False, \n",
    "                                     ia_bias=(im3_bins[:-1], A_IA))\n",
    "\n",
    "ell_des = np.unique(np.geomspace(180/(th_des[-1]/60.) - 10, 180/(th_des[0]/60.) + 10, 1024).astype(int))\n",
    "\n",
    "Cl_des = ccl.angular_cl(zed.cosmo_SRD, lensTracer, shearTracer, ell_des)\n",
    "\n",
    "DES_xi = ccl.correlation(zed.cosmo_SRD, ell_des, Cl_des, th_des/60., type='NG')\n",
    "\n",
    "s.add_theta_xi('galaxy_shearDensity_xi_t', 'lens', 'source', th_des, DES_xi)\n",
    "\n",
    "s.save_fits('forecast_tracer_data_DES-y1.fits', overwrite=True)"
   ]
  },
  {
   "cell_type": "code",
   "execution_count": 43,
   "id": "6434abc9-d783-4767-a5e1-cbc7ff2a0b5c",
   "metadata": {},
   "outputs": [],
   "source": [
    "# define function to automatically set up configuration dictionary for TJP\n",
    "\n",
    "def configure_covariance(cosmo, sacc_file, cov_type, Nlen, Nsrc, sig_e, len_bias, IA=None, add_keys=None):\n",
    "    \n",
    "    config = {}\n",
    "    config['tjpcov'] = {}\n",
    "    config['tjpcov']['cosmo'] = cosmo\n",
    "    config['tjpcov']['sacc_file'] = sacc_file\n",
    "    config['tjpcov']['cov_type'] = cov_type\n",
    "    config['tjpcov']['Ngal_lens'] = Nlen\n",
    "    config['tjpcov']['Ngal_source'] = Nsrc\n",
    "    config['tjpcov']['sigma_e_source'] = sig_e\n",
    "    config['tjpcov']['bias_lens'] = len_bias\n",
    "    config['tjpcov']['IA'] = IA\n",
    "    \n",
    "    if add_keys is not None:\n",
    "        \n",
    "        for i in range(len(add_keys)):\n",
    "            \n",
    "            if add_keys[i][0] not in config:\n",
    "                \n",
    "                config[add_keys[i][0]] = {}\n",
    "                \n",
    "            for j in range(len(add_keys[i])-1):\n",
    "                \n",
    "                config[add_keys[i][0]][add_keys[i][j+1][0]] = add_keys[i][j+1][1]\n",
    "    \n",
    "    return config"
   ]
  },
  {
   "cell_type": "code",
   "execution_count": 44,
   "id": "ef7c368a-d1d1-4665-831a-bcdea1fb269d",
   "metadata": {},
   "outputs": [],
   "source": [
    "# ----------------------- DES configs ----------------------------\n",
    "rho = 0.2\n",
    "\n",
    "mcal_config = configure_covariance(cosmo=zed.cosmo_SRD, sacc_file='forecast_tracer_data_DES-y1.fits',\n",
    "                                   cov_type='RealGaussianFsky', Nlen=0.138, Nsrc=3.26, sig_e=0.28, len_bias=1.6, IA=0.5,\n",
    "                                   add_keys=[['ProjectedReal',['lmax', 4330]],['GaussianFsky',['fsky', 0.12]]])\n",
    "\n",
    "mcalXim3_config = configure_covariance(cosmo=zed.cosmo_SRD, sacc_file='forecast_tracer_data_DES-y1.fits',\n",
    "                                    cov_type='RealGaussianFsky', Nlen=0.138, Nsrc=3.26, sig_e=np.sqrt(rho*0.28*0.28), \n",
    "                                    len_bias=1.6, IA=0.5,\n",
    "                                    add_keys=[['ProjectedReal',['lmax', 4330]],['GaussianFsky',['fsky', 0.12]]])\n",
    "\n",
    "im3_config = configure_covariance(cosmo=zed.cosmo_SRD, sacc_file='forecast_tracer_data_DES-y1.fits',\n",
    "                                   cov_type='RealGaussianFsky', Nlen=0.138, Nsrc=3.26, sig_e=0.28, len_bias=1.6, IA=0.5,\n",
    "                                   add_keys=[['ProjectedReal',['lmax', 4330]],['GaussianFsky',['fsky', 0.12]]])\n",
    "\n",
    "im3Xmcal_config = configure_covariance(cosmo=zed.cosmo_SRD, sacc_file='forecast_tracer_data_DES-y1.fits',\n",
    "                                   cov_type='RealGaussianFsky', Nlen=0.138, Nsrc=3.26, sig_e=np.sqrt(rho*0.28*0.28),\n",
    "                                    len_bias=1.6, IA=0.5,\n",
    "                                    add_keys=[['ProjectedReal',['lmax', 4330]],['GaussianFsky',['fsky', 0.12]]])"
   ]
  },
  {
   "cell_type": "code",
   "execution_count": 45,
   "id": "be47e633-b018-4627-8209-05944c6983ef",
   "metadata": {},
   "outputs": [
    {
     "name": "stdout",
     "output_type": "stream",
     "text": [
      "Computing independent covariance blocks\n",
      "('lens', 'source') ('lens', 'source')\n"
     ]
    },
    {
     "name": "stderr",
     "output_type": "stream",
     "text": [
      "/home/b7009348/WGL_project/LSST_forecast_code/tjpcov/covariance_builder.py:897: UserWarning: Missing n_ell_coupled info for some tracers in the sacc file. You will have to pass it withthe cache\n",
      "  warnings.warn(\n"
     ]
    },
    {
     "name": "stdout",
     "output_type": "stream",
     "text": [
      "Building the covariance: placing blocks in their place\n",
      "('lens', 'source') ('lens', 'source')\n",
      "Computing independent covariance blocks\n",
      "('lens', 'source') ('lens', 'source')\n",
      "Building the covariance: placing blocks in their place\n",
      "('lens', 'source') ('lens', 'source')\n",
      "Computing independent covariance blocks\n",
      "('lens', 'source') ('lens', 'source')\n",
      "Building the covariance: placing blocks in their place\n",
      "('lens', 'source') ('lens', 'source')\n",
      "Computing independent covariance blocks\n",
      "('lens', 'source') ('lens', 'source')\n",
      "Building the covariance: placing blocks in their place\n",
      "('lens', 'source') ('lens', 'source')\n"
     ]
    }
   ],
   "source": [
    "# do covaraince calculations for DES \n",
    "\n",
    "cov = CovarianceCalculator(mcal_config)\n",
    "cov_mcal = cov.get_covariance()\n",
    "\n",
    "cov = CovarianceCalculator(im3_config)\n",
    "cov_im3 = cov.get_covariance()\n",
    "\n",
    "cov = CovarianceCalculator(mcalXim3_config)\n",
    "cov_mcalXim3 = cov.get_covariance()\n",
    "\n",
    "cov = CovarianceCalculator(im3Xmcal_config)\n",
    "cov_im3Xmcal = cov.get_covariance()\n",
    "\n",
    "DES_cov_IA = cov_mcal + cov_im3 - cov_mcalXim3 - cov_im3Xmcal "
   ]
  },
  {
   "cell_type": "code",
   "execution_count": 46,
   "id": "7cec2c2d-83fd-475f-945a-079c6676094a",
   "metadata": {},
   "outputs": [
    {
     "data": {
      "text/plain": [
       "<matplotlib.legend.Legend at 0x7fc429c526a0>"
      ]
     },
     "execution_count": 46,
     "metadata": {},
     "output_type": "execute_result"
    },
    {
     "data": {
      "image/png": "[encoded data removed]",
      "text/plain": [
       "<Figure size 640x480 with 1 Axes>"
      ]
     },
     "metadata": {},
     "output_type": "display_data"
    }
   ],
   "source": [
    "gamIA = full['IA']\n",
    "boost = full['boost']\n",
    "F = full['F']\n",
    "\n",
    "tjp_err = np.sqrt(np.diag(DES_cov_IA)) / (boost - 1. + F)\n",
    "jck_cov = jack['IA_cov']\n",
    "jck_err = np.sqrt(np.diag(jack['IA_cov']))\n",
    "\n",
    "plt.figure()\n",
    "plt.errorbar(th_des, gamIA, tjp_err, linewidth=0., markersize=2., marker='o', elinewidth=1.,capsize=3)\n",
    "plt.errorbar(th_des, gamIA, jck_err, linewidth=0., markersize=2., marker='o', elinewidth=1.,capsize=3)\n",
    "plt.xscale('log')\n",
    "plt.yscale('log')\n",
    "plt.ylim([1e-6, 1e-2])\n",
    "plt.xlim([2,300])\n",
    "plt.title(r'DES Y1 all source, all lenses, $\\rho = 0.2$')\n",
    "plt.xlabel(r'$\\theta $ (arcmin)')\n",
    "plt.ylabel(r'$(1-a)\\bar{\\gamma}_{IA}$')\n",
    "plt.legend(['Statistical only TJP covaraince','Jackknife covaraince'])"
   ]
  },
  {
   "cell_type": "code",
   "execution_count": 58,
   "id": "0d7ffcdc-dfce-49a0-8aef-1329d721bf6c",
   "metadata": {},
   "outputs": [
    {
     "name": "stdout",
     "output_type": "stream",
     "text": [
      "91.47931291605508\n",
      "3.3620005848229346\n"
     ]
    }
   ],
   "source": [
    "tjp_snr = np.sqrt(gamIA.T @ np.linalg.inv(DES_cov_IA) @ gamIA)\n",
    "print(tjp_snr)\n",
    "jck_snr = np.sqrt(gamIA.T @ np.linalg.inv(jck_cov) @ gamIA)\n",
    "print(jck_snr)"
   ]
  },
  {
   "cell_type": "code",
   "execution_count": 69,
   "id": "91f772c1-6838-4514-bdcd-baa93953a6e1",
   "metadata": {},
   "outputs": [
    {
     "name": "stdout",
     "output_type": "stream",
     "text": [
      "101.58316126980706\n"
     ]
    }
   ],
   "source": [
    "no_cov = np.zeros([10,10])\n",
    "for j in range(10):\n",
    "    for i in range(10):\n",
    "        if i==j:\n",
    "            no_cov[i,j] = DES_cov_IA[i,j]\n",
    "\n",
    "tjp_nocov = np.sqrt(gamIA.T @ np.linalg.inv(no_cov) @ gamIA)\n",
    "print(tjp_nocov)"
   ]
  },
  {
   "cell_type": "code",
   "execution_count": 18,
   "id": "5b48d1ad-3fa6-41c6-bee7-4e4f5dcf6149",
   "metadata": {},
   "outputs": [
    {
     "name": "stdout",
     "output_type": "stream",
     "text": [
      "Jackknife cov [5.60793552e-04 3.70129561e-04 2.95898149e-04 2.05486202e-04\n",
      " 1.12197099e-04 9.44077257e-05 6.57425841e-05 4.73528565e-05\n",
      " 4.33000348e-05 5.53847566e-05]\n",
      "TJPCov [9.06163856e-08 2.77946603e-07 8.25153624e-07 2.39947213e-06\n",
      " 6.90456071e-06 1.94101731e-05 5.21894393e-05 1.25646705e-04\n",
      " 2.24757115e-04 1.94907447e-04]\n",
      "IA [6.91022551e-04 4.92418498e-04 2.45885294e-04 2.59319535e-04\n",
      " 1.98424084e-04 7.62201303e-05 6.12030161e-05 7.82848446e-05\n",
      " 4.72200062e-05 3.04836266e-05]\n"
     ]
    }
   ],
   "source": [
    "print('Jackknife cov', jck_err)\n",
    "print('TJPCov',tjp_err)\n",
    "print('IA',gamIA)"
   ]
  },
  {
   "cell_type": "code",
   "execution_count": 50,
   "id": "b12d3e85-0725-4a17-b66b-3d22466eb42c",
   "metadata": {
    "tags": []
   },
   "outputs": [],
   "source": [
    "# create LSST sacc file\n",
    "s = sacc.Sacc()\n",
    "\n",
    "th_lsst = sp.theta_cents #forecasts\n",
    "\n",
    "# start by adding redshift data (this will be used internally by TJP\n",
    "# to create WL and NC tracers\n",
    "z_l, dndz_l, zleff = zed.get_dndz_spec('lens')\n",
    "s.add_tracer('NZ','lens', z=z_l, nz=dndz_l)\n",
    "\n",
    "z_s, dndz_s, zseff = zed.get_dndz_spec('source')\n",
    "s.add_tracer('NZ','source', z=z_s, nz=dndz_s)\n",
    "\n",
    "fred = 0.16\n",
    "A_IA = fred * 5. * np.ones(len(z_l))\n",
    "\n",
    "# fred * A_IA = 0.8\n",
    "\n",
    "lensTracer = ccl.NumberCountsTracer(zed.cosmo_SRD, has_rsd=False, dndz=(z_l, dndz_l), \n",
    "                                    bias=(z_l, sp.lens_bias(z_l)))\n",
    "shearTracer = ccl.WeakLensingTracer(zed.cosmo_SRD, (z_s, dndz_s), has_shear=True, \n",
    "                                     ia_bias=(z_s, A_IA))\n",
    "\n",
    "LSSTintrinsicTracer = ccl.WeakLensingTracer(zed.cosmo_SRD, (z_s, dndz_s), has_shear=False, \n",
    "                                     ia_bias=(z_s, A_IA))\n",
    "\n",
    "ell = np.unique(np.geomspace(180/(th_lsst[-1]/60.) - 10, 180/(th_lsst[0]/60.) + 10, 1024).astype(int))\n",
    "\n",
    "Cl = ccl.angular_cl(zed.cosmo_SRD, lensTracer, shearTracer, ell, limber_integration_method='spline')\n",
    "\n",
    "LSST_xi = ccl.correlation(zed.cosmo_SRD, ell, Cl, th_lsst/60., type='NG')\n",
    "\n",
    "s.add_theta_xi('galaxy_shearDensity_xi_t', 'lens', 'source', th_lsst, LSST_xi)\n",
    "\n",
    "s.save_fits('forecast_tracer_data_lsst-y1.fits', overwrite=True)"
   ]
  },
  {
   "cell_type": "code",
   "execution_count": 51,
   "id": "010652b4-19a3-4ad0-bff0-d81fddef254e",
   "metadata": {},
   "outputs": [],
   "source": [
    "# ----------------- LSST configs ---------------------------------\n",
    "\n",
    "\n",
    "lsst_config = configure_covariance(cosmo=zed.cosmo_SRD, sacc_file='forecast_tracer_data_lsst-y1.fits',\n",
    "                                   cov_type='RealGaussianFsky', Nlen=18., Nsrc=10, sig_e=0.13, len_bias=1.5, IA=0.8,\n",
    "                                   add_keys=[['ProjectedReal',['lmax', 42427]],['GaussianFsky',['fsky', 18000/41253]]])\n",
    "\n",
    "lsstX_config = configure_covariance(cosmo=zed.cosmo_SRD, sacc_file='forecast_tracer_data_lsst-y1.fits',\n",
    "                                   cov_type='RealGaussianFsky', Nlen=18., Nsrc=10, sig_e=np.sqrt(rho*0.13*0.13), \n",
    "                                    len_bias=1.5, IA=0.8, \n",
    "                                    add_keys=[['ProjectedReal',['lmax', 42427]],['GaussianFsky',['fsky', 18000/41253]]])"
   ]
  },
  {
   "cell_type": "code",
   "execution_count": 52,
   "id": "bea6572b-9538-4403-9715-60f3980b070c",
   "metadata": {
    "tags": []
   },
   "outputs": [
    {
     "name": "stdout",
     "output_type": "stream",
     "text": [
      "Computing independent covariance blocks\n",
      "('lens', 'source') ('lens', 'source')\n"
     ]
    },
    {
     "name": "stderr",
     "output_type": "stream",
     "text": [
      "/home/b7009348/WGL_project/LSST_forecast_code/tjpcov/covariance_builder.py:897: UserWarning: Missing n_ell_coupled info for some tracers in the sacc file. You will have to pass it withthe cache\n",
      "  warnings.warn(\n"
     ]
    },
    {
     "name": "stdout",
     "output_type": "stream",
     "text": [
      "Building the covariance: placing blocks in their place\n",
      "('lens', 'source') ('lens', 'source')\n",
      "Computing independent covariance blocks\n",
      "('lens', 'source') ('lens', 'source')\n",
      "Building the covariance: placing blocks in their place\n",
      "('lens', 'source') ('lens', 'source')\n"
     ]
    }
   ],
   "source": [
    "cov = CovarianceCalculator(lsst_config)\n",
    "cov_same = cov.get_covariance()\n",
    "\n",
    "cov = CovarianceCalculator(lsstX_config)\n",
    "cov_cross = cov.get_covariance()\n",
    "\n",
    "LSST_cov_IA = 2.*cov_same - 2.*cov_cross "
   ]
  },
  {
   "cell_type": "code",
   "execution_count": 57,
   "id": "d7226929-74f1-40a8-a61d-834105d2bd28",
   "metadata": {},
   "outputs": [
    {
     "name": "stdout",
     "output_type": "stream",
     "text": [
      "[2.03368457e-06 1.82869649e-06 1.41391339e-06 1.05602593e-06\n",
      " 8.48819102e-07 6.89236742e-07 5.64076211e-07 4.60588789e-07\n",
      " 3.74032721e-07 3.09184293e-07]\n",
      "0.2\n"
     ]
    }
   ],
   "source": [
    "np.savez(file='generated_data/lsst-y1-gamma-gamma-covmat', cov=LSST_cov_IA, rho=rho)\n",
    "print(np.sqrt(np.diag(LSST_cov_IA)))\n",
    "print(rho)"
   ]
  },
  {
   "cell_type": "code",
   "execution_count": 55,
   "id": "cb0b7267-e89a-4309-9978-ca6a76c61be4",
   "metadata": {},
   "outputs": [
    {
     "data": {
      "image/png": "[encoded data removed]",
      "text/plain": [
       "<Figure size 640x480 with 1 Axes>"
      ]
     },
     "metadata": {},
     "output_type": "display_data"
    }
   ],
   "source": [
    "Cl_IA = ccl.angular_cl(zed.cosmo_SRD, lensTracer, LSSTintrinsicTracer, ell)\n",
    "\n",
    "gammaIA = ccl.correlation(zed.cosmo_SRD, ell, Cl_IA, th_lsst/60., type='NG')\n",
    "\n",
    "IAerr = np.sqrt(np.diag(LSST_cov_IA))\n",
    "\n",
    "plt.figure()\n",
    "plt.errorbar(sp.theta_cents, -(1.-0.5)*gammaIA, IAerr, linewidth=0., markersize=2., marker='o', elinewidth=1., capsize=3)\n",
    "plt.xscale('log')\n",
    "plt.yscale('log')"
   ]
  },
  {
   "cell_type": "code",
   "execution_count": 56,
   "id": "3da01333-7927-4a4a-8117-f1873bae1179",
   "metadata": {},
   "outputs": [
    {
     "data": {
      "text/plain": [
       "array([[ 2.03368457e-06,  0.00000000e+00,  0.00000000e+00,\n",
       "         0.00000000e+00,  0.00000000e+00,  0.00000000e+00,\n",
       "         0.00000000e+00,  0.00000000e+00,  0.00000000e+00,\n",
       "         0.00000000e+00],\n",
       "       [ 1.46464926e-06,  1.09495817e-06,  0.00000000e+00,\n",
       "         0.00000000e+00,  0.00000000e+00,  0.00000000e+00,\n",
       "         0.00000000e+00,  0.00000000e+00,  0.00000000e+00,\n",
       "         0.00000000e+00],\n",
       "       [-1.94643529e-07,  8.66838484e-07,  1.09993455e-06,\n",
       "         0.00000000e+00,  0.00000000e+00,  0.00000000e+00,\n",
       "         0.00000000e+00,  0.00000000e+00,  0.00000000e+00,\n",
       "         0.00000000e+00],\n",
       "       [ 3.60713745e-08,  4.81862121e-08,  2.89428936e-07,\n",
       "         1.01380402e-06,  0.00000000e+00,  0.00000000e+00,\n",
       "         0.00000000e+00,  0.00000000e+00,  0.00000000e+00,\n",
       "         0.00000000e+00],\n",
       "       [ 2.60468854e-08, -5.18054847e-10,  8.72035346e-08,\n",
       "         2.28074486e-07,  8.12522450e-07,  0.00000000e+00,\n",
       "         0.00000000e+00,  0.00000000e+00,  0.00000000e+00,\n",
       "         0.00000000e+00],\n",
       "       [ 4.89510200e-11,  7.93678871e-09,  1.83795106e-08,\n",
       "         6.38129381e-08,  2.27568413e-07,  6.47137552e-07,\n",
       "         0.00000000e+00,  0.00000000e+00,  0.00000000e+00,\n",
       "         0.00000000e+00],\n",
       "       [ 7.31950259e-10,  1.35090807e-09,  4.67161701e-09,\n",
       "         1.50582836e-08,  5.22415987e-08,  1.95820405e-07,\n",
       "         5.26171284e-07,  0.00000000e+00,  0.00000000e+00,\n",
       "         0.00000000e+00],\n",
       "       [ 1.57157750e-10,  2.66725006e-10,  1.14250668e-09,\n",
       "         3.40410873e-09,  1.15026869e-08,  3.95855689e-08,\n",
       "         1.58462434e-07,  4.30487365e-07,  0.00000000e+00,\n",
       "         0.00000000e+00],\n",
       "       [-5.20505500e-11,  1.98488266e-10,  1.69750953e-10,\n",
       "         8.78510250e-10,  2.80073555e-09,  9.14677885e-09,\n",
       "         3.14429251e-08,  1.25813353e-07,  3.50699969e-07,\n",
       "         0.00000000e+00],\n",
       "       [-4.20000396e-12,  3.91392055e-11,  5.98108701e-11,\n",
       "         2.40761772e-10,  7.92996846e-10,  2.55710617e-09,\n",
       "         8.38938380e-09,  2.78447532e-08,  1.06881843e-07,\n",
       "         2.88649019e-07]])"
      ]
     },
     "execution_count": 56,
     "metadata": {},
     "output_type": "execute_result"
    }
   ],
   "source": [
    "np.linalg.cholesky(LSST_cov_IA)"
   ]
  },
  {
   "cell_type": "markdown",
   "id": "c4786b3f-3c61-41e9-974e-5553b588ab6e",
   "metadata": {},
   "source": [
    "## Code to produce covariances for different values of rho"
   ]
  },
  {
   "cell_type": "code",
   "execution_count": 19,
   "id": "b5cda72d-5786-44bf-9efe-34f3deeb1db9",
   "metadata": {
    "tags": []
   },
   "outputs": [
    {
     "name": "stdout",
     "output_type": "stream",
     "text": [
      "Computing independent covariance blocks\n",
      "('lens', 'source') ('lens', 'source')\n"
     ]
    },
    {
     "name": "stderr",
     "output_type": "stream",
     "text": [
      "/home/b7009348/WGL_project/LSST_forecast_code/tjpcov/covariance_builder.py:897: UserWarning: Missing n_ell_coupled info for some tracers in the sacc file. You will have to pass it withthe cache\n",
      "  warnings.warn(\n"
     ]
    },
    {
     "name": "stdout",
     "output_type": "stream",
     "text": [
      "Building the covariance: placing blocks in their place\n",
      "('lens', 'source') ('lens', 'source')\n",
      "Computing independent covariance blocks\n",
      "('lens', 'source') ('lens', 'source')\n",
      "Building the covariance: placing blocks in their place\n",
      "('lens', 'source') ('lens', 'source')\n",
      "Computing independent covariance blocks\n",
      "('lens', 'source') ('lens', 'source')\n",
      "Building the covariance: placing blocks in their place\n",
      "('lens', 'source') ('lens', 'source')\n",
      "Computing independent covariance blocks\n",
      "('lens', 'source') ('lens', 'source')\n",
      "Building the covariance: placing blocks in their place\n",
      "('lens', 'source') ('lens', 'source')\n",
      "Computing independent covariance blocks\n",
      "('lens', 'source') ('lens', 'source')\n",
      "Building the covariance: placing blocks in their place\n",
      "('lens', 'source') ('lens', 'source')\n",
      "Computing independent covariance blocks\n",
      "('lens', 'source') ('lens', 'source')\n",
      "Building the covariance: placing blocks in their place\n",
      "('lens', 'source') ('lens', 'source')\n",
      "Computing independent covariance blocks\n",
      "('lens', 'source') ('lens', 'source')\n",
      "Building the covariance: placing blocks in their place\n",
      "('lens', 'source') ('lens', 'source')\n",
      "Computing independent covariance blocks\n",
      "('lens', 'source') ('lens', 'source')\n",
      "Building the covariance: placing blocks in their place\n",
      "('lens', 'source') ('lens', 'source')\n"
     ]
    }
   ],
   "source": [
    "rho = [0.2,0.4,0.6,0.8]\n",
    "\n",
    "lsst_config = configure_covariance(cosmo=zed.cosmo_SRD, sacc_file='forecast_tracer_data_lsst-y1.fits',\n",
    "                                   cov_type='RealGaussianFsky', Nlen=18., Nsrc=10, sig_e=0.13, len_bias=1.5, IA=0.8,\n",
    "                                   add_keys=[['ProjectedReal',['lmax', 42427]],['GaussianFsky',['fsky', 18000/41253]]])\n",
    "LSST_covs = []\n",
    "    \n",
    "for value in rho:\n",
    "\n",
    "    lsstX_config = configure_covariance(cosmo=zed.cosmo_SRD, sacc_file='forecast_tracer_data_lsst-y1.fits',\n",
    "                                       cov_type='RealGaussianFsky', Nlen=18., Nsrc=10, sig_e=np.sqrt(value*0.13*0.13), \n",
    "                                        len_bias=1.5, IA=0.8, \n",
    "                                        add_keys=[['ProjectedReal',['lmax', 42427]],['GaussianFsky',['fsky', 18000/41253]]])\n",
    "    \n",
    "    cov = CovarianceCalculator(lsst_config)\n",
    "    cov_same = cov.get_covariance()\n",
    "\n",
    "    cov = CovarianceCalculator(lsstX_config)\n",
    "    cov_cross = cov.get_covariance()\n",
    "\n",
    "    LSST_covs.append(2.*cov_same - 2.*cov_cross) \n",
    "    \n",
    "np.savez(file='generated_data/lsst-y1-covmats-IA', cov=LSST_covs, rho=rho)"
   ]
  },
  {
   "cell_type": "markdown",
   "id": "9f92929c-23f7-47be-8b4d-e2708118ea75",
   "metadata": {},
   "source": [
    "## Testing for what might be breaking LSST covariances\n",
    "- Looks like the problem was down to having too large an intrinsic alingment amplitude because I wasn't accounting for $f_{red}$"
   ]
  },
  {
   "cell_type": "code",
   "execution_count": null,
   "id": "7409351b-6bac-40bf-8563-a3133de5b228",
   "metadata": {},
   "outputs": [
    {
     "name": "stdout",
     "output_type": "stream",
     "text": [
      "Computing independent covariance blocks\n",
      "('lens', 'source') ('lens', 'source')\n"
     ]
    },
    {
     "name": "stderr",
     "output_type": "stream",
     "text": [
      "/home/b7009348/WGL_project/LSST_forecast_code/tjpcov/covariance_builder.py:897: UserWarning: Missing n_ell_coupled info for some tracers in the sacc file. You will have to pass it withthe cache\n",
      "  warnings.warn(\n"
     ]
    },
    {
     "name": "stdout",
     "output_type": "stream",
     "text": [
      "Building the covariance: placing blocks in their place\n",
      "('lens', 'source') ('lens', 'source')\n",
      "Computing independent covariance blocks\n",
      "('lens', 'source') ('lens', 'source')\n"
     ]
    }
   ],
   "source": [
    "lsst_config = configure_covariance(cosmo=zed.cosmo_SRD, sacc_file='forecast_tracer_data_lsst-y1.fits',\n",
    "                                   cov_type='RealGaussianFsky', Nlen=18., Nsrc=10., sig_e=0.13, len_bias=1.5, IA=0.8,\n",
    "                                   add_keys=[['ProjectedReal',['lmax', 42427]],['GaussianFsky',['fsky', 0.436]]])\n",
    "\n",
    "lsstX_config = configure_covariance(cosmo=zed.cosmo_SRD, sacc_file='forecast_tracer_data_lsst-y1.fits',\n",
    "                                   cov_type='RealGaussianFsky', Nlen=18., Nsrc=10., sig_e=np.sqrt(0.2*0.13*0.13), len_bias=1.5, IA=0.8,\n",
    "                                   add_keys=[['ProjectedReal',['lmax', 42427]],['GaussianFsky',['fsky', 0.436]]])\n",
    "\n",
    "cov = CovarianceCalculator(lsst_config)\n",
    "cov_same = cov.get_covariance()\n",
    "\n",
    "cov = CovarianceCalculator(lsstX_config)\n",
    "cov_cross = cov.get_covariance()\n",
    "\n",
    "test_cov = 2.*cov_same - 2.*cov_cross"
   ]
  },
  {
   "cell_type": "code",
   "execution_count": null,
   "id": "0bee54fe-717e-4c34-81bb-2e034f1969bc",
   "metadata": {},
   "outputs": [],
   "source": [
    "np.linalg.cholesky(test_cov)"
   ]
  },
  {
   "cell_type": "code",
   "execution_count": 14,
   "id": "0c7ce3d8-de53-4490-8f04-a73f1aefe389",
   "metadata": {},
   "outputs": [
    {
     "data": {
      "text/plain": [
       "array([9.90535053e+28, 3.16023495e+28, 7.26371957e+26, 1.96529388e+24,\n",
       "       8.37185095e+20, 1.00535314e+17, 2.95160814e+13, 1.96741314e+12,\n",
       "       2.52887944e+12, 3.39267004e+12])"
      ]
     },
     "execution_count": 14,
     "metadata": {},
     "output_type": "execute_result"
    }
   ],
   "source": [
    "np.diag(np.linalg.inv(test_cov))"
   ]
  },
  {
   "cell_type": "code",
   "execution_count": 14,
   "id": "ee76a247-0b40-48de-9c89-357caf6a272b",
   "metadata": {
    "tags": []
   },
   "outputs": [
    {
     "ename": "KeyboardInterrupt",
     "evalue": "",
     "output_type": "error",
     "traceback": [
      "\u001b[0;31m---------------------------------------------------------------------------\u001b[0m",
      "\u001b[0;31mKeyboardInterrupt\u001b[0m                         Traceback (most recent call last)",
      "File \u001b[0;32m/nobackup/b7009348/miniconda3/envs/ccl_tjp/lib/python3.9/site-packages/IPython/core/async_helpers.py:129\u001b[0m, in \u001b[0;36m_pseudo_sync_runner\u001b[0;34m(coro)\u001b[0m\n\u001b[1;32m    121\u001b[0m \u001b[38;5;124;03m\"\"\"\u001b[39;00m\n\u001b[1;32m    122\u001b[0m \u001b[38;5;124;03mA runner that does not really allow async execution, and just advance the coroutine.\u001b[39;00m\n\u001b[1;32m    123\u001b[0m \n\u001b[0;32m   (...)\u001b[0m\n\u001b[1;32m    126\u001b[0m \u001b[38;5;124;03mCredit to Nathaniel Smith\u001b[39;00m\n\u001b[1;32m    127\u001b[0m \u001b[38;5;124;03m\"\"\"\u001b[39;00m\n\u001b[1;32m    128\u001b[0m \u001b[38;5;28;01mtry\u001b[39;00m:\n\u001b[0;32m--> 129\u001b[0m     \u001b[43mcoro\u001b[49m\u001b[38;5;241;43m.\u001b[39;49m\u001b[43msend\u001b[49m\u001b[43m(\u001b[49m\u001b[38;5;28;43;01mNone\u001b[39;49;00m\u001b[43m)\u001b[49m\n\u001b[1;32m    130\u001b[0m \u001b[38;5;28;01mexcept\u001b[39;00m \u001b[38;5;167;01mStopIteration\u001b[39;00m \u001b[38;5;28;01mas\u001b[39;00m exc:\n\u001b[1;32m    131\u001b[0m     \u001b[38;5;28;01mreturn\u001b[39;00m exc\u001b[38;5;241m.\u001b[39mvalue\n",
      "File \u001b[0;32m/nobackup/b7009348/miniconda3/envs/ccl_tjp/lib/python3.9/site-packages/IPython/core/interactiveshell.py:3143\u001b[0m, in \u001b[0;36mInteractiveShell.run_cell_async\u001b[0;34m(self, raw_cell, store_history, silent, shell_futures, transformed_cell, preprocessing_exc_tuple, cell_id)\u001b[0m\n\u001b[1;32m   3141\u001b[0m \u001b[38;5;66;03m# Store raw and processed history\u001b[39;00m\n\u001b[1;32m   3142\u001b[0m \u001b[38;5;28;01mif\u001b[39;00m store_history \u001b[38;5;129;01mand\u001b[39;00m raw_cell\u001b[38;5;241m.\u001b[39mstrip(\u001b[38;5;124m\"\u001b[39m\u001b[38;5;124m \u001b[39m\u001b[38;5;124m%\u001b[39m\u001b[38;5;124m\"\u001b[39m) \u001b[38;5;241m!=\u001b[39m \u001b[38;5;124m\"\u001b[39m\u001b[38;5;124mpaste\u001b[39m\u001b[38;5;124m\"\u001b[39m:\n\u001b[0;32m-> 3143\u001b[0m     \u001b[38;5;28;43mself\u001b[39;49m\u001b[38;5;241;43m.\u001b[39;49m\u001b[43mhistory_manager\u001b[49m\u001b[38;5;241;43m.\u001b[39;49m\u001b[43mstore_inputs\u001b[49m\u001b[43m(\u001b[49m\u001b[38;5;28;43mself\u001b[39;49m\u001b[38;5;241;43m.\u001b[39;49m\u001b[43mexecution_count\u001b[49m\u001b[43m,\u001b[49m\u001b[43m \u001b[49m\u001b[43mcell\u001b[49m\u001b[43m,\u001b[49m\u001b[43m \u001b[49m\u001b[43mraw_cell\u001b[49m\u001b[43m)\u001b[49m\n\u001b[1;32m   3144\u001b[0m \u001b[38;5;28;01mif\u001b[39;00m \u001b[38;5;129;01mnot\u001b[39;00m silent:\n\u001b[1;32m   3145\u001b[0m     \u001b[38;5;28mself\u001b[39m\u001b[38;5;241m.\u001b[39mlogger\u001b[38;5;241m.\u001b[39mlog(cell, raw_cell)\n",
      "File \u001b[0;32m/nobackup/b7009348/miniconda3/envs/ccl_tjp/lib/python3.9/site-packages/IPython/core/history.py:770\u001b[0m, in \u001b[0;36mHistoryManager.store_inputs\u001b[0;34m(self, line_num, source, source_raw)\u001b[0m\n\u001b[1;32m    767\u001b[0m \u001b[38;5;28mself\u001b[39m\u001b[38;5;241m.\u001b[39minput_hist_parsed\u001b[38;5;241m.\u001b[39mappend(source)\n\u001b[1;32m    768\u001b[0m \u001b[38;5;28mself\u001b[39m\u001b[38;5;241m.\u001b[39minput_hist_raw\u001b[38;5;241m.\u001b[39mappend(source_raw)\n\u001b[0;32m--> 770\u001b[0m \u001b[38;5;28;01mwith\u001b[39;00m \u001b[38;5;28mself\u001b[39m\u001b[38;5;241m.\u001b[39mdb_input_cache_lock:\n\u001b[1;32m    771\u001b[0m     \u001b[38;5;28mself\u001b[39m\u001b[38;5;241m.\u001b[39mdb_input_cache\u001b[38;5;241m.\u001b[39mappend((line_num, source, source_raw))\n\u001b[1;32m    772\u001b[0m     \u001b[38;5;66;03m# Trigger to flush cache and write to DB.\u001b[39;00m\n",
      "\u001b[0;31mKeyboardInterrupt\u001b[0m: "
     ]
    }
   ],
   "source": [
    "print(sacc.standard_types)"
   ]
  }
 ],
 "metadata": {
  "kernelspec": {
   "display_name": "Python [conda env:ccl_tjp]",
   "language": "python",
   "name": "conda-env-ccl_tjp-py"
  },
  "language_info": {
   "codemirror_mode": {
    "name": "ipython",
    "version": 3
   },
   "file_extension": ".py",
   "mimetype": "text/x-python",
   "name": "python",
   "nbconvert_exporter": "python",
   "pygments_lexer": "ipython3",
   "version": "3.9.15"
  }
 },
 "nbformat": 4,
 "nbformat_minor": 5
}
