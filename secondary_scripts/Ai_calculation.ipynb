{
 "cells": [
  {
   "cell_type": "code",
   "execution_count": 1,
   "metadata": {
    "collapsed": true
   },
   "outputs": [],
   "source": [
    "%matplotlib inline\n",
    "import numpy as np\n",
    "import matplotlib.pyplot as plt\n",
    "import scipy.integrate\n",
    "import scipy.interpolate"
   ]
  },
  {
   "cell_type": "code",
   "execution_count": 2,
   "metadata": {
    "collapsed": true
   },
   "outputs": [],
   "source": [
    "# Set up a function for the comoving distance\n",
    "\n",
    "def com(z_, OmC, OmB, HH0, Nnu):\n",
    "    \"\"\" Gets the comoving distance in units of Mpc/h at a given redshift, z_ (assuming the cosmology defined in the params file). \"\"\"\n",
    "    \n",
    "    OmR\t=\t2.47*10**(-5)/(HH0/100.)**2\n",
    "    OmN\t=\tNnu*(7./8.)*(4./11.)**(4./3.)*OmR\n",
    "    OmL = 1. - OmC - OmB - OmR - OmN\n",
    "    c=2.99792458*10**(8)\n",
    "    H0\t=\t10**(5)/c\n",
    "    \n",
    "    def chi_int(z):\n",
    "        return 1. / (H0 * ( (OmC+OmB)*(1+z)**3 + OmL + (OmR+OmN) * (1+z)**4 )**(0.5))\n",
    "\n",
    "    if hasattr(z_, \"__len__\"):\n",
    "        chi=np.zeros((len(z_)))\n",
    "        for zi in range(0,len(z_)):\n",
    "            #print \"zi in com=\", zi\n",
    "            chi[zi] = scipy.integrate.quad(chi_int,0,z_[zi])[0]\n",
    "    else:\n",
    "        chi = scipy.integrate.quad(chi_int, 0, z_)[0]\n",
    "\n",
    "    return chi"
   ]
  },
  {
   "cell_type": "code",
   "execution_count": 3,
   "metadata": {
    "collapsed": true
   },
   "outputs": [],
   "source": [
    "# Define a function to get redshift distribution (in terms of specz)\n",
    "def get_NofZ(dNdzpar, dNdztype, z):\n",
    "    \"\"\" Returns the dNdz of the sources.\"\"\"\n",
    "\n",
    "    if (dNdztype == 'Nakajima'):\n",
    "        # dNdz takes form like in Nakajima et al. 2011 equation 3\n",
    "        a = dNdzpar[0]\n",
    "        zs = dNdzpar[1]\n",
    "        nofz_ = (z / zs)**(a-1) * np.exp( -0.5 * (z / zs)**2)\t\n",
    "    elif (dNdztype == 'Smail'):\n",
    "        # dNdz take form like in Smail et al. 1994\n",
    "        alpha = dNdzpar[0]\n",
    "        z0 = dNdzpar[1]\n",
    "        beta = dNdzpar[2]\n",
    "        nofz_ = z**alpha * np.exp( - (z / z0)**beta)\n",
    "    else:\n",
    "        print \"dNdz type \"+str(dNdztype)+\" not yet supported; exiting.\"\n",
    "        exit()\n",
    "        \n",
    "    norm = scipy.integrate.simps(nofz_, z)\n",
    "\n",
    "    return nofz_ / norm"
   ]
  },
  {
   "cell_type": "code",
   "execution_count": 4,
   "metadata": {},
   "outputs": [],
   "source": [
    "# Set up the Schechter luminosity function parameters from Krause et al. 2015\n",
    "\n",
    "z = scipy.linspace(0.02, 5.00, 500)\n",
    "# Define a few absolute magnitude limits for which we will check this:\n",
    "mlim = 27\n",
    "\n",
    "A_0 = 5.92; beta = 1.10; eta = -0.47; z_0 = 0.3\n",
    "Mr_s = -20.34; Q = 1.8; alpha = -0.57\n",
    "phi_0 = 1.1 * 10**(-2); P = -1.2\n",
    "\n",
    "phi_s = phi_0 * 10**(0.4 * P*z)\n",
    "Ms = Mr_s - Q * ( z - 0.1 )\n",
    "Ls = 10.**(-0.4 *Ms)"
   ]
  },
  {
   "cell_type": "code",
   "execution_count": 6,
   "metadata": {},
   "outputs": [],
   "source": [
    "# Import the k correction and EC correction from Poggianti (assuming elliptical galaxies)\n",
    "# Only data up to z=3 so have just extended at a constant the highest-z value\n",
    "(z_k, kcorr, x,x,x) = np.loadtxt('../txtfiles/kcorr.dat', unpack=True)\n",
    "(z_e, ecorr, x,x,x) = np.loadtxt('../txtfiles/ecorr.dat', unpack=True)\n",
    "\n",
    "kcorr_interp = scipy.interpolate.interp1d(z_k, kcorr)\n",
    "ecorr_interp = scipy.interpolate.interp1d(z_e, ecorr)\n",
    "\n",
    "kcorr = kcorr_interp(z)\n",
    "ecorr = ecorr_interp(z)"
   ]
  },
  {
   "cell_type": "code",
   "execution_count": 7,
   "metadata": {},
   "outputs": [],
   "source": [
    "# Get the absolute magnitude that corresponds to the limiting apparently magnitude\n",
    "dl = com(z, 0.2, 0.05, 70., 3.046) * (1. + z)\n",
    "\n",
    "Mlim = mlim - (5. * np.log10(dl) + 25. + kcorr + ecorr)\n",
    "Llim = 10.**(-0.4 * Mlim)"
   ]
  },
  {
   "cell_type": "code",
   "execution_count": 8,
   "metadata": {
    "collapsed": true
   },
   "outputs": [],
   "source": [
    "L_list = [0]*len(z)\n",
    "phi_func = np.zeros((len(z), 1000))\n",
    "for i in range(0,len(z)):\n",
    "    for j in range(0,1000):\n",
    "        #print \"i=\", i, \"j=\", j\n",
    "        L = scipy.logspace(np.log10(Llim[i]), 10., 1000)\n",
    "        L_list[i] = L\n",
    "        phi_func[i,j] = phi_s[i] * (L[j] / Ls[i]) ** alpha * np.exp(- L[j] / Ls[i])\n",
    "        "
   ]
  },
  {
   "cell_type": "code",
   "execution_count": 9,
   "metadata": {},
   "outputs": [],
   "source": [
    "L0 = 10.**(-0.4 * (-22.))\n",
    "\n",
    "A = [0]*(len(z))\n",
    "for i in range(0, len(z)):\n",
    "    num = scipy.integrate.simps(phi_func[i, :] * (L_list[i] / L0)**beta, L_list[i])\n",
    "    denom = scipy.integrate.simps(phi_func[i, :] , L_list[i])\n",
    "    A[i] = A_0 * ((1. + z[i]) / (1. + z_0))**eta * num/ denom"
   ]
  },
  {
   "cell_type": "code",
   "execution_count": 10,
   "metadata": {},
   "outputs": [
    {
     "name": "stdout",
     "output_type": "stream",
     "text": [
      "A= 4.28229096098\n"
     ]
    }
   ],
   "source": [
    "# Get the normalized redshift distribution in terms of spec z\n",
    "dNdz = get_NofZ([1.24, 0.51, 1.01], 'Smail', z)\n",
    "\n",
    "# and integrate over it\n",
    "\n",
    "A_intz = scipy.integrate.simps(A*dNdz, z)\n",
    "print \"A=\", A_intz"
   ]
  },
  {
   "cell_type": "code",
   "execution_count": null,
   "metadata": {
    "collapsed": true
   },
   "outputs": [],
   "source": []
  }
 ],
 "metadata": {
  "kernelspec": {
   "display_name": "Python 2",
   "language": "python",
   "name": "python2"
  },
  "language_info": {
   "codemirror_mode": {
    "name": "ipython",
    "version": 2
   },
   "file_extension": ".py",
   "mimetype": "text/x-python",
   "name": "python",
   "nbconvert_exporter": "python",
   "pygments_lexer": "ipython2",
   "version": "2.7.12"
  }
 },
 "nbformat": 4,
 "nbformat_minor": 2
}
