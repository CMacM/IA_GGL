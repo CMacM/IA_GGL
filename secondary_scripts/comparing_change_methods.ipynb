{
 "cells": [
  {
   "cell_type": "code",
   "execution_count": 18,
   "metadata": {
    "collapsed": true
   },
   "outputs": [],
   "source": [
    "import numpy as np\n",
    "a=0.2; covperc=0.8\n",
    "suffix = 'sig=NOTgIA'"
   ]
  },
  {
   "cell_type": "markdown",
   "metadata": {},
   "source": [
    "Objective: Understand why going from SDSS to DESI + LSST means the shape-measurement method does better than it did vs the Blazek method. Is this because of change to the signal or to the noise? Which is dominant if either?"
   ]
  },
  {
   "cell_type": "code",
   "execution_count": 19,
   "metadata": {
    "collapsed": true
   },
   "outputs": [],
   "source": [
    "# Import (shape noise, (1-a)*Ncorr) for the shape measurement method for SDSS, with a=0.7 & covperc = 0.6.\n",
    "(noise_shapes_SDSS, signal_shapes_SDSS) = np.loadtxt('../txtfiles/compare_survey=SDSS_a='+str(a)+'_covperc='+str(covperc)+'_'+suffix+'.txt', unpack=True)\n",
    "# and for LSST+DESI\n",
    "(noise_shapes_LSST, signal_shapes_LSST) = np.loadtxt('../txtfiles/compare_survey=LSST_DESI_a='+str(a)+'_covperc='+str(covperc)+'_'+suffix+'.txt', unpack=True)"
   ]
  },
  {
   "cell_type": "code",
   "execution_count": 20,
   "metadata": {
    "collapsed": true
   },
   "outputs": [],
   "source": [
    "# Import (shape noise, (cza(Ba-1+Fa)SigIAa - czb(Bb-1+Fb)SigIAb)) for the Blazek method for SDSS\n",
    "(noise_Blazek_SDSS, signal_Blazek_SDSS) = np.loadtxt('../txtfiles/compare_Blazek_survey=SDSS_'+suffix+'.txt', unpack=True)\n",
    "# and for LSST + DESI\n",
    "(noise_Blazek_LSST, signal_Blazek_LSST) = np.loadtxt('../txtfiles/compare_Blazek_survey=LSST_DESI_'+suffix+'.txt', unpack=True)"
   ]
  },
  {
   "cell_type": "code",
   "execution_count": 21,
   "metadata": {},
   "outputs": [
    {
     "name": "stdout",
     "output_type": "stream",
     "text": [
      "Shapes, signal change= [ 1.29392867  1.46846257  1.65079582  1.77022451  1.79402396  1.75745861\n",
      "  1.70966078]\n",
      "Shapes, noise change (inv) [ 7.3173303   6.64647683  5.95964836  5.3867827   4.98591223  4.73973945\n",
      "  4.60102244]\n",
      "Overall change shapes S to N= [ 9.46810348  9.76010246  9.83816259  9.53581475  8.944846    8.32989592\n",
      "  7.8661876 ]\n"
     ]
    }
   ],
   "source": [
    "# Shapes method: change to (1-a)*Ncorr \n",
    "print \"Shapes, signal change=\", signal_shapes_LSST / signal_shapes_SDSS\n",
    "\n",
    "# Shapes method: change to shape noise (inverse because this is how it enters S to N)\n",
    "print \"Shapes, noise change (inv)\", noise_shapes_SDSS / noise_shapes_LSST\n",
    "\n",
    "# Overall change to Shapes method S to N\n",
    "print \"Overall change shapes S to N=\", signal_shapes_LSST / signal_shapes_SDSS * noise_shapes_SDSS / noise_shapes_LSST\n"
   ]
  },
  {
   "cell_type": "code",
   "execution_count": 22,
   "metadata": {},
   "outputs": [
    {
     "name": "stdout",
     "output_type": "stream",
     "text": [
      "Blazek, signal change= [ 0.37325364  0.33524283  0.28722629  0.23836798  0.19845894  0.17130891\n",
      "  0.15505767]\n",
      "Blazek, noise change (inv) [  8.89674386   9.64229514  10.15199916  10.46084041  10.63342419\n",
      "  10.72535254  10.77304523]\n",
      "Overall change, Blazek S to N =  [ 3.32074199  3.23251035  2.91592107  2.49352943  2.11029807  1.83734846\n",
      "  1.67044329]\n"
     ]
    }
   ],
   "source": [
    "# Blazek method: change to (1-a)*Ncorr \n",
    "print \"Blazek, signal change=\", signal_Blazek_LSST / signal_Blazek_SDSS\n",
    "\n",
    "# Blazek method: change to shape noise (inverse because this is how it enters S to N)\n",
    "print \"Blazek, noise change (inv)\", noise_Blazek_SDSS / noise_Blazek_LSST\n",
    "\n",
    "# Overall change to Blazek method S to N:\n",
    "print \"Overall change, Blazek S to N = \", signal_Blazek_LSST / signal_Blazek_SDSS * noise_Blazek_SDSS / noise_Blazek_LSST"
   ]
  },
  {
   "cell_type": "markdown",
   "metadata": {
    "collapsed": true
   },
   "source": [
    "Note: the reason the multiplier for noise is increasing in the Blazek case but decreasing in the shapes case is: shapes involves the boost over associated galaxies, which increases dramatically for LSST/DESI. Blazek involves the boost over close and far galaxies, which both decrease at least a bit for LSST/DESI vs SDSS."
   ]
  },
  {
   "cell_type": "code",
   "execution_count": 7,
   "metadata": {},
   "outputs": [
    {
     "name": "stdout",
     "output_type": "stream",
     "text": [
      "Change to S/N ratio overall due to NOISE ONLY= [ 0.82247285  0.68930444  0.58704185  0.51494741  0.46889056  0.44191922\n",
      "  0.42708652]\n"
     ]
    }
   ],
   "source": [
    "# Change to the S/N RATIO from only change to the noise terms (from both methods)\n",
    "print \"Change to S/N ratio overall due to NOISE ONLY=\", (noise_Blazek_LSST / noise_shapes_LSST) / (noise_Blazek_SDSS / noise_shapes_SDSS)"
   ]
  },
  {
   "cell_type": "code",
   "execution_count": null,
   "metadata": {
    "collapsed": true
   },
   "outputs": [],
   "source": []
  }
 ],
 "metadata": {
  "kernelspec": {
   "display_name": "Python 2",
   "language": "python",
   "name": "python2"
  },
  "language_info": {
   "codemirror_mode": {
    "name": "ipython",
    "version": 2
   },
   "file_extension": ".py",
   "mimetype": "text/x-python",
   "name": "python",
   "nbconvert_exporter": "python",
   "pygments_lexer": "ipython2",
   "version": "2.7.12"
  }
 },
 "nbformat": 4,
 "nbformat_minor": 2
}
