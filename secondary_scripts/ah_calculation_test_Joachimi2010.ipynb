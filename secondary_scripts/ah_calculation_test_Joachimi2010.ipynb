{
 "cells": [
  {
   "cell_type": "code",
   "execution_count": 1,
   "metadata": {
    "collapsed": true
   },
   "outputs": [],
   "source": [
    "%matplotlib inline\n",
    "import numpy as np\n",
    "import matplotlib.pyplot as plt\n",
    "import scipy.integrate\n",
    "import scipy.interpolate"
   ]
  },
  {
   "cell_type": "code",
   "execution_count": 2,
   "metadata": {
    "collapsed": true
   },
   "outputs": [],
   "source": [
    "# Set up a function for the comoving distance\n",
    "\n",
    "def com(z_, OmC, OmB, HH0, Nnu):\n",
    "    \"\"\" Gets the comoving distance in units of Mpc/h at a given redshift, z_ (assuming the cosmology defined in the params file). \"\"\"\n",
    "    \n",
    "    OmR\t=\t2.47*10**(-5)/(HH0/100.)**2\n",
    "    OmN\t=\tNnu*(7./8.)*(4./11.)**(4./3.)*OmR\n",
    "    OmL = 1. - OmC - OmB - OmR - OmN\n",
    "    c=2.99792458*10**(8)\n",
    "    H0\t=\t10**(5)/c\n",
    "    \n",
    "    def chi_int(z):\n",
    "        return 1. / (H0 * ( (OmC+OmB)*(1+z)**3 + OmL + (OmR+OmN) * (1+z)**4 )**(0.5))\n",
    "\n",
    "    if hasattr(z_, \"__len__\"):\n",
    "        chi=np.zeros((len(z_)))\n",
    "        for zi in range(0,len(z_)):\n",
    "            #print \"zi in com=\", zi\n",
    "            chi[zi] = scipy.integrate.quad(chi_int,0,z_[zi])[0]\n",
    "    else:\n",
    "        chi = scipy.integrate.quad(chi_int, 0, z_)[0]\n",
    "\n",
    "    return chi"
   ]
  },
  {
   "cell_type": "code",
   "execution_count": 3,
   "metadata": {
    "collapsed": true
   },
   "outputs": [],
   "source": [
    "# Define a function to get redshift distribution (in terms of specz)\n",
    "def get_NofZ(dNdzpar, dNdztype, z):\n",
    "    \"\"\" Returns the dNdz of the sources.\"\"\"\n",
    "\n",
    "    if (dNdztype == 'Nakajima'):\n",
    "        # dNdz takes form like in Nakajima et al. 2011 equation 3\n",
    "        a = dNdzpar[0]\n",
    "        zs = dNdzpar[1]\n",
    "        nofz_ = (z / zs)**(a-1) * np.exp( -0.5 * (z / zs)**2)\t\n",
    "    elif (dNdztype == 'Smail'):\n",
    "        # dNdz take form like in Smail et al. 1994\n",
    "        alpha = dNdzpar[0]\n",
    "        z0 = dNdzpar[1]\n",
    "        beta = dNdzpar[2]\n",
    "        nofz_ = z**alpha * np.exp( - (z / z0)**beta)\n",
    "    else:\n",
    "        print \"dNdz type \"+str(dNdztype)+\" not yet supported; exiting.\"\n",
    "        exit()\n",
    "        \n",
    "    norm = scipy.integrate.simps(nofz_, z)\n",
    "\n",
    "    return nofz_ / norm"
   ]
  },
  {
   "cell_type": "code",
   "execution_count": 4,
   "metadata": {},
   "outputs": [
    {
     "name": "stdout",
     "output_type": "stream",
     "text": [
      "Ms_1= -22.626 Ls_1= 1123052347.54\n"
     ]
    }
   ],
   "source": [
    "# Set up the Schechter luminosity function parameters from Krause et al. 2015\n",
    "\n",
    "z_1 = 1.37# \n",
    "# Define a few absolute magnitude limits for which we will check this:\n",
    "#mlim_2 = 27 # LSST shapes\n",
    "mlim_1 = 25\n",
    "\n",
    "#z = scipy.linspace(0.02, 5.00, 500)\n",
    "\n",
    "#alpha_h = 0.081; beta_h = 2.1\n",
    "Mr_s = -20.34; Q = 1.8; alpha = -0.57\n",
    "phi_0 = 1.1 * 10**(-2); P = -1.2\n",
    "\n",
    "phi_s_1 = phi_0 * 10**(0.4 * P*z_1)\n",
    "#phi_s_2 = phi_0 * 10**(0.4 * P*z_2)\n",
    "Ms_1 = Mr_s - Q * ( z_1 - 0.1 )\n",
    "#Ms_2 = Mr_s - Q * ( z_2 - 0.1)\n",
    "Ls_1 = 10.**(-0.4 *Ms_1)\n",
    "#Ls_2 = 10.**(-0.4 *Ms_2)\n",
    "print \"Ms_1=\", Ms_1, \"Ls_1=\", Ls_1\n",
    "#print \"Ms_2=\", Ms_2, \"Ls_2=\", Ls_2"
   ]
  },
  {
   "cell_type": "code",
   "execution_count": 5,
   "metadata": {},
   "outputs": [],
   "source": [
    "# Import the k correction and EC correction from Poggianti (assuming elliptical galaxies)\n",
    "# Only data up to z=3 so have just extended at a constant the highest-z value\n",
    "(z_k, kcorr, x,x,x) = np.loadtxt('../txtfiles/kcorr.dat', unpack=True)\n",
    "(z_e, ecorr, x,x,x) = np.loadtxt('../txtfiles/ecorr.dat', unpack=True)\n",
    "\n",
    "kcorr_interp = scipy.interpolate.interp1d(z_k, kcorr)\n",
    "ecorr_interp = scipy.interpolate.interp1d(z_e, ecorr)\n",
    "\n",
    "kcorr_1 = kcorr_interp(z_1)\n",
    "ecorr_1 = ecorr_interp(z_1)\n",
    "#kcorr_2 = kcorr_interp(z_2)\n",
    "#ecorr_2 = ecorr_interp(z_2)\n",
    "\n",
    "#print \"kcorr_1=\", kcorr_1, \"kcorr_2=\", kcorr_2\n",
    "#print \"ecorr_1=\", ecorr_1, \"ecorr_2=\", ecorr_2"
   ]
  },
  {
   "cell_type": "code",
   "execution_count": 6,
   "metadata": {},
   "outputs": [
    {
     "name": "stdout",
     "output_type": "stream",
     "text": [
      "Mlim 1= -20.1082036079 Llim 1= 110479434.643\n"
     ]
    }
   ],
   "source": [
    "# Get the absolute magnitude that corresponds to the limiting apparent magnitude\n",
    "dl_1 = com(z_1, 0.2, 0.05, 70., 3.046) * (1. + z_1)\n",
    "#dl_2 = com(z_2, 0.2, 0.05, 70., 3.046) * (1. + z_2)\n",
    "#print \"dl 1=\", dl_1, \"dl 2=\", dl_2\n",
    "\n",
    "#Mlim_1 = -22.6\n",
    "Mlim_1 = mlim_1 - (5. * np.log10(dl_1) + 25. + kcorr_1 + ecorr_1)\n",
    "Llim_1 = 10.**(-0.4 * Mlim_1)\n",
    "print \"Mlim 1=\", Mlim_1, \"Llim 1=\", Llim_1\n",
    "#Mlim_2 = mlim_2 - (5. * np.log10(dl_2) + 25. + kcorr_2 + ecorr_2)\n",
    "#Llim_2 = 10.**(-0.4 * Mlim_2)\n",
    "#print \"Mlim 2=\", Mlim_2, \"Llim 2=\", Llim_2"
   ]
  },
  {
   "cell_type": "code",
   "execution_count": 7,
   "metadata": {},
   "outputs": [
    {
     "name": "stdout",
     "output_type": "stream",
     "text": [
      "L0= 630957344.48\n",
      "norm 1= 3302170.31281\n",
      "avg_L= 1.18334585964\n"
     ]
    }
   ],
   "source": [
    "L0 = 10.**(-0.4 * (-22.))\n",
    "print \"L0=\", L0\n",
    "\n",
    "#L_list = [0]*len(z)\n",
    "#phi_func = np.zeros((len(z), 1000))\n",
    "#phi_func = np.zeros(1000)\n",
    "#for i in range(0,len(z)):\n",
    "#for j in range(0,1000):\n",
    "#print \"i=\", i, \"j=\", j\n",
    "#L = scipy.logspace(np.log10(Llim[i]), 10., 1000)\n",
    "L_1 = scipy.logspace(np.log10(Llim_1), np.log10(4.*10**9), 1000)\n",
    "#L_2 = scipy.logspace(np.log10(Llim_2), np.log10(4.*10**9), 1000)\n",
    "\n",
    "#L_list[i] = L\n",
    "#phi_func[i,j] = phi_s[i] * (L[j] / Ls[i]) ** alpha * np.exp(- L[j] / Ls[i])\n",
    "phi_func_1= phi_s_1* (L_1 / Ls_1) ** alpha * np.exp(- L_1 / Ls_1)\n",
    "#phi_func_2= phi_s_2* (L_2 / Ls_2) ** alpha * np.exp(- L_2 / Ls_2)\n",
    "\n",
    "norm_1 = scipy.integrate.simps(phi_func_1 * L_1, np.log(L_1))\n",
    "#norm_2 = scipy.integrate.simps(phi_func_2 * L_2, np.log(L_2))\n",
    "print \"norm 1=\", norm_1  #, \"norm 2=\", norm_2\n",
    "\n",
    "# Check <L>/L0\n",
    "avg_L = scipy.integrate.simps(phi_func_1 * L_1 * (L_1 / L0) ,np.log(L_1) ) / scipy.integrate.simps(phi_func_1 * L_1, np.log(L_1))\n",
    "print \"avg_L=\", avg_L\n",
    "\n",
    "#plt.figure(figsize=(10,10))\n",
    "#plt.semilogx(L_1, phi_func_1/norm_1, 'm', label='SDSS')\n",
    "#plt.hold(True)\n",
    "#plt.xlabel('Luminosity (arbitrary units)', fontsize=20)\n",
    "#plt.ylabel('$\\phi$', fontsize=20)\n",
    "#plt.tick_params(axis='both', labelsize='18')\n",
    "#plt.title('Luminosity function', fontsize=20)\n",
    "#plt.semilogx(L_2, phi_func_2/norm_2, 'g', label='LSST+DESI')\n",
    "#plt.savefig('../plots/Luminosity_functions.pdf')\n",
    "#plt.legend()\n",
    "#plt.show()\n",
    "        "
   ]
  },
  {
   "cell_type": "code",
   "execution_count": null,
   "metadata": {},
   "outputs": [],
   "source": [
    "\n",
    "\n",
    "#a_h = [0]*(len(z))\n",
    "#for i in range(0, len(z)):\n",
    "#num = scipy.integrate.simps(phi_func[i, :] * alpha_h * (L_list[i] / L0)**beta_h, L_list[i])\n",
    "a_h_1 = scipy.integrate.simps(phi_func_1 / norm_1 * alpha_h * (L_1 / L0)**beta_h * L_1, np.log(L_1))\n",
    "#a_h_2 = scipy.integrate.simps(phi_func_2 / norm_2 * alpha_h * (L_2 / L0)**beta_h * L_2, np.log(L_2))\n",
    "\n",
    "plt.figure(figsize=(10,10))\n",
    "plt.semilogx(L_1, phi_func_1 / norm_1* alpha_h * (L_1 / L0)**beta_h, 'm', label='SDSS')\n",
    "#plt.hold(True)\n",
    "#plt.semilogx(L_2, phi_func_2 / norm_2* alpha_h * (L_2 / L0)**beta_h, 'g', label='LSST+DESI')\n",
    "plt.xlabel(\"Luminosity (arbitrary units)\", fontsize=20)\n",
    "plt.ylabel(\"$a_h(L) \\phi(L)$\", fontsize=20)\n",
    "plt.tick_params(axis='both', labelsize='18')\n",
    "plt.savefig('../plots/Lum_func_times_ah.pdf')\n",
    "plt.legend()\n",
    "plt.show()\n",
    "\n",
    "print \"ah 1=\", a_h_1 #, \"ah 2=\", a_h_2"
   ]
  },
  {
   "cell_type": "code",
   "execution_count": null,
   "metadata": {},
   "outputs": [],
   "source": [
    "# Get the normalized redshift distribution in terms of spec z\n",
    "#dNdz = get_NofZ([1.24, 0.51, 1.01], 'Smail', z)\n",
    "#dNdz = get_NofZ([2.338, 0.303], 'Nakajima', z)\n",
    "\n",
    "# and integrate over it\n",
    "\n",
    "#a_h_intz = scipy.integrate.simps(a_h*dNdz, z)\n",
    "print \"A=\", a_h"
   ]
  },
  {
   "cell_type": "code",
   "execution_count": null,
   "metadata": {
    "collapsed": true
   },
   "outputs": [],
   "source": []
  }
 ],
 "metadata": {
  "kernelspec": {
   "display_name": "Python 2",
   "language": "python",
   "name": "python2"
  },
  "language_info": {
   "codemirror_mode": {
    "name": "ipython",
    "version": 2
   },
   "file_extension": ".py",
   "mimetype": "text/x-python",
   "name": "python",
   "nbconvert_exporter": "python",
   "pygments_lexer": "ipython2",
   "version": "2.7.12"
  }
 },
 "nbformat": 4,
 "nbformat_minor": 2
}
