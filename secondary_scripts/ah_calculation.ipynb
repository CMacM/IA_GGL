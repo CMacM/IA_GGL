{
 "cells": [
  {
   "cell_type": "code",
   "execution_count": 1,
   "metadata": {
    "collapsed": true
   },
   "outputs": [],
   "source": [
    "%matplotlib inline\n",
    "import numpy as np\n",
    "import matplotlib.pyplot as plt\n",
    "import scipy.integrate\n",
    "import scipy.interpolate"
   ]
  },
  {
   "cell_type": "code",
   "execution_count": 2,
   "metadata": {
    "collapsed": true
   },
   "outputs": [],
   "source": [
    "# Set up a function for the comoving distance\n",
    "\n",
    "def com(z_, OmC, OmB, HH0, Nnu):\n",
    "    \"\"\" Gets the comoving distance in units of Mpc/h at a given redshift, z_ (assuming the cosmology defined in the params file). \"\"\"\n",
    "    \n",
    "    OmR\t=\t2.47*10**(-5)/(HH0/100.)**2\n",
    "    OmN\t=\tNnu*(7./8.)*(4./11.)**(4./3.)*OmR\n",
    "    OmL = 1. - OmC - OmB - OmR - OmN\n",
    "    c=2.99792458*10**(8)\n",
    "    H0\t=\t10**(5)/c\n",
    "    \n",
    "    def chi_int(z):\n",
    "        return 1. / (H0 * ( (OmC+OmB)*(1+z)**3 + OmL + (OmR+OmN) * (1+z)**4 )**(0.5))\n",
    "\n",
    "    if hasattr(z_, \"__len__\"):\n",
    "        chi=np.zeros((len(z_)))\n",
    "        for zi in range(0,len(z_)):\n",
    "            #print \"zi in com=\", zi\n",
    "            chi[zi] = scipy.integrate.quad(chi_int,0,z_[zi])[0]\n",
    "    else:\n",
    "        chi = scipy.integrate.quad(chi_int, 0, z_)[0]\n",
    "\n",
    "    return chi"
   ]
  },
  {
   "cell_type": "code",
   "execution_count": 3,
   "metadata": {},
   "outputs": [
    {
     "name": "stdout",
     "output_type": "stream",
     "text": [
      "phi s 1=  0.00807221434067\n",
      "phi_s 2=  0.00469669853453\n",
      "Ms_1= -20.664 Ls_1= 0.292146037388\n",
      "Ms_2= -21.546 Ls_2= 0.658263841641\n"
     ]
    }
   ],
   "source": [
    "# Set up the Schechter luminosity function parameters from Krause et al. 2015\n",
    "\n",
    "z_1 = 0.28; z_2 = 0.77; mlim_1 = 21.8; mlim_2 = 27.; \n",
    "Mp = -22.\n",
    "\n",
    "# Power law function for a_h\n",
    "#alpha_h = 0.081; beta_h = 2.1\n",
    "\n",
    "# We are using parameters from Krause et al. 2015, red galaxies\n",
    "Mr_s = -20.34; Q = 1.8; alpha = -0.57; phi_0 = 1.1 * 10**(-2); P = -1.2\n",
    "\n",
    "phi_s_1 = phi_0 * 10**(0.4 * P*z_1); print \"phi s 1= \", phi_s_1\n",
    "phi_s_2 = phi_0 * 10**(0.4 * P*z_2); print \"phi_s 2= \", phi_s_2\n",
    "\n",
    "Ms_1 = Mr_s - Q * ( z_1 - 0.1 ); Ms_2 = Mr_s - Q * ( z_2 - 0.1)\n",
    "Ls_1 = 10.**(-0.4 *(Ms_1-Mp)); Ls_2 = 10.**(-0.4 *(Ms_2-Mp))\n",
    "\n",
    "print \"Ms_1=\", Ms_1, \"Ls_1=\", Ls_1\n",
    "print \"Ms_2=\", Ms_2, \"Ls_2=\", Ls_2\n"
   ]
  },
  {
   "cell_type": "code",
   "execution_count": 4,
   "metadata": {},
   "outputs": [
    {
     "name": "stdout",
     "output_type": "stream",
     "text": [
      "kcorr_1= 0.361 kcorr_2= 1.784625\n",
      "ecorr_1= -0.322 ecorr_2= -0.975625\n"
     ]
    }
   ],
   "source": [
    "# Import the k correction and EC correction from Poggianti (assuming elliptical galaxies)\n",
    "# Only data up to z=3 so have just extended at a constant the highest-z value\n",
    "(z_k, kcorr, x,x,x) = np.loadtxt('../txtfiles/kcorr.dat', unpack=True)\n",
    "(z_e, ecorr, x,x,x) = np.loadtxt('../txtfiles/ecorr.dat', unpack=True)\n",
    "\n",
    "kcorr_interp = scipy.interpolate.interp1d(z_k, kcorr)\n",
    "ecorr_interp = scipy.interpolate.interp1d(z_e, ecorr)\n",
    "\n",
    "kcorr_1 = kcorr_interp(z_1)\n",
    "ecorr_1 = ecorr_interp(z_1)\n",
    "kcorr_2 = kcorr_interp(z_2)\n",
    "ecorr_2 = ecorr_interp(z_2)\n",
    "\n",
    "print \"kcorr_1=\", kcorr_1, \"kcorr_2=\", kcorr_2\n",
    "print \"ecorr_1=\", ecorr_1, \"ecorr_2=\", ecorr_2"
   ]
  },
  {
   "cell_type": "code",
   "execution_count": 5,
   "metadata": {},
   "outputs": [
    {
     "name": "stdout",
     "output_type": "stream",
     "text": [
      "Mlim 1= -18.2700766514 Llim 1= 0.0322129620199\n",
      "Mlim 2= -16.4904779577 Llim 2= 0.00625447963925\n",
      "ratio of limiting L= 5.15038242635\n"
     ]
    }
   ],
   "source": [
    "# Get the absolute magnitude that corresponds to the limiting apparent magnitude\n",
    "dl_1 = com(z_1, 0.2, 0.05, 70., 3.046) * (1. + z_1)\n",
    "dl_2 = com(z_2, 0.2, 0.05, 70., 3.046) * (1. + z_2)\n",
    "\n",
    "Mlim_1 = mlim_1 - (5. * np.log10(dl_1) + 25. + kcorr_1 + ecorr_1); Llim_1 = 10.**(-0.4 * (Mlim_1-Mp))\n",
    "print \"Mlim 1=\", Mlim_1, \"Llim 1=\", Llim_1\n",
    "Mlim_2 = mlim_2 - (5. * np.log10(dl_2) + 25. + kcorr_2 + ecorr_2); Llim_2 = 10.**(-0.4 * (Mlim_2-Mp))\n",
    "print \"Mlim 2=\", Mlim_2, \"Llim 2=\", Llim_2\n",
    "\n",
    "print \"ratio of limiting L=\", Llim_1 / Llim_2"
   ]
  },
  {
   "cell_type": "code",
   "execution_count": 6,
   "metadata": {},
   "outputs": [
    {
     "name": "stdout",
     "output_type": "stream",
     "text": [
      "Lavg1= 0.210933840668\n",
      "Lavg2= 0.333441461695\n"
     ]
    },
    {
     "data": {
      "image/png": "[encoded data removed]",
      "text/plain": [
       "<matplotlib.figure.Figure at 0x7f88c4fc6b90>"
      ]
     },
     "metadata": {},
     "output_type": "display_data"
    }
   ],
   "source": [
    "L_1 = scipy.logspace(np.log10(Llim_1), 1, 1000)\n",
    "L_2 = scipy.logspace(np.log10(Llim_2), 1, 1000)\n",
    "\n",
    "phi_func_1= phi_s_1 * (L_1 / Ls_1) ** (alpha) * np.exp(- L_1 / Ls_1)\n",
    "phi_func_2= phi_s_2 * (L_2 / Ls_2) ** (alpha) * np.exp(- L_2 / Ls_2)\n",
    "\n",
    "norm_1 = scipy.integrate.simps(phi_func_1 * L_1, np.log(L_1))\n",
    "norm_2 = scipy.integrate.simps(phi_func_2 * L_2, np.log(L_2))\n",
    "\n",
    "# Average luminosity of each sample:\n",
    "L_avg_1 = scipy.integrate.simps(phi_func_1 * L_1, L_1) / norm_1\n",
    "L_avg_2 = scipy.integrate.simps(phi_func_2 * L_2, L_2) / norm_2\n",
    "\n",
    "print \"Lavg1=\", L_avg_1\n",
    "print \"Lavg2=\", L_avg_2\n",
    "\n",
    "M_1 = np.log10(L_1) / (-0.4)\n",
    "M_2 = np.log10(L_2) / (-0.4)\n",
    "\n",
    "#print \"phi_func_1 / norm_1 =\", phi_func_1 / norm_1 \n",
    "\n",
    "plt.figure(figsize=(10,10))\n",
    "plt.plot(L_1, phi_func_1 / norm_1 , 'm', label='SDSS')\n",
    "plt.hold(True)\n",
    "plt.plot(L_2, phi_func_2 / norm_2 , 'g', label='LSST+DESI')\n",
    "plt.hold(True)\n",
    "plt.axvline(x=Ls_1,color='m', linestyle = '--')\n",
    "plt.hold(True)\n",
    "plt.axvline(x=Ls_2,color='g', linestyle = '--')\n",
    "plt.xlabel('L/Lp', fontsize=20)\n",
    "plt.ylabel('$\\phi$', fontsize=20)\n",
    "plt.xlim(0., 1.5)\n",
    "#plt.ylim(10**(-8),1000)\n",
    "plt.tick_params(axis='both', labelsize='18')\n",
    "plt.legend()\n",
    "plt.title('Luminosity function, normalized', fontsize=20)\n",
    "#plt.savefig('../plots/Luminosity_functions.pdf')\n",
    "#plt.legend()\n",
    "plt.show()\n",
    "        "
   ]
  },
  {
   "cell_type": "code",
   "execution_count": null,
   "metadata": {},
   "outputs": [],
   "source": [
    "L0 = 10.**(-0.4 * (-22.))\n",
    "print \"L0=\", L0\n",
    "\n",
    "#a_h = [0]*(len(z))\n",
    "#for i in range(0, len(z)):\n",
    "#num = scipy.integrate.simps(phi_func[i, :] * alpha_h * (L_list[i] / L0)**beta_h, L_list[i])\n",
    "a_h_1 = scipy.integrate.simps(phi_func_1 / norm_1 * alpha_h * (L_1 / L0)**beta_h * L_1, np.log(L_1))\n",
    "a_h_2 = scipy.integrate.simps(phi_func_2 / norm_2 * alpha_h * (L_2 / L0)**beta_h * L_2, np.log(L_2))\n",
    "\n",
    "plt.figure(figsize=(10,10))\n",
    "plt.semilogx(L_1, phi_func_1 / norm_1* alpha_h * (L_1 / L0)**beta_h, 'm', label='SDSS')\n",
    "plt.hold(True)\n",
    "plt.semilogx(L_2, phi_func_2 / norm_2* alpha_h * (L_2 / L0)**beta_h, 'g', label='LSST+DESI')\n",
    "plt.xlabel(\"Luminosity (arbitrary units)\", fontsize=20)\n",
    "plt.ylabel(\"$a_h(L) \\phi(L)$\", fontsize=20)\n",
    "plt.tick_params(axis='both', labelsize='18')\n",
    "plt.savefig('../plots/Lum_func_times_ah.pdf')\n",
    "plt.legend()\n",
    "plt.show()\n",
    "\n",
    "print \"ah 1=\", a_h_1, \"ah 2=\", a_h_2"
   ]
  },
  {
   "cell_type": "code",
   "execution_count": null,
   "metadata": {
    "collapsed": true
   },
   "outputs": [],
   "source": [
    "# Get the normalized redshift distribution in terms of spec z\n",
    "#dNdz = get_NofZ([1.24, 0.51, 1.01], 'Smail', z)\n",
    "#dNdz = get_NofZ([2.338, 0.303], 'Nakajima', z)\n",
    "\n",
    "# and integrate over it\n",
    "\n",
    "#a_h_intz = scipy.integrate.simps(a_h*dNdz, z)\n",
    "print \"A=\", a_h"
   ]
  },
  {
   "cell_type": "code",
   "execution_count": null,
   "metadata": {
    "collapsed": true
   },
   "outputs": [],
   "source": []
  }
 ],
 "metadata": {
  "kernelspec": {
   "display_name": "Python 2",
   "language": "python",
   "name": "python2"
  },
  "language_info": {
   "codemirror_mode": {
    "name": "ipython",
    "version": 2
   },
   "file_extension": ".py",
   "mimetype": "text/x-python",
   "name": "python",
   "nbconvert_exporter": "python",
   "pygments_lexer": "ipython2",
   "version": "2.7.12"
  }
 },
 "nbformat": 4,
 "nbformat_minor": 2
}
