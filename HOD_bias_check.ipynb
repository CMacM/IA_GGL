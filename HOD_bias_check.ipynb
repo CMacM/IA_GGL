{
 "cells": [
  {
   "cell_type": "markdown",
   "metadata": {},
   "source": [
    "Check the large scale galaxy bias as implied by the HOD models we use for each source and lens sample."
   ]
  },
  {
   "cell_type": "code",
   "execution_count": 1,
   "metadata": {},
   "outputs": [
    {
     "name": "stderr",
     "output_type": "stream",
     "text": [
      "/usr/local/lib/python2.7/dist-packages/halotools/sim_manager/halo_table_cache.py:12: UserWarning: Some of the functionality of the HaloTableCache classrequires h5py to be installed.\n",
      "  warn(\"Some of the functionality of the HaloTableCache class\"\n",
      "/usr/local/lib/python2.7/dist-packages/halotools/sim_manager/user_supplied_ptcl_catalog.py:13: UserWarning: Most of the functionality of the sim_manager sub-package requires h5py to be installed,\n",
      "which can be accomplished either with pip or conda\n",
      "  warn(\"Most of the functionality of the sim_manager \"\n",
      "/usr/local/lib/python2.7/dist-packages/halotools/sim_manager/download_manager.py:39: UserWarning: Some of the functionality of the DownloadManager requires h5py to be installed,\n",
      "which can be accomplished either with pip or conda\n",
      "  warn(\"Some of the functionality of the DownloadManager requires h5py to be installed,\\n\"\n",
      "/usr/local/lib/python2.7/dist-packages/halotools/sim_manager/cached_halo_catalog.py:15: UserWarning: Most of the functionality of the sim_manager sub-package requires h5py to be installed,\n",
      "which can be accomplished either with pip or conda. \n",
      "  warn(\"Most of the functionality of the \"\n"
     ]
    }
   ],
   "source": [
    "# Import modules\n",
    "% matplotlib inline\n",
    "import numpy as np; import scipy.integrate; import scipy.interpolate; import matplotlib.pyplot as plt\n",
    "import pyccl as ccl; import shared_functions_wlp_wls as shared; import shared_functions_setup as setup\n",
    "from halotools.empirical_models import PrebuiltHodModelFactory"
   ]
  },
  {
   "cell_type": "code",
   "execution_count": 14,
   "metadata": {
    "collapsed": true
   },
   "outputs": [],
   "source": [
    "# Set the survey\n",
    "survey = 'SDSS'\n",
    "if (survey == 'SDSS'):\n",
    "    import params as pa\n",
    "elif (survey == 'LSST_DESI'):\n",
    "    import params_LSST_DESI as pa\n",
    "    \n",
    "# Also set whether we are looking at lenses or sources\n",
    "gals = 'src'"
   ]
  },
  {
   "cell_type": "code",
   "execution_count": 15,
   "metadata": {
    "collapsed": true
   },
   "outputs": [],
   "source": [
    "#Initialize the cosmology\n",
    "p = ccl.Parameters(Omega_c = pa.OmC, Omega_b = pa.OmB, h = (pa.HH0/100.), A_s = pa.A_s, n_s=pa.n_s_cosmo)\n",
    "cosmo = ccl.Cosmology(p)\n",
    "\n",
    "rho_crit = 3. * 10**10 * pa.mperMpc / (8. * np.pi * pa.Gnewt * pa.Msun)  # Msol h^2 / Mpc^3, for use with M in Msol / h (comoving distances)\n",
    "rho_m = pa.OmM * rho_crit # units of Msol h^2 / Mpc^3 (comoving distances)"
   ]
  },
  {
   "cell_type": "code",
   "execution_count": 16,
   "metadata": {},
   "outputs": [],
   "source": [
    "# Get the appropriate redshift distribution\n",
    "if (gals=='lens'):\n",
    "    z = np.linspace(pa.zLmin, pa.zLmax, 100)\n",
    "    dNdz = setup.get_dNdzL(z, survey)\n",
    "if (gals =='src'):\n",
    "    z, dNdz_unnormed = setup.get_NofZ_unnormed(pa.dNdzpar_fid, pa.dNdztype, pa.zsmin, pa.zsmax, 500, survey)\n",
    "    norm = scipy.integrate.simps(dNdz_unnormed, z)\n",
    "    dNdz = dNdz_unnormed / norm\n",
    "\n",
    "# Get the halo mass function and halo bias\n",
    "Mhvec = np.logspace(5.9,16.5,30) # In units Msol / h\n",
    "HMF = np.zeros((len(Mhvec), len(z)))\n",
    "bh = np.zeros((len(Mhvec), len(z)))\n",
    "for zi in range(0,len(z)):\n",
    "    HMF[:,zi] = ccl.massfunction.massfunc(cosmo, Mhvec / (pa.HH0/100.), 1./ (1. + z[zi]), odelta=200.) / (pa.HH0/ 100.)**3\n",
    "    bh[:,zi] = ccl.massfunction.halo_bias(cosmo, Mhvec / (pa.HH0/100.), 1./(1.+z[zi]), odelta=200.)\n",
    "  \n",
    "# Check normalization of halo bias\n",
    "#norm = np.zeros(len(z))\n",
    "#for zi in range(0,len(z)):\n",
    "#    norm[zi]= scipy.integrate.simps(HMF[:, zi] * Mhvec / rho_m * bh[:, zi], np.log10(Mhvec / (pa.HH0 / 100.))) "
   ]
  },
  {
   "cell_type": "code",
   "execution_count": 10,
   "metadata": {},
   "outputs": [],
   "source": [
    "# Get y(k,M) (the fourier transformed profile)\n",
    "logkmin = -6; kpts =40000; logkmax = 5; \n",
    "kvec_FT = np.logspace(logkmin, logkmax, kpts)\n",
    "# Actually we will use a downsampled version of this:\n",
    "k = np.logspace(np.log10(kvec_FT[0]), np.log10(kvec_FT[-1]), 40)\n",
    "y = shared.gety(Mhvec, k, survey)\n"
   ]
  },
  {
   "cell_type": "code",
   "execution_count": 17,
   "metadata": {},
   "outputs": [
    {
     "data": {
      "image/png": "[encoded data removed]",
      "text/plain": [
       "<matplotlib.figure.Figure at 0x7f5f07701f90>"
      ]
     },
     "metadata": {},
     "output_type": "display_data"
    },
    {
     "name": "stdout",
     "output_type": "stream",
     "text": [
      "[  6.43887579e-01   6.43887579e-01   6.43887579e-01   6.43887579e-01\n",
      "   6.43887579e-01   6.43887579e-01   6.43887578e-01   6.43887572e-01\n",
      "   6.43887555e-01   6.43887502e-01   6.43887406e-01   6.43887312e-01\n",
      "   6.43887087e-01   6.43886288e-01   6.43883431e-01   6.43872918e-01\n",
      "   6.43834371e-01   6.43693165e-01   6.43176282e-01   6.41290924e-01\n",
      "   6.34501100e-01   6.11134239e-01   5.41919448e-01   4.03505443e-01\n",
      "   2.51572442e-01   1.42384982e-01   7.70523219e-02   4.10935433e-02\n",
      "   2.19220924e-02   1.14694567e-02   5.73813280e-03   2.64316169e-03\n",
      "   1.04849139e-03   3.49442171e-04   1.02523356e-04   2.44235422e-05\n",
      "   4.52786570e-06   6.40882756e-07   6.99769100e-08   6.25618718e-09]\n"
     ]
    }
   ],
   "source": [
    "# Get the linear matter power spectrum from CCL to multiply through\n",
    "Pklin = np.zeros((len(k), len(z)))\n",
    "for zi in range(0,len(z)):\n",
    "    Pklin[:, zi] = ccl.power.linear_matter_power(cosmo, k, 1. / (1. + z[zi]))\n",
    "\n",
    "# We now have all the ingredients we require to get the 2-halo matter power spectrum \n",
    "# We don't use this, I'm just checking we get something reasonable at this intermediate step\n",
    "\n",
    "twoh_fact = np.zeros((len(k), len(z)))\n",
    "for ki in range(0,len(k)):\n",
    "    for zi in range(0,len(z)):\n",
    "        twoh_fact[ki, zi] = scipy.integrate.simps( Mhvec / rho_m * HMF[:,zi] * bh[:, zi] * y[ki, :], np.log10(Mhvec / (pa.HH0 / 100.)))    \n",
    "\n",
    "Pk_2h = Pklin * (twoh_fact)**2\n",
    "\n",
    "# Integrate over z\n",
    "Pk_2h_avgz = np.zeros(len(k))\n",
    "Pklin_avgz = np.zeros(len(k))\n",
    "for ki in range(0,len(k)):\n",
    "    Pk_2h_avgz[ki] = scipy.integrate.simps(dNdz * Pk_2h[ki,:], z)\n",
    "    Pklin_avgz[ki] = scipy.integrate.simps(dNdz * Pklin[ki,:], z)\n",
    "\n",
    "plt.figure()\n",
    "plt.loglog(k, k**3 * Pk_2h_avgz / 2. / np.pi**2, 'b')\n",
    "plt.hold(True)\n",
    "plt.loglog(k, k**3 * Pklin_avgz  / 2. / np.pi**2, 'm')\n",
    "plt.xlim(0.05,30)\n",
    "plt.ylim(0.01, 100)\n",
    "plt.show()\n",
    "\n",
    "# This isn't exactly 1 at large scales because we aren't integrating down to all the masses where halos exist.\n",
    "# This shouldn't matter in the end for galaxy bias because those mass halos won't host galaxies.\n",
    "# When we get the galaxy bias we will compare to halofit ie the same as Pklin_avgz on large scales.\n",
    "print Pk_2h_avgz / Pklin_avgz\n"
   ]
  },
  {
   "cell_type": "code",
   "execution_count": 18,
   "metadata": {},
   "outputs": [
    {
     "name": "stderr",
     "output_type": "stream",
     "text": [
      "/usr/local/lib/python2.7/dist-packages/halotools/empirical_models/factories/prebuilt_model_factory.py:258: UserWarning: This particular model is still being tested in collaboration with Ying Zu.\n",
      "If you need to use this prebuilt model for science, \n",
      "you will either need to test it yourself \n",
      "or wait for the Halotools developers to finish science verification.\n",
      "\n",
      "  warn(under_development_warning.format(\"Ying Zu\"))\n"
     ]
    }
   ],
   "source": [
    "# Now, we want to convert this to a 2-halo galaxy power spectrum using the various HOD's we use.\n",
    "\n",
    "if (gals=='src'):\n",
    "    # We need Mstarlow for the Zu & Mandelbaum halo model\n",
    "    #tot_nsrc = shared.vol_dens(pa.fsky, pa.N_shapes, survey)\n",
    "    #Mstarlow = shared.get_Mstar_low(survey, tot_nsrc)\n",
    "    # Use halotools to get the occupations numbers fo Zu & Mandelbaum 2015. Use this as the sources for both cases.\n",
    "    HOD = PrebuiltHodModelFactory('zu_mandelbaum15')\n",
    "\n",
    "# Get occupation numbers as a function of mass\n",
    "if (survey == 'SDSS'):\n",
    "    if (gals=='lens'):\n",
    "        HOD = PrebuiltHodModelFactory('zheng07', modulate_with_cenocc=True)\n",
    "        HOD.param_dict['alpha'] = pa.alpha_reid\n",
    "        HOD.param_dict['logM1'] = np.log10(pa.M1_reid)\n",
    "        HOD.param_dict['logM0'] = np.log10(pa.Mcut_reid)\n",
    "        HOD.param_dict['logMmin'] = np.log10(pa.Mmin_reid)\n",
    "        HOD.param_dict['sigma_logM'] = pa.sigLogM_reid\n",
    "        Ncen= HOD.mean_occupation_centrals(prim_haloprop = Mhvec/ (pa.HH0/100.))\n",
    "        Nsat = HOD.mean_occupation_satellites(prim_haloprop = Mhvec/ (pa.HH0/100.))\n",
    "        #Ncen = shared.get_Ncen_Reid(Mhvec, survey)  # Reid & Spergel\n",
    "        #Nsat = shared.get_Nsat_Reid(Mhvec, survey)  # Reid & Spergel \n",
    "    elif (gals=='src'):\n",
    "        Ncen= HOD.mean_occupation_centrals(prim_haloprop = Mhvec/ (pa.HH0/100.))\n",
    "        Nsat = HOD.mean_occupation_satellites(prim_haloprop = Mhvec/ (pa.HH0/100.))\n",
    "        #Nsat = shared.get_Nsat(Mhvec, Mstarlow, survey)  \t# Zu & Mandelbaum 2015\n",
    "        #Ncen = shared.get_Ncen(Mhvec, Mstarlow, survey)  \t# Zu & Mandelbaum 2015\n",
    "elif (survey== 'LSST_DESI'):\n",
    "    if (gals =='lens'):\n",
    "        Ncen = shared.get_Ncen(Mhvec, 'nonsense', survey) # CMASS\n",
    "        Nsat = shared.get_Nsat(Mhvec, 'nonsense', survey) # CMASS \n",
    "    elif(galx=='src'):\n",
    "        Ncen= HOD.mean_occupation_centrals(prim_haloprop = Mhvec)\n",
    "        Nsat = HOD.mean_occupation_satellites(prim_haloprop = Mhvec)\n",
    "\n",
    "# Combine to get the total occupation at mass M\n",
    "N_tot= Ncen + Nsat\n",
    "\n",
    "# Integrate over the halo mass function to get total number density (check near literature value)\n",
    "nbar = np.zeros(len(z))\n",
    "for zi in range(0,len(z)):\n",
    "    nbar[zi] = scipy.integrate.simps(HMF[:,zi] * N_tot, np.log10(Mhvec / (pa.HH0/100.)))\n",
    "    #print nbar[zi]"
   ]
  },
  {
   "cell_type": "code",
   "execution_count": 19,
   "metadata": {},
   "outputs": [
    {
     "data": {
      "image/png": "[encoded data removed]",
      "text/plain": [
       "<matplotlib.figure.Figure at 0x7f5f079a9110>"
      ]
     },
     "metadata": {},
     "output_type": "display_data"
    },
    {
     "data": {
      "text/plain": [
       "array([  1.39413604e+00,   1.39413604e+00,   1.39413604e+00,\n",
       "         1.39413604e+00,   1.39413604e+00,   1.39413609e+00,\n",
       "         1.39413627e+00,   1.39413690e+00,   1.39413906e+00,\n",
       "         1.39414499e+00,   1.39415326e+00,   1.39415657e+00,\n",
       "         1.39415739e+00,   1.39415784e+00,   1.39415442e+00,\n",
       "         1.39414472e+00,   1.39410971e+00,   1.39397912e+00,\n",
       "         1.39350255e+00,   1.39176165e+00,   1.38545995e+00,\n",
       "         1.36337161e+00,   1.29378756e+00,   1.12771458e+00,\n",
       "         8.60362127e-01,   5.31163076e-01,   2.57786208e-01,\n",
       "         1.15207141e-01,   4.37958967e-02,   1.43155045e-02,\n",
       "         4.17844391e-03,   1.19261194e-03,   3.27711777e-04,\n",
       "         9.02681187e-05,   2.45735470e-05,   6.74477519e-06,\n",
       "         1.81609721e-06,   5.00066564e-07,   1.37713955e-07,\n",
       "         3.71995821e-08])"
      ]
     },
     "execution_count": 19,
     "metadata": {},
     "output_type": "execute_result"
    }
   ],
   "source": [
    "# Get the galaxy-galaxy 2-halo term\n",
    "\n",
    "twoh_gg = np.zeros((len(k), len(z)))\n",
    "for ki in range(0,len(k)):\n",
    "    for zi in range(0,len(z)):\n",
    "        twoh_gg[ki,zi] = scipy.integrate.simps(HMF[:,zi] * bh[:,zi] * y[ki, :] * N_tot, np.log10(Mhvec/(pa.HH0/100))) / nbar[zi]\n",
    "       \n",
    "P_2h_gg = Pklin* twoh_gg**2\n",
    "\n",
    "# Integrate over z\n",
    "P_2h_gg_avgz = np.zeros(len(k))\n",
    "for ki in range(0,len(k)):\n",
    "    P_2h_gg_avgz[ki] = scipy.integrate.simps(dNdz * P_2h_gg[ki,:], z)\n",
    "\n",
    "plt.figure()\n",
    "plt.loglog(k,P_2h_gg_avgz,  'b')\n",
    "plt.hold(True)\n",
    "plt.loglog(k, Pklin_avgz, 'm')\n",
    "plt.xlim(0.0001,30)\n",
    "plt.ylim(0.01, 10**7)\n",
    "plt.show()\n",
    "\n",
    "np.sqrt(P_2h_gg_avgz / Pklin_avgz)"
   ]
  },
  {
   "cell_type": "code",
   "execution_count": null,
   "metadata": {
    "collapsed": true
   },
   "outputs": [],
   "source": [
    "# Now use this to get the scale-dependent bias"
   ]
  }
 ],
 "metadata": {
  "kernelspec": {
   "display_name": "Python 2",
   "language": "python",
   "name": "python2"
  },
  "language_info": {
   "codemirror_mode": {
    "name": "ipython",
    "version": 2
   },
   "file_extension": ".py",
   "mimetype": "text/x-python",
   "name": "python",
   "nbconvert_exporter": "python",
   "pygments_lexer": "ipython2",
   "version": "2.7.12"
  }
 },
 "nbformat": 4,
 "nbformat_minor": 2
}
