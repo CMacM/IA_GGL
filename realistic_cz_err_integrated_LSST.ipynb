{
 "cells": [
  {
   "cell_type": "markdown",
   "metadata": {},
   "source": [
    "We want to know what is the acceptable level of error on c_z for SDSS and LSST_DESI such that statistical error dominates the error budget."
   ]
  },
  {
   "cell_type": "code",
   "execution_count": 1,
   "metadata": {},
   "outputs": [
    {
     "name": "stdout",
     "output_type": "stream",
     "text": [
      "SURVEY= LSST_DESI\n"
     ]
    },
    {
     "name": "stderr",
     "output_type": "stream",
     "text": [
      "/usr/local/lib/python2.7/dist-packages/halotools/sim_manager/halo_table_cache.py:12: UserWarning: Some of the functionality of the HaloTableCache classrequires h5py to be installed.\n",
      "  warn(\"Some of the functionality of the HaloTableCache class\"\n",
      "/usr/local/lib/python2.7/dist-packages/halotools/sim_manager/user_supplied_ptcl_catalog.py:13: UserWarning: Most of the functionality of the sim_manager sub-package requires h5py to be installed,\n",
      "which can be accomplished either with pip or conda\n",
      "  warn(\"Most of the functionality of the sim_manager \"\n",
      "/usr/local/lib/python2.7/dist-packages/halotools/sim_manager/download_manager.py:39: UserWarning: Some of the functionality of the DownloadManager requires h5py to be installed,\n",
      "which can be accomplished either with pip or conda\n",
      "  warn(\"Some of the functionality of the DownloadManager requires h5py to be installed,\\n\"\n",
      "/usr/local/lib/python2.7/dist-packages/halotools/sim_manager/cached_halo_catalog.py:15: UserWarning: Most of the functionality of the sim_manager sub-package requires h5py to be installed,\n",
      "which can be accomplished either with pip or conda. \n",
      "  warn(\"Most of the functionality of the \"\n"
     ]
    },
    {
     "name": "stdout",
     "output_type": "stream",
     "text": [
      "Loading wgg 1halo term from file.\n",
      "Loading wgg 2halo term from file.\n",
      "Loading wgp 1halo term from file\n",
      "Loading wgp 2halo term from file \n",
      "F values have already been computed for this endfile.\n",
      "SigIA values have already been computed for this endfile.\n",
      "SigEx values have already been computed for this endfile.\n",
      "cz values have already been computed for this endfile.\n",
      "Running, systematic level #1\n",
      "Running, systematic level #2\n",
      "Running, systematic level #3\n",
      "Running, systematic level #4\n",
      "Running, systematic level #5\n",
      "Running, systematic level #6\n",
      "Running, systematic level #7\n",
      "Running, systematic level #8\n",
      "Running, systematic level #9\n",
      "Running, systematic level #10\n",
      "Running, systematic level #11\n",
      "Running, systematic level #12\n",
      "Running, systematic level #13\n",
      "Running, systematic level #14\n",
      "Running, systematic level #15\n",
      "Running, systematic level #16\n",
      "Running, systematic level #17\n",
      "Running, systematic level #18\n",
      "Running, systematic level #19\n",
      "Running, systematic level #20\n",
      "Running, systematic level #21\n",
      "Running, systematic level #22\n",
      "Running, systematic level #23\n",
      "Running, systematic level #24\n",
      "Running, systematic level #25\n",
      "Running, systematic level #26\n",
      "Running, systematic level #27\n",
      "Running, systematic level #28\n",
      "Running, systematic level #29\n",
      "Running, systematic level #30\n"
     ]
    }
   ],
   "source": [
    "%matplotlib inline\n",
    "import numpy as np; import constrain_IA_BlazekMethod as Bl\n",
    "import shared_functions_setup as setup\n",
    "import matplotlib.pyplot as plt"
   ]
  },
  {
   "cell_type": "markdown",
   "metadata": {},
   "source": [
    "$\\Delta \\Sigma = c_z \\widetilde{\\Delta \\Sigma}$. Therefore, ${\\rm Cov}(\\Delta \\Sigma(r_p), \\Delta \\Sigma(r_p^\\prime)= \\frac{\\sigma^2(c_z)}{c_z^2} \\widetilde{\\Delta\\Sigma}(r_p) \\widetilde{\\Delta\\Sigma}(r_p^\\prime) $\n",
    "Let us suppose that we want the fractional integrated (over $r_p$) error on $\\Delta\\Sigma$ due to $c_z$ to make up no more than $x\\%$ of the total integrated error."
   ]
  },
  {
   "cell_type": "code",
   "execution_count": 2,
   "metadata": {
    "collapsed": true
   },
   "outputs": [],
   "source": [
    "x=0.5 # 50 percent"
   ]
  },
  {
   "cell_type": "markdown",
   "metadata": {},
   "source": [
    "We want to know for what values of $\\frac{\\sigma(c_z)}{c_z}$ is it true that $\\frac{N/S_{\\rm sys}}{N/S_{\\rm tot}}\\le x$ where $N/S$ is the integrated inverse signal to noise over $r_p$ scales. Let's assume that the covariance of the 'B' source sample galaxy galaxy lensing is characteristic of a typical lensing measurement we would want to make."
   ]
  },
  {
   "cell_type": "code",
   "execution_count": 3,
   "metadata": {
    "collapsed": true
   },
   "outputs": [],
   "source": [
    "#Get the statistical covariance matrix and statistical only signal to noise\n",
    "SURVEY = 'LSST_DESI'\n",
    "if (SURVEY=='SDSS'):\n",
    "    import params as pa\n",
    "elif (SURVEY=='LSST_DESI'):\n",
    "    import params_LSST_DESI as pa\n",
    "else:\n",
    "    print \"We don't have support for that survey yet; exiting.\"\n",
    "    exit()\n",
    "\n",
    "cov_DS_stat_LSST = np.loadtxt('./txtfiles/covmats/cov_DelSig_zLext_LSST_DESI_sample=B_rpts2000_lpts100000_deltaz=0.1_HOD_fully_updated.txt')"
   ]
  },
  {
   "cell_type": "markdown",
   "metadata": {},
   "source": [
    "Get the theoretical $\\Delta \\Sigma$ from lensing only and then the estimated $\\widetilde{\\Delta \\Sigma}$ from the fiducial values of $c_z^b$."
   ]
  },
  {
   "cell_type": "code",
   "execution_count": 4,
   "metadata": {
    "collapsed": true
   },
   "outputs": [],
   "source": [
    "rp_bins  = setup.setup_rp_bins(pa.rp_min, pa.rp_max, pa.N_bins)\n",
    "rp_cent  = setup.rp_bins_mid(rp_bins)\n",
    "DeltaSig = Bl.get_DeltaSig_theory(rp_bins, rp_cent)\n",
    "(cz_a_fid, cz_b_fid) = np.loadtxt('./txtfiles/cz/cz_afid_bfid_extl_survey=LSST_DESI_deltaz=0.1_HOD_fully_updated.txt', unpack=True)\n",
    "EstDeltaSig = np.asarray(DeltaSig) / cz_b_fid "
   ]
  },
  {
   "cell_type": "markdown",
   "metadata": {},
   "source": [
    "Get the square of the statistical-only signal to noise"
   ]
  },
  {
   "cell_type": "code",
   "execution_count": 5,
   "metadata": {
    "collapsed": true
   },
   "outputs": [],
   "source": [
    "# Statistical only signal-to-noise\n",
    "stat_StoNsq = np.dot(DeltaSig, np.dot(np.linalg.inv(cov_DS_stat_LSST), DeltaSig))"
   ]
  },
  {
   "cell_type": "markdown",
   "metadata": {},
   "source": [
    "Get the covariance matrix due to systematic error on cz for a variety of $\\frac{\\sigma(c_z)}{c_z}$ values. Combine with the statistical covariance matrix to get the total matrix, and from there get the signal to noise due to systematic error on $c_z$ and $\\frac{N/S_{\\rm sys}}{N/S_{\\rm tot}}$ for each value of $\\frac{\\sigma(c_z)}{c_z}$."
   ]
  },
  {
   "cell_type": "code",
   "execution_count": 6,
   "metadata": {
    "collapsed": true
   },
   "outputs": [],
   "source": [
    "frac_err_sys = np.zeros(len(pa.fudge_frac_level))\n",
    "for fi in range(0, len(pa.fudge_frac_level)):\n",
    "    cov_DS_sys_LSST = np.zeros((len(rp_cent), len(rp_cent)))\n",
    "    for rpi in range(0,len(rp_cent)):\n",
    "        for rpj in range(0,len(rp_cent)):\n",
    "            cov_DS_sys_LSST[rpi, rpj] = pa.fudge_frac_level[fi]**2 * DeltaSig[rpi] * DeltaSig[rpj]\n",
    "            \n",
    "            \n",
    "    cov_tot = cov_DS_sys_LSST + cov_DS_stat_LSST\n",
    "    StoN_tot_sq = np.dot(DeltaSig, np.dot(np.linalg.inv(cov_tot), DeltaSig))\n",
    "    NtoS_sys = np.sqrt( StoN_tot_sq**(-1) - stat_StoNsq**(-1))\n",
    "    frac_err_sys[fi] = NtoS_sys / (np.sqrt(StoN_tot_sq)**(-1))"
   ]
  },
  {
   "cell_type": "markdown",
   "metadata": {},
   "source": [
    "Plot this as a function of $\\frac{\\sigma(c_z)}{c_z}$ to see where it crosses $x$. (Points part the turnover at high $\\frac{\\sigma(c_z)}{c_z}$ cannot be trusted due to matrix inversion difficulties."
   ]
  },
  {
   "cell_type": "code",
   "execution_count": 7,
   "metadata": {},
   "outputs": [
    {
     "data": {
      "image/png": "[encoded data removed]",
      "text/plain": [
       "<matplotlib.figure.Figure at 0x7fe1979b2350>"
      ]
     },
     "metadata": {},
     "output_type": "display_data"
    }
   ],
   "source": [
    "plt.figure()\n",
    "plt.loglog(pa.fudge_frac_level, frac_err_sys, 'k', linewidth=3)\n",
    "plt.hold(True)\n",
    "plt.axhline(x, color='g', linestyle='--', linewidth=3)\n",
    "plt.show()"
   ]
  },
  {
   "cell_type": "markdown",
   "metadata": {},
   "source": [
    "For LSST, the maximum level of $\\frac{\\sigma(c_z)}{c_z}$ allowed for systematic error from this source to make up at most 50\\% of the integrated inverse signal to noise of the lensing signal is about 0.002."
   ]
  },
  {
   "cell_type": "markdown",
   "metadata": {
    "collapsed": true
   },
   "source": [
    "Get $\\sigma_{\\rm sysz} / \\sigma_{\\rm stat}$ for each quantity taking this maximum level."
   ]
  },
  {
   "cell_type": "code",
   "execution_count": null,
   "metadata": {
    "collapsed": true
   },
   "outputs": [],
   "source": [
    "# Compute the squared StoN value from the statistical value by running constrain_IA_Blazekmethod.py\n",
    "StoNsq_sys = 6441. \n",
    "#Load  the statistical signal-to-noise * on gammaIA * (different from above)\n",
    "StoNstat_sq = np.loadtxt('./txtfiles/StoN/StoNstat_Blazek_LSST_DESI_deltaz=0.1_rlim=25.3_HODupdate.txt')\n"
   ]
  },
  {
   "cell_type": "code",
   "execution_count": null,
   "metadata": {
    "collapsed": true
   },
   "outputs": [],
   "source": [
    "ratio = np.sqrt(StoNstat_sq  / StoNsq_sys)"
   ]
  },
  {
   "cell_type": "code",
   "execution_count": null,
   "metadata": {},
   "outputs": [],
   "source": [
    "print \"ratio=\", ratio"
   ]
  },
  {
   "cell_type": "code",
   "execution_count": null,
   "metadata": {
    "collapsed": true
   },
   "outputs": [],
   "source": []
  }
 ],
 "metadata": {
  "kernelspec": {
   "display_name": "Python 2",
   "language": "python",
   "name": "python2"
  },
  "language_info": {
   "codemirror_mode": {
    "name": "ipython",
    "version": 2
   },
   "file_extension": ".py",
   "mimetype": "text/x-python",
   "name": "python",
   "nbconvert_exporter": "python",
   "pygments_lexer": "ipython2",
   "version": "2.7.12"
  }
 },
 "nbformat": 4,
 "nbformat_minor": 2
}
