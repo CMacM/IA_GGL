{
 "cells": [
  {
   "cell_type": "code",
   "execution_count": 1,
   "metadata": {
    "collapsed": true
   },
   "outputs": [],
   "source": [
    "import shared_functions_wlp_wls as shared\n",
    "import numpy as np"
   ]
  },
  {
   "cell_type": "code",
   "execution_count": null,
   "metadata": {},
   "outputs": [],
   "source": [
    "SURVEY = 'SDSS'\n",
    "if (SURVEY == 'SDSS'):\n",
    "    import params as pa\n",
    "elif (SURVEY == 'LSST_DESI'):\n",
    "    import params_LSST_DESI as pa\n",
    "else:\n",
    "    print \"We don't have support for that survey yet; exiting.\"\n",
    "    exit()\n",
    "\n",
    "Mlow_star = shared.get_Mstar_low(SURVEY, pa.ng_Bl)\n",
    "\n",
    "Mhavg = shared.get_Mh_avg(Mlow_star, pa.ng_Bl, SURVEY)\n",
    "print \"Mh=\", Mhavg"
   ]
  },
  {
   "cell_type": "code",
   "execution_count": null,
   "metadata": {
    "scrolled": true
   },
   "outputs": [],
   "source": [
    "SURVEY = 'LSST_DESI'\n",
    "if (SURVEY == 'SDSS'):\n",
    "    import params as pa\n",
    "elif (SURVEY == 'LSST_DESI'):\n",
    "    import params_LSST_DESI as pa\n",
    "else:\n",
    "    print \"We don't have support for that survey yet; exiting.\"\n",
    "    exit()\n",
    "\n",
    "Mlow_star = shared.get_Mstar_low(SURVEY, pa.ng_Bl)\n",
    "\n",
    "Mhavg = shared.get_Mh_avg(Mlow_star, pa.ng_Bl, SURVEY)\n",
    "print \"Mh=\", Mhavg"
   ]
  },
  {
   "cell_type": "code",
   "execution_count": null,
   "metadata": {
    "collapsed": true
   },
   "outputs": [],
   "source": []
  }
 ],
 "metadata": {
  "kernelspec": {
   "display_name": "Python 2",
   "language": "python",
   "name": "python2"
  },
  "language_info": {
   "codemirror_mode": {
    "name": "ipython",
    "version": 2
   },
   "file_extension": ".py",
   "mimetype": "text/x-python",
   "name": "python",
   "nbconvert_exporter": "python",
   "pygments_lexer": "ipython2",
   "version": "2.7.12"
  }
 },
 "nbformat": 4,
 "nbformat_minor": 2
}
