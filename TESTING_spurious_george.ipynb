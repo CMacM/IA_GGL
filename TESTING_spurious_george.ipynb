{
 "cells": [
  {
   "cell_type": "markdown",
   "id": "71d159b4-df0e-47ad-af4b-be1909d1dfbc",
   "metadata": {},
   "source": [
    "# Old notebook used to help build some of the functions in spurious_george"
   ]
  },
  {
   "cell_type": "code",
   "execution_count": 1,
   "id": "5be45c33-140b-4fef-a1dc-3376ef7ac7d6",
   "metadata": {},
   "outputs": [],
   "source": [
    "import numpy as np\n",
    "import scipy\n",
    "import scipy.integrate\n",
    "import scipy.interpolate\n",
    "import matplotlib.pyplot as plt\n",
    "import shared_functions_setup as setup\n",
    "import shared_functions_wlp_wls as ws\n",
    "import os.path\n",
    "import pyccl as ccl\n",
    "#import main.py as main"
   ]
  },
  {
   "cell_type": "code",
   "execution_count": 103,
   "id": "b08ce0c7-c0ef-4049-9cc8-7a099697e933",
   "metadata": {},
   "outputs": [
    {
     "data": {
      "text/plain": [
       "'2.2.0'"
      ]
     },
     "execution_count": 103,
     "metadata": {},
     "output_type": "execute_result"
    }
   ],
   "source": [
    "from importlib.metadata import version\n",
    "version('pyccl')"
   ]
  },
  {
   "cell_type": "markdown",
   "id": "82dd76ba-893c-4be5-b6e7-1c71b843d445",
   "metadata": {},
   "source": [
    "- Need to fix some errors in main.py (missing certain files it is calling to, such as boosts txt file)"
   ]
  },
  {
   "cell_type": "markdown",
   "id": "76ad16d4-15d6-4dd0-9cf1-0ab88143b838",
   "metadata": {},
   "source": [
    "#### Set up cosmology and halo model quantities"
   ]
  },
  {
   "cell_type": "code",
   "execution_count": null,
   "id": "ef156c4b-f82b-44d7-9383-2183b9a068b1",
   "metadata": {},
   "outputs": [],
   "source": [
    "# Cosmology\n",
    "cosmo = ccl.Cosmology(Omega_c=0.27, Omega_b=0.045, h=0.67, sigma8=0.83, n_s=0.96)\n",
    "\n",
    "# Wavenumbers and scale factors\n",
    "k_arr = np.geomspace(1E-4,1E1,256)\n",
    "a_arr = np.linspace(0.1,1,32)\n",
    "\n",
    "# We will use a mass definition with Delta = 200 times the matter density\n",
    "hmd_200m = ccl.halos.MassDef200m()\n",
    "\n",
    "# The Duffy 2008 concentration-mass relation\n",
    "cM = ccl.halos.ConcentrationDuffy08(hmd_200m)\n",
    "\n",
    "# The Tinker 2008 mass function\n",
    "nM = ccl.halos.MassFuncTinker08(cosmo, mass_def=hmd_200m)\n",
    "\n",
    "# The Tinker 2010 halo bias\n",
    "bM = ccl.halos.HaloBiasTinker10(cosmo, mass_def=hmd_200m)\n",
    "\n",
    "# The NFW profile to characterize the matter density around halos\n",
    "pM = ccl.halos.profiles.HaloProfileNFW(cM)"
   ]
  },
  {
   "cell_type": "markdown",
   "id": "f25fbd9e-1cf0-459e-8756-97765d1cf7be",
   "metadata": {},
   "source": [
    "#### Create new HOD class using NCen and NSat from Leonard2018 forecasting\n",
    "- Need to double check with Danielle what is done here is correct!"
   ]
  },
  {
   "cell_type": "code",
   "execution_count": null,
   "id": "14b82aa3-9317-45a4-b736-2f2d93bd869e",
   "metadata": {},
   "outputs": [],
   "source": [
    "class HaloProfileHOD(ccl.halos.HaloProfileNFW):\n",
    "    def __init__(self, c_M_relation,\n",
    "                 lMmin=12.02, lMminp=-1.34,\n",
    "                 lM0=6.6, lM0p=-1.43,\n",
    "                 lM1=13.27, lM1p=-0.323):\n",
    "        self.lMmin=lMmin\n",
    "        self.lMminp=lMminp\n",
    "        self.lM0=lM0\n",
    "        self.lM0p=lM0p\n",
    "        self.lM1=lM1\n",
    "        self.lM1p=lM1p\n",
    "        self.a0 = 1./(1+0.65)\n",
    "        self.sigmaLogM = 0.4\n",
    "        self.alpha = 1.\n",
    "        super(HaloProfileHOD, self).__init__(c_M_relation)\n",
    "        self._fourier = self._fourier_analytic_hod\n",
    "    \n",
    "    def _Nc(self, M, a):\n",
    "        # Number of centrals\n",
    "\n",
    "        return ws.get_Ncen_More(M, 'LSST_DESI')\n",
    "    \n",
    "    def _Ns(self, M, a):\n",
    "        # Number of satellites\n",
    "\n",
    "        return ws.get_Nsat_More(M, 'LSST_DESI')\n",
    "\n",
    "    def _lMmin(self, a):\n",
    "        return self.lMmin + self.lMminp * (a - self.a0)\n",
    "\n",
    "    def _lM0(self, a):\n",
    "        return self.lM0 + self.lM0p * (a - self.a0)\n",
    "\n",
    "    def _lM1(self, a):\n",
    "        return self.lM1 + self.lM1p * (a - self.a0)\n",
    "\n",
    "    def _fourier_analytic_hod(self, cosmo, k, M, a, mass_def):\n",
    "        M_use = np.atleast_1d(M)\n",
    "        k_use = np.atleast_1d(k)\n",
    "        \n",
    "        Nc = self._Nc(M_use, a)\n",
    "        Ns = self._Ns(M_use, a)\n",
    "        \n",
    "        # NFW profile\n",
    "        uk = self._fourier_analytic(cosmo, k_use, M_use, a, mass_def) / M_use[:, None]\n",
    "\n",
    "        prof = Nc[:, None] * (1 + Ns[:, None] * uk)\n",
    "\n",
    "        if np.ndim(k) == 0:\n",
    "            prof = np.squeeze(prof, axis=-1)\n",
    "        if np.ndim(M) == 0:\n",
    "            prof = np.squeeze(prof, axis=0)\n",
    "        return prof\n",
    "\n",
    "    def _fourier_variance(self, cosmo, k, M, a, mass_def):\n",
    "        # Fourier-space variance of the HOD profile\n",
    "        M_use = np.atleast_1d(M)\n",
    "        k_use = np.atleast_1d(k)\n",
    "\n",
    "        Nc = self._Nc(M_use, a)\n",
    "        Ns = self._Ns(M_use, a)\n",
    "        \n",
    "        # NFW profile\n",
    "        uk = self._fourier_analytic(cosmo, k_use, M_use, a, mass_def) / M_use[:, None]\n",
    "\n",
    "        prof = Ns[:, None] * uk\n",
    "        prof = Nc[:, None] * (2 * prof + prof**2)\n",
    "\n",
    "        if np.ndim(k) == 0:\n",
    "            prof = np.squeeze(prof, axis=-1)\n",
    "        if np.ndim(M) == 0:\n",
    "            prof = np.squeeze(prof, axis=0)\n",
    "        return prof\n",
    "\n",
    "# this is the galaxy power spectrum calculated from the custom HOD????\n",
    "pg = HaloProfileHOD(cM)"
   ]
  },
  {
   "cell_type": "code",
   "execution_count": null,
   "id": "b02c38d5-2aae-4700-8fa9-df01bd2bc82f",
   "metadata": {},
   "outputs": [],
   "source": [
    "# Halo model calculator\n",
    "hmc = ccl.halos.HMCalculator(cosmo, nM, bM, hmd_200m)"
   ]
  },
  {
   "cell_type": "markdown",
   "id": "29e942af-5622-4a7a-a368-ff29a7366a01",
   "metadata": {},
   "source": [
    "### Use new HOD to compute Galaxy-Galaxy power specturm \n",
    "- Only 1 term included? Check in meeting"
   ]
  },
  {
   "cell_type": "code",
   "execution_count": null,
   "id": "5ad24f79-f0e5-4db1-af7e-7ad6f207e814",
   "metadata": {},
   "outputs": [],
   "source": [
    "class Profile2ptHOD(ccl.halos.Profile2pt):\n",
    "    def fourier_2pt(self, prof, cosmo, k, M, a,\n",
    "                      prof2=None, mass_def=None):\n",
    "        return prof._fourier_variance(cosmo, k, M ,a, mass_def)\n",
    "HOD2pt = Profile2ptHOD()\n",
    "\n",
    "# I think this includes 1 and 2 halo terms?    \n",
    "pk_gg = ccl.halos.halomod_power_spectrum(cosmo, hmc, k_arr, 1.,\n",
    "                                         pg, prof_2pt=HOD2pt,\n",
    "                                         normprof1=True)"
   ]
  },
  {
   "cell_type": "code",
   "execution_count": null,
   "id": "93a37f45-92d6-4f16-9e5c-9d0e608a9b21",
   "metadata": {},
   "outputs": [],
   "source": [
    "plt.figure(figsize=([8,5]))\n",
    "plt.plot(k_arr, pk_gg, label='$P_{gg}(k)$')\n",
    "plt.xscale('log')\n",
    "plt.yscale('log')\n",
    "plt.legend(fontsize=16)\n",
    "plt.ylabel(r'$P(k)\\,\\,[{\\rm Mpc}^3]$', fontsize=15)\n",
    "plt.xlabel(r'$k\\,\\,[{\\rm Mpc}^{-1}]$', fontsize=15);"
   ]
  },
  {
   "cell_type": "markdown",
   "id": "9908beff-9bd8-424b-b87c-cd1fd0c53bfc",
   "metadata": {},
   "source": [
    "### Create theoretical redshift distributions for lenses\n",
    "- Convolve dn/dz with photo-z requirements from LSST SRD"
   ]
  },
  {
   "cell_type": "code",
   "execution_count": null,
   "id": "3b698d6c-8359-4970-946b-5a1ece5a508a",
   "metadata": {},
   "outputs": [],
   "source": [
    "import customHOD as HOD"
   ]
  },
  {
   "cell_type": "code",
   "execution_count": null,
   "id": "e213d6d4-dac0-4d11-be52-3b0fc544b6dd",
   "metadata": {},
   "outputs": [],
   "source": [
    "pk_gg = HOD.get_GG_power()"
   ]
  },
  {
   "cell_type": "code",
   "execution_count": null,
   "id": "b2b1628d-8ed3-40a3-b22e-66bd8f972118",
   "metadata": {},
   "outputs": [],
   "source": [
    "# this is a makeshift distribution maker based on the SRD \n",
    "# document for testing purposes\n",
    "\n",
    "def get_LSST_dNdz(mode, year, z_arr):\n",
    "    if year == 1 and mode == 'lens':\n",
    "        z_0 = 0.26\n",
    "        alpha = 0.94\n",
    "        dNdz = z_arr**2 * np.exp(-(z_arr/z_0)**alpha)\n",
    "    elif year == 10 and mode == 'lens':\n",
    "        z_0 = 0.28\n",
    "        alpha = 0.90\n",
    "        dNdz = z_arr**2. * np.exp(-(z_arr/z_0)**alpha)\n",
    "    elif year == 1 and mode == 'source':\n",
    "        z_0 = 0.13\n",
    "        alpha = 0.78\n",
    "        dNdz = z_arr**2. * np.exp(-(z_arr/z_0)**alpha)\n",
    "    elif year == 10 and mode == 'source':\n",
    "        z_0 = 0.11\n",
    "        alpha = 0.68\n",
    "        dNdz = z_arr**2. * np.exp(-(z_arr/z_0)**alpha)\n",
    "    else:\n",
    "        print('Not an LSST release year')\n",
    "        dNdz = 0.\n",
    "        \n",
    "    return dNdz"
   ]
  },
  {
   "cell_type": "code",
   "execution_count": null,
   "id": "5f513193-6467-4577-a4bc-42512600108f",
   "metadata": {},
   "outputs": [],
   "source": [
    "lens_z_arr = np.linspace(0.2, 1.2, 256)\n",
    "source_z_arr = np.linspace(0.2, 3.0, 256)\n",
    "\n",
    "Y1lens_dNdz = get_LSST_dNdz(mode='lens', year=1, z_arr=lens_z_arr)\n",
    "Y1source_dNdz = get_LSST_dNdz(mode='source', year=1, z_arr=source_z_arr)\n",
    "\n",
    "lensTracer = ccl.NumberCountsTracer(cosmo, has_rsd=False, dndz=(z_arr, Y1lens_dNdz), \n",
    "                                    bias=(lens_z_arr, np.ones(len(lens_z_arr))))\n",
    "matterTracer = ccl.WeakLensingTracer(cosmo, (source_z_arr, Y1source_dNdz))"
   ]
  },
  {
   "cell_type": "code",
   "execution_count": null,
   "id": "69bdb3e2-6201-4e6f-b72b-ecb3b76f8bdd",
   "metadata": {},
   "outputs": [],
   "source": [
    "# create 2D power spectrum objects for galaxy-shear correlation\n",
    "\n",
    "pk_gMf = ccl.halos.halomod_Pk2D(cosmo, hmc, pg, prof2=pM, \n",
    "                                normprof1=True, normprof2=True, \n",
    "                                lk_arr=np.log(k_arr), a_arr=a_arr)"
   ]
  },
  {
   "cell_type": "code",
   "execution_count": null,
   "id": "62101da6-313d-40a2-9063-52d70b03ccc5",
   "metadata": {},
   "outputs": [],
   "source": [
    "ell = np.arange(2,2000)\n",
    "\n",
    "y1_aps = ccl.angular_cl(cosmo, lensTracer, matterTracer, ell)"
   ]
  },
  {
   "cell_type": "code",
   "execution_count": null,
   "id": "ac210684-73ca-4ee7-8512-21bd658e42ff",
   "metadata": {},
   "outputs": [],
   "source": [
    "plt.figure(figsize=[6,5])\n",
    "plt.plot(ell, y1_aps)\n",
    "plt.xscale('log')\n",
    "plt.yscale('log')\n",
    "plt.ylabel(r'$C_{l}$', fontsize=14)\n",
    "plt.xlabel(r'$\\ell$', fontsize=14);"
   ]
  },
  {
   "cell_type": "markdown",
   "id": "9f002cce-8073-44e6-a9c3-6e2a06d9393e",
   "metadata": {},
   "source": [
    "# Scripting and Streamlining HOD and gammaT calculation"
   ]
  },
  {
   "cell_type": "markdown",
   "id": "24a60a0f-51df-49d5-963a-52bd5b691097",
   "metadata": {},
   "source": [
    "### Explanation of LSST forecast data: https://github.com/CosmoLike/DESC_SRD"
   ]
  },
  {
   "cell_type": "code",
   "execution_count": 1,
   "id": "9d8459e9-9b95-45e3-88a5-43f64b083eda",
   "metadata": {},
   "outputs": [
    {
     "name": "stdin",
     "output_type": "stream",
     "text": [
      "halo_model: Initialised with Omega_c=0.265036, Omega_b=0.0491168, h=0.6726, sigma8=0.84, n_s=0.9652. Modify cosmology? Input y or n. n\n",
      "spurious george: Define poolsize to be used for parallelised functions 30\n"
     ]
    }
   ],
   "source": [
    "import spurious_george\n",
    "import numpy as np\n",
    "import scipy.integrate \n",
    "import matplotlib.pyplot as plt"
   ]
  },
  {
   "cell_type": "code",
   "execution_count": 1,
   "id": "1ada0e15-4cbb-4c96-9c69-b1871fdc6bb2",
   "metadata": {},
   "outputs": [
    {
     "name": "stdin",
     "output_type": "stream",
     "text": [
      "halo_model: Initialised with Omega_c=0.265036, Omega_b=0.0491168, h=0.6726, sigma8=0.84, n_s=0.9652. Modify cosmology? Input y or n. n\n"
     ]
    },
    {
     "ename": "NameError",
     "evalue": "name 'np' is not defined",
     "output_type": "error",
     "traceback": [
      "\u001b[0;31m---------------------------------------------------------------------------\u001b[0m",
      "\u001b[0;31mNameError\u001b[0m                                 Traceback (most recent call last)",
      "\u001b[0;32m<ipython-input-1-721ab39f0a68>\u001b[0m in \u001b[0;36m<module>\u001b[0;34m\u001b[0m\n\u001b[1;32m      1\u001b[0m \u001b[0;32mimport\u001b[0m \u001b[0mhalo_model\u001b[0m \u001b[0;32mas\u001b[0m \u001b[0mhalo\u001b[0m\u001b[0;34m\u001b[0m\u001b[0;34m\u001b[0m\u001b[0m\n\u001b[1;32m      2\u001b[0m \u001b[0;31m# define wavenumbers\u001b[0m\u001b[0;34m\u001b[0m\u001b[0;34m\u001b[0m\u001b[0;34m\u001b[0m\u001b[0m\n\u001b[0;32m----> 3\u001b[0;31m \u001b[0mk_arr\u001b[0m \u001b[0;34m=\u001b[0m \u001b[0mnp\u001b[0m\u001b[0;34m.\u001b[0m\u001b[0mgeomspace\u001b[0m\u001b[0;34m(\u001b[0m\u001b[0;36m1E-4\u001b[0m\u001b[0;34m,\u001b[0m\u001b[0;36m1E1\u001b[0m\u001b[0;34m,\u001b[0m\u001b[0;36m256\u001b[0m\u001b[0;34m)\u001b[0m\u001b[0;34m\u001b[0m\u001b[0;34m\u001b[0m\u001b[0m\n\u001b[0m\u001b[1;32m      4\u001b[0m \u001b[0;34m\u001b[0m\u001b[0m\n\u001b[1;32m      5\u001b[0m \u001b[0;31m# calculate galaxy-galaxy power spectrum\u001b[0m\u001b[0;34m\u001b[0m\u001b[0;34m\u001b[0m\u001b[0;34m\u001b[0m\u001b[0m\n",
      "\u001b[0;31mNameError\u001b[0m: name 'np' is not defined"
     ]
    }
   ],
   "source": [
    "import halo_model as halo\n",
    "# define wavenumbers\n",
    "k_arr = np.geomspace(1E-4,1E1,256)\n",
    "\n",
    "# calculate galaxy-galaxy power spectrum\n",
    "pk_gM = halo.get_1D_power('gm', k_arr, plot_fig='y')"
   ]
  },
  {
   "cell_type": "code",
   "execution_count": 5,
   "id": "89d220a6-cfbd-4d3e-b1d4-e74f0248dc4c",
   "metadata": {},
   "outputs": [
    {
     "name": "stdout",
     "output_type": "stream",
     "text": [
      "0.999989084779232\n"
     ]
    }
   ],
   "source": [
    "z_s, dNdz_s, zseff = spurious_george.get_dndz_spec(gtype='source', year=1)\n",
    "\n",
    "norm = scipy.integrate.simps(dNdz_s, z_s)\n",
    "print(norm)\n",
    "\n",
    "norm_dNdz_s = dNdz_s / norm\n",
    "\n",
    "#print(norm_dNdz_s)"
   ]
  },
  {
   "cell_type": "code",
   "execution_count": 2,
   "id": "ac918796-cac3-41e1-96da-774aad4d5a06",
   "metadata": {
    "tags": []
   },
   "outputs": [
    {
     "data": {
      "image/png": "[encoded data removed]",
      "text/plain": [
       "<Figure size 432x360 with 1 Axes>"
      ]
     },
     "metadata": {
      "needs_background": "light"
     },
     "output_type": "display_data"
    },
    {
     "data": {
      "image/png": "[encoded data removed]",
      "text/plain": [
       "<Figure size 432x360 with 1 Axes>"
      ]
     },
     "metadata": {
      "needs_background": "light"
     },
     "output_type": "display_data"
    }
   ],
   "source": [
    "Sz_ph, SdNdz_ph, Sp_zs_zph = spurious_george.get_dndz_phot(gtype='source', year=1, plot_fig='y')\n",
    "\n",
    "Lz_ph, LdNdz_ph, Lp_zs_zph = spurious_george.get_dndz_phot(gtype='lens', year=1, plot_fig='y')"
   ]
  },
  {
   "cell_type": "code",
   "execution_count": 3,
   "id": "18cdfa75-0152-423f-8e01-09b087db3c52",
   "metadata": {},
   "outputs": [
    {
     "name": "stdout",
     "output_type": "stream",
     "text": [
      "0.9999999999999999\n"
     ]
    }
   ],
   "source": [
    "print(scipy.integrate.simps(LdNdz_ph, Lz_ph))"
   ]
  },
  {
   "cell_type": "markdown",
   "id": "9ea53be3-c719-4a14-be37-c088188c5c5e",
   "metadata": {},
   "source": [
    " - Currently there is massive overlap of the lens and source samples. Need place upper and lower cuts and bin accordingly"
   ]
  },
  {
   "cell_type": "markdown",
   "id": "78993aa0-4f77-4a4d-a7ef-446884609907",
   "metadata": {},
   "source": [
    "### Estimating F\n",
    "- Value of 0.02238294230501916 seems reasonable (DES Y1 was 0.07)\n",
    "- Check integration points for num_integrand1 are correct (dz_s between z+ and z-)\n",
    "- for r_p<2 Mpc, the projection length is defined to be 2 Mpc For larger r_p, projection length is r_p."
   ]
  },
  {
   "cell_type": "markdown",
   "id": "8d96def3-e2c0-4c24-b097-240a2149a819",
   "metadata": {},
   "source": [
    "- New code to estimate F(theta)"
   ]
  },
  {
   "cell_type": "markdown",
   "id": "8744692b-be8c-4322-b357-1f7388089c5c",
   "metadata": {},
   "source": [
    "### Start by getting xi_ls\n",
    "- We actually want everything in terms of theta"
   ]
  },
  {
   "cell_type": "code",
   "execution_count": 7,
   "id": "1b051030-f152-42f1-8cd8-1a52bff4021c",
   "metadata": {
    "tags": []
   },
   "outputs": [
    {
     "name": "stdin",
     "output_type": "stream",
     "text": [
      "macplotlib: Please define poolsize to be used for parallelised functions 30\n"
     ]
    },
    {
     "name": "stdout",
     "output_type": "stream",
     "text": [
      "poolsize set to 30\n"
     ]
    }
   ],
   "source": [
    "import pyccl as ccl\n",
    "import time \n",
    "import numpy as np\n",
    "import spurious_george \n",
    "import scipy \n",
    "import matplotlib.pyplot as plt\n",
    "import shared_functions_setup as setup\n",
    "\n",
    "from __future__ import print_function\n",
    "from ipywidgets import interact, interactive, fixed, interact_manual\n",
    "import ipywidgets as widgets\n",
    "from IPython.display import Image\n",
    "\n",
    "from mpl_toolkits.mplot3d import Axes3D\n",
    "from mpl_toolkits import mplot3d\n",
    "\n",
    "from IPython.display import clear_output\n",
    "\n",
    "import macplotlib as macplot"
   ]
  },
  {
   "cell_type": "code",
   "execution_count": 8,
   "id": "7cea999d-fe07-49dc-bdf3-967e84f16737",
   "metadata": {
    "tags": []
   },
   "outputs": [],
   "source": [
    "# set up different distance measures needed and weights\n",
    "weights = spurious_george.get_weights()\n",
    "year = 1\n",
    "\n",
    "# get spec-z for sources and lenses\n",
    "z_s, dNdz_s, zseff = spurious_george.get_dndz_spec(gtype='source', year=year)\n",
    "z_l, dNdz_l, zleff = spurious_george.get_dndz_spec(gtype='lens', year=year)\n",
    "\n",
    "# get photometric redshift distribution\n",
    "z_ph, dNdz_ph, p_zs_zph = spurious_george.get_dndz_phot(gtype='source', year=year)\n",
    "\n",
    "# convert redshifts for lenses and sources to scale factors\n",
    "La_arr = 1. / (1. + z_l)\n",
    "Sa_arr = 1. / (1. + z_s)\n",
    "\n",
    "# comoving radial distance from observer to sources and lenses\n",
    "chi_lens = ccl.comoving_radial_distance(spurious_george.halo.cosmo, La_arr) * (spurious_george.pa.HH0 / 100.)\n",
    "chi_source = ccl.comoving_radial_distance(spurious_george.halo.cosmo, Sa_arr) * (spurious_george.pa.HH0 / 100.)\n",
    "\n",
    "# need to flip array so highest z comes first for iteration routine below and because ccl wants scale factors backwards, 1 -> 0\n",
    "chi_flipped = np.flip(chi_lens)\n",
    "\n",
    "# L.o.S pair separation array\n",
    "minPiPos = 10**(-3) \n",
    "max_int = 200. # We integrate the numerator out to 200 Mpc/h away from the lenses because the correlation is zero outside of this.\n",
    "maxPiPos = max_int\n",
    "Pi_pos = np.logspace(np.log10(minPiPos), np.log10(maxPiPos), 1000)\n",
    "\n",
    "# Pi can be positive or negative, so now flip this and include the negative values, but only down to z=0\n",
    "# And avoid including multiple of the same values - this messes up some integration routines.\n",
    "Pi = [0]*len(z_l)\n",
    "try:\n",
    "    for zi in range(len(z_l)):\n",
    "        Pi_pos_vec= list(Pi_pos)[1:]\n",
    "        Pi_pos_vec.reverse()\n",
    "        index_cut = next(j[0] for j in enumerate(Pi_pos_vec) if j[1]<=(chi_flipped[zi]-np.min(chi_source)))\n",
    "        Pi[zi] = np.append(-np.asarray(Pi_pos_vec[index_cut:]), np.append([0],Pi_pos))  \n",
    "except StopIteration:\n",
    "    Pi[-1] = Pi_pos\n"
   ]
  },
  {
   "cell_type": "code",
   "execution_count": 6,
   "id": "cb9b74ab-9621-485e-8650-5563fd7b467c",
   "metadata": {
    "tags": []
   },
   "outputs": [
    {
     "name": "stdout",
     "output_type": "stream",
     "text": [
      "3.5891633008301844 358.9163300830184\n",
      "3.589163161521948 411.3659344188119\n"
     ]
    }
   ],
   "source": [
    "# define theta vector to convert to r_p and use in final plot\n",
    "theta = np.logspace(np.log10(2.5), np.log10(250), 10)\n",
    "\n",
    "rpmin = setup.arcmin_to_rp(theta[0], zleff, spurious_george.halo.cosmo)\n",
    "rpmax = setup.arcmin_to_rp(theta[-1], zleff, spurious_george.halo.cosmo)\n",
    "print(rpmin, rpmax)\n",
    "\n",
    "# set some arbitrary projected separations, r_p, for final xi_ls, requires rp < r\n",
    "r_p = np.logspace(np.log10(rpmin), np.log10(rpmax), 10)\n",
    "\n",
    "rmax = np.sqrt(rpmax**2 + (maxPiPos+1)**2)\n",
    "rmin = np.sqrt(rpmin**2 - minPiPos**2)\n",
    "print(rmin, rmax)\n",
    "\n",
    "# set some arbitrary 3D separations r to compute xi_gg\n",
    "r = np.logspace(np.log10(rmin), np.log10(rmax), 1000)\n",
    "\n",
    "# wavenumbers and scale factors for all-space power spectrum\n",
    "k_arr = np.geomspace(1E-4,5E2,3000)\n",
    "\n",
    "# must flip array because ccl wants scale factors ascending (z_0 == a_1)\n",
    "pk_gg2D = spurious_george.halo.get_Pk2D('gg', k_arr=k_arr, a_arr=np.flip(La_arr))"
   ]
  },
  {
   "cell_type": "code",
   "execution_count": 7,
   "id": "ca5cca33-d299-4493-933b-e581fd6e2f2a",
   "metadata": {
    "tags": []
   },
   "outputs": [],
   "source": [
    "def plot_pkgg(zl):\n",
    "    \n",
    "    pk_gg = pk_gg2D.eval(k_arr, np.flip(La_arr)[zl], cosmo=spurious_george.halo.cosmo)\n",
    "       \n",
    "    plt.figure(figsize=[6,5]);\n",
    "    \n",
    "    trace_steps = [20,40,60,80,100,120,140]\n",
    "    for j in trace_steps:\n",
    "        if zl-j >= 0:\n",
    "            old_pk_gg = pk_gg2D.eval(k_arr, np.flip(La_arr)[zl-j], cosmo=spurious_george.halo.cosmo)\n",
    "            plt.plot(k_arr, old_pk_gg, alpha=18/j, color='magenta')\n",
    "\n",
    "    plt.plot(k_arr, pk_gg, color='magenta');\n",
    "    plt.title(r'$z_{l} = %g$'%(np.flip(z_l[zl])), fontsize=15);\n",
    "    plt.xlabel(r'$k / Mpc^{-1}$', fontsize=15);\n",
    "    plt.ylabel(r'$P_{gg}(k)$', fontsize=15);\n",
    "    plt.xscale('log')\n",
    "    plt.yscale('log')\n",
    "    plt.ylim([1,10**6])\n",
    "    \n",
    "    return\n",
    "\n",
    "#macplot.gif_plot(func = plot_pkgg, loop_data=z_l, duration=30, gif_name='pkgg_test.gif')"
   ]
  },
  {
   "cell_type": "code",
   "execution_count": 8,
   "id": "a75315cd-3955-4eaa-97d6-030e7b89d49e",
   "metadata": {},
   "outputs": [
    {
     "data": {
      "application/vnd.jupyter.widget-view+json": {
       "model_id": "0aab7685a3dd41ff9c8b17c2810206e4",
       "version_major": 2,
       "version_minor": 0
      },
      "text/plain": [
       "interactive(children=(IntSlider(value=149, description='zl', max=299), Output()), _dom_classes=('widget-intera…"
      ]
     },
     "execution_count": 8,
     "metadata": {},
     "output_type": "execute_result"
    }
   ],
   "source": [
    "interactive_plot = interactive(plot_pkgg, zl=(0, 299))\n",
    "interactive_plot"
   ]
  },
  {
   "cell_type": "code",
   "execution_count": 9,
   "id": "661deec5-e69c-4f32-be7e-15306f5a396f",
   "metadata": {},
   "outputs": [],
   "source": [
    "# use 2D power spectrum and lens-source 3D separations to get 3D correlation function xi_ls(r,z_l)\n",
    "xi_gg = np.zeros([len(r), len(z_l)])\n",
    "for zl in range(len(z_l)):\n",
    "    xi_gg[:,zl] = ccl.correlations.correlation_3d(spurious_george.halo.cosmo, np.flip(La_arr[zl]), \n",
    "                                       r, pk_gg2D)"
   ]
  },
  {
   "cell_type": "code",
   "execution_count": 10,
   "id": "04feeec2-6215-468f-bf86-aa4fad0bbd1b",
   "metadata": {
    "tags": []
   },
   "outputs": [
    {
     "data": {
      "application/vnd.jupyter.widget-view+json": {
       "model_id": "8908093b89d24677b48a39dab39ac911",
       "version_major": 2,
       "version_minor": 0
      },
      "text/plain": [
       "interactive(children=(IntSlider(value=149, description='zl', max=299), Output()), _dom_classes=('widget-intera…"
      ]
     },
     "execution_count": 10,
     "metadata": {},
     "output_type": "execute_result"
    }
   ],
   "source": [
    "def plot(zl):\n",
    "\n",
    "    plt.figure(figsize=[6,5]);\n",
    "    plt.plot(r, xi_gg[:,zl], linewidth=1);\n",
    "    plt.title(r'$z_{l} = %g$'%(np.flip(z_l)[zl]), fontsize=15);\n",
    "    plt.xlabel(r'$\\hat{r}$', fontsize=15);\n",
    "    plt.xscale('log')\n",
    "    plt.yscale('log')\n",
    "    plt.ylabel(r'$\\xi_{gg}(\\hat{r})$', fontsize=15);\n",
    "\n",
    "interactive_plot = interactive(plot, zl=(0, 299))\n",
    "interactive_plot"
   ]
  },
  {
   "cell_type": "markdown",
   "id": "5a6071f2-aa57-4e9b-9d62-168bbe2cdb0f",
   "metadata": {},
   "source": [
    "#### We want xi_ls(r_p, Pi(z_s); z_l) so we need to interpolate xi_ls(r, z_l) across r_p and Pi(z_s)"
   ]
  },
  {
   "cell_type": "code",
   "execution_count": 13,
   "id": "24a0f70c-33c3-4698-81fb-9edb5d54282a",
   "metadata": {},
   "outputs": [
    {
     "name": "stdout",
     "output_type": "stream",
     "text": [
      "Order preserved for zl indices 0-299\n",
      "Shape of xi_ls output is  300\n",
      "Runtime: 0.17406 minutes\n"
     ]
    }
   ],
   "source": [
    "# ccl utilises multiple cores, but a standard for loop is single threaded. Itertools\n",
    "# doesn't have much to speed up our runtime so we're going to try compute xi_ls at multiple values\n",
    "# simultaneously using mulitple threads\n",
    "import multiprocessing as mp \n",
    "\n",
    "# define function used to calculate xi_ls(r,Pi) at fixed zl\n",
    "def calculate_xi_ls(zl, r, r_p, Pi, xi_gg):\n",
    "    # xi_gg is a function of r, so we interpolate it across r to later find x_ls as a function of rp and pi\n",
    "    xi_interp_r = scipy.interpolate.interp1d(r, xi_gg[:, zl])\n",
    "    # preallocate array for xi(rp,pi(zl))\n",
    "    xi_ofPi = np.zeros((len(r_p), len(Pi[zl])))\n",
    "    for ri in range(len(r_p)):\n",
    "        for pi in range(len(Pi[zl])):\n",
    "            rp_pi_zl = np.sqrt((r_p[ri]**2 + Pi[zl][pi]**2))\n",
    "            xi_ofPi[ri, pi] = xi_interp_r(rp_pi_zl)\n",
    "    \n",
    "    return xi_ofPi\n",
    "\n",
    "# wrap function inside another function so it can be passsed to multiprocessing with a single set\n",
    "# of iterables\n",
    "global wrap_for_mp\n",
    "def wrap_for_mp(iterable):\n",
    "    return calculate_xi_ls(zl=iterable, r=r, r_p=r_p, Pi=Pi, xi_gg=xi_gg), iterable\n",
    "\n",
    "# how many iterations do you want it done in?\n",
    "iteration_number = 10\n",
    "\n",
    "# set size of pool used, easier to define this way so we optimise number of processes \n",
    "# allocated\n",
    "poolsize = int(len(z_l) / iteration_number)\n",
    "\n",
    "# preallocate list for outputs\n",
    "xi_ls = [0] * len(z_l)\n",
    "\n",
    "# set first set of indices to be passed to multiprocessing and computed \n",
    "iterables = list(range(len(z_l)))\n",
    "\n",
    "# open multiprocess pool in with statement so it closes after it's complete\n",
    "start = time.time()\n",
    "with mp.Pool(poolsize) as p:\n",
    "    # output values and process ID (imap should ensure correct order)\n",
    "    xi_ls, order = zip(*p.imap(wrap_for_mp, iterables))\n",
    "\n",
    "# run quick test to ensure order of outputs was preserved\n",
    "check_order = list(order)\n",
    "if check_order == iterables:\n",
    "    print('Order preserved for zl indices %d-%d'%(iterables[0],iterables[-1]))\n",
    "else:\n",
    "    print('Order scrambled, data corrupted, exiting...')\n",
    "    exit()\n",
    "    \n",
    "print('Shape of xi_ls output is ', len(xi_ls))\n",
    "end = time.time()\n",
    "print('Runtime: %g minutes'%((end-start)/60))"
   ]
  },
  {
   "cell_type": "markdown",
   "id": "efd73bed-e6b0-45ca-9b1d-fc1a6b7e9c77",
   "metadata": {},
   "source": [
    "### Make GIF of xi_ls vs r_p, varying with Pi to verify output"
   ]
  },
  {
   "cell_type": "code",
   "execution_count": null,
   "id": "b8d58895-cc51-449b-bcc4-d57397087210",
   "metadata": {
    "tags": []
   },
   "outputs": [],
   "source": [
    "# import os\n",
    "# from PIL import Image\n",
    "\n",
    "# frames = []\n",
    "\n",
    "# #need to use for loop as python sort function doesn't sort strings numerically\n",
    "# for i in range(len(Pi[149])):\n",
    "#     if abs(Pi[149][i]) >= 0.1:\n",
    "#         plt.figure(figsize=[6,5]);\n",
    "#         plt.plot(r_p, xi_ls[149][:,i]);\n",
    "#         plt.title(r'$z_{l} = %g, \\Pi = %g$'%(z_l[149], Pi[149][i]), fontsize=15);\n",
    "#         plt.xlabel(r'$r_{p}$', fontsize=15);\n",
    "#         plt.ylabel(r'$\\xi_{ls}(r_{p}, \\Pi, z_{l})$', fontsize=15);\n",
    "#         plt.savefig('frame%d.png'%i, dpi=100);\n",
    "#         plt.close()\n",
    "#         frames.append(Image.open('frame%d.png'%i))\n",
    "#         os.remove('frame%d.png'%i)\n",
    "#     else:\n",
    "#         pass\n",
    "\n",
    "# # Save into a gif file that loops forever\n",
    "# frames[0].save('xi_ls_ofPi.gif', format='GIF',\n",
    "#                 append_images=frames[1:], save_all=True, duration=100,\n",
    "#                 loop=0)"
   ]
  },
  {
   "cell_type": "markdown",
   "id": "ec096472-0b89-4e7c-b64c-dde00bfac05f",
   "metadata": {},
   "source": [
    "### z_l ORDER in xi_ls is FLIPPED, xi_ls[0] = max_z_l etc."
   ]
  },
  {
   "cell_type": "code",
   "execution_count": 14,
   "id": "38b261f6-268d-483f-95e2-eb348fe00581",
   "metadata": {},
   "outputs": [
    {
     "data": {
      "application/vnd.jupyter.widget-view+json": {
       "model_id": "9baea09bb98f4ad1b15cfe1984952829",
       "version_major": 2,
       "version_minor": 0
      },
      "text/plain": [
       "interactive(children=(IntSlider(value=149, description='zl', max=299), IntSlider(value=999, description='pi', …"
      ]
     },
     "execution_count": 14,
     "metadata": {},
     "output_type": "execute_result"
    }
   ],
   "source": [
    "def plot(zl, pi):\n",
    "\n",
    "    plt.figure(figsize=[6,5]);\n",
    "    plt.plot(r_p, xi_ls[zl][:,pi]);\n",
    "    plt.title(r'$z_{l} = %g, \\Pi = %g$'%(np.flip(z_l)[zl], Pi[zl][pi]), fontsize=15);\n",
    "    plt.xlabel(r'$r_{p}$', fontsize=15);\n",
    "    plt.xscale('log')\n",
    "    plt.ylabel(r'$\\xi_{ls}(r_{p}, \\Pi, z_{l})$', fontsize=15);\n",
    "\n",
    "interactive_plot = interactive(plot, zl=(0, 299), pi=(0,1999))\n",
    "interactive_plot"
   ]
  },
  {
   "cell_type": "code",
   "execution_count": 10,
   "id": "c0fdd737-930a-4f22-a2a9-2122de14ba0d",
   "metadata": {},
   "outputs": [],
   "source": [
    "com_Pi = [0]*len(z_l)\n",
    "z_Pi = [0]*len(z_l)\n",
    "# get comoving distance values associated to Pi\n",
    "for zl in range(len(z_l)):\n",
    "    com_Pi[zl] = chi_flipped[zl] + Pi[zl]\n",
    "    # CCL wants distance in Mpc but we are working in Mpc/h\n",
    "    z_Pi[zl] = (1./ccl.scale_factor_of_chi(spurious_george.halo.cosmo, com_Pi[zl] / (spurious_george.pa.HH0_t/100.))) - 1. \n",
    "    \n",
    "del com_Pi"
   ]
  },
  {
   "cell_type": "code",
   "execution_count": null,
   "id": "ccaed7a7-6856-438e-8125-9f29b711700f",
   "metadata": {},
   "outputs": [],
   "source": [
    "# # Need to interpolate dNdz_s over the z_Pi values\n",
    "\n",
    "# dNdz_Pi_interp = [0] * len(z_l)\n",
    "\n",
    "# # need to do a little bit of extrapolation as z_Pi extends beyond z_s max redshift\n",
    "# interp = scipy.interpolate.interp1d(np.flip(z_s), np.flip(dNdz_s), \n",
    "#                                     bounds_error=False, fill_value='extrapolate')\n",
    "\n",
    "# for zl in range(len(z_l)):\n",
    "#     dNdz_Pi_interp[zi] = interp(z_Pi[zl]) "
   ]
  },
  {
   "cell_type": "code",
   "execution_count": 46,
   "id": "b3a2197a-b5fb-4eb3-894a-96b6fd22fc7c",
   "metadata": {
    "collapsed": true,
    "jupyter": {
     "outputs_hidden": true
    },
    "tags": []
   },
   "outputs": [
    {
     "name": "stdout",
     "output_type": "stream",
     "text": [
      "1.0\n",
      "1.0\n",
      "1.0\n",
      "1.0\n",
      "1.0\n",
      "1.0\n",
      "1.0\n",
      "1.0\n",
      "1.0\n",
      "1.0000000000000002\n",
      "0.9999999999999999\n",
      "1.0\n",
      "0.9999999999999999\n",
      "0.9999999999999999\n",
      "1.0\n",
      "1.0\n",
      "1.0\n",
      "0.9999999999999999\n",
      "0.9999999999999999\n",
      "0.9999999999999998\n",
      "1.0000000000000002\n",
      "0.9999999999999999\n",
      "0.9999999999999999\n",
      "1.0000000000000002\n",
      "0.9999999999999999\n",
      "1.0\n",
      "0.9999999999999999\n",
      "1.0\n",
      "0.9999999999999998\n",
      "1.0000000000000002\n",
      "1.0\n",
      "1.0000000000000002\n",
      "1.0000000000000002\n",
      "1.0\n",
      "1.0\n",
      "0.9999999999999998\n",
      "1.0\n",
      "0.9999999999999999\n",
      "1.0000000000000002\n",
      "0.9999999999999999\n",
      "0.9999999999999999\n",
      "1.0000000000000002\n",
      "1.0\n",
      "0.9999999999999999\n",
      "0.9999999999999999\n",
      "0.9999999999999998\n",
      "1.0\n",
      "1.0\n",
      "1.0\n",
      "0.9999999999999999\n",
      "1.0\n",
      "1.0\n",
      "1.0\n",
      "1.0000000000000002\n",
      "0.9999999999999999\n",
      "1.0\n",
      "0.9999999999999997\n",
      "0.9999999999999999\n",
      "0.9999999999999998\n",
      "1.0000000000000002\n",
      "0.9999999999999999\n",
      "1.0\n",
      "1.0000000000000002\n",
      "1.0\n",
      "1.0\n",
      "1.0\n",
      "1.0\n",
      "1.0000000000000002\n",
      "1.0000000000000002\n",
      "1.0000000000000002\n",
      "0.9999999999999999\n",
      "1.0\n",
      "1.0\n",
      "0.9999999999999997\n",
      "1.0000000000000002\n",
      "1.0\n",
      "1.0000000000000002\n",
      "1.0000000000000002\n",
      "1.0000000000000002\n",
      "0.9999999999999998\n",
      "1.0000000000000002\n",
      "1.0000000000000002\n",
      "1.0\n",
      "1.0\n",
      "0.9999999999999999\n",
      "0.9999999999999998\n",
      "0.9999999999999999\n",
      "1.0\n",
      "1.0000000000000002\n",
      "1.0\n",
      "0.9999999999999998\n",
      "1.0\n",
      "1.0\n",
      "0.9999999999999998\n",
      "0.9999999999999999\n",
      "1.0000000000000002\n",
      "1.0\n",
      "1.0000000000000002\n",
      "1.0000000000000002\n",
      "0.9999999999999999\n",
      "0.9999999999999999\n",
      "0.9999999999999998\n",
      "1.0000000000000002\n",
      "0.9999999999999999\n",
      "1.0000000000000002\n",
      "0.9999999999999999\n",
      "1.0\n",
      "0.9999999999999998\n",
      "1.0\n",
      "1.0000000000000002\n",
      "1.0000000000000002\n",
      "1.0\n",
      "0.9999999999999998\n",
      "0.9999999999999999\n",
      "1.0000000000000002\n",
      "1.0\n",
      "0.9999999999999998\n",
      "1.0\n",
      "0.9999999999999998\n",
      "1.0\n",
      "1.0000000000000002\n",
      "1.0000000000000002\n",
      "1.0000000000000002\n",
      "0.9999999999999999\n",
      "0.9999999999999999\n",
      "1.0000000000000002\n",
      "1.0\n",
      "0.9999999999999999\n",
      "1.0\n",
      "1.0000000000000002\n",
      "1.0000000000000002\n",
      "0.9999999999999999\n",
      "0.9999999999999999\n",
      "1.0000000000000002\n",
      "0.9999999999999997\n",
      "0.9999999999999999\n",
      "0.9999999999999999\n",
      "1.0\n",
      "1.0\n",
      "1.0\n",
      "1.0000000000000002\n",
      "1.0\n",
      "0.9999999999999999\n",
      "1.0\n",
      "0.9999999999999998\n",
      "1.0000000000000002\n",
      "0.9999999999999999\n",
      "1.0\n",
      "0.9999999999999999\n",
      "1.0000000000000002\n",
      "1.0\n",
      "1.0\n",
      "1.0\n",
      "1.0\n",
      "1.0\n",
      "1.0000000000000002\n",
      "1.0\n",
      "1.0\n",
      "1.0000000000000002\n",
      "0.9999999999999999\n",
      "1.0\n",
      "0.9999999999999998\n",
      "0.9999999999999998\n",
      "0.9999999999999999\n",
      "1.0\n",
      "1.0\n",
      "1.0\n",
      "0.9999999999999998\n",
      "1.0\n",
      "1.0\n",
      "1.0000000000000002\n",
      "1.0\n",
      "1.0\n",
      "0.9999999999999999\n",
      "0.9999999999999998\n",
      "0.9999999999999999\n",
      "0.9999999999999998\n",
      "1.0\n",
      "0.9999999999999999\n",
      "1.0\n",
      "1.0\n",
      "0.9999999999999999\n",
      "1.0\n",
      "1.0000000000000002\n",
      "1.0\n",
      "1.0\n",
      "1.0\n",
      "1.0\n",
      "1.0\n",
      "1.0\n",
      "0.9999999999999999\n",
      "1.0\n",
      "0.9999999999999999\n",
      "1.0\n",
      "0.9999999999999999\n",
      "1.0000000000000002\n",
      "0.9999999999999997\n",
      "1.0000000000000002\n",
      "1.0\n",
      "0.9999999999999999\n",
      "1.0000000000000002\n",
      "0.9999999999999999\n",
      "1.0000000000000002\n",
      "0.9999999999999998\n",
      "1.0\n",
      "0.9999999999999999\n",
      "1.0\n",
      "1.0000000000000002\n",
      "1.0\n",
      "0.9999999999999999\n",
      "1.0\n",
      "1.0\n",
      "1.0\n",
      "0.9999999999999999\n",
      "0.9999999999999998\n",
      "0.9999999999999999\n",
      "0.9999999999999999\n",
      "1.0\n",
      "0.9999999999999999\n",
      "0.9999999999999998\n",
      "0.9999999999999999\n",
      "1.0000000000000002\n",
      "0.9999999999999999\n",
      "1.0000000000000002\n",
      "1.0\n",
      "1.0\n",
      "0.9999999999999999\n",
      "0.9999999999999999\n",
      "1.0\n",
      "1.0000000000000002\n",
      "0.9999999999999999\n",
      "1.0000000000000002\n",
      "0.9999999999999999\n",
      "1.0\n",
      "1.0\n",
      "1.0\n",
      "1.0000000000000002\n",
      "1.0000000000000002\n",
      "1.0000000000000002\n",
      "1.0\n",
      "1.0\n",
      "1.0000000000000002\n",
      "1.0\n",
      "1.0\n",
      "0.9999999999999999\n",
      "1.0\n",
      "1.0000000000000002\n",
      "1.0\n",
      "1.0\n",
      "0.9999999999999999\n",
      "1.0\n",
      "1.0\n",
      "1.0\n",
      "1.0000000000000002\n",
      "0.9999999999999999\n",
      "1.0\n",
      "0.9999999999999998\n",
      "0.9999999999999999\n",
      "1.0\n",
      "1.0\n",
      "1.0000000000000002\n",
      "1.0\n",
      "0.9999999999999998\n",
      "0.9999999999999998\n",
      "1.0\n",
      "0.9999999999999999\n",
      "1.0000000000000002\n",
      "1.0\n",
      "1.0\n",
      "0.9999999999999999\n",
      "0.9999999999999999\n",
      "1.0\n",
      "1.0000000000000002\n",
      "1.0\n",
      "1.0\n",
      "1.0\n",
      "1.0\n",
      "1.0\n",
      "1.0\n",
      "1.0\n",
      "1.0\n",
      "0.9999999999999999\n",
      "1.0\n",
      "0.9999999999999998\n",
      "1.0\n",
      "0.9999999999999999\n",
      "0.9999999999999999\n",
      "1.0000000000000002\n",
      "0.9999999999999999\n",
      "1.0\n",
      "0.9999999999999999\n",
      "1.0\n",
      "1.0\n",
      "0.9999999999999998\n",
      "0.9999999999999999\n",
      "1.0000000000000002\n",
      "1.0000000000000002\n",
      "1.0\n",
      "1.0000000000000002\n",
      "0.9999999999999999\n"
     ]
    }
   ],
   "source": [
    "# Or do we? We could just take SRD Gaussian parameterisation and construct dNdz_Pi using that,\n",
    "# then convolve with error dist to get P(z_Pi, z_ph). Perhaps this will be more represenatative than\n",
    "# interpolating\n",
    "\n",
    "# set best fit values based on survey year \n",
    "if year == 1:\n",
    "    z0 = 0.13\n",
    "    alpha = 0.78\n",
    "elif year == 10:\n",
    "    z0 = 0.11\n",
    "    alpha = 0.68\n",
    "else: \n",
    "    print('Not a current survey year')\n",
    "    exit()\n",
    "    \n",
    "z_s, dndz_s, zseff = sp.get_dndz_spec('source', year)\n",
    "\n",
    "k = np.mean(dndz_s / (z_s**2 * np.exp(-(z_s/z0)**alpha)))\n",
    "    \n",
    "# start by constructing dNdz_Pi using SRD parameterisation\n",
    "dNdz_Pi = [0] * len(z_l)\n",
    "for zi in range(len(z_l)):\n",
    "    dNdz_Pi[zi] = k * z_Pi[zi]**2 * np.exp(-(z_Pi[zi]/z0) ** alpha)\n",
    "\n",
    "print(dNdz_Pi[0])"
   ]
  },
  {
   "cell_type": "code",
   "execution_count": null,
   "id": "cac21cde-09b9-4097-a170-22e66eac4f69",
   "metadata": {},
   "outputs": [],
   "source": [
    "norm_frac = dNdz_Pi[zl]"
   ]
  },
  {
   "cell_type": "code",
   "execution_count": null,
   "id": "93bf46d7-e2c4-4792-8a10-672df0910b11",
   "metadata": {},
   "outputs": [],
   "source": [
    "# next get error dist p_zPi_zph\n",
    "\n",
    "p_zPi_zph = [0] * len(z_l)\n",
    "# first loop over z_Pi values for each lens redshift\n",
    "for zl in range(len(z_l)):\n",
    "    # define photo-z shift value for each zl\n",
    "    chi_plus = ccl.comoving_radial_distance(spurious_george.halo.cosmo, \n",
    "                                        1./(1. + np.max(z_Pi[zl]))) * (spurious_george.pa.HH0/100.) + np.max(Pi[zl])\n",
    "    a_plus = ccl.scale_factor_of_chi(spurious_george.halo.cosmo, chi_plus / (spurious_george.pa.HH0/100.))\n",
    "    zph_plus = (1. / a_plus) - 1.\n",
    "    # set arbitrary photo-z values in range of z_Pi boosted by 200Mpc in z                                 \n",
    "    zPi_ph = np.linspace(np.min(z_Pi[zl]), zph_plus, len(z_Pi[zl]))\n",
    "    # variance for each z_Pi\n",
    "    sig_z = 0.05*(1. + z_Pi[zl])\n",
    "    p = np.zeros([len(zPi_ph), len(z_Pi[zl])])\n",
    "    # loop over specific z_Pi values to find error dist for each z_Pi\n",
    "    for zi in range(len(z_Pi[zl])):\n",
    "        # create 2D array of z_ph probability at each z_Pi\n",
    "        p[zi,:] =  1. / (np.sqrt(2. * np.pi) * sig_z) * np.exp(-((zPi_ph - z_Pi[zl][zi])**2) / (2. * sig_z**2))\n",
    "    # save p(z_Pi,z_ph) at each lens redshift\n",
    "    p_zPi_zph[zl] = p"
   ]
  },
  {
   "cell_type": "markdown",
   "id": "c8d56591-4f71-49fe-9949-243667ee530c",
   "metadata": {},
   "source": [
    "- Now we have dNdz_Pi and P(z_pi, z_ph), so we can relabel z_s to z_pi"
   ]
  },
  {
   "cell_type": "markdown",
   "id": "e9f8d5cb-00c7-497e-8150-5f79dd0e846a",
   "metadata": {},
   "source": [
    "### Compute integrals\n",
    "- First we will define functions to solve the integrals over z_pi and z_ph\n",
    "- Then we will parallelise these to compute the integrals for $B_{zl}$(rp) - 1 for all z_l values\n",
    "- Finally we will integrate over z_l to leave us with a len(rp) vector representing B(rp) - 1 \n",
    "#### Check photo-z definition of +0.2 with Danielle!"
   ]
  },
  {
   "cell_type": "code",
   "execution_count": 17,
   "id": "a36474bb-eb37-47a1-81e8-e3819e0a01eb",
   "metadata": {
    "tags": []
   },
   "outputs": [],
   "source": [
    "def integrate_zPi(zl):\n",
    "    # preallocate arrays to store data\n",
    "    igl_zPi = np.zeros([len(r_p), len(z_Pi[zl])])\n",
    "    num_igd_zPi = np.zeros([len(z_Pi[zl]), len(z_Pi[zl])])\n",
    "    denom_igd_zPi = np.zeros([len(z_Pi[zl]), len(z_Pi[zl])])\n",
    "    for ri in range(len(r_p)):\n",
    "        # rows are rp, columns represent different Pi values\n",
    "        num_igd_zPi = dNdz_Pi[zl] * xi_ls[zl][ri,:] * p_zPi_zph[zl]\n",
    "        denom_igd_zPi = dNdz_Pi[zl] * p_zPi_zph[zl]\n",
    "        # for P(zpi,zph), we want to integrate over the z_Pi values, these are rows so axis=0\n",
    "        igl_zPi[ri,:] = scipy.integrate.simps(num_igd_zPi, z_Pi[zl], axis=0) / scipy.integrate.simps(denom_igd_zPi, z_Pi[zl])\n",
    "    \n",
    "    # this leaves us with an array that is [len(rp) x len(zph)]\n",
    "    return igl_zPi\n",
    "\n",
    "def integrate_zph(zl):\n",
    "    # now we want to integrate over zph, so we need array to store integrals for different rp\n",
    "    igl_zph = np.zeros([len(r_p)])\n",
    "    # arbitrarily define photometric redshifts slightly extended in range from zPi\n",
    "    chi_plus = ccl.comoving_radial_distance(spurious_george.halo.cosmo, \n",
    "                                        1./(1. + np.max(z_Pi[zl]))) * (spurious_george.pa.HH0/100.) + np.max(Pi[zl])\n",
    "    a_plus = ccl.scale_factor_of_chi(spurious_george.halo.cosmo, chi_plus / (spurious_george.pa.HH0/100.))\n",
    "    zph_plus = (1. / a_plus) - 1. \n",
    "    zPi_ph = np.linspace(np.min(z_Pi[zl]), zph_plus, len(z_Pi[zl]))\n",
    "    # call to previous function to get first integral\n",
    "    igd_zph = weights * integrate_zPi(zl)\n",
    "    # integrate over zph for a certain zl, zph are the columns so specify axis=1\n",
    "    igl_zph = scipy.integrate.simps(igd_zph, zPi_ph, axis=1) / scipy.integrate.simps(weights * np.ones([len(zPi_ph)]), zPi_ph)\n",
    "    \n",
    "    # return len(rp) array representing [B(rp) - 1] at zl \n",
    "    return igl_zph, zl\n"
   ]
  },
  {
   "cell_type": "code",
   "execution_count": 18,
   "id": "4315ad60-c20f-4d1d-b7cb-70d05ace2f36",
   "metadata": {
    "tags": []
   },
   "outputs": [
    {
     "name": "stdout",
     "output_type": "stream",
     "text": [
      "Order preserved for zl indices 0-299\n",
      "Runtime = 53.0486\n"
     ]
    }
   ],
   "source": [
    "# parallelised integration routine\n",
    "iterables = list(range(len(z_l)))\n",
    "\n",
    "poolsize = 30\n",
    "\n",
    "# allocate array to store [B(rp) - 1] for each zl\n",
    "igl_zph = np.zeros([len(z_l), len(r_p)])\n",
    "\n",
    "start = time.time()\n",
    "with mp.Pool(poolsize) as p:\n",
    "    # output values and process ID (imap should ensure correct order)\n",
    "    igl_zph, order = zip(*p.map(integrate_zph, iterables))\n",
    "\n",
    "# run quick test to ensure order of outputs was preserved\n",
    "check_order = list(order)\n",
    "if check_order == iterables:\n",
    "    print('Order preserved for zl indices %d-%d'%(iterables[0],iterables[-1]))\n",
    "else:\n",
    "    print('Order scrambled, data corrupted, exiting...')\n",
    "    exit()\n",
    "    \n",
    "# replace NaN with 0. NaN is produced due to divide by zero error \n",
    "#resulting from Pi[-1][:] = 0\n",
    "if np.isnan(igl_zph[-1], out=np.empty(len(igl_zph[-1]))).all() == True:\n",
    "    igl_zph[-1][:] = np.zeros([len(igl_zph[-1])])\n",
    "\n",
    "# All [B(rp) - 1]_zl have been collected into a [len(z_l) x len(r_p)] array \n",
    "# We must flip along the rows as previous integrals were collected with zl descending, \n",
    "# but we integrate over an ascending sample\n",
    "igd_zl = np.flip(igl_zph, axis=0) * dNdz_l[:,None]\n",
    "igl_zl = scipy.integrate.simps(igd_zl, z_l, axis=0) / scipy.integrate.simps(dNdz_l, z_l)\n",
    "\n",
    "np.savez('boost_test', B_min1 = igl_zl, B = igl_zl - 1., rp = r_p)\n",
    "\n",
    "end = time.time()\n",
    "print('Runtime = %g'%(end-start))"
   ]
  },
  {
   "cell_type": "code",
   "execution_count": 19,
   "id": "524d16a1-0e7d-43ac-ab54-a51c7618dc3b",
   "metadata": {},
   "outputs": [
    {
     "data": {
      "text/plain": [
       "Text(0, 0.5, '$B(r_{p}) - 1$')"
      ]
     },
     "execution_count": 19,
     "metadata": {},
     "output_type": "execute_result"
    },
    {
     "data": {
      "image/png": "[encoded data removed]",
      "text/plain": [
       "<Figure size 576x432 with 1 Axes>"
      ]
     },
     "metadata": {
      "needs_background": "light"
     },
     "output_type": "display_data"
    }
   ],
   "source": [
    "plt.figure(figsize=[8,6])\n",
    "plt.plot(r_p, igl_zl)\n",
    "plt.xscale('log')\n",
    "plt.yscale('log')\n",
    "plt.xlabel(r'$r_{p}$', fontsize=15)\n",
    "plt.ylabel(r'$B(r_{p}) - 1$', fontsize=15)"
   ]
  },
  {
   "cell_type": "code",
   "execution_count": 20,
   "id": "ab3de292-e2fb-4274-9633-a5f792c65561",
   "metadata": {},
   "outputs": [
    {
     "data": {
      "image/png": "[encoded data removed]",
      "text/plain": [
       "<Figure size 576x432 with 1 Axes>"
      ]
     },
     "metadata": {
      "needs_background": "light"
     },
     "output_type": "display_data"
    }
   ],
   "source": [
    "B_min1 = np.load('boost_test.npz')['B_min1']\n",
    "\n",
    "def plot():\n",
    "    plt.figure(figsize=[8,6])\n",
    "    plt.plot(theta, B_min1)\n",
    "    plt.xscale('log')\n",
    "    plt.yscale('log')\n",
    "    plt.xlabel(r'$\\theta (arcmin)$', fontsize=15)\n",
    "    plt.ylabel(r'$B(\\theta) - 1$', fontsize=15)\n",
    "    \n",
    "plot()\n",
    "plt.savefig('b_min1_theta.png', dpi=300)"
   ]
  },
  {
   "cell_type": "code",
   "execution_count": 1,
   "id": "aac1d0ea-a059-4275-bf15-0256851fd83b",
   "metadata": {},
   "outputs": [
    {
     "name": "stdin",
     "output_type": "stream",
     "text": [
      "halo_model: Initialised with Omega_c=0.265036, Omega_b=0.0491168, h=0.6726, sigma8=0.84, n_s=0.9652. Modify cosmology? Input y or n. n\n",
      "spurious george: Please define poolsize to be used for parallelised functions 30\n"
     ]
    },
    {
     "name": "stdout",
     "output_type": "stream",
     "text": [
      "poolsize set to 30\n",
      "Order preserved for zl indices 0-299\n",
      "Runtime: 5.7219 minutes\n"
     ]
    },
    {
     "ename": "ValueError",
     "evalue": "too many values to unpack (expected 5)",
     "output_type": "error",
     "traceback": [
      "\u001b[0;31m---------------------------------------------------------------------------\u001b[0m",
      "\u001b[0;31mValueError\u001b[0m                                Traceback (most recent call last)",
      "\u001b[0;32m<ipython-input-1-27b39b3d43c6>\u001b[0m in \u001b[0;36m<module>\u001b[0;34m\u001b[0m\n\u001b[1;32m      1\u001b[0m \u001b[0;32mimport\u001b[0m \u001b[0mspurious_george\u001b[0m\u001b[0;34m\u001b[0m\u001b[0;34m\u001b[0m\u001b[0m\n\u001b[0;32m----> 2\u001b[0;31m \u001b[0mB_theta\u001b[0m\u001b[0;34m,\u001b[0m \u001b[0mtheta\u001b[0m \u001b[0;34m=\u001b[0m \u001b[0mspurious_george\u001b[0m\u001b[0;34m.\u001b[0m\u001b[0mget_boosts\u001b[0m\u001b[0;34m(\u001b[0m\u001b[0myear\u001b[0m\u001b[0;34m=\u001b[0m\u001b[0;36m1\u001b[0m\u001b[0;34m)\u001b[0m\u001b[0;34m\u001b[0m\u001b[0;34m\u001b[0m\u001b[0m\n\u001b[0m",
      "\u001b[0;32m~/WGL_project/IA_GGL/spurious_george.py\u001b[0m in \u001b[0;36mget_boosts\u001b[0;34m(year)\u001b[0m\n\u001b[1;32m    339\u001b[0m     \u001b[0mweights\u001b[0m \u001b[0;34m=\u001b[0m \u001b[0mget_weights\u001b[0m\u001b[0;34m(\u001b[0m\u001b[0;34m)\u001b[0m\u001b[0;34m\u001b[0m\u001b[0;34m\u001b[0m\u001b[0m\n\u001b[1;32m    340\u001b[0m \u001b[0;34m\u001b[0m\u001b[0m\n\u001b[0;32m--> 341\u001b[0;31m     \u001b[0mxi_ls\u001b[0m\u001b[0;34m,\u001b[0m \u001b[0mr_p\u001b[0m\u001b[0;34m,\u001b[0m \u001b[0mPi\u001b[0m\u001b[0;34m,\u001b[0m \u001b[0mz_Pi\u001b[0m\u001b[0;34m,\u001b[0m \u001b[0mz_l\u001b[0m \u001b[0;34m=\u001b[0m \u001b[0mget_xi_ls\u001b[0m\u001b[0;34m(\u001b[0m\u001b[0myear\u001b[0m\u001b[0;34m)\u001b[0m\u001b[0;34m\u001b[0m\u001b[0;34m\u001b[0m\u001b[0m\n\u001b[0m\u001b[1;32m    342\u001b[0m \u001b[0;34m\u001b[0m\u001b[0m\n\u001b[1;32m    343\u001b[0m     \u001b[0;32mif\u001b[0m \u001b[0myear\u001b[0m \u001b[0;34m==\u001b[0m \u001b[0;36m1\u001b[0m\u001b[0;34m:\u001b[0m\u001b[0;34m\u001b[0m\u001b[0;34m\u001b[0m\u001b[0m\n",
      "\u001b[0;31mValueError\u001b[0m: too many values to unpack (expected 5)"
     ]
    }
   ],
   "source": [
    "import spurious_george\n",
    "B_theta, theta = spurious_george.get_boosts(year=1)"
   ]
  },
  {
   "cell_type": "markdown",
   "id": "578d5b07-05b7-4a09-8f3f-7acc5979c7b7",
   "metadata": {},
   "source": [
    "## Fix Boosts"
   ]
  },
  {
   "cell_type": "code",
   "execution_count": 1,
   "id": "523edd9c-f03f-4dd0-889a-c23327b8d173",
   "metadata": {
    "tags": []
   },
   "outputs": [
    {
     "name": "stdin",
     "output_type": "stream",
     "text": [
      "halo_model: Initialised with Omega_c=0.265036, Omega_b=0.0491168, h=0.6726, sigma8=0.84, n_s=0.9652. Modify cosmology? Input y or n. n\n",
      "spurious george: Define poolsize to be used for parallelised functions 30\n"
     ]
    }
   ],
   "source": [
    "import spurious_george as sp\n",
    "import numpy as np\n",
    "import pyccl as ccl\n",
    "import scipy\n",
    "import time\n",
    "import multiprocessing as mp\n",
    "import matplotlib.pyplot as plt\n",
    "# set up everything in terms of theta\n",
    "theta_min = 2.5\n",
    "theta_max = 250\n",
    "N_bins = 10\n",
    "interp_len = 1000"
   ]
  },
  {
   "cell_type": "code",
   "execution_count": 2,
   "id": "62fb5dd9-0880-4f0a-b0b3-e9f8009a3ed5",
   "metadata": {},
   "outputs": [],
   "source": [
    "def get_xi_gg(year, maxPi, minPi):\n",
    "    '''Get 3D galaxy clustering correlation function from CCL using r vector constructed\n",
    "    from L.O.S and projected separations'''\n",
    "\n",
    "    # get spec-z for lenses\n",
    "    z_l, dndz_l, zleff = sp.get_dndz_spec(gtype='lens', year=year)\n",
    "\n",
    "    # convert redshifts for lenses and sources to scale factors\n",
    "    La_arr = 1. / (1. + z_l)\n",
    "    \n",
    "    r_p = sp.setup.arcmin_to_rp(sp.theta_cents, zleff, sp.halo.cosmo) * (sp.pa.HH0 / 100.) #Mpc/h\n",
    "    \n",
    "    # define max and min r based on combination of rp and Pi\n",
    "    rmax = np.sqrt(np.max(r_p)**2 + (maxPi+1)**2) # WE NEED UNITS TO BE CONSISTENT HERE\n",
    "    rmin = np.sqrt(np.min(r_p)**2 - minPi**2)\n",
    "\n",
    "    # set some arbitrary 3D separations r to compute xi_gg\n",
    "    r = np.logspace(np.log10(rmin), np.log10(rmax), interp_len) # Mpc/h\n",
    "\n",
    "    # wavenumbers and scale factors for all-space power spectrum\n",
    "    k_arr = np.geomspace(1E-4, 5E2, 2*interp_len)\n",
    "\n",
    "    # must flip array because ccl wants scale factors ascending (z_0 == a_1)\n",
    "    pk_gg2D = sp.halo.get_Pk2D('gg', k_arr=k_arr, a_arr=np.flip(La_arr))\n",
    "       \n",
    "    # use 2D power spectrum and lens-source 3D separations to get 3D correlation function xi_ls(r,z_l)\n",
    "    xi_gg = np.zeros([len(r), len(z_l)])\n",
    "    for zl in range(len(z_l)):\n",
    "        # here I provide ccl with r in Mpc/h instead of Mpc -> is this an issue?\n",
    "        xi_gg[:,zl] = ccl.correlations.correlation_3d(sp.halo.cosmo, np.flip(La_arr[zl]), \n",
    "                                           r / (sp.pa.HH0 / 100.), pk_gg2D)\n",
    "    \n",
    "    return xi_gg, r_p, r"
   ]
  },
  {
   "cell_type": "code",
   "execution_count": 3,
   "id": "8d5ef5d3-a9b6-49b4-8de3-0461baf64394",
   "metadata": {},
   "outputs": [],
   "source": [
    "def get_xi_ls(year):\n",
    "    '''Interpolate galaxy clustering correlation function over rp and pi to obtain lens-source correlation as a function of these parameters'''\n",
    "\n",
    "    # get spec-z for sources and lenses\n",
    "    z_s, dndz_s, zseff = sp.get_dndz_spec(gtype='source', year=year)\n",
    "    \n",
    "    # lens dist has been cut and renormalised\n",
    "    z_l, dndz_l, zleff = sp.get_dndz_spec(gtype='lens', year=year)\n",
    "\n",
    "    # convert redshifts for lenses and sources to scale factors\n",
    "    La_arr = 1. / (1. + z_l)\n",
    "    Sa_arr = 1. / (1. + z_s)\n",
    "\n",
    "    # comoving radial distance from observer to sources and lenses\n",
    "    chi_lens = ccl.comoving_radial_distance(sp.halo.cosmo, La_arr) * (sp.pa.HH0 / 100.)\n",
    "    chi_source = ccl.comoving_radial_distance(sp.halo.cosmo, Sa_arr) * (sp.pa.HH0 / 100.)\n",
    "\n",
    "    # need to flip array so highest z comes first for iteration routine below and because ccl wants scale factors backwards, 1 -> 0\n",
    "    chi_flipped = np.flip(chi_lens)\n",
    "\n",
    "    # L.o.S pair separation array\n",
    "    minPiPos = 10**(-3) \n",
    "    max_int = 200. # We integrate the numerator out to 200 Mpc/h away from the lenses because the correlation is zero outside of this.\n",
    "    maxPiPos = max_int\n",
    "    Pi_pos = np.logspace(np.log10(minPiPos), np.log10(maxPiPos), interp_len)\n",
    "\n",
    "    # Pi can be positive or negative, so now flip this and include the negative values, but only down to z=0\n",
    "    # And avoid including multiple of the same values - this messes up some integration routines.\n",
    "    Pi = [0]*len(z_l)\n",
    "    try:\n",
    "        for zi in range(len(z_l)):\n",
    "            Pi_pos_vec= list(Pi_pos)[1:]\n",
    "            Pi_pos_vec.reverse()\n",
    "            index_cut = next(j[0] for j in enumerate(Pi_pos_vec) if j[1]<=(chi_flipped[zi]-np.min(chi_source)))\n",
    "            Pi[zi] = np.append(-np.asarray(Pi_pos_vec[index_cut:]), np.append([0],Pi_pos))  \n",
    "    except StopIteration:\n",
    "        Pi[-1] = Pi_pos\n",
    "    \n",
    "    # call to other function to calculate xi_gg\n",
    "    xi_gg, r_p, r = sp.get_xi_gg(year, maxPiPos, minPiPos)\n",
    "    \n",
    "    # define function used to calculate xi_ls(r,Pi) at fixed zl\n",
    "    def calculate_xi_ls(zl, r, r_p, Pi, xi_gg):\n",
    "        # xi_gg is a function of r, so we interpolate it across r to later find x_ls as a function of rp and pi\n",
    "        xi_interp_r = scipy.interpolate.interp1d(r, xi_gg[:, zl])\n",
    "        # preallocate array for xi(rp,pi(zl))\n",
    "        xi_ofPi = np.zeros((len(r_p), len(Pi[zl])))\n",
    "        for ri in range(len(r_p)):\n",
    "            for pi in range(len(Pi[zl])):\n",
    "                rp_pi_zl = np.sqrt((r_p[ri]**2 + Pi[zl][pi]**2))\n",
    "                xi_ofPi[ri, pi] = xi_interp_r(rp_pi_zl)\n",
    "\n",
    "        return xi_ofPi\n",
    "\n",
    "    # wrap function inside another function so it can be passsed to multiprocessing with a single set\n",
    "    # of iterables\n",
    "    global wrap_for_mp\n",
    "    def wrap_for_mp(iterable):\n",
    "        return calculate_xi_ls(zl=iterable, r=r, r_p=r_p, Pi=Pi, xi_gg=xi_gg), iterable\n",
    "\n",
    "    # how many iterations do you want it done in?\n",
    "    iteration_number = 10\n",
    "\n",
    "    # set size of pool used, easier to define this way so we optimise number of processes \n",
    "    # allocated\n",
    "    poolsize = int(len(z_l) / iteration_number)\n",
    "\n",
    "    # preallocate list for outputs\n",
    "    xi_ls = [0] * len(z_l)\n",
    "\n",
    "    # set first set of indices to be passed to multiprocessing and computed \n",
    "    iterables = list(range(len(z_l)))\n",
    "\n",
    "    # open multiprocess pool in with statement so it closes after it's complete\n",
    "    start = time.time()\n",
    "    with mp.Pool(poolsize) as p:\n",
    "        # output values and process ID (imap should ensure correct order)\n",
    "        xi_ls, order = zip(*p.imap(wrap_for_mp, iterables))\n",
    "\n",
    "    # run quick test to ensure order of outputs was preserved\n",
    "    check_order = list(order)\n",
    "    if check_order == iterables:\n",
    "        print('Order preserved for zl indices %d-%d'%(iterables[0],iterables[-1]))\n",
    "    else:\n",
    "        print('Order scrambled, data corrupted, exiting...')\n",
    "        exit()\n",
    "    \n",
    "    end = time.time()\n",
    "    print('xi_ls estimation complete')\n",
    "    print('Runtime: %g seconds'%((end-start)))\n",
    "    \n",
    "    com_Pi = [0]*len(z_l)\n",
    "    z_Pi = [0]*len(z_l)\n",
    "    # get comoving distance values associated to Pi\n",
    "    for zl in range(len(z_l)):\n",
    "        com_Pi[zl] = chi_flipped[zl] + Pi[zl]\n",
    "        # CCL wants distance in Mpc but we are working in Mpc/h\n",
    "        z_Pi[zl] = (1./ccl.scale_factor_of_chi(sp.halo.cosmo, com_Pi[zl] / (sp.pa.HH0_t/100.))) - 1. \n",
    "\n",
    "    del com_Pi\n",
    "\n",
    "    return xi_ls, r_p, Pi, z_Pi, z_l, dndz_l"
   ]
  },
  {
   "cell_type": "code",
   "execution_count": 9,
   "id": "4b00c697-8b26-4428-a4b6-9a3f77d83330",
   "metadata": {},
   "outputs": [],
   "source": [
    "def get_boosts(year):\n",
    "    '''Integrate xi_ls over z_spec, z_photo, & z_lens to get boosts as a function of\n",
    "    rp (or theta since rp is directly defined from theta)'''\n",
    "    \n",
    "    # get weights\n",
    "    weights = sp.get_weights()\n",
    "    \n",
    "    # call to previous function to obtain xi_ls for integral\n",
    "    xi_ls, r_p, Pi, z_Pi, z_l, dndz_l = get_xi_ls(year)\n",
    "    \n",
    "    # set dndz parameters from LSST SRD\n",
    "    if year == 1:\n",
    "        z0 = sp.y1_z0_source\n",
    "        alpha = sp.y1_alp_source\n",
    "    elif year == 10:\n",
    "        z0 = sp.y10_z0_source\n",
    "        alpha = sp.y10_alp_source\n",
    "    else: \n",
    "        print('Not a current survey year')\n",
    "        exit()\n",
    "        \n",
    "    # find constant of proportionality\n",
    "    z_s, dndz_s, zseff = sp.get_dndz_spec('source', year)\n",
    "    \n",
    "    # start by constructing dndz_Pi using SRD parameterisation\n",
    "    z_Pi_norm = [0] * len(z_l)\n",
    "    dndz_Pi = [0] * len(z_l)\n",
    "    dndz_Pi_norm = [0] * len(z_l)\n",
    "    zph_norm = [0] * len(z_l)\n",
    "\n",
    "    for zi in range(len(z_l)):\n",
    "        # how do I normalise this?\n",
    "        dndz_Pi[zi] = z_Pi[zi]**2 * np.exp(-(z_Pi[zi]/z0) ** alpha)\n",
    "            \n",
    "        # need to normalise over the full spec-z range\n",
    "        z_Pi_norm[zi] = np.linspace(np.min(z_s), np.max(z_s), len(z_Pi[zi]))\n",
    "        dndz_Pi_norm[zi] = z_Pi_norm[zi]**2 * np.exp(-(z_Pi_norm[zi]/z0) ** alpha)\n",
    "        \n",
    "        # set full range of photo-z to normalise over\n",
    "        zph_norm[zi] = np.linspace(np.min(z_s), np.max(z_s)+0.5, len(z_Pi[zi]))\n",
    "    \n",
    "    # next get error dist p_zPi_zph\n",
    "    p_zPi_zph = [0] * len(z_l)\n",
    "    p_zPi_zph_norm = [0] * len(z_l)\n",
    "    \n",
    "    # first loop over z_Pi values for each lens redshift\n",
    "    for zl in range(len(z_l)):\n",
    "        \n",
    "        # define photo-z shift value for each zl\n",
    "        chi_plus = ccl.comoving_radial_distance(sp.halo.cosmo, \n",
    "                                            1./(1. + np.max(z_Pi[zl]))) * (sp.pa.HH0/100.) + np.max(Pi[zl])\n",
    "        a_plus = ccl.scale_factor_of_chi(sp.halo.cosmo, chi_plus / (sp.pa.HH0/100.))\n",
    "        zph_plus = (1. / a_plus) - 1.\n",
    "        # set arbitrary photo-z values in range of z_Pi boosted by 200Mpc in z                                 \n",
    "        zPi_ph = np.linspace(np.min(z_Pi[zl]), zph_plus, len(z_Pi[zl]))\n",
    "        \n",
    "        # variance for each z_Pi\n",
    "        sig_z = 0.05*(1. + z_Pi[zl])\n",
    "        sig_z_norm = 0.05*(1. + z_Pi_norm[zl])\n",
    "        \n",
    "        p = np.zeros([len(zPi_ph), len(z_Pi[zl])])\n",
    "        p_norm = np.zeros([len(zPi_ph), len(z_Pi[zl])])\n",
    "        \n",
    "        # loop over specific z_Pi values to find error dist for each z_Pi, also include normalisation over full redshift range\n",
    "        for zi in range(len(z_Pi[zl])):\n",
    "            # create 2D array of z_ph probability at each z_Pi\n",
    "            p[zi,:] =  1. / (np.sqrt(2. * np.pi) * sig_z) * np.exp(-((zPi_ph - z_Pi[zl][zi])**2) / (2. * sig_z**2))\n",
    "            p_norm[zi,:] =  1. / (np.sqrt(2. * np.pi) * sig_z_norm) * np.exp(-((zph_norm[zl] - z_Pi_norm[zl][zi])**2) / (2. * sig_z_norm**2))\n",
    "        # save p(z_Pi,z_ph) at each lens redshift\n",
    "        p_zPi_zph[zl] = p\n",
    "        # need to also get error pdf for full zph to normalise over\n",
    "        p_zPi_zph_norm[zl] = p_norm\n",
    "        \n",
    "    \n",
    "    # define a function to compute the integral over z_s -> relabelled to z_pi\n",
    "    def integrate_zPi(zl):\n",
    "        # preallocate arrays to store data\n",
    "        igl_zPi = np.zeros([len(r_p), len(z_Pi[zl])])\n",
    "        num_igd_zPi = np.zeros([len(z_Pi[zl]), len(z_Pi[zl])])\n",
    "        denom_igd_zPi = np.zeros([len(z_Pi[zl]), len(z_Pi[zl])])\n",
    "        for ri in range(len(r_p)):\n",
    "            # rows are rp, columns represent different Pi values\n",
    "            num_igd_zPi = dndz_Pi[zl] * xi_ls[zl][ri,:] * p_zPi_zph[zl]\n",
    "            denom_igd_zPi = dndz_Pi_norm[zl] * p_zPi_zph_norm[zl]\n",
    "            # for P(zpi,zph), we want to integrate over the z_Pi values, these are rows so axis=0\n",
    "            # we normalise over the full spec z range as the slice in z_Pi[zl] only represents \n",
    "            # the fact that xi is zero outside this slice\n",
    "            igl_zPi[ri,:] = scipy.integrate.simps(num_igd_zPi, z_Pi[zl], axis=0) / scipy.integrate.simps(\n",
    "                denom_igd_zPi, z_Pi_norm[zl])\n",
    "\n",
    "        # this leaves us with an array that is [len(rp) x len(zph)]\n",
    "        return igl_zPi\n",
    "    \n",
    "    # define function to integrate over z_ph. We do not use z+ and z- as we use the entire soure\n",
    "    # and lens samples\n",
    "    global integrate_zph\n",
    "    def integrate_zph(zl):\n",
    "        # now we want to integrate over zph, so we need array to store integrals for different rp\n",
    "        igl_zph = np.zeros([len(r_p)])\n",
    "        # arbitrarily define photometric redshifts slightly extended in range from zPi\n",
    "        chi_plus = ccl.comoving_radial_distance(sp.halo.cosmo, \n",
    "                                            1./(1. + np.max(z_Pi[zl]))) * (sp.pa.HH0/100.) + np.max(Pi[zl])\n",
    "        a_plus = ccl.scale_factor_of_chi(sp.halo.cosmo, chi_plus / (sp.pa.HH0/100.))\n",
    "        zph_plus = (1. / a_plus) - 1. \n",
    "        zPi_ph = np.linspace(np.min(z_Pi[zl]), zph_plus, len(z_Pi[zl]))\n",
    "        # call to previous function to get first integral\n",
    "        igd_zph = weights * integrate_zPi(zl)\n",
    "        # integrate over zph for a certain zl, zph are the columns so specify axis=1, normalise over full photo-z range\n",
    "        igl_zph = scipy.integrate.simps(igd_zph, zPi_ph, axis=1) / scipy.integrate.simps(weights * np.ones([len(zPi_ph)]), zph_norm[zl])\n",
    "\n",
    "        # return len(rp) array representing [B(rp) - 1] at zl \n",
    "        return igl_zph, zl\n",
    "    \n",
    "    # parallelised integration routine\n",
    "    iterables = list(range(len(z_l)))\n",
    "\n",
    "    poolsize = 30\n",
    "\n",
    "    # allocate array to store [B(rp) - 1] for each zl\n",
    "    igl_zph = np.zeros([len(z_l), len(r_p)])\n",
    "\n",
    "    start = time.time()\n",
    "    # parallelise previous 2 integrals to save run time\n",
    "    with mp.Pool(poolsize) as p:\n",
    "        # output values and process ID (imap should ensure correct order)\n",
    "        igl_zph, order = zip(*p.map(integrate_zph, iterables))\n",
    "\n",
    "    # run quick test to ensure order of outputs was preserved\n",
    "    check_order = list(order)\n",
    "    if check_order == iterables:\n",
    "        print('Order preserved for zl indices %d-%d'%(iterables[0],iterables[-1]))\n",
    "    else:\n",
    "        print('Order scrambled, data corrupted, exiting...')\n",
    "        exit()\n",
    "\n",
    "    # All [B(rp) - 1]_zl have been collected into a [len(z_l) x len(r_p)] array \n",
    "    # We must flip along the rows as previous integrals were collected with zl descending, \n",
    "    # but we integrate over an ascending dndz_l\n",
    "    igd_zl = np.flip(igl_zph, axis=0) * dndz_l[:,None]\n",
    "    \n",
    "    # compute final integral, which represents B - 1\n",
    "    igl_zl = scipy.integrate.simps(igd_zl, z_l, axis=0) / scipy.integrate.simps(dndz_l, z_l)\n",
    "    \n",
    "    # save data\n",
    "    np.savez('Boost_data_year%d'%year, B_min1 = igl_zl, B = igl_zl + 1., rp = r_p, theta = sp.theta_cents)\n",
    "\n",
    "    end = time.time()\n",
    "    print('Boost estimation complete')\n",
    "    print('Runtime = %g seconds'%(end-start))\n",
    "    \n",
    "    return igl_zl, sp.theta_cents"
   ]
  },
  {
   "cell_type": "code",
   "execution_count": 10,
   "id": "33112c97-2020-43a1-9f85-5d876f1ec418",
   "metadata": {
    "tags": []
   },
   "outputs": [
    {
     "name": "stdout",
     "output_type": "stream",
     "text": [
      "Pk_gg calculated\n",
      "xi_gg calculated\n",
      "Order preserved for zl indices 0-299\n",
      "xi_ls estimation complete\n",
      "Runtime: 14.1132 seconds\n",
      "Order preserved for zl indices 0-299\n",
      "Boost estimation complete\n",
      "Runtime = 59.501 seconds\n"
     ]
    },
    {
     "data": {
      "text/plain": [
       "(array([1.55054403e+00, 8.56579079e-01, 5.12606204e-01, 3.15869661e-01,\n",
       "        1.76380834e-01, 8.99096336e-02, 3.97979825e-02, 1.48891852e-02,\n",
       "        4.34900635e-03, 8.25012953e-04]),\n",
       " array([  3.14731353,   4.98815579,   7.90569415,  12.52968084,\n",
       "         19.85820587,  31.47313529,  49.88155787,  79.0569415 ,\n",
       "        125.29680841, 198.58205868]))"
      ]
     },
     "execution_count": 10,
     "metadata": {},
     "output_type": "execute_result"
    },
    {
     "data": {
      "image/png": "[encoded data removed]",
      "text/plain": [
       "<Figure size 432x288 with 1 Axes>"
      ]
     },
     "metadata": {
      "needs_background": "light"
     },
     "output_type": "display_data"
    }
   ],
   "source": [
    "get_boosts(year=1)"
   ]
  },
  {
   "cell_type": "code",
   "execution_count": 12,
   "id": "f5579ddb-4609-42a7-b8c3-66213e60c539",
   "metadata": {},
   "outputs": [
    {
     "data": {
      "image/png": "[encoded data removed]",
      "text/plain": [
       "<Figure size 432x288 with 1 Axes>"
      ]
     },
     "metadata": {
      "needs_background": "light"
     },
     "output_type": "display_data"
    }
   ],
   "source": [
    "Bmin_1 = np.load('Boost_data_year1.npz')['B_min1']\n",
    "theta = np.load('Boost_data_year1.npz')['theta']\n",
    "\n",
    "plt.plot(theta, Bmin_1, linewidth=0, marker='o')\n",
    "plt.xscale('log')\n",
    "#plt.yscale('log')"
   ]
  },
  {
   "cell_type": "markdown",
   "id": "da6b786c-79b5-4edf-8f77-5c86e2026d37",
   "metadata": {},
   "source": [
    "Adding normalisations for dndz_Pi[zl] over only z_Pi[zl] slice made boosts increase by factor 10, however, scaling is improved\n",
    "without k included in gaussian"
   ]
  },
  {
   "cell_type": "markdown",
   "id": "ebb45697-c411-4d1f-a199-ac23107bbf21",
   "metadata": {},
   "source": [
    "### Old paralleisation code that doesn't really work but I'm keeping just in case the new thing is completely wrong"
   ]
  },
  {
   "cell_type": "code",
   "execution_count": null,
   "id": "efca907e-31a3-4584-88fc-f8860bedd519",
   "metadata": {},
   "outputs": [],
   "source": [
    "# # make sure process doesn't run beyond length of zl array \n",
    "# while iterables[-1] < len(z_l):\n",
    "    \n",
    "#     # open multiprocess pool in with statement so it closes after it's complete\n",
    "#     with mp.Pool(poolsize) as p:\n",
    "#         # output values and process ID (imap should ensure correct order)\n",
    "#         xi_ofPi, order = zip(*p.imap(wrap_for_mp, iterables))\n",
    "\n",
    "#     # run quick test to ensure order of outputs was preserved\n",
    "#     check_order = list(order)\n",
    "#     if check_order == iterables:\n",
    "#         print('Order preserved for zi values %d-%d'%(iterables[0],iterables[-1]))\n",
    "#     else:\n",
    "#         print('Order scrambled, data corrupted, exiting...')\n",
    "#         break\n",
    "        \n",
    "#     print(np.shape(xi_ofPi))\n",
    "#     # set corresponding positions in xi_ls == xi_ofPi\n",
    "#     start_index = iterables[0]\n",
    "#     xi_ls[iterables[0:30]] = xi_ofPi\n",
    "    \n",
    "#     # increase values of iterables array for next set of iterations\n",
    "#     iterables = [i + poolsize for i in iterables]"
   ]
  },
  {
   "cell_type": "markdown",
   "id": "932e85ea-696f-4739-a869-fc10d7373173",
   "metadata": {},
   "source": [
    "### Original Interpolation Code"
   ]
  },
  {
   "cell_type": "code",
   "execution_count": null,
   "id": "3be66b96-89ad-4a84-9bd9-d7eb30f46158",
   "metadata": {},
   "outputs": [],
   "source": [
    "# xi_interp_r = [0] * len(z_l)\n",
    "# xi_ofPi = [0] * len(z_l)\n",
    "\n",
    "# for zl in range(len(z_l)):\n",
    "#     # xi_gg is a function of r, so we interpolate it across r to later find x_ls as a function of rp and pi\n",
    "#     xi_interp_r[zl] = scipy.interpolate.interp1d(r, xi_gg[:, zl])\n",
    "#     # preallocate array for xi(rp,pi(zl))\n",
    "#     xi_ofPi[zl] = np.zeros((len(r_p), len(Pi[zl])))\n",
    "#     for ri in range(len(r_p)):\n",
    "#         for pi in range(len(Pi[zl])):\n",
    "#             rp_pi_zl = np.sqrt((r_p[ri]**2 + Pi[zl][pi]**2))\n",
    "#             xi_ofPi[zl][ri, pi] = xi_interp_r[zl](rp_pi_zl)"
   ]
  }
 ],
 "metadata": {
  "kernelspec": {
   "display_name": "Python 3 (ipykernel)",
   "language": "python",
   "name": "python3"
  },
  "language_info": {
   "codemirror_mode": {
    "name": "ipython",
    "version": 3
   },
   "file_extension": ".py",
   "mimetype": "text/x-python",
   "name": "python",
   "nbconvert_exporter": "python",
   "pygments_lexer": "ipython3",
   "version": "3.9.5"
  }
 },
 "nbformat": 4,
 "nbformat_minor": 5
}
