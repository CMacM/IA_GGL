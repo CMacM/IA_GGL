{
 "cells": [
  {
   "cell_type": "code",
   "execution_count": 1,
   "metadata": {},
   "outputs": [
    {
     "name": "stderr",
     "output_type": "stream",
     "text": [
      "/usr/local/lib/python2.7/dist-packages/halotools/sim_manager/halo_table_cache.py:12: UserWarning: Some of the functionality of the HaloTableCache classrequires h5py to be installed.\n",
      "  warn(\"Some of the functionality of the HaloTableCache class\"\n",
      "/usr/local/lib/python2.7/dist-packages/halotools/sim_manager/user_supplied_ptcl_catalog.py:13: UserWarning: Most of the functionality of the sim_manager sub-package requires h5py to be installed,\n",
      "which can be accomplished either with pip or conda\n",
      "  warn(\"Most of the functionality of the sim_manager \"\n",
      "/usr/local/lib/python2.7/dist-packages/halotools/sim_manager/download_manager.py:39: UserWarning: Some of the functionality of the DownloadManager requires h5py to be installed,\n",
      "which can be accomplished either with pip or conda\n",
      "  warn(\"Some of the functionality of the DownloadManager requires h5py to be installed,\\n\"\n",
      "/usr/local/lib/python2.7/dist-packages/halotools/sim_manager/cached_halo_catalog.py:15: UserWarning: Most of the functionality of the sim_manager sub-package requires h5py to be installed,\n",
      "which can be accomplished either with pip or conda. \n",
      "  warn(\"Most of the functionality of the \"\n"
     ]
    }
   ],
   "source": [
    "%matplotlib inline\n",
    "import numpy as np\n",
    "import scipy.integrate\n",
    "import scipy.interpolate\n",
    "import matplotlib.pyplot as plt\n",
    "\n",
    "import shared_functions_setup as setup\n",
    "import shared_functions_wlp_wls as shared\n",
    "\n",
    "SURVEY = 'SDSS'\n",
    "endfile = 'HODupdate'\n",
    "\n",
    "if (SURVEY=='SDSS'):\n",
    "    import params as pa\n",
    "elif (SURVEY=='LSST_DESI'):\n",
    "    import params_LSST_DESI as pa\n",
    "else:\n",
    "    print \"We don't have support for that survey yet; exiting.\"\n",
    "    exit()"
   ]
  },
  {
   "cell_type": "code",
   "execution_count": 2,
   "metadata": {
    "collapsed": true
   },
   "outputs": [],
   "source": [
    "def sigma_e(z_s_):\n",
    "    \"\"\" Returns a value for the model for the per-galaxy noise as a function of source redshift\"\"\"\n",
    "\n",
    "    if hasattr(z_s_, \"__len__\"):\n",
    "        sig_e = 2. / pa.S_to_N * np.ones(len(z_s_))\n",
    "    else:\n",
    "        sig_e = 2. / pa.S_to_N\n",
    "\n",
    "    return sig_e\n",
    "\n",
    "def get_SigmaC_inv(z_s_, z_l_):\n",
    "    \"\"\" Returns the theoretical value of 1/Sigma_c, (Sigma_c = the critcial surface mass density).\n",
    "    z_s_ and z_l_ can be 1d arrays, so the returned value will in general be a 2d array. \"\"\"\n",
    "\n",
    "    com_s = chi_of_z(z_s_) \n",
    "    com_l = chi_of_z(z_l_) \n",
    "\n",
    "    # Get scale factors for converting between angular-diameter and comoving distances.\n",
    "    a_l = 1. / (z_l_ + 1.)\n",
    "    a_s = 1. / (z_s_ + 1.)\n",
    "    \n",
    "    D_s = a_s * com_s # Angular diameter source distance.\n",
    "    D_l = a_l * com_l # Angular diameter lens distance\n",
    "    \n",
    "    # The dimensions of D_ls depend on the dimensions of z_s_ and z_l_\n",
    "    if ((hasattr(z_s_, \"__len__\")==True) and (hasattr(z_l_, \"__len__\")==True)):\n",
    "        D_ls = np.zeros((len(z_s_), len(z_l_)))\n",
    "        Sigma_c_inv = np.zeros((len(z_s_), len(z_l_)))\n",
    "        for zsi in range(0,len(z_s_)):\n",
    "            for zli in range(0,len(z_l_)):\n",
    "                D_ls[zsi, zli] = D_s[zsi] - D_l[zli]\n",
    "                # Units are pc^2 / (h Msun), comoving\n",
    "                if(D_ls[zsi, zli]<0.):\n",
    "                    Sigma_c_inv[zsi, zli] = 0.\n",
    "                else:\n",
    "                    Sigma_c_inv[zsi, zli] = 4. * np.pi * (pa.Gnewt * pa.Msun) * (10**12 / pa.c**2) / pa.mperMpc *   D_l[zli] * D_ls[zsi, zli] * (1 + z_l_[zli])**2 / D_s[zsi]\n",
    "    else:\n",
    "        D_ls = (D_s - D_l) \n",
    "        # Units are pc^2 / (h Msun), comoving\n",
    "        if hasattr(z_s_, \"__len__\"):\n",
    "            Sigma_c_inv = np.zeros(len(z_s_))\n",
    "            for zsi in range(0, len(z_s_)):\n",
    "                if(D_s[zsi]<=D_l):\n",
    "                    Sigma_c_inv[zsi] = 0.\n",
    "                else:\n",
    "                    Sigma_c_inv[zsi] = 4. * np.pi * (pa.Gnewt * pa.Msun) * (10**12 / pa.c**2) / pa.mperMpc *   D_l * D_ls[zsi]* (1 + z_l_)**2 / D_s[zsi]\n",
    "        elif hasattr(z_l_, \"__len__\"): \n",
    "            Sigma_c_inv = np.zeros(len(z_l_))\n",
    "            for zli in range(0,len(z_l_)):\n",
    "                if(D_s<=D_l[zli]):\n",
    "                    Sigma_c_inv[zli] = 0.\n",
    "                else:\n",
    "                    Sigma_c_inv[zli] = 4. * np.pi * (pa.Gnewt * pa.Msun) * (10**12 / pa.c**2) / pa.mperMpc *   D_l[zli] * D_ls[zli]* (1 + z_l_[zli])**2 / D_s\n",
    "        else:\n",
    "            if (D_s<D_l):\n",
    "                Sigma_c_inv=0.\n",
    "            else:\n",
    "                 Sigma_c_inv= 4. * np.pi * (pa.Gnewt * pa.Msun) * (10**12 / pa.c**2) / pa.mperMpc *   D_l * D_ls* (1 + z_l_)**2 / D_s\n",
    "                    \n",
    "    return Sigma_c_inv\n",
    "\n",
    "\n",
    "def weights(e_rms, z_, z_l_):\n",
    "\n",
    "    \"\"\" Returns the inverse variance weights as a function of redshift. \"\"\"\n",
    "        \n",
    "    SigC_t_inv = get_SigmaC_inv(z_, z_l_)\n",
    "\n",
    "    if ((hasattr(z_, \"__len__\")==True) and (hasattr(z_l_, \"__len__\")==True)):\n",
    "        weights = np.zeros((len(z_), len(z_l_)))\n",
    "        for zsi in range(0,len(z_)):\n",
    "            for zli in range(0,len(z_l_)):\n",
    "                weights[zsi, zli] = SigC_t_inv[zsi, zli]**2/(sigma_e(z_)[zsi]**2 + e_rms**2)\n",
    "    else:\n",
    "        if (hasattr(z_, \"__len__\")):\n",
    "            weights = SigC_t_inv**2/(sigma_e(z_)**2 + e_rms**2 * np.ones(len(z_)))\n",
    "        else:\n",
    "            weights = SigC_t_inv**2/(sigma_e(z_)**2 + e_rms**2 )\n",
    "\n",
    "    return weights\n",
    "\n",
    "def weights_shapes(e_rms, z_):\n",
    "    \"\"\" Returns the inverse variance weights as a function of redshift for tangential shear (not DS). \"\"\"\n",
    "    if (hasattr(z_, \"__len__\")):\n",
    "        weights = 1./(sigma_e(z_)**2 + e_rms**2 * np.ones(len(z_)))\n",
    "    else:\n",
    "        weights = 1./(sigma_e(z_)**2 + e_rms**2)\n",
    "\n",
    "    return weights\n",
    "\n",
    "def get_NofZ_unnormed(dNdzpar, dNdztype, z):\n",
    "    \"\"\" Returns the dNdz of the sources as a function of photometric redshift, as well as the z points at which it is evaluated.\"\"\"\n",
    "\n",
    "    if (dNdztype == 'Nakajima'):\n",
    "        # dNdz takes form like in Nakajima et al. 2011 equation 3\n",
    "        a = dNdzpar[0]\n",
    "        zs = dNdzpar[1]\n",
    "\n",
    "        nofz_ = (z / zs)**(a-1.) * np.exp( -0.5 * (z / zs)**2)\n",
    "    elif (dNdztype == 'Smail'):\n",
    "        # dNdz take form like in Smail et al. 1994\n",
    "        alpha = dNdzpar[0]\n",
    "        z0 = dNdzpar[1]\n",
    "        beta = dNdzpar[2]\n",
    "        nofz_ = z**alpha * np.exp( - (z / z0)**beta)\n",
    "    else:\n",
    "        print \"dNdz type \"+str(dNdztype)+\" not yet supported; exiting.\"\n",
    "        exit()\n",
    "\n",
    "    return  nofz_"
   ]
  },
  {
   "cell_type": "markdown",
   "metadata": {},
   "source": [
    "The goal here is to simplify the boost function (single lens redshift for example) to debug the 1-halo term problem."
   ]
  },
  {
   "cell_type": "code",
   "execution_count": 3,
   "metadata": {
    "collapsed": true
   },
   "outputs": [],
   "source": [
    "# Set up interpolating functions for z(chi) and chi(z)\n",
    "(z_of_chi, chi_of_z) = setup.z_interpof_com(SURVEY)"
   ]
  },
  {
   "cell_type": "code",
   "execution_count": 4,
   "metadata": {},
   "outputs": [
    {
     "data": {
      "image/png": "[encoded data removed]",
      "text/plain": [
       "<matplotlib.figure.Figure at 0x7ff4502cd2d0>"
      ]
     },
     "metadata": {},
     "output_type": "display_data"
    }
   ],
   "source": [
    "# Import the correlation function, from CLASS w/ halofit + FFTlog. This is for the 2halo term.\n",
    "# Import also the 1-halo term for the correlation function.\n",
    "# This is computed using the HOD's of the lens and source samples and FFTlog.\n",
    "(r, xi_2h_mm) = np.loadtxt('./txtfiles/halofit_xi/xi_2h_zavg_'+SURVEY+'_'+endfile+'.txt', unpack=True)\n",
    "(r, xi_1h) = np.loadtxt('./txtfiles/xi_1h_terms/xigg_1h_'+SURVEY+'_'+endfile+'.txt', unpack=True)\n",
    "for ri in range(0,len(r)):\n",
    "    if r[ri]>3:\n",
    "        xi_1h[ri] = 0.\n",
    "xi_2h = pa.bd* pa.bs * xi_2h_mm\n",
    "\n",
    "xi = xi_1h + xi_2h\n",
    "\n",
    "plt.figure()\n",
    "plt.loglog(r, np.abs(xi), 'm+')\n",
    "#plt.hold(True)\n",
    "#plt.loglog(r, xi_2h, 'b+')\n",
    "#plt.hold(True)\n",
    "#plt.loglog(r, xi_1h, 'g+')\n",
    "#plt.xlim(0.04, 30)\n",
    "#plt.ylim(0.001, 10**5)\n",
    "plt.show()\n"
   ]
  },
  {
   "cell_type": "code",
   "execution_count": 5,
   "metadata": {},
   "outputs": [],
   "source": [
    "# Get the comoving distance associated to the lens redshift\n",
    "chil = setup.com(pa.zeff, SURVEY, pa.cos_par_std)\n",
    "\n",
    "# Let's take a projection length of 100 Mpc/h\n",
    "minPiPos = 0.0001\n",
    "maxPiPos = 200. #chi_of_z(pa.zsmax) - chil\n",
    "Pi_pos= scipy.logspace(np.log10(minPiPos), np.log10(maxPiPos), 3000)\n",
    "    \n",
    "# Pi can be positive or negative, so now flip this and include the negative values, but only down to z=0\n",
    "# And avoid including multiple of the same values - this messes up some integration routines.\n",
    "Pi_pos_vec= list(Pi_pos)[1:]\n",
    "Pi_pos_vec.reverse()\n",
    "index_cut = next(j[0] for j in enumerate(Pi_pos_vec) if j[1]<=(chil-chi_of_z(pa.zsmin)))\n",
    "Pi = np.append(-np.asarray(Pi_pos_vec[index_cut:]),np.append([0], Pi_pos))\n"
   ]
  },
  {
   "cell_type": "code",
   "execution_count": 6,
   "metadata": {},
   "outputs": [],
   "source": [
    "# Get the correlation function in terms of Pi at a variety of rp values, including rp=1 where we want it for using the power law\n",
    "rpvec = np.logspace(np.log10(0.05), np.log10(20.), 30)\n",
    "xi_interp_r= scipy.interpolate.interp1d(r, xi)\n",
    "xi_ofPi = np.zeros((len(rpvec), len(Pi)))\n",
    "for ri in range(0,len(rpvec)):\n",
    "    for pi in range(0,len(Pi)):\n",
    "        xi_ofPi[ri, pi] = xi_interp_r(np.sqrt(rpvec[ri]**2 + Pi[pi]**2))\n",
    "        \n",
    "#plt.figure()\n",
    "#plt.plot(Pi, np.abs(xi_ofPi[0, :]))\n",
    "#plt.xlim(-5, 5)\n",
    "#plt.show()\n",
    "#print \"max=\", max(xi_ofPi[0,:])\n",
    "#ind = next(j[0] for j in enumerate(xi_ofPi[0,:]) if j[1]>2100)\n",
    "#print \"ind Pi=\", Pi[ind]\n",
    "    \n",
    "# Get the vector of com dist values associated to Pi values:\n",
    "com_Pi = chil + Pi\n",
    "z_Pi = z_of_chi(com_Pi)"
   ]
  },
  {
   "cell_type": "code",
   "execution_count": 7,
   "metadata": {
    "collapsed": true
   },
   "outputs": [],
   "source": [
    "# Okay, now we do the required integrals:\n",
    "# Define the z_ph vectors for the three subsamples we care about:\n",
    "lenzph = 500\n",
    "z_a = scipy.linspace(pa.zeff, pa.zeff +pa.delta_z, lenzph)\n",
    "z_b = scipy.linspace(pa.zeff+pa.delta_z, pa.zphmax, lenzph)\n",
    "# For the \"assoc\" sample we need to get the z-edges\n",
    "if (pa.close_cut<chil):\n",
    "    zasc_min = z_of_chi(chil - pa.close_cut)\n",
    "    zasc_max = z_of_chi(chil + pa.close_cut)\n",
    "else:\n",
    "    zasc_min = 0.\n",
    "    zasc_max = z_of_chi(chil+ pa.close_cut)\n",
    "z_asc = scipy.linspace(zasc_min, zasc_max, lenzph)    \n",
    "\n",
    "# And one for the normalization:\n",
    "#zp_all = scipy.linspace(pa.zphmin, pa.zphmax, 1000)\n",
    "\n",
    "#Define a longer one for the z_Pi (spectroscopic source redshift) in the normalization integral\n",
    "#the correlation is zero far from the lens, but there are still going to be sources which are uncorrelated\n",
    "# - these should be included in the normalization\n",
    "\n",
    "z_Pi_norm = scipy.linspace(pa.zsmin, pa.zsmax, 1000)"
   ]
  },
  {
   "cell_type": "code",
   "execution_count": 8,
   "metadata": {
    "collapsed": true
   },
   "outputs": [],
   "source": [
    "# Get dNdz of sources\n",
    "dNdz = get_NofZ_unnormed(pa.dNdzpar_fid, pa.dNdztype, z_Pi)\n",
    "\n",
    "# And for the normalization\n",
    "dNdz_norm = get_NofZ_unnormed(pa.dNdzpar_fid, pa.dNdztype, z_Pi_norm)"
   ]
  },
  {
   "cell_type": "code",
   "execution_count": 9,
   "metadata": {},
   "outputs": [
    {
     "name": "stdout",
     "output_type": "stream",
     "text": [
      "zpa= 0.283406813627 zpb= 0.541182364729\n"
     ]
    },
    {
     "data": {
      "image/png": "[encoded data removed]",
      "text/plain": [
       "<matplotlib.figure.Figure at 0x7ff41154ced0>"
      ]
     },
     "metadata": {},
     "output_type": "display_data"
    },
    {
     "data": {
      "image/png": "[encoded data removed]",
      "text/plain": [
       "<matplotlib.figure.Figure at 0x7ff411307310>"
      ]
     },
     "metadata": {},
     "output_type": "display_data"
    },
    {
     "name": "stdout",
     "output_type": "stream",
     "text": [
      "zp= 0.283406813627\n"
     ]
    }
   ],
   "source": [
    "i=10\n",
    "print \"zpa=\", z_a[i], \"zpb=\", z_b[i]\n",
    "pz_b = setup.p_z(z_b[i], z_Pi, pa.pzpar_fid, pa.pztype)\n",
    "pz_a = setup.p_z(z_a[i], z_Pi, pa.pzpar_fid, pa.pztype)\n",
    "\n",
    "plt.figure()\n",
    "plt.semilogy(Pi, pz_b*xi_ofPi[0, :], 'b+')\n",
    "plt.hold(True)\n",
    "plt.semilogy(Pi, pz_a*xi_ofPi[0, :], 'm+')\n",
    "#plt.xlim(-0.1,0.1)\n",
    "plt.ylim(0,10000)\n",
    "plt.show()\n",
    "\n",
    "plt.figure()\n",
    "plt.semilogy(Pi, pz_a*xi_ofPi[0, :], 'm')\n",
    "#plt.xlim(0.27,0.29)\n",
    "plt.ylim(0,10000)\n",
    "plt.show()\n",
    "\n",
    "print \"zp=\", z_a[i]\n"
   ]
  },
  {
   "cell_type": "code",
   "execution_count": 10,
   "metadata": {
    "collapsed": true
   },
   "outputs": [],
   "source": [
    "# Do the integrals in spec-z\n",
    "specint_num_a = np.zeros((lenzph, len(rpvec))); specint_num_b = np.zeros((lenzph, len(rpvec))); \n",
    "specint_num_asc = np.zeros((lenzph, len(rpvec)))\n",
    "specint_denom_a = np.zeros(lenzph); specint_denom_b = np.zeros(lenzph); \n",
    "specint_denom_asc = np.zeros(lenzph)\n",
    "for i in range(0, lenzph):\n",
    "    \n",
    "    pz_a = setup.p_z(z_a[i], z_Pi, pa.pzpar_fid, pa.pztype) \n",
    "    pz_b = setup.p_z(z_b[i], z_Pi, pa.pzpar_fid, pa.pztype)\n",
    "    pz_asc = setup.p_z(z_asc[i], z_Pi, pa.pzpar_fid, pa.pztype)\n",
    "    \n",
    "    pz_a_norm = setup.p_z(z_a[i], z_Pi_norm, pa.pzpar_fid, pa.pztype) \n",
    "    pz_b_norm = setup.p_z(z_b[i], z_Pi_norm, pa.pzpar_fid, pa.pztype)\n",
    "    pz_asc_norm = setup.p_z(z_asc[i], z_Pi_norm, pa.pzpar_fid, pa.pztype)\n",
    "    \n",
    "    specint_denom_a[i] = scipy.integrate.simps(dNdz_norm * pz_a_norm, z_Pi_norm)\n",
    "    specint_denom_b[i] = scipy.integrate.simps(dNdz_norm * pz_b_norm, z_Pi_norm)\n",
    "    specint_denom_asc[i] = scipy.integrate.simps(dNdz_norm * pz_asc_norm, z_Pi_norm)\n",
    "    \n",
    "    for ri in range(0, len(rpvec)):  \n",
    "        specint_num_a[i,ri] = scipy.integrate.simps(dNdz* pz_a* xi_ofPi[ri, :], z_Pi)\n",
    "        specint_num_b[i,ri] = scipy.integrate.simps(dNdz* pz_b * xi_ofPi[ri, :], z_Pi)\n",
    "        specint_num_asc[i,ri] = scipy.integrate.simps(dNdz* pz_asc * xi_ofPi[ri, :], z_Pi)\n",
    "             \n",
    "#specint_denom = np.zeros(len(zp_all))\n",
    "#for zi in range(0,len(zp_all)):\n",
    "#    pz_all = setup.p_z(zp_all[zi], z_Pi, pa.pzpar_fid, pa.pztype)\n",
    "    \n",
    "#    specint_denom[zi] = scipy.integrate.simps(dNdz * pz_all, z_Pi)\n",
    "   \n",
    "# Now do the integrals in photo-z\n",
    "w_a = weights(pa.e_rms_Bl_a,z_a, pa.zeff)\n",
    "w_b= weights(pa.e_rms_Bl_b,z_b, pa.zeff)\n",
    "w_asc = weights_shapes(pa.e_rms_a,pa.zeff)\n",
    "\n",
    "#w_all_Bl = weights(pa.e_rms_Bl_a, zp_all, pa.zeff)\n",
    "#w_all_shapes = weights_shapes(pa.e_rms_a, pa.zeff)\n",
    "\n",
    "Boost_a = np.zeros(len(rpvec))\n",
    "Boost_b = np.zeros(len(rpvec))\n",
    "Boost_asc = np.zeros(len(rpvec))\n",
    "for ri in range(0,len(rpvec)):\n",
    "        Boost_a[ri]= scipy.integrate.simps(w_a * specint_num_a[:, ri], z_a) / scipy.integrate.simps(w_a*specint_denom_a, z_a)\n",
    "        Boost_b[ri] = scipy.integrate.simps(w_b * specint_num_b[:, ri], z_b) / scipy.integrate.simps(w_b*specint_denom_b, z_b)\n",
    "        Boost_asc[ri] = scipy.integrate.simps(w_asc*specint_num_asc[:, ri], z_asc) / scipy.integrate.simps(w_asc* specint_denom_asc, z_asc)\n",
    "        #Boost_a[ri]= scipy.integrate.simps(w_a * specint_num_a[:, ri], z_a) / scipy.integrate.simps(w_all_Bl*specint_denom, zp_all)\n",
    "        #Boost_b[ri] = scipy.integrate.simps(w_b * specint_num_b[:, ri], z_b) / scipy.integrate.simps(w_all_Bl*specint_denom, zp_all)\n",
    "        #Boost_asc[ri] = scipy.integrate.simps(w_asc*specint_num_asc[:, ri], z_asc) / scipy.integrate.simps(w_all_shapes* specint_denom, zp_all)\n",
    "        \n",
    "        \n",
    "    \n",
    "Boost_a_interp= scipy.interpolate.interp1d(rpvec, Boost_a)\n",
    "Boost_b_interp = scipy.interpolate.interp1d(rpvec, Boost_b)\n",
    "Boost_asc_interp = scipy.interpolate.interp1d(rpvec, Boost_asc)\n"
   ]
  },
  {
   "cell_type": "code",
   "execution_count": 11,
   "metadata": {},
   "outputs": [
    {
     "data": {
      "image/png": "[encoded data removed]",
      "text/plain": [
       "<matplotlib.figure.Figure at 0x7ff4111dfdd0>"
      ]
     },
     "metadata": {},
     "output_type": "display_data"
    },
    {
     "data": {
      "image/png": "[encoded data removed]",
      "text/plain": [
       "<matplotlib.figure.Figure at 0x7ff41114ecd0>"
      ]
     },
     "metadata": {},
     "output_type": "display_data"
    },
    {
     "data": {
      "image/png": "[encoded data removed]",
      "text/plain": [
       "<matplotlib.figure.Figure at 0x7ff410c8e890>"
      ]
     },
     "metadata": {},
     "output_type": "display_data"
    },
    {
     "name": "stdout",
     "output_type": "stream",
     "text": [
      "Boost-1, sample a= 0.154894454561\n",
      "Boost-1, sample b = 0.0238888815588\n",
      "Boost-1, sample assoc = 0.224490659052\n"
     ]
    }
   ],
   "source": [
    "plt.figure()\n",
    "plt.loglog(rpvec, Boost_a, 'go', label=\"My B-1\")\n",
    "#plt.hold(True)\n",
    "#plt.loglog(rpvec, Boost_b, 'bo', label=\"My B-1 b\")\n",
    "plt.hold(True)\n",
    "#plt.loglog(rpvec,  Boost_a_interp(1.) * rpvec**(-0.8), 'mo', label=\"~ Blazek 2012\")\n",
    "plt.loglog(rpvec, 0.1 * rpvec**(-0.8), 'mo', label=\"~ Blazek 2012\")\n",
    "plt.xlabel(\"$r_p$, Mpc/h\")\n",
    "plt.ylabel(\"B-1\")\n",
    "plt.title(\"B-1, src sample a\")\n",
    "plt.legend()\n",
    "plt.savefig('./plots/Boost_a_fixsampling_'+str(SURVEY)+'_'+endfile+'.pdf')\n",
    "#plt.show()\n",
    "\n",
    "plt.figure()\n",
    "plt.loglog(rpvec, Boost_b, 'go', label=\"My B-1\")\n",
    "plt.hold(True)\n",
    "#plt.loglog(rpvec,  Boost_b_interp(1.) * rpvec**(-0.8), 'mo', label=\"Power law assumption\")\n",
    "plt.loglog(rpvec,  0.03 * rpvec**(-0.8), 'mo', label=\"~ Blazek 2012\")\n",
    "plt.xlabel(\"$r_p$, Mpc/h\")\n",
    "plt.ylabel(\"B-1\")\n",
    "plt.title(\"B-1, src sample b\")\n",
    "plt.legend()\n",
    "plt.savefig('./plots/Boost_b_fixsampling_'+str(SURVEY)+'_'+endfile+'.pdf')\n",
    "#plt.show()\n",
    "\n",
    "plt.figure()\n",
    "plt.loglog(rpvec, Boost_asc, 'go', label=\"My B-1\")\n",
    "plt.hold(True)\n",
    "#plt.loglog(rpvec,  Boost_asc_interp(1.) * rpvec**(-0.8), 'mo', label=\"Power law assumption\")\n",
    "plt.loglog(rpvec,  0.2 * rpvec**(-0.8), 'mo', label=\"~ Blazek 2012\")\n",
    "plt.ylabel(\"B-1\")\n",
    "plt.title(\"B-1, src sample assoc\")\n",
    "plt.legend()\n",
    "#plt.savefig('./plots/Boost_assoc_fixsampling_'+str(SURVEY)+'_'+endfile+'.pdf')\n",
    "plt.show()\n",
    "\n",
    "\n",
    "print \"Boost-1, sample a=\", Boost_a_interp(1.)\n",
    "print \"Boost-1, sample b =\", Boost_b_interp(1.)\n",
    "print \"Boost-1, sample assoc =\", Boost_asc_interp(1.)"
   ]
  },
  {
   "cell_type": "code",
   "execution_count": null,
   "metadata": {
    "collapsed": true
   },
   "outputs": [],
   "source": []
  },
  {
   "cell_type": "code",
   "execution_count": null,
   "metadata": {
    "collapsed": true
   },
   "outputs": [],
   "source": []
  },
  {
   "cell_type": "code",
   "execution_count": null,
   "metadata": {
    "collapsed": true
   },
   "outputs": [],
   "source": []
  }
 ],
 "metadata": {
  "kernelspec": {
   "display_name": "Python 2",
   "language": "python",
   "name": "python2"
  },
  "language_info": {
   "codemirror_mode": {
    "name": "ipython",
    "version": 2
   },
   "file_extension": ".py",
   "mimetype": "text/x-python",
   "name": "python",
   "nbconvert_exporter": "python",
   "pygments_lexer": "ipython2",
   "version": "2.7.12"
  }
 },
 "nbformat": 4,
 "nbformat_minor": 2
}
