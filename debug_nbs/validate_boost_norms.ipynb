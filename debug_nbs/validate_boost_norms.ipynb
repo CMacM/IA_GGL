{
 "cells": [
  {
   "cell_type": "code",
   "execution_count": 96,
   "id": "41e1a2bb-4d2e-4ad1-82cc-31f34c345119",
   "metadata": {},
   "outputs": [
    {
     "name": "stdout",
     "output_type": "stream",
     "text": [
      "/home/b7009348/WGL_project/LSST_forecast_code\n"
     ]
    }
   ],
   "source": [
    "%cd ~/WGL_project/LSST_forecast_code/\n",
    "\n",
    "from importlib import reload\n",
    "import CM_code.spurious_george as sp\n",
    "reload(sp)\n",
    "\n",
    "import numpy as np\n",
    "import matplotlib.pyplot as plt\n",
    "import scipy\n",
    "import pyccl as ccl"
   ]
  },
  {
   "cell_type": "code",
   "execution_count": 14,
   "id": "b8f64694-9a39-4566-8216-7fa88018b0be",
   "metadata": {},
   "outputs": [
    {
     "name": "stdout",
     "output_type": "stream",
     "text": [
      "Pk_gg calculated\n",
      "xi_gg calculated\n",
      "Order preserved for zl indices 0-299\n",
      "xi_ls estimation complete\n"
     ]
    }
   ],
   "source": [
    "# get xi_ls data to start playing around with bits of boost function\n",
    "xi_ls, rp, Pi, z_Pi, z_l, dndz_l = sp.get_xi_ls()"
   ]
  },
  {
   "cell_type": "markdown",
   "id": "fad6d77f-8deb-4e1b-a9c3-7de84e39a44a",
   "metadata": {},
   "source": [
    "#### This next block should be the part that finds the photometric probability gaussian"
   ]
  },
  {
   "cell_type": "code",
   "execution_count": 47,
   "id": "ee7d7b44-69b4-4f15-bd6b-bfb8adfa01f8",
   "metadata": {},
   "outputs": [],
   "source": [
    "# start by constructing dndz_Pi using SRD parameterisation\n",
    "z_Pi_norm = [0] * len(z_l)\n",
    "dndz_Pi = [0] * len(z_l)\n",
    "dndz_Pi_norm = [0] * len(z_l)\n",
    "zph_norm = [0] * len(z_l)\n",
    "\n",
    "z0 = sp.zed.y1_z0_source\n",
    "alpha = sp.zed.y1_alp_source\n",
    "\n",
    "z_s, dndz_s, zseff = sp.zed.get_dndz_spec('source', year=1.)\n",
    "\n",
    "for zi in range(len(z_l)):\n",
    "    # un-normalised\n",
    "    dndz_Pi[zi] = z_Pi[zi]**2 * np.exp(-(z_Pi[zi]/z0) ** alpha)\n",
    "\n",
    "    # dist and redshifts for normalisation\n",
    "    z_Pi_norm[zi] = np.linspace(0., np.max(z_s)+0.5, len(z_Pi[zi]))\n",
    "    dndz_Pi_norm[zi] = z_Pi_norm[zi]**2 * np.exp(-(z_Pi_norm[zi]/z0) ** alpha)\n",
    "\n",
    "    dndz_Pi_norm[zi] = dndz_Pi_norm[zi] / scipy.integrate.simps(dndz_Pi_norm[zi], z_Pi_norm[zi]) \n",
    "\n",
    "    # set full range of photo-z to normalise over\n",
    "    zph_norm[zi] = np.linspace(0., np.max(z_s)+0.5, len(z_Pi[zi]))\n",
    "\n",
    "# next get error dist p_zPi_zph\n",
    "p_zPi_zph = [0] * len(z_l)\n",
    "p_zPi_zph_norm = [0] * len(z_l)\n",
    "\n",
    "# first loop over z_Pi values for each lens redshift\n",
    "for zl in range(len(z_l)):\n",
    "\n",
    "    # define photo-z shift value for each zl\n",
    "    chi_plus = ccl.comoving_radial_distance(sp.zed.cosmo_SRD, \n",
    "                                        1./(1. + np.max(z_Pi[zl]))) * (sp.pa.HH0/100.) + np.max(Pi[zl])\n",
    "    a_plus = ccl.scale_factor_of_chi(sp.zed.cosmo_SRD, chi_plus / (sp.pa.HH0/100.))\n",
    "    zph_plus = (1. / a_plus) - 1.\n",
    "    # set arbitrary photo-z values in range of z_Pi boosted by 200Mpc in z                                 \n",
    "    zPi_ph = np.linspace(np.min(z_Pi[zl]), zph_plus, len(z_Pi[zl]))\n",
    "\n",
    "    # variance for each z_Pi\n",
    "    sig_z = 0.05*(1. + z_Pi[zl])\n",
    "    sig_z_norm = 0.05*(1. + z_Pi_norm[zl])\n",
    "\n",
    "    p = np.zeros([len(zPi_ph), len(z_Pi[zl])])\n",
    "    p_norm = np.zeros([len(zPi_ph), len(z_Pi[zl])])\n",
    "\n",
    "    # loop over specific z_Pi values to find error dist for each z_Pi, \n",
    "    # also include normalisation over full redshift range\n",
    "    for zi in range(len(z_Pi[zl])):\n",
    "        # create 2D array of z_ph probability at each z_Pi\n",
    "        p[zi,:] =  1. / (np.sqrt(2. * np.pi) * sig_z) * np.exp(-((zPi_ph - z_Pi[zl][zi])**2) / (2. * sig_z**2))\n",
    "\n",
    "        p_norm[zi,:] =  1. / (np.sqrt(2. * np.pi) * sig_z_norm) * np.exp(-((zph_norm[zl] - z_Pi_norm[zl][zi])**2) / (2. * sig_z_norm**2))\n",
    "\n",
    "    # save p(z_Pi,z_ph) at each lens redshift\n",
    "    p_zPi_zph[zl] = p\n",
    "    # need to also get error pdf for full zph to normalise over\n",
    "    p_zPi_zph_norm[zl] = p_norm"
   ]
  },
  {
   "cell_type": "markdown",
   "id": "30db0f0a-5b5c-4b60-a1be-5b5cc0d3f3a2",
   "metadata": {},
   "source": [
    "#### Convolve photo-z probability with redshift distribution"
   ]
  },
  {
   "cell_type": "code",
   "execution_count": 75,
   "id": "8e16ba2c-4563-4cfd-822a-ee30eaecae7e",
   "metadata": {},
   "outputs": [
    {
     "name": "stdout",
     "output_type": "stream",
     "text": [
      "3.96237611587694e-24\n"
     ]
    },
    {
     "data": {
      "image/png": "[encoded data removed]",
      "text/plain": [
       "<Figure size 640x480 with 1 Axes>"
      ]
     },
     "metadata": {},
     "output_type": "display_data"
    }
   ],
   "source": [
    "lensZ = sp.zed.get_dndz_phot(gtype='source',\n",
    "                      zsmin=np.min(z_Pi[4]),\n",
    "                      zsmax=np.max(z_Pi[4])\n",
    "                     )\n",
    "\n",
    "plt.plot(lensZ[0], lensZ[1])\n",
    "print(lensZ[1][0])"
   ]
  },
  {
   "cell_type": "code",
   "execution_count": null,
   "id": "fe3124d4-2e27-4916-9227-83e341057499",
   "metadata": {},
   "outputs": [
    {
     "name": "stdout",
     "output_type": "stream",
     "text": [
      "Pk_gg calculated\n"
     ]
    }
   ],
   "source": [
    "# lets try test boosts and see what we get\n",
    "boost, theta = sp.test_boosts()"
   ]
  }
 ],
 "metadata": {
  "kernelspec": {
   "display_name": "Python [conda env:ccl_tjp]",
   "language": "python",
   "name": "conda-env-ccl_tjp-py"
  },
  "language_info": {
   "codemirror_mode": {
    "name": "ipython",
    "version": 3
   },
   "file_extension": ".py",
   "mimetype": "text/x-python",
   "name": "python",
   "nbconvert_exporter": "python",
   "pygments_lexer": "ipython3",
   "version": "3.9.15"
  }
 },
 "nbformat": 4,
 "nbformat_minor": 5
}
