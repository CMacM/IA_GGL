{
 "cells": [
  {
   "cell_type": "markdown",
   "metadata": {},
   "source": [
    "Check the large scale galaxy bias as implied by the HOD models we use for each source and lens sample."
   ]
  },
  {
   "cell_type": "code",
   "execution_count": 1,
   "metadata": {},
   "outputs": [
    {
     "name": "stderr",
     "output_type": "stream",
     "text": [
      "/usr/local/lib/python2.7/dist-packages/halotools/sim_manager/halo_table_cache.py:12: UserWarning: Some of the functionality of the HaloTableCache classrequires h5py to be installed.\n",
      "  warn(\"Some of the functionality of the HaloTableCache class\"\n",
      "/usr/local/lib/python2.7/dist-packages/halotools/sim_manager/user_supplied_ptcl_catalog.py:13: UserWarning: Most of the functionality of the sim_manager sub-package requires h5py to be installed,\n",
      "which can be accomplished either with pip or conda\n",
      "  warn(\"Most of the functionality of the sim_manager \"\n",
      "/usr/local/lib/python2.7/dist-packages/halotools/sim_manager/download_manager.py:39: UserWarning: Some of the functionality of the DownloadManager requires h5py to be installed,\n",
      "which can be accomplished either with pip or conda\n",
      "  warn(\"Some of the functionality of the DownloadManager requires h5py to be installed,\\n\"\n",
      "/usr/local/lib/python2.7/dist-packages/halotools/sim_manager/cached_halo_catalog.py:15: UserWarning: Most of the functionality of the sim_manager sub-package requires h5py to be installed,\n",
      "which can be accomplished either with pip or conda. \n",
      "  warn(\"Most of the functionality of the \"\n"
     ]
    }
   ],
   "source": [
    "# Import modules\n",
    "% matplotlib inline\n",
    "import numpy as np; \n",
    "import scipy.integrate; \n",
    "import scipy.interpolate; \n",
    "import matplotlib.pyplot as plt\n",
    "import pyccl as ccl; \n",
    "import shared_functions_wlp_wls as shared; \n",
    "import shared_functions_setup as setup"
   ]
  },
  {
   "cell_type": "code",
   "execution_count": 2,
   "metadata": {
    "collapsed": true
   },
   "outputs": [],
   "source": [
    "# Set the survey\n",
    "survey = 'SDSS'\n",
    "if (survey == 'SDSS'):\n",
    "    import params as pa\n",
    "elif (survey == 'LSST_DESI'):\n",
    "    import params_LSST_DESI as pa"
   ]
  },
  {
   "cell_type": "code",
   "execution_count": 3,
   "metadata": {
    "collapsed": true
   },
   "outputs": [],
   "source": [
    "#Initialize the cosmology\n",
    "OmM = pa.OmC_l + pa.OmB_l; OmB=pa.OmB_l; h0 = pa.HH0_l / 100.; sigma80=pa.sigma8_l; n_s0 = pa.n_s_l;\n",
    "#OmM = 0.25; OmB=0.05; h0 = pa.HH0_l / 100.; sigma80=0.79; n_s0 = pa.n_s_l;\n",
    "\n",
    "p = ccl.Parameters(Omega_c = OmM-OmB, Omega_b = OmB, h = h0, sigma8=sigma80, n_s=n_s0)\n",
    "cosmo = ccl.Cosmology(p)\n",
    "\n",
    "rho_crit = 3. * 10**10 * pa.mperMpc / (8. * np.pi * pa.Gnewt * pa.Msun)  # Msol h^2 / Mpc^3, for use with M in Msol / h (comoving distances)\n",
    "rho_m = (OmM) * rho_crit # units of Msol h^2 / Mpc^3 (comoving distances)"
   ]
  },
  {
   "cell_type": "code",
   "execution_count": null,
   "metadata": {
    "collapsed": true
   },
   "outputs": [],
   "source": [
    "# Get the window function of sources x lenses (this is the redshift range we care about)\n",
    "#(z, dNdz) = shared.window(survey)    \n",
    "\n",
    "# At the moment get the window function of just lenses\n",
    "z = np.linspace(pa.zLmin, pa.zLmax, 100)\n",
    "dNdz = setup.get_dNdzL(z, survey)\n",
    "    \n",
    "# Get the halo mass function and halo bias\n",
    "Mhvec = np.logspace(9.,16,30) # In units Msol / h\n",
    "HMF = np.zeros((len(Mhvec), len(z)))\n",
    "#bh = np.zeros((len(Mhvec), len(z)))\n",
    "for zi in range(0,len(z)):\n",
    "    HMF[:,zi] = ccl.massfunction.massfunc(cosmo, Mhvec /h0, 1./ (1. + z[zi]), odelta=200.) / h0**3\n",
    "#HMF= ccl.massfunction.massfunc(cosmo, Mhvec / h0, 1./ (1. + z), odelta=200.) / h0**3"
   ]
  },
  {
   "cell_type": "code",
   "execution_count": null,
   "metadata": {
    "collapsed": true
   },
   "outputs": [],
   "source": [
    "# Get y(k,M) (the fourier transformed profile)\n",
    "logkmin = -6; kpts =40000; logkmax = 5; \n",
    "kvec_FT = np.logspace(logkmin, logkmax, kpts)\n",
    "# Actually we will use a downsampled version of this:\n",
    "k = np.logspace(np.log10(kvec_FT[0]), np.log10(kvec_FT[-1]), 40)\n",
    "y = shared.gety_ldm(Mhvec, k, survey)"
   ]
  },
  {
   "cell_type": "code",
   "execution_count": null,
   "metadata": {
    "collapsed": true
   },
   "outputs": [],
   "source": [
    "# Now, we want to convert this to a 1-halo and 2-halo galaxy power spectrum using the various HOD's we use.\n",
    "# We need Mstarlow for the Zu & Mandelbaum halo model\n",
    "#tot_nsrc = shared.vol_dens(pa.fsky, pa.N_shapes, survey)\n",
    "#Mstarlow = shared.get_Mstar_low(survey, tot_nsrc)\n",
    "#print \"Mstarlow=\", Mstarlow"
   ]
  },
  {
   "cell_type": "code",
   "execution_count": null,
   "metadata": {
    "collapsed": true,
    "scrolled": true
   },
   "outputs": [],
   "source": [
    "# Get occupation numbers as a function of mass\n",
    "if (survey == 'SDSS'):\n",
    "    Ncen_lens = shared.get_Ncen_Reid(Mhvec, survey)  # Reid & Spergel\n",
    "    Nsat_lens = shared.get_Nsat_Reid(Mhvec, survey)  # Reid & Spergel \n",
    "    #Ncen_src = shared.get_Ncen_Zu(Mhvec, Mstarlow, survey)  \t# Zu & Mandelbaum 2015\n",
    "    #Nsat_src_wlens = shared.get_Nsat_Zu(Mhvec, Mstarlow, 'with_lens', survey)  # Zu & Mandelbaum 2015\n",
    "    #Nsat_src_tot = shared.get_Nsat_Zu(Mhvec, Mstarlow, 'tot', survey)  # Zu & Mandelbaum 2015\n",
    "elif (survey== 'LSST_DESI'):\n",
    "    Ncen_lens = shared.get_Ncen_More(Mhvec, survey) # CMASS\n",
    "    Nsat_lens = shared.get_Nsat_More(Mhvec, survey) # CMASS \n",
    "    Nsat_src_wlens = shared.get_Nsat_Zu(Mhvec, Mstarlow, 'with_lens', survey)  # Zu & Mandelbaum 2015\n",
    "    Nsat_src_tot = shared.get_Nsat_Zu(Mhvec, Mstarlow, 'tot', survey)  # Zu & Mandelbaum 2015\n",
    "    Ncen_src = shared.get_Ncen_Zu(Mhvec, Mstarlow, survey)  \t# Zu & Mandelbaum 2015\n",
    "\n",
    "# Uncomment the following to plot some checks    \n",
    "    \n",
    "#plt.figure(figsize=[5,5])\n",
    "#plt.semilogx(Mhvec / h0, Ncen_lens, linestyle='--')\n",
    "#plt.hold(True)\n",
    "#plt.semilogx(Mhvec/h0, Nsat_lens)\n",
    "#plt.ylim(0, 7)\n",
    "#plt.xlim(10**13, 2.5*10**15)\n",
    "#plt.ylabel('$<N_{cen}(M) N_{sat}(M)>$')\n",
    "#plt.xlabel('$M/M_\\odot$')\n",
    "#plt.savefig('./plots/Nsat_Reid2008.pdf')   \n",
    "\n",
    "#interp_Nsat = scipy.interpolate.interp1d(Mhvec/h0, Nsat_lens)\n",
    "\n",
    "#Mh_morepoints = np.logspace(13, np.log10(2.5*10**15),100)\n",
    "#Nsat_morepoints = interp_Nsat(Mh_morepoints)\n",
    "#print zip(Mh_morepoints, Nsat_morepoints)\n",
    "    \n",
    "#plt.figure()\n",
    "#plt.loglog(Mhvec/(pa.HH0_s/100.), Ncen_lens, 'k', label='Lens centrals')\n",
    "#plt.hold(True)\n",
    "#plt.loglog(Mhvec/(pa.HH0_s/100.), Nsat_lens, 'm', label='Lens satellites')\n",
    "#plt.hold(True)\n",
    "#plt.loglog(Mhvec/(pa.HH0_s/100.), Nsat_src_wlens, 'g', label='Source satellites')\n",
    "#plt.hold(True)\n",
    "#plt.axhline(y=1)\n",
    "#plt.ylim(0.01,1000)\n",
    "#plt.xlim(10**11, 3*10**15)\n",
    "#plt.ylabel('$<N(M)>$')\n",
    "#plt.xlabel('$M/M_\\odot$')\n",
    "#plt.legend(loc='upper left')\n",
    "#plt.savefig('./plots/N(M).png')\"\"\" \n",
    "    \n",
    "#plt.figure()\n",
    "#plt.semilogx(Mhvec/(pa.HH0_s/100.) , Ncen_lens)\n",
    "#plt.hold(True)\n",
    "#plt.semilogx(Mhvec/(pa.HH0_s/100.), Ncen_lens * Nsat_lens)\n",
    "#plt.ylim(0,7)\n",
    "#plt.xlim(10**9, 3*10**15)\n",
    "#plt.ylabel('$<N_{cen}(M) N_{sat}(M)>$')\n",
    "#plt.xlabel('$M/M_\\odot$')\n",
    "#plt.show()"
   ]
  },
  {
   "cell_type": "code",
   "execution_count": null,
   "metadata": {
    "collapsed": true
   },
   "outputs": [],
   "source": [
    "#HMF_intz = np.zeros(len(Mhvec))\n",
    "#for mi in range(0,len(Mhvec)):\n",
    "#    HMF_intz[mi] = scipy.integrate.simps(HMF[mi, :]*dNdz, z)\n",
    "    \n",
    "#dnsatdlogM = np.abs(HMF_intz * 10**9 * Nsat_lens) \n",
    "\n",
    "#print \"dndsadlogM=\", Nsat_lens\n",
    "\n",
    "#plt.figure()\n",
    "#plt.loglog(Mhvec / h0, dnsatdlogM, 'bo')\n",
    "#plt.xlim(2*10**13, 3*10**15)\n",
    "#plt.ylim(0, 8500)\n",
    "#plt.show()"
   ]
  },
  {
   "cell_type": "code",
   "execution_count": null,
   "metadata": {},
   "outputs": [],
   "source": [
    "# Combine to get the total occupation at mass M\n",
    "N_tot_lens= Ncen_lens + Nsat_lens\n",
    "#N_tot_src = Ncen_src + Nsat_src_tot\n",
    "\n",
    "# Get satelite fraction integrated over mass\n",
    "Nsat_int_ofz_lens = np.zeros(len(z))\n",
    "Ntot_int_ofz_lens = np.zeros(len(z))\n",
    "#Nsat_int_ofz_src = np.zeros(len(z))\n",
    "#Ntot_int_ofz_src = np.zeros(len(z))\n",
    "for zi in range(0,len(z)):\n",
    "    Nsat_int_ofz_lens[zi] = scipy.integrate.simps(Nsat_lens * HMF[:,zi], np.log10(Mhvec / h0))\n",
    "    Ntot_int_ofz_lens[zi] = scipy.integrate.simps(N_tot_lens * HMF[:,zi], np.log10(Mhvec / h0))\n",
    "    #Nsat_int_ofz_src[zi] = scipy.integrate.simps(Nsat_src_tot * HMF[:,zi], np.log10(Mhvec / pa.HH0_s/100.))\n",
    "    #Ntot_int_ofz_src[zi] = scipy.integrate.simps(N_tot_src * HMF[:,zi], np.log10(Mhvec / pa.HH0_s/100.))\n",
    "    \n",
    "Nsat_int_lens = scipy.integrate.simps(Nsat_int_ofz_lens * dNdz, z)\n",
    "Ntot_int_lens = scipy.integrate.simps(Ntot_int_ofz_lens * dNdz, z)    \n",
    "#Nsat_int_src = scipy.integrate.simps(Nsat_int_ofz_src * dNdz, z)\n",
    "#Ntot_int_src = scipy.integrate.simps(Ntot_int_ofz_src * dNdz, z)\n",
    "#Nsat_int = scipy.integrate.simps(Nsat_lens * HMF, np.log10(Mhvec))\n",
    "#Ntot_int= scipy.integrate.simps(N_tot_lens * HMF, np.log10(Mhvec))\n",
    "satfrac_lens = Nsat_int_lens / Ntot_int_lens\n",
    "#satfrac_lens = Nsat_int / Ntot_int\n",
    "#satfrac_src = Nsat_int_src / Ntot_int_src\n",
    "print \"sat frac lens=\", satfrac_lens #, \"src=\", satfrac_src\n",
    "    \n",
    "# Integrate over the halo mass function to get total number density \n",
    "nbar_lens = np.zeros(len(z))\n",
    "#nbar_sat_lens = np.zeros(len(z))\n",
    "#nbar_cen_lens = np.zeros(len(z))\n",
    "#nbar_src = np.zeros(len(z))\n",
    "#nbar_sat_src = np.zeros(len(z))\n",
    "#nbar_cen_src = np.zeros(len(z))\n",
    "for zi in range(0,len(z)):\n",
    "    nbar_lens[zi] = scipy.integrate.simps(HMF[:,zi] * N_tot_lens, np.log10(Mhvec / h0))\n",
    "#    nbar_sat_lens[zi]= scipy.integrate.simps(HMF[:,zi] * Nsat_lens, np.log10(Mhvec / (pa.HH0_s/100.)))\n",
    "#    nbar_cen_lens[zi]= scipy.integrate.simps(HMF[:,zi] * Ncen_lens, np.log10(Mhvec / (pa.HH0_s/100.)))\n",
    "#    nbar_src[zi] = scipy.integrate.simps(HMF[:,zi] * N_tot_src, np.log10(Mhvec / (pa.HH0_s/100.)))\n",
    "#    nbar_sat_src[zi]= scipy.integrate.simps(HMF[:,zi] * Nsat_src_tot, np.log10(Mhvec / (pa.HH0_s/100.)))\n",
    "#    nbar_cen_src[zi]= scipy.integrate.simps(HMF[:,zi] * Ncen_src, np.log10(Mhvec / (pa.HH0_s/100.)))\n",
    "                                \n",
    "#nbar_int_lens= scipy.integrate.simps(HMF * N_tot_lens, np.log10(Mhvec)) \n",
    "#nbar_sat_int= scipy.integrate.simps(HMF * Nsat, np.log10(Mhvec / ((pa.HH0/100.))))\n",
    "#nbar_cen_int= scipy.integrate.simps(HMF * Ncen, np.log10(Mhvec / ((pa.HH0/100.))))                                \n",
    "    \n",
    "nbar_int_lens = scipy.integrate.simps(nbar_lens *dNdz, z)\n",
    "#nbar_cen_int_lens = scipy.integrate.simps(nbar_cen_lens * dNdz, z)\n",
    "#nbar_sat_int_lens = scipy.integrate.simps(nbar_sat_lens*dNdz, z)\n",
    "#nbar_int_src = scipy.integrate.simps(nbar_src *dNdz, z)\n",
    "#nbar_cen_int_src = scipy.integrate.simps(nbar_cen_src * dNdz, z)\n",
    "#nbar_sat_int_src = scipy.integrate.simps(nbar_sat_src*dNdz, z)\"\"\"\n",
    "\n",
    "#print \"lens halo bias, centrals=\", bcen_int_lens / nbar_cen_int_lens\n",
    "#print \"lens halo bias, satelites =\", bsat_int_lens / nbar_sat_int_lens\n",
    "#print \"lens halo bias, all =\", btot_int_lens / nbar_int_lens\n",
    "print \"lens nbar int=\", nbar_int_lens\n",
    "\n",
    "#print \"src halo bias, centrals=\", bcen_int_src / nbar_cen_int_src\n",
    "#print \"src halo bias, satelites =\", bsat_int_src / nbar_sat_int_src\n",
    "#print \"src halo bias, all =\", btot_int_src / nbar_int_src\n",
    "#print \"src nbar int=\", nbar_int_src\n"
   ]
  },
  {
   "cell_type": "code",
   "execution_count": null,
   "metadata": {
    "collapsed": true
   },
   "outputs": [],
   "source": [
    "# Let the galaxy-galaxy two-halo term be given by halofit * both biases as found from these HOD\n",
    "\n",
    "# DON'T FORGET that CCL power spectra are not in little h units. P(k) has units Mpc^3, takes k in units 1/Mpc\n",
    "\n",
    "Pknonlin = np.zeros((len(k), len(z)))\n",
    "#Pklin = np.zeros((len(k), len(z)))\n",
    "for zi in range(0,len(z)):\n",
    "    # Change k and Pk to little h units\n",
    "    Pknonlin[:, zi] = ccl.power.nonlin_matter_power(cosmo, k * h0, 1. / (1. + z[zi])) * h0**3\n",
    "    #Pklin[:, zi] = ccl.power.linear_matter_power(cosmo, k * h0, 1. / (1. + z[zi])) * h0**3\n",
    "    \n",
    "Pkgg = pa.bd*pa.bd * Pknonlin\n",
    "#Pkgg_lin = pa.bd * pa.bd * Pklin\n",
    "\n",
    "# Integrate over z\n",
    "P_2h_gg_avgz = np.zeros(len(k))\n",
    "#P_2h_gg_avgz_lin = np.zeros(len(k))\n",
    "for ki in range(0,len(k)):\n",
    "    P_2h_gg_avgz[ki] = scipy.integrate.simps(dNdz * Pkgg[ki,:], z)\n",
    "    #P_2h_gg_avgz_lin[ki] = scipy.integrate.simps(dNdz * Pkgg_lin[ki,:], z)"
   ]
  },
  {
   "cell_type": "code",
   "execution_count": null,
   "metadata": {},
   "outputs": [],
   "source": [
    "# Construct now the galaxy - galaxy 1-halo term from the HOD:\n",
    "\n",
    "#NcenL_NsatS = shared.NcenNsat(1, Ncen_lens, Nsat_src_wlens)\n",
    "#NsatL_NsatS = shared.NsatNsat(1, Nsat_lens, Nsat_src_wlens)\n",
    "\n",
    "NcenL_NsatL = Ncen_lens * Nsat_lens\n",
    "\n",
    "#print \"Ncen_lens=\", Ncen_lens\n",
    "#print \"Nsat_lens=\", Nsat_lens\n",
    "\n",
    "print \"NcenL_NsatL=\", NcenL_NsatL\n",
    "\n",
    "# For the term that is satellite x satellite: \n",
    "# We're looking at 1-halo here, so once you've picked a satellite as part of your pair, there's one less\n",
    "# satellite you can pair it with (can't pair it with itself)\n",
    "# But note also: if Nsat_lens<1, ie if the mean number of satellites in a halof of mass M<1, this term is 0.\n",
    "# Can't naived do Nsat(Nsat-1) because you'll get negative numbers\n",
    "NsatL_NsatL = np.zeros(len(Mhvec))\n",
    "for mi in range(0,len(Mhvec)):\n",
    "    if (Nsat_lens[mi]>1.0):\n",
    "        NsatL_NsatL[mi] = Nsat_lens[mi] * (Nsat_lens[mi] -1.)\n",
    "    else:\n",
    "        NsatL_NsatL[mi] = 0.\n",
    "#NsatL_NsatL = Nsat_lens * (Nsat_lens -1.)\n",
    "print \"NsatL_NsatL=\", NsatL_NsatL"
   ]
  },
  {
   "cell_type": "code",
   "execution_count": null,
   "metadata": {
    "collapsed": true
   },
   "outputs": [],
   "source": [
    "Pkgg_1h = np.zeros((len(k), len(z)))\n",
    "Pkgg_1h_cen_sat = np.zeros((len(k), len(z)))\n",
    "Pkgg_1h_sat_sat = np.zeros((len(k), len(z)))\n",
    "for ki in range(0,len(k)):\n",
    "    for zi in range(0,len(z)):\n",
    "        #Pkgg_1h[ki, zi] = scipy.integrate.simps( HMF[:, zi] * (NcenL_NsatS * y[ki, :] + NsatL_NsatS * y[ki, :]**2), np.log10(Mhvec / (pa.HH0_s/100.)  )) / (nbar_src[zi] * nbar_lens[zi])\n",
    "        Pkgg_1h[ki, zi] = scipy.integrate.simps( HMF[:, zi] * (NcenL_NsatL * y[ki, :] + NsatL_NsatL * y[ki, :]**2), np.log10(Mhvec /h0)) / (nbar_lens[zi] * nbar_lens[zi])\n",
    "        #Pkgg_1h_cen_sat[ki, zi] = scipy.integrate.simps( HMF[:, zi] * (NcenL_NsatL * y[ki, :]), np.log10(Mhvec /h0)) / (nbar_lens[zi] * nbar_lens[zi])\n",
    "        #Pkgg_1h_sat_sat[ki, zi] = scipy.integrate.simps( HMF[:, zi] * NsatL_NsatL * y[ki, :]**2, np.log10(Mhvec /h0)) / (nbar_lens[zi] * nbar_lens[zi])\n",
    " \n",
    "#print \"Pkgg_1h_satsat=\", Pkgg_1h_sat_sat\n",
    "\n",
    "Pgg1h_avgz = np.zeros(len(k))\n",
    "#Pgg1h_avgz_cs = np.zeros(len(k))\n",
    "#Pgg1h_avgz_ss = np.zeros(len(k))\n",
    "for ki in range(0,len(k)):\n",
    "    Pgg1h_avgz[ki] = scipy.integrate.simps(dNdz * Pkgg_1h[ki,:], z)   \n",
    "    #Pgg1h_avgz_cs[ki] = scipy.integrate.simps(dNdz * Pkgg_1h_cen_sat[ki,:], z) \n",
    "    #Pgg1h_avgz_ss[ki] = scipy.integrate.simps(dNdz * Pkgg_1h_sat_sat[ki,:], z)\n",
    "    \n",
    "#print \"Pkgg_1h_satsat=\", Pkgg_1h_sat_sat\n",
    "\n",
    "#interp_in_k = scipy.interpolate.interp1d(np.log(k), np.log(Pgg1h_avgz_cs))\n",
    "#censat_Pgg_klong = np.exp(interp_in_k(np.log(kvec_FT)))\n",
    "\n",
    "#savePgg = np.column_stack((kvec_FT, censat_Pgg_klong))\n",
    "#np.savetxt('./txtfiles/halofit_Pk/Pk_1h_cs_SDSS.txt', savePgg)    \n",
    "    \n",
    "#interp_in_k = scipy.interpolate.interp1d(np.log(k), np.log(Pgg1h_avgz_ss))\n",
    "#satsat_Pgg_klong = np.exp(interp_in_k(np.log(kvec_FT)))\n",
    "\n",
    "#savePgg = np.column_stack((kvec_FT, satsat_Pgg_klong))\n",
    "#np.savetxt('./txtfiles/halofit_Pk/Pk_1h_ss_SDSS.txt', savePgg)        \n",
    "    \n",
    "interp_in_k = scipy.interpolate.interp1d(np.log(k), np.log(Pgg1h_avgz + P_2h_gg_avgz))\n",
    "full_Pgg_klong = np.exp(interp_in_k(np.log(kvec_FT)))\n",
    "\n",
    "savePgg = np.column_stack((kvec_FT, full_Pgg_klong))\n",
    "np.savetxt('./txtfiles/halofit_Pk/Pk_1h2h_SDSS_lens_fixNsat.txt', savePgg)\n",
    "\n",
    "#interp_in_k = scipy.interpolate.interp1d(np.log(k), np.log(P_2h_gg_avgz))\n",
    "#twoh_Pgg_klong = np.exp(interp_in_k(np.log(kvec_FT)))\n",
    "\n",
    "#savePgg = np.column_stack((kvec_FT, twoh_Pgg_klong))\n",
    "#np.savetxt('./txtfiles/halofit_Pk/Pk_2h_SDSS_lens_fixhunits.txt', savePgg)\n",
    "\n",
    "#interp_in_k = scipy.interpolate.interp1d(np.log(k), np.log(P_2h_gg_avgz))\n",
    "#twoh_Pgg_klong = np.exp(interp_in_k(np.log(kvec_FT)))\n",
    "\n",
    "#savePgg = np.column_stack((kvec_FT, twoh_Pgg_klong))\n",
    "#np.savetxt('./txtfiles/halofit_Pk/Pk_2h_SDSS_lens_Jan9.txt', savePgg)\n",
    "\n",
    "#interp_in_k_1h = scipy.interpolate.interp1d(np.log(k), np.log(Pgg1h_avgz))\n",
    "#oneh_Pgg_klong = np.exp(interp_in_k_1h(np.log(kvec_FT)))\n",
    "   \n",
    "#savePgg = np.column_stack((kvec_FT, full_Pgg_klong))\n",
    "#np.savetxt('./txtfiles/halofit_Pk/Pk_1h2h_SDSS_lens_Jan8.txt', savePgg)\n",
    "\n",
    "    \n",
    "#plt.figure()\n",
    "#plt.loglog(k,Pgg1h_avgz_ss,  'b', label='1halo')\n",
    "#plt.hold(True)\n",
    "#plt.loglog(k, P_2h_gg_avgz, 'g', label='2halo')\n",
    "#plt.hold(True)\n",
    "#plt.loglog(k, Pgg1h_avgz + P_2h_gg_avgz, 'm', label='1h+2h')\n",
    "#plt.xlim(0.0001,30)\n",
    "#plt.ylim(0.01, 10**7)\n",
    "#plt.ylabel('$P(k)$')\n",
    "#plt.xlabel('$k$, h/Mpc')\n",
    "#plt.title('$P(k)$ terms, SDSS')\n",
    "#plt.legend()\n",
    "#plt.show()\n",
    "#plt.savefig('./plots/Pk_SDSS.pdf')\n",
    "        "
   ]
  },
  {
   "cell_type": "code",
   "execution_count": null,
   "metadata": {},
   "outputs": [],
   "source": [
    "# Load  the combined xi from file after Fourier transforming\n",
    "\n",
    "(r, xi_tot) = np.loadtxt('./txtfiles/halofit_xi/xi_1h2h_SDSS_lens_fixNsat.txt', unpack=True)\n",
    "#(r, xi_cs) = np.loadtxt('./txtfiles/halofit_xi/xi_1h_cs_SDSS.txt', unpack=True)\n",
    "#(r, xi_ss) = np.loadtxt('./txtfiles/halofit_xi/xi_1h_ss_SDSS.txt', unpack=True)\n",
    "\n",
    "plt.figure(figsize=[10,10])\n",
    "plt.loglog(r, xi_tot, 'm')\n",
    "#plt.loglog(r, xi_cs, 'm', label='cen-sat')\n",
    "#plt.hold(True)\n",
    "#plt.loglog(r, xi_ss, 'g', label='sat-sat')\n",
    "plt.ylabel('$\\\\xi(r)$')\n",
    "plt.xlabel('$r$, Mpc/h')\n",
    "plt.xlim(0.01, 100)\n",
    "plt.ylim(0.001, 10**6)\n",
    "plt.title('$\\\\xi(r)$, SDSS')\n",
    "plt.legend()\n",
    "plt.show()\n",
    "#plt.savefig('./plots/xi_SDSS.png')"
   ]
  },
  {
   "cell_type": "code",
   "execution_count": null,
   "metadata": {},
   "outputs": [],
   "source": [
    "# Project:\n",
    "\n",
    "for ri in range(0,len(r)):\n",
    "    if xi_tot[ri]<10**(-12):\n",
    "        xi_tot[ri]=10**(-12)\n",
    "#for ri in range(0,len(r)):\n",
    "#    if xi_cs[ri]<10**(-12):\n",
    "#        xi_cs[ri]=10**(-12)\n",
    "        \n",
    "#for ri in range(0,len(r)):\n",
    "#    if xi_ss[ri]<10**(-12):        \n",
    "#        xi_ss[ri]=10**(-12)\n",
    "\n",
    "#interpolate in r:\n",
    "interp_xi = scipy.interpolate.interp1d(np.log(r), np.log(xi_tot))\n",
    "#interp_xiss = scipy.interpolate.interp1d(np.log(r), np.log(xi_ss))\n",
    "#interp_xics = scipy.interpolate.interp1d(np.log(r), np.log(xi_cs))\n",
    "\n",
    "rp = np.logspace(-2, 2, 100)\n",
    "Pi = np.logspace(-5, np.log10(80.), 1000) # use the same projection length as Reid & Spergel 2008\n",
    "\n",
    "logxi_2d = np.zeros((len(rp), len(Pi)))\n",
    "#logxi_2d_cs = np.zeros((len(rp), len(Pi)))\n",
    "#logxi_2d_ss = np.zeros((len(rp), len(Pi)))\n",
    "for ri in range(0,len(rp)):\n",
    "    for pi in range(0,len(Pi)):\n",
    "        r_2d = np.sqrt( rp[ri]**2 + Pi[pi]**2 )\n",
    "        logxi_2d[ri, pi] = interp_xi(np.log(r_2d))\n",
    "        #logxi_2d_cs[ri,pi] = interp_xics(np.log(r_2d))\n",
    "        #logxi_2d_ss[ri,pi] = interp_xiss(np.log(r_2d))\n",
    "\n",
    "wgg = [0]*len(rp)\n",
    "#wgg_cs = [0] * len(rp)\n",
    "#wgg_ss = [0] * len(rp)\n",
    "for ri in range(0,len(rp)):\n",
    "   # print np.log(np.sqrt(rp[ri]**2 + Pi**2))\n",
    "    wgg[ri] = 2.*scipy.integrate.simps(np.exp(logxi_2d[ri,:]), Pi)\n",
    "    #wgg_cs[ri] = 2.*scipy.integrate.simps(np.exp(logxi_2d_cs[ri,:]), Pi)\n",
    "    #wgg_ss[ri] = 2.*scipy.integrate.simps(np.exp(logxi_2d_ss[ri,:]), Pi)\n",
    "    \n",
    "plt.figure()\n",
    "plt.loglog(rp, np.asarray(wgg), 'm', label='1h+2h')\n",
    "#plt.loglog(rp, np.asarray(wgg_cs), 'm', label='cen-sat')\n",
    "#plt.hold(True)\n",
    "#plt.loglog(rp, np.asarray(wgg_ss), 'k', label='sat-sat')\n",
    "plt.ylabel('$w_{gg}$')\n",
    "plt.xlabel('$r_p$, Mpc/h')\n",
    "plt.title('$w_{gg}$, SDSS')\n",
    "plt.xlim(0.04, 30)\n",
    "plt.ylim(8, 7000)\n",
    "plt.legend()\n",
    "plt.show()\n",
    "#plt.savefig('./plots/wgg_SDSS_fixhunits.pdf')"
   ]
  },
  {
   "cell_type": "code",
   "execution_count": null,
   "metadata": {
    "collapsed": true
   },
   "outputs": [],
   "source": [
    "zip(rp, wgg)"
   ]
  },
  {
   "cell_type": "code",
   "execution_count": null,
   "metadata": {
    "collapsed": true
   },
   "outputs": [],
   "source": [
    "# wgg points read off from Reid & Spergel 2008 / Masjedi 2006\n",
    "\n",
    "rp_Masjedi = np.asarray([0.04, 0.05, 0.06, 0.07, 0.08, 0.1, 0.2, 0.3, 0.4, 0.5, 0.6, 0.8])\n",
    "wgg_Masjedi = np.asarray([6700., 5500., 4050., 3700., 3200., 3000., 1350.,1000.,780., 610., 490., 350. ])"
   ]
  },
  {
   "cell_type": "code",
   "execution_count": null,
   "metadata": {
    "collapsed": true
   },
   "outputs": [],
   "source": [
    "inter_wgg_HOD = scipy.interpolate.interp1d(rp, wgg)"
   ]
  },
  {
   "cell_type": "code",
   "execution_count": null,
   "metadata": {
    "collapsed": true
   },
   "outputs": [],
   "source": [
    "wgg_HOD_short = inter_wgg_HOD(rp_Masjedi)"
   ]
  },
  {
   "cell_type": "code",
   "execution_count": null,
   "metadata": {
    "collapsed": true
   },
   "outputs": [],
   "source": [
    "plt.figure()\n",
    "plt.loglog(rp_Masjedi, wgg_Masjedi, 'mo')\n",
    "plt.hold(True)\n",
    "plt.loglog(rp_Masjedi, wgg_HOD_short)\n",
    "plt.xlim(0.04, 30)\n",
    "plt.ylim(8, 7000)\n",
    "plt.show()"
   ]
  },
  {
   "cell_type": "code",
   "execution_count": null,
   "metadata": {
    "collapsed": true
   },
   "outputs": [],
   "source": [
    "wgg_Masjedi / wgg_HOD_short"
   ]
  },
  {
   "cell_type": "code",
   "execution_count": null,
   "metadata": {
    "collapsed": true
   },
   "outputs": [],
   "source": []
  }
 ],
 "metadata": {
  "kernelspec": {
   "display_name": "Python 2",
   "language": "python",
   "name": "python2"
  },
  "language_info": {
   "codemirror_mode": {
    "name": "ipython",
    "version": 3
   },
   "file_extension": ".py",
   "mimetype": "text/x-python",
   "name": "python",
   "nbconvert_exporter": "python",
   "pygments_lexer": "ipython3",
   "version": "3.5.2"
  }
 },
 "nbformat": 4,
 "nbformat_minor": 2
}
