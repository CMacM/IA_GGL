{
 "cells": [
  {
   "cell_type": "code",
   "execution_count": 2,
   "id": "a5c57e2d-62cc-4dbe-9569-95c92370cd81",
   "metadata": {},
   "outputs": [
    {
     "name": "stdout",
     "output_type": "stream",
     "text": [
      "Lens bin: 0.2 - 1.2\n",
      "Source bin: 0.05 - 3.5\n"
     ]
    }
   ],
   "source": [
    "import CM_code.spurious_george as sp\n",
    "import numpy as np\n",
    "import pyccl as ccl\n",
    "import matplotlib.pyplot as plt\n",
    "import scipy\n",
    "import importlib as imp\n",
    "import DL_basis_code.shared_functions_setup as setup\n",
    "import CM_code.tjp_helper as tjp_helper\n",
    "import time\n",
    "\n",
    "imp.reload(tjp_helper)\n",
    "imp.reload(sp)\n",
    "\n",
    "plt.rcParams['figure.facecolor'] = 'white'\n",
    "plt.rcParams['font.family'] = 'serif'\n",
    "plt.rcParams['font.serif'] = ['cmr10']\n",
    "plt.rcParams['mathtext.fontset'] ='cm'\n",
    "plt.rc('axes', unicode_minus=False)\n",
    "plt.rc('axes.formatter', use_mathtext=True)\n",
    "\n",
    "\n",
    "print('Lens bin: %g - %g'%(sp.zed.zl_min, sp.zed.zl_max))\n",
    "print('Source bin: %g - %g'%(sp.zed.zs_min, sp.zed.zs_max))"
   ]
  },
  {
   "cell_type": "markdown",
   "id": "e7facd2f-1e71-454a-be4e-7659aaa42cde",
   "metadata": {},
   "source": [
    "### Load in theta, boost, and F data"
   ]
  },
  {
   "cell_type": "code",
   "execution_count": 6,
   "id": "802b9ad9-ee18-406f-adf3-aeb377973a5f",
   "metadata": {
    "tags": []
   },
   "outputs": [],
   "source": [
    "# B_min1, r_p = sp.get_boosts(year=1, out_file='boost_scratch')\n",
    "B_min1 = np.load('generated_data/boost_y1_lowZ.npz')['B_min1']\n",
    "r_p = np.load('generated_data/boost_y1_lowZ.npz')['rp'] # Mpc/h\n",
    "F_theta = sp.get_F(zlmin=zlmin, zlmax=zlmax, theta_dependence=True)"
   ]
  },
  {
   "cell_type": "code",
   "execution_count": 59,
   "id": "5adac236-9c28-49a7-a36b-a15c36cb9884",
   "metadata": {},
   "outputs": [
    {
     "name": "stdout",
     "output_type": "stream",
     "text": [
      "[ 0.41244312  0.88858177  1.91439139  4.12443122  8.8858177  19.1439139\n",
      " 41.24431221]\n"
     ]
    }
   ],
   "source": [
    "# load in redshift data\n",
    "_, _, zleff = sp.zed.get_dndz_spec(gtype='lens', year=1)\n",
    "z_s, dndz_s, *_ = sp.zed.get_dndz_phot(gtype='source', year=1)\n",
    "z_l, dndz_l, *_ = sp.zed.get_dndz_phot(gtype='lens', year=1)\n",
    "\n",
    "theta = sp.rp_to_arcmin(r_p, zleff)\n",
    "\n",
    "print(theta)"
   ]
  },
  {
   "cell_type": "code",
   "execution_count": null,
   "id": "39b49035-60e1-4323-b660-d5eef98234d1",
   "metadata": {
    "tags": []
   },
   "outputs": [],
   "source": [
    "ell = np.unique(np.geomspace(180/(theta[-1]/60.) - 10, 180/(theta[0]/60.)))\n",
    "\n",
    "# # create sacc file to pass data to TJP\n",
    "tjp_helper.create_xi_t_sacc(year=1)\n",
    "\n",
    "# sleep to let sacc file properly save to drive\n",
    "time.sleep(15)\n",
    "\n",
    "# generate y1 cov matrices for specified rho values\n",
    "rho = [0.1, 0.5, 0.9]\n",
    "covs = tjp_helper.get_lsst_covariance(lmax=ell.max(), rho=rho, year=1, \n",
    "                                     out_file='cov_scratch')"
   ]
  },
  {
   "cell_type": "code",
   "execution_count": 8,
   "id": "fc66c21d-b14d-4118-a442-6142035d1f24",
   "metadata": {
    "tags": []
   },
   "outputs": [
    {
     "name": "stdout",
     "output_type": "stream",
     "text": [
      "[0.00122591 0.00122591 0.00122591 0.00122591 0.00132057 0.00284507\n",
      " 0.00612939]\n",
      "[0.1026505  0.06232334 0.03318188 0.01593803 0.0087606  0.00547499\n",
      " 0.00285638]\n",
      "[ 0.1         0.21544347  0.46415888  1.          2.15443469  4.64158883\n",
      " 10.        ]\n"
     ]
    }
   ],
   "source": [
    "print(F_theta)\n",
    "print(B_min1)\n",
    "print(r_p)"
   ]
  },
  {
   "cell_type": "code",
   "execution_count": 9,
   "id": "ec16dc36-2ea8-4948-b859-f2801f25f4b4",
   "metadata": {},
   "outputs": [
    {
     "data": {
      "image/png": "[encoded data removed]",
      "text/plain": [
       "<Figure size 640x480 with 1 Axes>"
      ]
     },
     "metadata": {},
     "output_type": "display_data"
    }
   ],
   "source": [
    "plt.plot(theta, B_min1, lw=0, marker='D', markersize=5)\n",
    "plt.plot(theta, F_theta, lw=0, marker='^', markersize=6)\n",
    "plt.plot(theta, B_min1+F_theta, lw=0, marker='o', markersize=5)\n",
    "plt.xscale('log')\n",
    "plt.yscale('log')\n",
    "#plt.ylim([0.001, 6])\n",
    "plt.yticks([0.001, 0.01, 0.1, 1.0],['0.001', '0.01', '0.1', '1.0'],\n",
    "          fontsize=12)\n",
    "plt.xticks([0.2, 2, 20], ['0.2', '2', '20'], fontsize=12)\n",
    "plt.xlabel(r'$\\theta$ (arcmin)', fontsize=16)\n",
    "plt.legend([r'$B(\\theta) - 1$', r'$F(\\theta)$', r'$B(\\theta) - 1 + F(\\theta)$'], fontsize=12)\n",
    "plt.savefig('boost_and_f.png', bbox_inches='tight', dpi=300)"
   ]
  },
  {
   "cell_type": "markdown",
   "id": "7166c13f-1e85-4291-9ec5-20edbb1da982",
   "metadata": {},
   "source": [
    "### Calculate maximum lensing residual"
   ]
  },
  {
   "cell_type": "code",
   "execution_count": 10,
   "id": "6fa0da30-8030-4b92-ac1a-c7248d2125c8",
   "metadata": {
    "tags": []
   },
   "outputs": [
    {
     "name": "stdout",
     "output_type": "stream",
     "text": [
      "0.8818005812997556\n"
     ]
    }
   ],
   "source": [
    "print(np.average(z_s, weights=dndz_s))"
   ]
  },
  {
   "cell_type": "code",
   "execution_count": 60,
   "id": "8b82a814-4404-4e58-b14b-7df43482f40a",
   "metadata": {},
   "outputs": [],
   "source": [
    "# set ell values based on theta range\n",
    "ell = np.unique(np.geomspace(180/(theta[-1]/60.) - 10, \n",
    "                             180/(theta[0]/60.) + 10, \n",
    "                             1024).astype(int))\n",
    "\n",
    "# defined to be same as in boost function\n",
    "k_arr = np.geomspace(1E-4, 5E4, 3000)\n",
    "\n",
    "# create 2D power spectrum objects for galaxy-IA correlation\n",
    "pk_gMf = sp.halo.get_Pk2D('gm', k_arr, np.linspace(0.1,1,32), year=1)\n",
    "\n",
    "lensTracer = ccl.NumberCountsTracer(sp.zed.cosmo_SRD, has_rsd=False, dndz=(z_l, dndz_l), \n",
    "                                bias=(z_l, sp.lens_bias(z_l, year=1)))\n",
    "shearTracer = ccl.WeakLensingTracer(sp.zed.cosmo_SRD, (z_s, dndz_s), \n",
    "                                     has_shear=True\n",
    "                                    )\n",
    "\n",
    "# compute angular power spectrum for galaxy-galaxy lensing using H.O.D.s\n",
    "Cl_gM = ccl.angular_cl(sp.zed.cosmo_SRD, lensTracer, shearTracer, ell, p_of_k_a=pk_gMf)\n",
    "\n",
    "# compute lensing shear\n",
    "y_L = ccl.correlation(sp.halo.cosmo_SRD, ell, Cl_gM, theta / 60., type='NG')"
   ]
  },
  {
   "cell_type": "code",
   "execution_count": 61,
   "id": "3808ff7a-09b3-4905-8abe-6514cf413672",
   "metadata": {},
   "outputs": [],
   "source": [
    "# multiply by maximum residual bias and divide by P.A. fraction\n",
    "# define multiplicative bias uncertainty\n",
    "sigma_m = 0.013\n",
    "delM_yL = (2.*sigma_m*y_L) / (B_min1 + F_theta)\n",
    "yL = y_L / (B_min1 + F_theta)"
   ]
  },
  {
   "cell_type": "code",
   "execution_count": 62,
   "id": "f72963b5-3639-46d6-afb5-01bbd97abb9e",
   "metadata": {},
   "outputs": [
    {
     "data": {
      "text/plain": [
       "[<matplotlib.lines.Line2D at 0x7f84f4109580>]"
      ]
     },
     "execution_count": 62,
     "metadata": {},
     "output_type": "execute_result"
    },
    {
     "data": {
      "image/png": "[encoded data removed]",
      "text/plain": [
       "<Figure size 640x480 with 1 Axes>"
      ]
     },
     "metadata": {},
     "output_type": "display_data"
    }
   ],
   "source": [
    "plt.loglog(theta, delM_yL, label='residual')\n",
    "plt.loglog(theta, yL, label='lensing')"
   ]
  },
  {
   "cell_type": "markdown",
   "id": "b2239723-5791-42f1-931a-3a2ed5971a2e",
   "metadata": {},
   "source": [
    "### Load in Y1 covariance matrix and combine with lensing residual "
   ]
  },
  {
   "cell_type": "code",
   "execution_count": 70,
   "id": "26cfc7b3-452f-458f-a8cd-25ab3323c15e",
   "metadata": {
    "tags": []
   },
   "outputs": [
    {
     "name": "stdout",
     "output_type": "stream",
     "text": [
      "(3, 7, 7)\n"
     ]
    }
   ],
   "source": [
    "#load in matrices and rho values\n",
    "cov_file = np.load('generated_data/lsst_y1_covs_lowZ.npz')\n",
    "rho = cov_file['rho']\n",
    "covs = cov_file['covs']\n",
    "print(np.shape(covs))\n",
    "# add residual in quadrature to cov matrix\n",
    "cov_IA = np.zeros_like(covs)\n",
    "sigma_IA = np.zeros_like(covs[:,:,0])\n",
    "for j in range(len(rho)):\n",
    "    for i in range(len(theta)):\n",
    "        for k in range(len(theta)):\n",
    "            cov_IA[j,i,k] = (covs[j,i,k] / ((B_min1[i] + F_theta[i])*(B_min1[k] + F_theta[k]))) + delM_yL[i]*delM_yL[k]\n",
    "    sigma_IA[j] = np.sqrt(np.diag(cov_IA[j,:,:]))\n",
    "    \n",
    "np.savez('generated_data/stat+sys_cov_lowZ', cov_IA=cov_IA, sigma_IA = sigma_IA)"
   ]
  },
  {
   "cell_type": "code",
   "execution_count": 71,
   "id": "8bbf281f-381f-4629-917c-b8eeacb26a2f",
   "metadata": {},
   "outputs": [
    {
     "name": "stdout",
     "output_type": "stream",
     "text": [
      "[0.00147014 0.00132052 0.00129665 0.0014051  0.00123326 0.00077549\n",
      " 0.00041346]\n"
     ]
    }
   ],
   "source": [
    "# difference between sigma_IA for min and max rho values \n",
    "print(sigma_IA[0])"
   ]
  },
  {
   "cell_type": "code",
   "execution_count": 72,
   "id": "a7a18ca4-2682-4a28-ab7d-df56987f38d5",
   "metadata": {},
   "outputs": [],
   "source": [
    "y_IA = np.load('generated_data/Y1_IA_1h+NLA_lowZ.npz')['yIA']\n",
    "bar_yIA = y_IA / (B_min1 + F_theta)"
   ]
  },
  {
   "cell_type": "code",
   "execution_count": 73,
   "id": "a027391c-c9ea-4dfd-8b6a-f3efed02cd18",
   "metadata": {},
   "outputs": [
    {
     "data": {
      "image/png": "[encoded data removed]",
      "text/plain": [
       "<Figure size 640x480 with 1 Axes>"
      ]
     },
     "metadata": {},
     "output_type": "display_data"
    }
   ],
   "source": [
    "plt.plot(theta, delM_yL, lw=0, marker='^', label='residual')\n",
    "#plt.plot(theta, yL, lw=0, marker='s', label='lensing')\n",
    "plt.errorbar(theta, -bar_yIA, sigma_IA[0], marker='o', label='IA')\n",
    "plt.xscale('log')\n",
    "#plt.yscale('log')"
   ]
  },
  {
   "cell_type": "code",
   "execution_count": null,
   "id": "ec79bd9d-fb89-4352-9e2d-fc96d70c09d9",
   "metadata": {},
   "outputs": [],
   "source": [
    "year=1\n",
    "# find fraction of lens sample in chosen bin \n",
    "zl_full, dndzl_full, *_ = sp.zed.get_dndz_phot(gtype='lens', zlmin=0.05, zlmax=3.5, year=year, normalise=False)\n",
    "\n",
    "zl, dndzl, *_ = sp.zed.get_dndz_phot(gtype='lens', zlmin=1.0, zlmax=1.2, year=year, normalise=False)\n",
    "\n",
    "lens_tot = scipy.integrate.simps(dndzl_full, zl_full)\n",
    "lens_bin = scipy.integrate.simps(dndzl, zl)\n",
    "\n",
    "lens_frac = lens_bin/lens_tot\n",
    "print('Fraction of lenses in bin: %g'%lens_frac)\n",
    "\n",
    "# find fraction of source sample in chosen bin \n",
    "zs_full, dndzs_full, *_ = sp.zed.get_dndz_phot(gtype='source', zsmin=0.05, zsmax=3.5, year=year, normalise=False)\n",
    "\n",
    "zs, dndzs, *_ = sp.zed.get_dndz_phot(gtype='source', zsmin=0.005, zsmax=1.2, year=year, normalise=False)\n",
    "\n",
    "source_tot = scipy.integrate.simps(dndzs_full, zs_full)\n",
    "source_bin = scipy.integrate.simps(dndzs, zs)\n",
    "\n",
    "source_frac = source_bin/source_tot\n",
    "print('Fraction of source in bin: %g'%source_frac)"
   ]
  },
  {
   "cell_type": "code",
   "execution_count": 88,
   "id": "25a57c55-7cee-412e-9c90-2e0206c45722",
   "metadata": {},
   "outputs": [
    {
     "name": "stdout",
     "output_type": "stream",
     "text": [
      "Pk_gg calculated\n"
     ]
    },
    {
     "name": "stderr",
     "output_type": "stream",
     "text": [
      "100%|█████████████████████████████████████████| 300/300 [03:15<00:00,  1.53it/s]"
     ]
    },
    {
     "name": "stdout",
     "output_type": "stream",
     "text": [
      "xi_gg calculated\n"
     ]
    },
    {
     "name": "stderr",
     "output_type": "stream",
     "text": [
      "\n"
     ]
    },
    {
     "name": "stdout",
     "output_type": "stream",
     "text": [
      "Order preserved for zl indices 0-299\n",
      "xi_ls estimation complete\n",
      "Finding boosts for 300 lens redshifts in range 1 - 1.2\n",
      "Order preserved for zl indices 0-299\n",
      "Boost estimation complete\n",
      "Runtime = 4.29649 minutes\n",
      "rp: [ 0.1         0.21544347  0.46415888  1.          2.15443469  4.64158883\n",
      " 10.        ]\n",
      "th: [ 0.13995874  0.30153197  0.64963095  1.39958745  3.01531975  6.49630947\n",
      " 13.99587447]\n",
      "Fraction of lenses in bin: 0.111554\n",
      "Fraction of source in bin: 1\n",
      "Getting y1,y1 covariance...\n",
      "\n",
      "Computing independent covariance blocks\n",
      "('lens', 'source') ('lens', 'source')\n"
     ]
    },
    {
     "name": "stderr",
     "output_type": "stream",
     "text": [
      "/home/b7009348/WGL_project/LSST_forecast_code/tjpcov/covariance_builder.py:897: UserWarning: Missing n_ell_coupled info for some tracers in the sacc file. You will have to pass it withthe cache\n",
      "  warnings.warn(\n"
     ]
    },
    {
     "name": "stdout",
     "output_type": "stream",
     "text": [
      "Building the covariance: placing blocks in their place\n",
      "('lens', 'source') ('lens', 'source')\n",
      "\n",
      "Found covariance matrix for y1y1, getting y1,y2 for different rho...\n",
      "\n",
      "Computing independent covariance blocks\n",
      "('lens', 'source') ('lens', 'source')\n",
      "Building the covariance: placing blocks in their place\n",
      "('lens', 'source') ('lens', 'source')\n",
      "\n",
      "Getting cov[y1,y2] for rho=0.1\n",
      "Computing independent covariance blocks\n",
      "('lens', 'source') ('lens', 'source')\n",
      "Building the covariance: placing blocks in their place\n",
      "('lens', 'source') ('lens', 'source')\n",
      "\n",
      "Getting cov[y1,y2] for rho=0.5\n",
      "Computing independent covariance blocks\n",
      "('lens', 'source') ('lens', 'source')\n",
      "Building the covariance: placing blocks in their place\n",
      "('lens', 'source') ('lens', 'source')\n",
      "\n",
      "Getting cov[y1,y2] for rho=0.9\n"
     ]
    },
    {
     "ename": "TypeError",
     "evalue": "unsupported operand type(s) for -: 'str' and 'float'",
     "output_type": "error",
     "traceback": [
      "\u001b[0;31m---------------------------------------------------------------------------\u001b[0m",
      "\u001b[0;31mTypeError\u001b[0m                                 Traceback (most recent call last)",
      "Cell \u001b[0;32mIn [88], line 24\u001b[0m\n\u001b[1;32m     22\u001b[0m \u001b[38;5;66;03m# generate y1 cov matrices for specified rho values\u001b[39;00m\n\u001b[1;32m     23\u001b[0m rho \u001b[38;5;241m=\u001b[39m [\u001b[38;5;241m0.1\u001b[39m, \u001b[38;5;241m0.5\u001b[39m, \u001b[38;5;241m0.9\u001b[39m]\n\u001b[0;32m---> 24\u001b[0m covs \u001b[38;5;241m=\u001b[39m \u001b[43mtjp_helper\u001b[49m\u001b[38;5;241;43m.\u001b[39;49m\u001b[43mget_lsst_covariance\u001b[49m\u001b[43m(\u001b[49m\u001b[43mzlmin\u001b[49m\u001b[38;5;241;43m=\u001b[39;49m\u001b[43mzlmin\u001b[49m\u001b[43m,\u001b[49m\u001b[43mzlmax\u001b[49m\u001b[38;5;241;43m=\u001b[39;49m\u001b[43mzlmax\u001b[49m\u001b[43m,\u001b[49m\n\u001b[1;32m     25\u001b[0m \u001b[43m                                      \u001b[49m\u001b[43mzsmin\u001b[49m\u001b[38;5;241;43m=\u001b[39;49m\u001b[43mzsmin\u001b[49m\u001b[43m,\u001b[49m\u001b[43m \u001b[49m\u001b[43mzsmax\u001b[49m\u001b[38;5;241;43m=\u001b[39;49m\u001b[43mzsmax\u001b[49m\u001b[43m,\u001b[49m\n\u001b[1;32m     26\u001b[0m \u001b[43m                                      \u001b[49m\u001b[43mlmax\u001b[49m\u001b[38;5;241;43m=\u001b[39;49m\u001b[43mlmax\u001b[49m\u001b[43m,\u001b[49m\u001b[43m \u001b[49m\u001b[43mrho\u001b[49m\u001b[38;5;241;43m=\u001b[39;49m\u001b[43mrho\u001b[49m\u001b[43m,\u001b[49m\u001b[43m \u001b[49m\u001b[43myear\u001b[49m\u001b[38;5;241;43m=\u001b[39;49m\u001b[38;5;241;43m1\u001b[39;49m\u001b[43m,\u001b[49m\u001b[43m \u001b[49m\n\u001b[1;32m     27\u001b[0m \u001b[43m                                     \u001b[49m\u001b[43mout_file\u001b[49m\u001b[38;5;241;43m=\u001b[39;49m\u001b[38;5;124;43m'\u001b[39;49m\u001b[38;5;124;43my1_covs_0.05-3.5\u001b[39;49m\u001b[38;5;124;43m'\u001b[39;49m\u001b[43m)\u001b[49m\n",
      "File \u001b[0;32m~/WGL_project/LSST_forecast_code/CM_code/tjp_helper.py:185\u001b[0m, in \u001b[0;36mget_lsst_covariance\u001b[0;34m(zlmin, zlmax, zsmin, zsmax, lmax, rho, year, out_file)\u001b[0m\n\u001b[1;32m    183\u001b[0m \n\u001b[1;32m    184\u001b[0m end = time.time()\n\u001b[0;32m--> 185\u001b[0m print('Runtime:', end-start)\n\u001b[1;32m    186\u001b[0m \n\u001b[1;32m    187\u001b[0m return full_cov\n",
      "\u001b[0;31mTypeError\u001b[0m: unsupported operand type(s) for -: 'str' and 'float'"
     ]
    }
   ],
   "source": [
    "zlmin, zlmax = 1.0, 1.2\n",
    "zsmin, zsmax = 0.05, 3.5\n",
    "\n",
    "B_min1, r_p = sp.get_boosts(zlmin=zlmin, zlmax=zlmax,\n",
    "                            zsmin=zsmin, zsmax=zsmax,\n",
    "                            year=1, out_file='boost_y1_zs=0.05-3.5')\n",
    "\n",
    "_, _, zleff = sp.zed.get_dndz_spec(gtype='lens', zlmin=zlmin, zlmax=zlmax, year=1)\n",
    "\n",
    "rp = np.logspace(np.log10(sp.rpmin), np.log10(sp.rpmax), sp.N_bins)\n",
    "theta = sp.rp_to_arcmin(rp, zleff)\n",
    "\n",
    "lmax= 180/(theta[0]/60.)\n",
    "\n",
    "tjp_helper.create_xi_t_sacc(zlmin=zlmin, zlmax=zlmax,\n",
    "                            zsmin=zsmin, zsmax=zsmax,\n",
    "                            year=1)\n",
    "\n",
    "# sleep to let sacc file properly save to drive\n",
    "time.sleep(15)\n",
    "\n",
    "# generate y1 cov matrices for specified rho values\n",
    "rho = [0.1, 0.5, 0.9]\n",
    "covs = tjp_helper.get_lsst_covariance(zlmin=zlmin,zlmax=zlmax,\n",
    "                                      zsmin=zsmin, zsmax=zsmax,\n",
    "                                      lmax=lmax, rho=rho, year=1, \n",
    "                                     out_file='y1_covs_0.05-3.5')"
   ]
  },
  {
   "cell_type": "code",
   "execution_count": 90,
   "id": "86b6c5d7-b28c-46ba-ae73-1ff627fedd0c",
   "metadata": {},
   "outputs": [
    {
     "name": "stdout",
     "output_type": "stream",
     "text": [
      "Pk_gg calculated\n"
     ]
    },
    {
     "name": "stderr",
     "output_type": "stream",
     "text": [
      "100%|█████████████████████████████████████████| 300/300 [04:49<00:00,  1.04it/s]"
     ]
    },
    {
     "name": "stdout",
     "output_type": "stream",
     "text": [
      "xi_gg calculated\n"
     ]
    },
    {
     "name": "stderr",
     "output_type": "stream",
     "text": [
      "\n"
     ]
    },
    {
     "name": "stdout",
     "output_type": "stream",
     "text": [
      "Order preserved for zl indices 0-299\n",
      "xi_ls estimation complete\n",
      "Finding boosts for 300 lens redshifts in range 1 - 1.2\n",
      "Order preserved for zl indices 0-299\n",
      "Boost estimation complete\n",
      "Runtime = 6.25505 minutes\n",
      "rp: [ 0.1         0.21544347  0.46415888  1.          2.15443469  4.64158883\n",
      " 10.        ]\n",
      "th: [ 0.13995874  0.30153197  0.64963095  1.39958745  3.01531975  6.49630947\n",
      " 13.99587447]\n",
      "Fraction of lenses in bin: 0.111554\n",
      "Fraction of source in bin: 0.99034\n",
      "Getting y1,y1 covariance...\n",
      "\n",
      "Computing independent covariance blocks\n",
      "('lens', 'source') ('lens', 'source')\n"
     ]
    },
    {
     "name": "stderr",
     "output_type": "stream",
     "text": [
      "/home/b7009348/WGL_project/LSST_forecast_code/tjpcov/covariance_builder.py:897: UserWarning: Missing n_ell_coupled info for some tracers in the sacc file. You will have to pass it withthe cache\n",
      "  warnings.warn(\n"
     ]
    },
    {
     "name": "stdout",
     "output_type": "stream",
     "text": [
      "Building the covariance: placing blocks in their place\n",
      "('lens', 'source') ('lens', 'source')\n",
      "\n",
      "Found covariance matrix for y1y1, getting y1,y2 for different rho...\n",
      "\n",
      "Computing independent covariance blocks\n",
      "('lens', 'source') ('lens', 'source')\n",
      "Building the covariance: placing blocks in their place\n",
      "('lens', 'source') ('lens', 'source')\n",
      "\n",
      "Getting cov[y1,y2] for rho=0.1\n",
      "Computing independent covariance blocks\n",
      "('lens', 'source') ('lens', 'source')\n",
      "Building the covariance: placing blocks in their place\n",
      "('lens', 'source') ('lens', 'source')\n",
      "\n",
      "Getting cov[y1,y2] for rho=0.5\n",
      "Computing independent covariance blocks\n",
      "('lens', 'source') ('lens', 'source')\n",
      "Building the covariance: placing blocks in their place\n",
      "('lens', 'source') ('lens', 'source')\n",
      "\n",
      "Getting cov[y1,y2] for rho=0.9\n"
     ]
    },
    {
     "ename": "TypeError",
     "evalue": "unsupported operand type(s) for -: 'str' and 'float'",
     "output_type": "error",
     "traceback": [
      "\u001b[0;31m---------------------------------------------------------------------------\u001b[0m",
      "\u001b[0;31mTypeError\u001b[0m                                 Traceback (most recent call last)",
      "Cell \u001b[0;32mIn [90], line 23\u001b[0m\n\u001b[1;32m     21\u001b[0m \u001b[38;5;66;03m# generate y1 cov matrices for specified rho values\u001b[39;00m\n\u001b[1;32m     22\u001b[0m rho \u001b[38;5;241m=\u001b[39m [\u001b[38;5;241m0.1\u001b[39m, \u001b[38;5;241m0.5\u001b[39m, \u001b[38;5;241m0.9\u001b[39m]\n\u001b[0;32m---> 23\u001b[0m covs \u001b[38;5;241m=\u001b[39m \u001b[43mtjp_helper\u001b[49m\u001b[38;5;241;43m.\u001b[39;49m\u001b[43mget_lsst_covariance\u001b[49m\u001b[43m(\u001b[49m\u001b[43mzlmin\u001b[49m\u001b[38;5;241;43m=\u001b[39;49m\u001b[43mzlmin\u001b[49m\u001b[43m,\u001b[49m\u001b[43mzlmax\u001b[49m\u001b[38;5;241;43m=\u001b[39;49m\u001b[43mzlmax\u001b[49m\u001b[43m,\u001b[49m\n\u001b[1;32m     24\u001b[0m \u001b[43m                                      \u001b[49m\u001b[43mzsmin\u001b[49m\u001b[38;5;241;43m=\u001b[39;49m\u001b[43mzsmin\u001b[49m\u001b[43m,\u001b[49m\u001b[43m \u001b[49m\u001b[43mzsmax\u001b[49m\u001b[38;5;241;43m=\u001b[39;49m\u001b[43mzsmax\u001b[49m\u001b[43m,\u001b[49m\n\u001b[1;32m     25\u001b[0m \u001b[43m                                      \u001b[49m\u001b[43mlmax\u001b[49m\u001b[38;5;241;43m=\u001b[39;49m\u001b[43mlmax\u001b[49m\u001b[43m,\u001b[49m\u001b[43m \u001b[49m\u001b[43mrho\u001b[49m\u001b[38;5;241;43m=\u001b[39;49m\u001b[43mrho\u001b[49m\u001b[43m,\u001b[49m\u001b[43m \u001b[49m\u001b[43myear\u001b[49m\u001b[38;5;241;43m=\u001b[39;49m\u001b[38;5;241;43m1\u001b[39;49m\u001b[43m,\u001b[49m\u001b[43m \u001b[49m\n\u001b[1;32m     26\u001b[0m \u001b[43m                                     \u001b[49m\u001b[43mout_file\u001b[49m\u001b[38;5;241;43m=\u001b[39;49m\u001b[38;5;124;43m'\u001b[39;49m\u001b[38;5;124;43my1_covs_0.05-2.4\u001b[39;49m\u001b[38;5;124;43m'\u001b[39;49m\u001b[43m)\u001b[49m\n",
      "File \u001b[0;32m~/WGL_project/LSST_forecast_code/CM_code/tjp_helper.py:185\u001b[0m, in \u001b[0;36mget_lsst_covariance\u001b[0;34m(zlmin, zlmax, zsmin, zsmax, lmax, rho, year, out_file)\u001b[0m\n\u001b[1;32m    183\u001b[0m \n\u001b[1;32m    184\u001b[0m end = time.time()\n\u001b[0;32m--> 185\u001b[0m print('Runtime:', end-start)\n\u001b[1;32m    186\u001b[0m \n\u001b[1;32m    187\u001b[0m return full_cov\n",
      "\u001b[0;31mTypeError\u001b[0m: unsupported operand type(s) for -: 'str' and 'float'"
     ]
    }
   ],
   "source": [
    "zsmin, zsmax = 0.05, 2.4\n",
    "\n",
    "B_min1, r_p = sp.get_boosts(zlmin=zlmin, zlmax=zlmax,\n",
    "                            zsmin=zsmin, zsmax=zsmax,\n",
    "                            year=1, out_file='boost_y1_zs=0.05-2.4')\n",
    "\n",
    "_, _, zleff = sp.zed.get_dndz_spec(gtype='lens', zlmin=zlmin, zlmax=zlmax, year=1)\n",
    "\n",
    "rp = np.logspace(np.log10(sp.rpmin), np.log10(sp.rpmax), sp.N_bins)\n",
    "theta = sp.rp_to_arcmin(rp, zleff)\n",
    "\n",
    "lmax= 180/(theta[0]/60.)\n",
    "\n",
    "tjp_helper.create_xi_t_sacc(zlmin=zlmin, zlmax=zlmax,\n",
    "                            zsmin=zsmin, zsmax=zsmax,\n",
    "                            year=1)\n",
    "\n",
    "# sleep to let sacc file properly save to drive\n",
    "time.sleep(15)\n",
    "\n",
    "# generate y1 cov matrices for specified rho values\n",
    "rho = [0.1, 0.5, 0.9]\n",
    "covs = tjp_helper.get_lsst_covariance(zlmin=zlmin,zlmax=zlmax,\n",
    "                                      zsmin=zsmin, zsmax=zsmax,\n",
    "                                      lmax=lmax, rho=rho, year=1, \n",
    "                                     out_file='y1_covs_0.05-2.4')"
   ]
  },
  {
   "cell_type": "code",
   "execution_count": null,
   "id": "ba381f00-fad5-4bd6-8aec-f7c227b4b5ab",
   "metadata": {
    "collapsed": true,
    "jupyter": {
     "outputs_hidden": true
    },
    "tags": []
   },
   "outputs": [
    {
     "name": "stderr",
     "output_type": "stream",
     "text": [
      "Process ForkPoolWorker-8549:\n",
      "Process ForkPoolWorker-8556:\n",
      "Exception ignored in: <function _releaseLock at 0x7f890f85fc10>\n",
      "Traceback (most recent call last):\n",
      "  File \"/nobackup/b7009348/miniconda3/envs/ccl_tjp/lib/python3.9/logging/__init__.py\", line 227, in _releaseLock\n",
      "    def _releaseLock():\n",
      "KeyboardInterrupt: \n",
      "Process ForkPoolWorker-8546:\n",
      "Process ForkPoolWorker-8552:\n",
      "Process ForkPoolWorker-8558:\n",
      "Process ForkPoolWorker-8551:\n",
      "Process ForkPoolWorker-8557:\n",
      "Process ForkPoolWorker-8542:\n",
      "Process ForkPoolWorker-8548:\n",
      "Process ForkPoolWorker-8550:\n",
      "Process ForkPoolWorker-8547:\n",
      "Process ForkPoolWorker-8545:\n",
      "Process ForkPoolWorker-8554:\n",
      "Process ForkPoolWorker-8553:\n",
      "Process ForkPoolWorker-8541:\n",
      "Process ForkPoolWorker-8544:\n",
      "Process ForkPoolWorker-8555:\n",
      "Process ForkPoolWorker-8543:\n",
      "Traceback (most recent call last):\n",
      "Traceback (most recent call last):\n",
      "Traceback (most recent call last):\n",
      "Traceback (most recent call last):\n",
      "Traceback (most recent call last):\n",
      "Traceback (most recent call last):\n",
      "Traceback (most recent call last):\n",
      "Traceback (most recent call last):\n",
      "Traceback (most recent call last):\n",
      "Traceback (most recent call last):\n",
      "Traceback (most recent call last):\n",
      "Traceback (most recent call last):\n",
      "Traceback (most recent call last):\n",
      "Traceback (most recent call last):\n",
      "Traceback (most recent call last):\n",
      "Traceback (most recent call last):\n",
      "Traceback (most recent call last):\n",
      "Traceback (most recent call last):\n",
      "  File \"/nobackup/b7009348/miniconda3/envs/ccl_tjp/lib/python3.9/multiprocessing/process.py\", line 315, in _bootstrap\n",
      "    self.run()\n",
      "  File \"/nobackup/b7009348/miniconda3/envs/ccl_tjp/lib/python3.9/multiprocessing/process.py\", line 315, in _bootstrap\n",
      "    self.run()\n",
      "  File \"/nobackup/b7009348/miniconda3/envs/ccl_tjp/lib/python3.9/multiprocessing/process.py\", line 315, in _bootstrap\n",
      "    self.run()\n",
      "  File \"/nobackup/b7009348/miniconda3/envs/ccl_tjp/lib/python3.9/multiprocessing/process.py\", line 315, in _bootstrap\n",
      "    self.run()\n",
      "  File \"/nobackup/b7009348/miniconda3/envs/ccl_tjp/lib/python3.9/multiprocessing/process.py\", line 315, in _bootstrap\n",
      "    self.run()\n",
      "  File \"/nobackup/b7009348/miniconda3/envs/ccl_tjp/lib/python3.9/multiprocessing/process.py\", line 315, in _bootstrap\n",
      "    self.run()\n",
      "  File \"/nobackup/b7009348/miniconda3/envs/ccl_tjp/lib/python3.9/multiprocessing/process.py\", line 315, in _bootstrap\n",
      "    self.run()\n",
      "  File \"/nobackup/b7009348/miniconda3/envs/ccl_tjp/lib/python3.9/multiprocessing/process.py\", line 315, in _bootstrap\n",
      "    self.run()\n",
      "  File \"/nobackup/b7009348/miniconda3/envs/ccl_tjp/lib/python3.9/multiprocessing/process.py\", line 315, in _bootstrap\n",
      "    self.run()\n",
      "  File \"/nobackup/b7009348/miniconda3/envs/ccl_tjp/lib/python3.9/multiprocessing/process.py\", line 315, in _bootstrap\n",
      "    self.run()\n",
      "  File \"/nobackup/b7009348/miniconda3/envs/ccl_tjp/lib/python3.9/multiprocessing/process.py\", line 315, in _bootstrap\n",
      "    self.run()\n",
      "  File \"/nobackup/b7009348/miniconda3/envs/ccl_tjp/lib/python3.9/multiprocessing/process.py\", line 315, in _bootstrap\n",
      "    self.run()\n",
      "  File \"/nobackup/b7009348/miniconda3/envs/ccl_tjp/lib/python3.9/multiprocessing/process.py\", line 315, in _bootstrap\n",
      "    self.run()\n",
      "  File \"/nobackup/b7009348/miniconda3/envs/ccl_tjp/lib/python3.9/multiprocessing/process.py\", line 315, in _bootstrap\n",
      "    self.run()\n",
      "  File \"/nobackup/b7009348/miniconda3/envs/ccl_tjp/lib/python3.9/multiprocessing/process.py\", line 315, in _bootstrap\n",
      "    self.run()\n",
      "  File \"/nobackup/b7009348/miniconda3/envs/ccl_tjp/lib/python3.9/multiprocessing/process.py\", line 315, in _bootstrap\n",
      "    self.run()\n",
      "  File \"/nobackup/b7009348/miniconda3/envs/ccl_tjp/lib/python3.9/multiprocessing/process.py\", line 315, in _bootstrap\n",
      "    self.run()\n",
      "  File \"/nobackup/b7009348/miniconda3/envs/ccl_tjp/lib/python3.9/multiprocessing/process.py\", line 108, in run\n",
      "    self._target(*self._args, **self._kwargs)\n",
      "  File \"/nobackup/b7009348/miniconda3/envs/ccl_tjp/lib/python3.9/multiprocessing/process.py\", line 108, in run\n",
      "    self._target(*self._args, **self._kwargs)\n",
      "  File \"/nobackup/b7009348/miniconda3/envs/ccl_tjp/lib/python3.9/multiprocessing/process.py\", line 315, in _bootstrap\n",
      "    self.run()\n",
      "  File \"/nobackup/b7009348/miniconda3/envs/ccl_tjp/lib/python3.9/multiprocessing/process.py\", line 108, in run\n",
      "    self._target(*self._args, **self._kwargs)\n",
      "  File \"/nobackup/b7009348/miniconda3/envs/ccl_tjp/lib/python3.9/multiprocessing/process.py\", line 108, in run\n",
      "    self._target(*self._args, **self._kwargs)\n",
      "  File \"/nobackup/b7009348/miniconda3/envs/ccl_tjp/lib/python3.9/multiprocessing/process.py\", line 108, in run\n",
      "    self._target(*self._args, **self._kwargs)\n",
      "  File \"/nobackup/b7009348/miniconda3/envs/ccl_tjp/lib/python3.9/multiprocessing/process.py\", line 108, in run\n",
      "    self._target(*self._args, **self._kwargs)\n",
      "  File \"/nobackup/b7009348/miniconda3/envs/ccl_tjp/lib/python3.9/multiprocessing/process.py\", line 108, in run\n",
      "    self._target(*self._args, **self._kwargs)\n",
      "  File \"/nobackup/b7009348/miniconda3/envs/ccl_tjp/lib/python3.9/multiprocessing/process.py\", line 108, in run\n",
      "    self._target(*self._args, **self._kwargs)\n",
      "  File \"/nobackup/b7009348/miniconda3/envs/ccl_tjp/lib/python3.9/multiprocessing/process.py\", line 108, in run\n",
      "    self._target(*self._args, **self._kwargs)\n",
      "  File \"/nobackup/b7009348/miniconda3/envs/ccl_tjp/lib/python3.9/multiprocessing/process.py\", line 108, in run\n",
      "    self._target(*self._args, **self._kwargs)\n",
      "  File \"/nobackup/b7009348/miniconda3/envs/ccl_tjp/lib/python3.9/multiprocessing/process.py\", line 108, in run\n",
      "    self._target(*self._args, **self._kwargs)\n",
      "  File \"/nobackup/b7009348/miniconda3/envs/ccl_tjp/lib/python3.9/multiprocessing/process.py\", line 108, in run\n",
      "    self._target(*self._args, **self._kwargs)\n",
      "  File \"/nobackup/b7009348/miniconda3/envs/ccl_tjp/lib/python3.9/multiprocessing/process.py\", line 108, in run\n",
      "    self._target(*self._args, **self._kwargs)\n",
      "  File \"/nobackup/b7009348/miniconda3/envs/ccl_tjp/lib/python3.9/multiprocessing/process.py\", line 108, in run\n",
      "    self._target(*self._args, **self._kwargs)\n",
      "  File \"/nobackup/b7009348/miniconda3/envs/ccl_tjp/lib/python3.9/multiprocessing/process.py\", line 108, in run\n",
      "    self._target(*self._args, **self._kwargs)\n",
      "  File \"/nobackup/b7009348/miniconda3/envs/ccl_tjp/lib/python3.9/multiprocessing/process.py\", line 108, in run\n",
      "    self._target(*self._args, **self._kwargs)\n",
      "  File \"/nobackup/b7009348/miniconda3/envs/ccl_tjp/lib/python3.9/multiprocessing/process.py\", line 108, in run\n",
      "    self._target(*self._args, **self._kwargs)\n",
      "  File \"/nobackup/b7009348/miniconda3/envs/ccl_tjp/lib/python3.9/multiprocessing/pool.py\", line 114, in worker\n",
      "    task = get()\n",
      "  File \"/nobackup/b7009348/miniconda3/envs/ccl_tjp/lib/python3.9/multiprocessing/process.py\", line 108, in run\n",
      "    self._target(*self._args, **self._kwargs)\n",
      "  File \"/nobackup/b7009348/miniconda3/envs/ccl_tjp/lib/python3.9/multiprocessing/pool.py\", line 114, in worker\n",
      "    task = get()\n",
      "  File \"/nobackup/b7009348/miniconda3/envs/ccl_tjp/lib/python3.9/multiprocessing/pool.py\", line 114, in worker\n",
      "    task = get()\n",
      "  File \"/nobackup/b7009348/miniconda3/envs/ccl_tjp/lib/python3.9/multiprocessing/pool.py\", line 114, in worker\n",
      "    task = get()\n",
      "  File \"/nobackup/b7009348/miniconda3/envs/ccl_tjp/lib/python3.9/multiprocessing/pool.py\", line 114, in worker\n",
      "    task = get()\n",
      "  File \"/nobackup/b7009348/miniconda3/envs/ccl_tjp/lib/python3.9/multiprocessing/pool.py\", line 114, in worker\n",
      "    task = get()\n",
      "  File \"/nobackup/b7009348/miniconda3/envs/ccl_tjp/lib/python3.9/multiprocessing/pool.py\", line 114, in worker\n",
      "    task = get()\n",
      "  File \"/nobackup/b7009348/miniconda3/envs/ccl_tjp/lib/python3.9/multiprocessing/pool.py\", line 114, in worker\n",
      "    task = get()\n",
      "  File \"/nobackup/b7009348/miniconda3/envs/ccl_tjp/lib/python3.9/multiprocessing/pool.py\", line 114, in worker\n",
      "    task = get()\n",
      "  File \"/nobackup/b7009348/miniconda3/envs/ccl_tjp/lib/python3.9/multiprocessing/pool.py\", line 114, in worker\n",
      "    task = get()\n",
      "  File \"/nobackup/b7009348/miniconda3/envs/ccl_tjp/lib/python3.9/multiprocessing/pool.py\", line 114, in worker\n",
      "    task = get()\n",
      "  File \"/nobackup/b7009348/miniconda3/envs/ccl_tjp/lib/python3.9/multiprocessing/pool.py\", line 114, in worker\n",
      "    task = get()\n",
      "  File \"/nobackup/b7009348/miniconda3/envs/ccl_tjp/lib/python3.9/multiprocessing/pool.py\", line 114, in worker\n",
      "    task = get()\n",
      "  File \"/nobackup/b7009348/miniconda3/envs/ccl_tjp/lib/python3.9/multiprocessing/pool.py\", line 114, in worker\n",
      "    task = get()\n",
      "  File \"/nobackup/b7009348/miniconda3/envs/ccl_tjp/lib/python3.9/multiprocessing/pool.py\", line 114, in worker\n",
      "    task = get()\n",
      "  File \"/nobackup/b7009348/miniconda3/envs/ccl_tjp/lib/python3.9/multiprocessing/pool.py\", line 114, in worker\n",
      "    task = get()\n",
      "  File \"/nobackup/b7009348/miniconda3/envs/ccl_tjp/lib/python3.9/multiprocessing/queues.py\", line 364, in get\n",
      "    with self._rlock:\n",
      "  File \"/nobackup/b7009348/miniconda3/envs/ccl_tjp/lib/python3.9/multiprocessing/pool.py\", line 114, in worker\n",
      "    task = get()\n",
      "  File \"/nobackup/b7009348/miniconda3/envs/ccl_tjp/lib/python3.9/multiprocessing/queues.py\", line 364, in get\n",
      "    with self._rlock:\n",
      "  File \"/nobackup/b7009348/miniconda3/envs/ccl_tjp/lib/python3.9/multiprocessing/pool.py\", line 114, in worker\n",
      "    task = get()\n",
      "  File \"/nobackup/b7009348/miniconda3/envs/ccl_tjp/lib/python3.9/multiprocessing/queues.py\", line 364, in get\n",
      "    with self._rlock:\n",
      "  File \"/nobackup/b7009348/miniconda3/envs/ccl_tjp/lib/python3.9/multiprocessing/queues.py\", line 364, in get\n",
      "    with self._rlock:\n",
      "  File \"/nobackup/b7009348/miniconda3/envs/ccl_tjp/lib/python3.9/multiprocessing/queues.py\", line 364, in get\n",
      "    with self._rlock:\n",
      "  File \"/nobackup/b7009348/miniconda3/envs/ccl_tjp/lib/python3.9/multiprocessing/queues.py\", line 364, in get\n",
      "    with self._rlock:\n",
      "  File \"/nobackup/b7009348/miniconda3/envs/ccl_tjp/lib/python3.9/multiprocessing/queues.py\", line 364, in get\n",
      "    with self._rlock:\n",
      "  File \"/nobackup/b7009348/miniconda3/envs/ccl_tjp/lib/python3.9/multiprocessing/queues.py\", line 364, in get\n",
      "    with self._rlock:\n",
      "  File \"/nobackup/b7009348/miniconda3/envs/ccl_tjp/lib/python3.9/multiprocessing/queues.py\", line 364, in get\n",
      "    with self._rlock:\n",
      "  File \"/nobackup/b7009348/miniconda3/envs/ccl_tjp/lib/python3.9/multiprocessing/queues.py\", line 364, in get\n",
      "    with self._rlock:\n",
      "  File \"/nobackup/b7009348/miniconda3/envs/ccl_tjp/lib/python3.9/multiprocessing/queues.py\", line 364, in get\n",
      "    with self._rlock:\n",
      "  File \"/nobackup/b7009348/miniconda3/envs/ccl_tjp/lib/python3.9/multiprocessing/queues.py\", line 364, in get\n",
      "    with self._rlock:\n",
      "  File \"/nobackup/b7009348/miniconda3/envs/ccl_tjp/lib/python3.9/multiprocessing/queues.py\", line 364, in get\n",
      "    with self._rlock:\n",
      "  File \"/nobackup/b7009348/miniconda3/envs/ccl_tjp/lib/python3.9/multiprocessing/queues.py\", line 364, in get\n",
      "    with self._rlock:\n",
      "  File \"/nobackup/b7009348/miniconda3/envs/ccl_tjp/lib/python3.9/multiprocessing/queues.py\", line 364, in get\n",
      "    with self._rlock:\n",
      "  File \"/nobackup/b7009348/miniconda3/envs/ccl_tjp/lib/python3.9/multiprocessing/queues.py\", line 364, in get\n",
      "    with self._rlock:\n",
      "  File \"/nobackup/b7009348/miniconda3/envs/ccl_tjp/lib/python3.9/multiprocessing/synchronize.py\", line 95, in __enter__\n",
      "    return self._semlock.__enter__()\n",
      "  File \"/nobackup/b7009348/miniconda3/envs/ccl_tjp/lib/python3.9/multiprocessing/queues.py\", line 364, in get\n",
      "    with self._rlock:\n",
      "  File \"/nobackup/b7009348/miniconda3/envs/ccl_tjp/lib/python3.9/multiprocessing/synchronize.py\", line 95, in __enter__\n",
      "    return self._semlock.__enter__()\n",
      "  File \"/nobackup/b7009348/miniconda3/envs/ccl_tjp/lib/python3.9/multiprocessing/queues.py\", line 365, in get\n",
      "    res = self._reader.recv_bytes()\n",
      "  File \"/nobackup/b7009348/miniconda3/envs/ccl_tjp/lib/python3.9/multiprocessing/synchronize.py\", line 95, in __enter__\n",
      "    return self._semlock.__enter__()\n",
      "  File \"/nobackup/b7009348/miniconda3/envs/ccl_tjp/lib/python3.9/multiprocessing/synchronize.py\", line 95, in __enter__\n",
      "    return self._semlock.__enter__()\n",
      "  File \"/nobackup/b7009348/miniconda3/envs/ccl_tjp/lib/python3.9/multiprocessing/synchronize.py\", line 95, in __enter__\n",
      "    return self._semlock.__enter__()\n",
      "  File \"/nobackup/b7009348/miniconda3/envs/ccl_tjp/lib/python3.9/multiprocessing/synchronize.py\", line 95, in __enter__\n",
      "    return self._semlock.__enter__()\n",
      "  File \"/nobackup/b7009348/miniconda3/envs/ccl_tjp/lib/python3.9/multiprocessing/synchronize.py\", line 95, in __enter__\n",
      "    return self._semlock.__enter__()\n",
      "  File \"/nobackup/b7009348/miniconda3/envs/ccl_tjp/lib/python3.9/multiprocessing/synchronize.py\", line 95, in __enter__\n",
      "    return self._semlock.__enter__()\n",
      "  File \"/nobackup/b7009348/miniconda3/envs/ccl_tjp/lib/python3.9/multiprocessing/synchronize.py\", line 95, in __enter__\n",
      "    return self._semlock.__enter__()\n",
      "  File \"/nobackup/b7009348/miniconda3/envs/ccl_tjp/lib/python3.9/multiprocessing/synchronize.py\", line 95, in __enter__\n",
      "    return self._semlock.__enter__()\n",
      "  File \"/nobackup/b7009348/miniconda3/envs/ccl_tjp/lib/python3.9/multiprocessing/synchronize.py\", line 95, in __enter__\n",
      "    return self._semlock.__enter__()\n",
      "  File \"/nobackup/b7009348/miniconda3/envs/ccl_tjp/lib/python3.9/multiprocessing/synchronize.py\", line 95, in __enter__\n",
      "    return self._semlock.__enter__()\n",
      "  File \"/nobackup/b7009348/miniconda3/envs/ccl_tjp/lib/python3.9/multiprocessing/synchronize.py\", line 95, in __enter__\n",
      "    return self._semlock.__enter__()\n",
      "  File \"/nobackup/b7009348/miniconda3/envs/ccl_tjp/lib/python3.9/multiprocessing/synchronize.py\", line 95, in __enter__\n",
      "    return self._semlock.__enter__()\n",
      "  File \"/nobackup/b7009348/miniconda3/envs/ccl_tjp/lib/python3.9/multiprocessing/synchronize.py\", line 95, in __enter__\n",
      "    return self._semlock.__enter__()\n",
      "  File \"/nobackup/b7009348/miniconda3/envs/ccl_tjp/lib/python3.9/multiprocessing/synchronize.py\", line 95, in __enter__\n",
      "    return self._semlock.__enter__()\n",
      "KeyboardInterrupt\n",
      "  File \"/nobackup/b7009348/miniconda3/envs/ccl_tjp/lib/python3.9/multiprocessing/synchronize.py\", line 95, in __enter__\n",
      "    return self._semlock.__enter__()\n",
      "KeyboardInterrupt\n",
      "  File \"/nobackup/b7009348/miniconda3/envs/ccl_tjp/lib/python3.9/multiprocessing/connection.py\", line 221, in recv_bytes\n",
      "    buf = self._recv_bytes(maxlength)\n",
      "KeyboardInterrupt\n",
      "KeyboardInterrupt\n",
      "KeyboardInterrupt\n",
      "KeyboardInterrupt\n",
      "KeyboardInterrupt\n",
      "KeyboardInterrupt\n",
      "KeyboardInterrupt\n",
      "KeyboardInterrupt\n",
      "KeyboardInterrupt\n",
      "KeyboardInterrupt\n",
      "KeyboardInterrupt\n",
      "KeyboardInterrupt\n",
      "KeyboardInterrupt\n",
      "KeyboardInterrupt\n",
      "  File \"/nobackup/b7009348/miniconda3/envs/ccl_tjp/lib/python3.9/multiprocessing/connection.py\", line 419, in _recv_bytes\n",
      "    buf = self._recv(4)\n",
      "KeyboardInterrupt\n",
      "  File \"/nobackup/b7009348/miniconda3/envs/ccl_tjp/lib/python3.9/multiprocessing/connection.py\", line 384, in _recv\n",
      "    chunk = read(handle, remaining)\n",
      "KeyboardInterrupt\n",
      "IOStream.flush timed out\n"
     ]
    }
   ],
   "source": [
    "zsmin, zsmax = 0.05, 1.2\n",
    "\n",
    "B_min1, r_p = sp.get_boosts(zlmin=zlmin, zlmax=zlmax,\n",
    "                            zsmin=zsmin, zsmax=zsmax,\n",
    "                            year=1, out_file='boost_y1_zs=0.05-1.2')\n",
    "\n",
    "_, _, zleff = sp.zed.get_dndz_spec(gtype='lens', zlmin=zlmin, zlmax=zlmax, year=1)\n",
    "\n",
    "rp = np.logspace(np.log10(sp.rpmin), np.log10(sp.rpmax), sp.N_bins)\n",
    "theta = sp.rp_to_arcmin(rp, zleff)\n",
    "\n",
    "lmax= 180/(theta[0]/60.)\n",
    "\n",
    "tjp_helper.create_xi_t_sacc(zlmin=zlmin, zlmax=zlmax,\n",
    "                            zsmin=zsmin, zsmax=zsmax,\n",
    "                            year=1)\n",
    "\n",
    "# sleep to let sacc file properly save to drive\n",
    "time.sleep(15)\n",
    "\n",
    "# generate y1 cov matrices for specified rho values\n",
    "rho = [0.1, 0.5, 0.9]\n",
    "covs = tjp_helper.get_lsst_covariance(zlmin=zlmin,zlmax=zlmax,\n",
    "                                      zsmin=zsmin, zsmax=zsmax,\n",
    "                                      lmax=lmax, rho=rho, year=1, \n",
    "                                     out_file='y1_covs_0.05-1.2')"
   ]
  },
  {
   "cell_type": "markdown",
   "id": "5d0bbab9-e18e-42e3-a36c-05aebfe382ac",
   "metadata": {},
   "source": [
    "### Dense rho values covariance "
   ]
  },
  {
   "cell_type": "code",
   "execution_count": 3,
   "id": "19bb3ffa-ae08-4db2-a5dd-fd13fbff3481",
   "metadata": {},
   "outputs": [
    {
     "name": "stdout",
     "output_type": "stream",
     "text": [
      "rp: [ 0.1         0.21544347  0.46415888  1.          2.15443469  4.64158883\n",
      " 10.        ]\n",
      "th: [ 0.13995874  0.30153197  0.64963095  1.39958745  3.01531975  6.49630947\n",
      " 13.99587447]\n",
      "Fraction of lenses in bin: 0.116739\n",
      "Fraction of source in bin: 1\n",
      "Getting y1,y1 covariance...\n",
      "\n",
      "Computing independent covariance blocks\n",
      "('lens', 'source') ('lens', 'source')\n"
     ]
    },
    {
     "name": "stderr",
     "output_type": "stream",
     "text": [
      "/home/b7009348/WGL_project/LSST_forecast_code/tjpcov/covariance_builder.py:897: UserWarning: Missing n_ell_coupled info for some tracers in the sacc file. You will have to pass it withthe cache\n",
      "  warnings.warn(\n"
     ]
    },
    {
     "name": "stdout",
     "output_type": "stream",
     "text": [
      "Building the covariance: placing blocks in their place\n",
      "('lens', 'source') ('lens', 'source')\n",
      "\n",
      "Found covariance matrix for y1y1, getting y1,y2 for different rho...\n",
      "\n",
      "Computing independent covariance blocks\n",
      "('lens', 'source') ('lens', 'source')\n",
      "Building the covariance: placing blocks in their place\n",
      "('lens', 'source') ('lens', 'source')\n",
      "\n",
      "Getting cov[y1,y2] for rho=0.1\n",
      "Computing independent covariance blocks\n",
      "('lens', 'source') ('lens', 'source')\n",
      "Building the covariance: placing blocks in their place\n",
      "('lens', 'source') ('lens', 'source')\n",
      "\n",
      "Getting cov[y1,y2] for rho=0.2\n",
      "Computing independent covariance blocks\n",
      "('lens', 'source') ('lens', 'source')\n",
      "Building the covariance: placing blocks in their place\n",
      "('lens', 'source') ('lens', 'source')\n",
      "\n",
      "Getting cov[y1,y2] for rho=0.3\n",
      "Computing independent covariance blocks\n",
      "('lens', 'source') ('lens', 'source')\n",
      "Building the covariance: placing blocks in their place\n",
      "('lens', 'source') ('lens', 'source')\n",
      "\n",
      "Getting cov[y1,y2] for rho=0.4\n",
      "Computing independent covariance blocks\n",
      "('lens', 'source') ('lens', 'source')\n",
      "Building the covariance: placing blocks in their place\n",
      "('lens', 'source') ('lens', 'source')\n",
      "\n",
      "Getting cov[y1,y2] for rho=0.5\n",
      "Computing independent covariance blocks\n",
      "('lens', 'source') ('lens', 'source')\n",
      "Building the covariance: placing blocks in their place\n",
      "('lens', 'source') ('lens', 'source')\n",
      "\n",
      "Getting cov[y1,y2] for rho=0.6\n",
      "Computing independent covariance blocks\n",
      "('lens', 'source') ('lens', 'source')\n",
      "Building the covariance: placing blocks in their place\n",
      "('lens', 'source') ('lens', 'source')\n",
      "\n",
      "Getting cov[y1,y2] for rho=0.7\n",
      "Computing independent covariance blocks\n",
      "('lens', 'source') ('lens', 'source')\n",
      "Building the covariance: placing blocks in their place\n",
      "('lens', 'source') ('lens', 'source')\n",
      "\n",
      "Getting cov[y1,y2] for rho=0.8\n",
      "Computing independent covariance blocks\n",
      "('lens', 'source') ('lens', 'source')\n",
      "Building the covariance: placing blocks in their place\n",
      "('lens', 'source') ('lens', 'source')\n",
      "\n",
      "Getting cov[y1,y2] for rho=0.9\n",
      "Runtime: 21.1002 mins\n"
     ]
    }
   ],
   "source": [
    "zlmin, zlmax = 1.0, 1.2\n",
    "zsmin, zsmax = 0.05, 3.5\n",
    "_, _, zleff = sp.zed.get_dndz_spec(gtype='lens', zlmin=zlmin, zlmax=zlmax, year=10)\n",
    "\n",
    "rp = np.logspace(np.log10(sp.rpmin), np.log10(sp.rpmax), sp.N_bins)\n",
    "theta = sp.rp_to_arcmin(rp, zleff)\n",
    "\n",
    "lmax= 180/(theta[0]/60.)\n",
    "\n",
    "tjp_helper.create_xi_t_sacc(zlmin=zlmin, zlmax=zlmax,\n",
    "                            zsmin=zsmin, zsmax=zsmax,\n",
    "                            year=10)\n",
    "\n",
    "# sleep to let sacc file properly save to drive\n",
    "time.sleep(15)\n",
    "\n",
    "# generate y1 cov matrices for specified rho values\n",
    "rho = [0.1, 0.2, 0.3, 0.4, 0.5, 0.6, 0.7, 0.8, 0.9]\n",
    "covs = tjp_helper.get_lsst_covariance(zlmin=zlmin,zlmax=zlmax,\n",
    "                                      zsmin=zsmin, zsmax=zsmax,\n",
    "                                      lmax=lmax, rho=rho, year=10, \n",
    "                                     out_file='y10_covs_dense_0.05-3.5')"
   ]
  }
 ],
 "metadata": {
  "kernelspec": {
   "display_name": "Python [conda env:ccl_tjp]",
   "language": "python",
   "name": "conda-env-ccl_tjp-py"
  },
  "language_info": {
   "codemirror_mode": {
    "name": "ipython",
    "version": 3
   },
   "file_extension": ".py",
   "mimetype": "text/x-python",
   "name": "python",
   "nbconvert_exporter": "python",
   "pygments_lexer": "ipython3",
   "version": "3.9.15"
  }
 },
 "nbformat": 4,
 "nbformat_minor": 5
}
