{
 "cells": [
  {
   "cell_type": "markdown",
   "metadata": {},
   "source": [
    "Check how weights and Sigma_C behave a function of true redshift on the range of redshifts where we assume IA exist. This is important for whether we can pull gamma_IA out of sums in the Blazek et al. 2012 method."
   ]
  },
  {
   "cell_type": "code",
   "execution_count": 1,
   "metadata": {},
   "outputs": [
    {
     "name": "stdout",
     "output_type": "stream",
     "text": [
      "SURVEY= LSST_DESI\n"
     ]
    }
   ],
   "source": [
    "%matplotlib inline\n",
    "import numpy as np\n",
    "import matplotlib.pyplot as plt\n",
    "import shared_functions_setup as setup\n",
    "import constrain_IA_BlazekMethod as Bl"
   ]
  },
  {
   "cell_type": "code",
   "execution_count": 2,
   "metadata": {
    "collapsed": true
   },
   "outputs": [],
   "source": [
    "SURVEY = 'LSST_DESI'\n",
    "if (SURVEY=='SDSS'):\n",
    "\timport params as pa\n",
    "elif (SURVEY=='LSST_DESI'):\n",
    "\timport params_LSST_DESI as pa\n",
    "else:\n",
    "\tprint \"We don't have support for that survey yet; exiting.\"\n",
    "\texit()"
   ]
  },
  {
   "cell_type": "code",
   "execution_count": null,
   "metadata": {
    "collapsed": true
   },
   "outputs": [],
   "source": []
  },
  {
   "cell_type": "code",
   "execution_count": 3,
   "metadata": {
    "collapsed": true
   },
   "outputs": [],
   "source": [
    "# We need to map spectroscopic redshifts onto photometric for weights.\n",
    "# Get interpolating functions which map redshift onto comoving\n",
    "zofcom, com_of_z = setup.z_interpof_com(SURVEY)\n",
    "\n",
    "# Get the vector of spectroscopic redshifts we care about:\n",
    "#chi_l = com_of_z(pa.zeff)\n",
    "#zIAmax = zofcom(chi_l)\n",
    "#print \"zIAmax=\", zIAmax\n",
    "\n",
    "#zph = [0.28, 0.3, 0.32, 0.34, 0.36, 0.38, 0.4, 0.42, 0.44, 0.46]\n",
    "zph = [0.78, 0.8, 0.82, 0.86, 0.9, 1.0, 1.2]\n",
    "zsvec = np.linspace(0., 2., 100)\n",
    "\n",
    "#zsvec_longer = np.linspace(pa.zeff, 0.4, 20)"
   ]
  },
  {
   "cell_type": "code",
   "execution_count": 12,
   "metadata": {},
   "outputs": [],
   "source": [
    "# At each zspec value, sample from p(zs, zp) to get many zphoto values, then get the mean weight for these\n",
    "\n",
    "\"\"\"weights_avg = np.zeros(len(zsvec))\n",
    "for zsi in range(0,len(zsvec)):\n",
    "    zphs = np.random.normal(zsvec[zsi], pa.pzpar_fid[0] * (1+zsvec[zsi]), 1000000)\n",
    "    for i in range(0, len(zphs)):\n",
    "        if (zphs[i]<0.):\n",
    "            zphs[i] = 0.0001\n",
    "    ws = weights(pa.e_rms_a, zphs, pa.zeff)\n",
    "    weights_avg[zsi] = np.mean(ws)\"\"\"\n",
    "sigz = pa.pzpar_fid[0]\n",
    "zp = zph[4]\n",
    "pz = np.exp(-(zsvec - zp)**2 / (2.*( sigz *(1.+zsvec))**2)) / (np.sqrt(2.*np.pi)*(sigz*(1.+zsvec)))\n",
    "    "
   ]
  },
  {
   "cell_type": "code",
   "execution_count": 13,
   "metadata": {},
   "outputs": [
    {
     "data": {
      "image/png": "[encoded data removed]",
      "text/plain": [
       "<matplotlib.figure.Figure at 0x7f90cc0f55d0>"
      ]
     },
     "metadata": {},
     "output_type": "display_data"
    }
   ],
   "source": [
    "plt.figure()\n",
    "plt.plot(zsvec, pz, 'mo')\n",
    "plt.ylabel('probability, pz', fontsize=16)\n",
    "plt.xlabel('spec z', fontsize = 12)\n",
    "plt.axvline(x=0.78, color='k')\n",
    "plt.hold(True)\n",
    "plt.axvline(x=0.82, color='k')\n",
    "plt.tick_params(axis='both', which='major', labelsize=16)\n",
    "plt.tick_params(axis='both', which='minor', labelsize=16)\n",
    "plt.title('SDSS,zp='+str(zp), fontsize=16)\n",
    "plt.tight_layout()\n",
    "plt.savefig('./plots/pz_zph='+str(zp)+'_LSST.pdf')"
   ]
  },
  {
   "cell_type": "code",
   "execution_count": null,
   "metadata": {
    "collapsed": true
   },
   "outputs": [],
   "source": []
  }
 ],
 "metadata": {
  "kernelspec": {
   "display_name": "Python 2",
   "language": "python",
   "name": "python2"
  },
  "language_info": {
   "codemirror_mode": {
    "name": "ipython",
    "version": 2
   },
   "file_extension": ".py",
   "mimetype": "text/x-python",
   "name": "python",
   "nbconvert_exporter": "python",
   "pygments_lexer": "ipython2",
   "version": "2.7.12"
  }
 },
 "nbformat": 4,
 "nbformat_minor": 2
}
