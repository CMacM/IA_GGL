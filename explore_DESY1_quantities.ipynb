{
 "cells": [
  {
   "cell_type": "code",
   "execution_count": 1,
   "metadata": {},
   "outputs": [],
   "source": [
    "import numpy as np\n",
    "import matplotlib.pyplot as plt"
   ]
  },
  {
   "cell_type": "code",
   "execution_count": 2,
   "metadata": {},
   "outputs": [],
   "source": [
    "# Import some files\n",
    "\n",
    "bin0_zmc = np.loadtxt('./txtfiles/DESY1_quantities_fromSara/bin0_zmc')\n",
    "bin1_zmc = np.loadtxt('./txtfiles/DESY1_quantities_fromSara/bin1_zmc')\n",
    "bin0_zmc_edges = np.loadtxt('./txtfiles/DESY1_quantities_fromSara/bin0_zmc_binEdges')\n",
    "bin1_zmc_edges = np.loadtxt('./txtfiles/DESY1_quantities_fromSara/bin1_zmc_binEdges')\n",
    "\n",
    "bin0_zmean = np.loadtxt('./txtfiles/DESY1_quantities_fromSara/bin0_zmean')[1:]\n",
    "bin1_zmean = np.loadtxt('./txtfiles/DESY1_quantities_fromSara/bin1_zmean')[1:]\n",
    "bin0_zmean_edges = np.loadtxt('./txtfiles/DESY1_quantities_fromSara/bin0_zmean_binEdges')[1:]\n",
    "bin1_zmean_edges = np.loadtxt('./txtfiles/DESY1_quantities_fromSara/bin1_zmean_binEdges')[1:]                         \n",
    "\n",
    "DESY1_zmc = np.loadtxt('./txtfiles/DESY1_quantities_fromSara/DESY1_zmc')\n",
    "DESY1_zmean = np.loadtxt('./txtfiles/DESY1_quantities_fromSara/DESY1_zmean')\n",
    "DESY1_zmc_edges = np.loadtxt('./txtfiles/DESY1_quantities_fromSara/DESY1_zmc_binEdges')\n",
    "DESY1_zmean_edges = np.loadtxt('./txtfiles/DESY1_quantities_fromSara/DESY1_zmean_binEdges')\n",
    "\n",
    "lenz = np.loadtxt('./txtfiles/DESY1_quantities_fromSara/lens_z')[1:]\n",
    "lenz_edges = np.loadtxt('./txtfiles/DESY1_quantities_fromSara/lens_binEdges')[1:]\n",
    "redmagicz = np.loadtxt('./txtfiles/DESY1_quantities_fromSara/redMaGiC_z')[1:]\n",
    "redmagicz_edges = np.loadtxt('./txtfiles/DESY1_quantities_fromSara/redMaGiC_binEdges')[1:]"
   ]
  },
  {
   "cell_type": "code",
   "execution_count": 3,
   "metadata": {},
   "outputs": [],
   "source": [
    "# Import some bigger files\n",
    "\n",
    "#bin0_pzError=np.loadtxt('./txtfiles/DESY1_quantities_fromSara/bin0_photo-zError')\n",
    "#bin1_pzError=np.loadtxt('./txtfiles/DESY1_quantities_fromSara/bin1_photo-zError')\n",
    "#DESY1_pzError=np.loadtxt('./txtfiles/DESY1_quantities_fromSara/DESY1_photo-zError')"
   ]
  },
  {
   "cell_type": "code",
   "execution_count": 4,
   "metadata": {},
   "outputs": [],
   "source": [
    "# From the bin edges, get bin centres\n",
    "def bins_mid(bin_edges):\n",
    "    \"\"\" Gets the middle of each linearly-spaced bin.\"\"\"\n",
    "\n",
    "    bin_centers=np.zeros(len(bin_edges)-1)\n",
    "    for i in range(0,len(bin_edges)-1):\n",
    "        bin_centers[i]    =       (bin_edges[i+1] - bin_edges[i])/2. + bin_edges[i]\n",
    "\n",
    "    return bin_centers"
   ]
  },
  {
   "cell_type": "code",
   "execution_count": 5,
   "metadata": {},
   "outputs": [],
   "source": [
    "bin0_zmc_cent = bins_mid(bin0_zmc_edges)\n",
    "bin1_zmc_cent = bins_mid(bin1_zmc_edges)\n",
    "bin0_zmean_cent = bins_mid(bin0_zmean_edges)\n",
    "bin1_zmean_cent = bins_mid(bin1_zmean_edges)\n",
    "DESY1_zmc_cent = bins_mid(DESY1_zmc_edges)\n",
    "DESY1_zmean_cent = bins_mid(DESY1_zmean_edges)\n",
    "lenz_cent = bins_mid(lenz_edges)\n",
    "redmagicz_cent = bins_mid(redmagicz_edges)"
   ]
  },
  {
   "cell_type": "code",
   "execution_count": 6,
   "metadata": {},
   "outputs": [],
   "source": [
    "np.savetxt('./txtfiles/DESY1_quantities_fromSara/bin0_zmc_centres.dat', bin0_zmc_cent)\n",
    "np.savetxt('./txtfiles/DESY1_quantities_fromSara/bin1_zmc_centres.dat', bin1_zmc_cent)\n",
    "\n",
    "np.savetxt('./txtfiles/DESY1_quantities_fromSara/bin0_zmean_centres.dat', bin0_zmean_cent)\n",
    "np.savetxt('./txtfiles/DESY1_quantities_fromSara/bin1_zmean_centres.dat', bin1_zmean_cent)\n",
    "\n",
    "np.savetxt('./txtfiles/DESY1_quantities_fromSara/DESY1_zmc_cent.dat', DESY1_zmc_cent)\n",
    "np.savetxt('./txtfiles/DESY1_quantities_fromSara/DESY1_zmean_cent.dat', DESY1_zmean_cent)\n",
    "\n",
    "np.savetxt('./txtfiles/DESY1_quantities_fromSara/lenz_cent.dat', lenz_cent)\n",
    "np.savetxt('./txtfiles/DESY1_quantities_fromSara/redmagicz_cent.dat', redmagicz_cent)"
   ]
  },
  {
   "cell_type": "code",
   "execution_count": 7,
   "metadata": {},
   "outputs": [],
   "source": [
    "# Save the lens bin centres stacked with dNdz for lenses for convenience.\n",
    "save_lenses = np.column_stack((lenz_cent, lenz))\n",
    "np.savetxt('./txtfiles/DESY1_quantities_fromSara/z_dNdz_lenses.dat', save_lenses)"
   ]
  },
  {
   "cell_type": "code",
   "execution_count": null,
   "metadata": {},
   "outputs": [],
   "source": [
    "plt.figure()\n",
    "plt.plot(bin0_zmc_cent,bin0_zmc)\n",
    "plt.plot(bin1_zmc_cent,bin1_zmc)\n",
    "plt.xlabel('z_mc')\n",
    "plt.savefig('./txtfiles/DESY1_quantities_fromSara/zmc_dists.png')\n",
    "plt.show()"
   ]
  },
  {
   "cell_type": "code",
   "execution_count": null,
   "metadata": {},
   "outputs": [],
   "source": [
    "plt.figure()\n",
    "plt.plot(bin0_zmean_cent, bin0_zmean)\n",
    "plt.plot(bin1_zmean_cent,bin1_zmean)\n",
    "plt.xlabel('z')\n",
    "plt.savefig('./txtfiles/DESY1_quantities_fromSara/zmean_dists.png')\n",
    "plt.show()"
   ]
  },
  {
   "cell_type": "code",
   "execution_count": null,
   "metadata": {},
   "outputs": [],
   "source": [
    "plt.figure()\n",
    "plt.plot(DESY1_zmc_cent, DESY1_zmc)\n",
    "plt.show()"
   ]
  },
  {
   "cell_type": "code",
   "execution_count": null,
   "metadata": {},
   "outputs": [],
   "source": [
    "plt.figure()\n",
    "plt.plot(DESY1_zmean_cent, DESY1_zmean)\n",
    "plt.show()"
   ]
  },
  {
   "cell_type": "code",
   "execution_count": null,
   "metadata": {},
   "outputs": [],
   "source": [
    "plt.figure()\n",
    "plt.plot(lenz_cent,lenz)\n",
    "plt.show()"
   ]
  },
  {
   "cell_type": "code",
   "execution_count": null,
   "metadata": {},
   "outputs": [],
   "source": [
    "plt.figure()\n",
    "plt.plot(redmagicz_cent,redmagicz)\n",
    "plt.show()"
   ]
  },
  {
   "cell_type": "code",
   "execution_count": null,
   "metadata": {},
   "outputs": [],
   "source": [
    "plt.figure()\n",
    "plt.hist(bin0_pzError, bins=100)\n",
    "plt.show()"
   ]
  },
  {
   "cell_type": "code",
   "execution_count": null,
   "metadata": {},
   "outputs": [],
   "source": [
    "plt.figure()\n",
    "plt.hist(bin1_pzError, bins=500)\n",
    "plt.show()"
   ]
  },
  {
   "cell_type": "code",
   "execution_count": null,
   "metadata": {},
   "outputs": [],
   "source": [
    "plt.figure()\n",
    "plt.hist(DESY1_pzError, bins=100)\n",
    "plt.show()"
   ]
  },
  {
   "cell_type": "code",
   "execution_count": null,
   "metadata": {},
   "outputs": [],
   "source": []
  }
 ],
 "metadata": {
  "kernelspec": {
   "display_name": "desc-tjp",
   "language": "python",
   "name": "desc-tjp"
  },
  "language_info": {
   "codemirror_mode": {
    "name": "ipython",
    "version": 3
   },
   "file_extension": ".py",
   "mimetype": "text/x-python",
   "name": "python",
   "nbconvert_exporter": "python",
   "pygments_lexer": "ipython3",
   "version": "3.8.5"
  }
 },
 "nbformat": 4,
 "nbformat_minor": 4
}
