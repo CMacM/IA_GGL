{
 "cells": [
  {
   "cell_type": "markdown",
   "metadata": {},
   "source": [
    "Check the large scale galaxy bias as implied by the HOD models we use for each source and lens sample."
   ]
  },
  {
   "cell_type": "code",
   "execution_count": 1,
   "metadata": {
    "collapsed": true
   },
   "outputs": [],
   "source": [
    "# Import modules\n",
    "% matplotlib inline\n",
    "import numpy as np; \n",
    "import scipy.integrate; \n",
    "import pyccl as ccl;  \n",
    "import scipy.special"
   ]
  },
  {
   "cell_type": "code",
   "execution_count": 2,
   "metadata": {},
   "outputs": [],
   "source": [
    "OmM = 0.26; OmB=0.044; h0 = 0.72; sigma80=0.77; n_s0 = 0.95; z = 0.28"
   ]
  },
  {
   "cell_type": "code",
   "execution_count": 3,
   "metadata": {},
   "outputs": [],
   "source": [
    "#Initialize the cosmology\n",
    "p = ccl.Parameters(Omega_c= OmM-OmB, Omega_b = OmB, h = h0, sigma8=sigma80, n_s=n_s0)\n",
    "cosmo = ccl.Cosmology(p)"
   ]
  },
  {
   "cell_type": "code",
   "execution_count": 4,
   "metadata": {},
   "outputs": [],
   "source": [
    "# Get the halo mass function \n",
    "Mhvec = np.logspace(9.,17, 30) # In units Msol \n",
    "HMF= ccl.massfunction.massfunc(cosmo, Mhvec, 1./ (1. + z), odelta=200.) "
   ]
  },
  {
   "cell_type": "code",
   "execution_count": 5,
   "metadata": {
    "scrolled": true
   },
   "outputs": [],
   "source": [
    "sigM = 0.7; \n",
    "Mcut=5.*10**13; \n",
    "M1=4.95*10**14; \n",
    "alpha = 1.035; \n",
    "Mmin = 8.05*10**13;\n",
    "\n",
    "Ncen_lens = 0.5 * (1. + scipy.special.erf(  ( np.log10(Mhvec) - np.log10(Mmin) ) / sigM ))\n",
    "\n",
    "Nsat_lens = np.zeros(len(Mhvec))\n",
    "for mi in range(0,len(Mhvec)):\n",
    "    if (Mhvec[mi]<Mcut):\n",
    "        Nsat_lens[mi] = 0.\n",
    "    else:\n",
    "        Nsat_lens[mi] = Ncen_lens[mi]* ((Mhvec[mi] -  Mcut) / M1)**alpha\n",
    "        \n",
    "#plt.figure()\n",
    "#plt.semilogx(Mhvec, Ncen_lens)\n",
    "#plt.ylim(0, 7)\n",
    "#plt.xlim(10**13, 3*10**15)\n",
    "#plt.show()\n",
    "\n",
    "#plt.figure()\n",
    "#plt.semilogx(Mhvec, Nsat_lens)\n",
    "#plt.show()"
   ]
  },
  {
   "cell_type": "code",
   "execution_count": 6,
   "metadata": {},
   "outputs": [
    {
     "name": "stdout",
     "output_type": "stream",
     "text": [
      "sat frac lens= 0.0545116040282\n",
      "lens nbar int= 0.000102282345804\n"
     ]
    }
   ],
   "source": [
    "# Combine to get the total occupation at mass M\n",
    "N_tot_lens= Ncen_lens + Nsat_lens\n",
    "\n",
    "Nsat_int = scipy.integrate.simps(Nsat_lens * HMF, np.log10(Mhvec))\n",
    "Ntot_int= scipy.integrate.simps(N_tot_lens * HMF, np.log10(Mhvec)) \n",
    "satfrac_lens = Nsat_int / Ntot_int\n",
    "print \"sat frac lens=\", satfrac_lens\n",
    "                                                              \n",
    "print \"lens nbar int=\", Ntot_int / (h0**3)\n",
    "\n"
   ]
  },
  {
   "cell_type": "code",
   "execution_count": null,
   "metadata": {
    "collapsed": true
   },
   "outputs": [],
   "source": []
  }
 ],
 "metadata": {
  "kernelspec": {
   "display_name": "Python 2",
   "language": "python",
   "name": "python2"
  },
  "language_info": {
   "codemirror_mode": {
    "name": "ipython",
    "version": 2
   },
   "file_extension": ".py",
   "mimetype": "text/x-python",
   "name": "python",
   "nbconvert_exporter": "python",
   "pygments_lexer": "ipython2",
   "version": "2.7.12"
  }
 },
 "nbformat": 4,
 "nbformat_minor": 2
}
