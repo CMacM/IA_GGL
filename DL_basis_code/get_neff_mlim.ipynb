{
 "cells": [
  {
   "cell_type": "code",
   "execution_count": 1,
   "metadata": {
    "collapsed": true
   },
   "outputs": [],
   "source": [
    "%matplotlib inline\n",
    "import matplotlib.pyplot as plt\n",
    "import numpy as np\n",
    "import shared_functions_setup as setup\n",
    "import scipy.interpolate\n",
    "import scipy.integrate"
   ]
  },
  {
   "cell_type": "code",
   "execution_count": 2,
   "metadata": {
    "collapsed": true
   },
   "outputs": [],
   "source": [
    "survey = 'LSST_DESI'\n",
    "if (survey == 'SDSS'):\n",
    "    import params as pa\n",
    "elif (survey == 'LSST_DESI'):\n",
    "    import params_LSST_DESI as pa\n",
    "else:\n",
    "    print \"We don't have support for that survey yet; exiting.\"\n",
    "    exit()"
   ]
  },
  {
   "cell_type": "code",
   "execution_count": 3,
   "metadata": {
    "collapsed": true
   },
   "outputs": [],
   "source": [
    "# Get the luminosity function, as a function of z, for two different limiting magnitudes\n",
    "\n",
    "def get_phi(z, lum_params, mlim, survey):\n",
    "\t\n",
    "\t\"\"\" This function outputs the Schechter luminosity function with parameters fit in Loveday 2012, following the same procedure as Krause et al. 2015, as a function of z and L \n",
    "\tThe output is L[z][l], list of vectors of luminosity values in z, different at each z due to the different lowe luminosity limit, and phi[z][l], a list of luminosity functions at these luminosity vectors, at each z\n",
    "\tlum_params are the parameters of the luminosity function that are different for different samples, e.g. red vs all. lumparams = [Mr_s, Q, alpha_lum, phi_0, P]\n",
    "\tNote that the luminosity function is output both normalized (for getting Ai and ah) and unnormalized (for the red fraction).\"\"\"\n",
    "\t\n",
    "\tif (survey == 'SDSS'):\n",
    "\t\timport params as pa\n",
    "\telif (survey == 'LSST_DESI'):\n",
    "\t\timport params_LSST_DESI as pa\n",
    "\telse:\n",
    "\t\tprint \"We don't have support for that survey yet; exiting.\"\n",
    "\t\texit()\n",
    "\t\t\n",
    "\t[Mr_s, Q, alpha_lum, phi_0, P ] = lum_params\n",
    "\t\n",
    "\t# Get the amplitude of the Schechter luminosity function as a function of redshift.\n",
    "\tphi_s = phi_0 * 10.**(0.4 * P * z)\n",
    "\t\n",
    "\t# Get M_* (magnitude), then convert to L_*\n",
    "\tMs = Mr_s - Q * (z - 0.1)\n",
    "\tLs = 10**(-0.4 * (Ms - pa.Mp))\n",
    "\t\n",
    "\t# Import the kcorr and ecorr correction from Poggianti (assumes elliptical galaxies)\n",
    "\t# No data for sources beyon z = 3, so we keep the same value at higher z as z=3\n",
    "\t(z_k, kcorr, x,x,x) = np.loadtxt('./txtfiles/kcorr.dat', unpack=True)\n",
    "\t(z_e, ecorr, x,x,x) = np.loadtxt('./txtfiles/ecorr.dat', unpack=True)\n",
    "\tkcorr_interp = scipy.interpolate.interp1d(z_k, kcorr)\n",
    "\tecorr_interp = scipy.interpolate.interp1d(z_e, ecorr)\n",
    "\tkcorr = kcorr_interp(z)\n",
    "\tecorr = ecorr_interp(z)\n",
    "\t\n",
    "\t# Get the absolute magnitude and luminosity corresponding to limiting apparent magntiude (as a function of z)\n",
    "\tdl = setup.com(z, survey) * (1. + z)\n",
    "\tMlim = mlim - (5. * np.log10(dl) + 25. + kcorr + ecorr)\n",
    "\tLlim = 10.**(-0.4 * (Mlim-pa.Mp))\n",
    "\t\n",
    "\t# Get the luminosity vectos - there will be a list of these, one for each redshift, because the limiting values are z-dependent\n",
    "\tL = [0] * len(z)\n",
    "\tfor zi in range(0,len(z)):\n",
    "\t\tL[zi] = scipy.logspace(np.log10(Llim[zi]), 2., 1000)\n",
    "\t\t\n",
    "\t# Now get phi(L,z), where this exists for each z because the lenghts of the L vectors are different.\n",
    "\tphi_func = [0]*len(z)\n",
    "\tfor zi in range(0,len(z)):\n",
    "\t\tphi_func[zi]= np.zeros(len(L[zi]))\n",
    "\t\tfor li in range(0,len(L[zi])):\n",
    "\t\t\tphi_func[zi][li] = phi_s[zi] * (L[zi][li] / Ls[zi]) ** (alpha_lum) * np.exp(- L[zi][li] / Ls[zi])\n",
    "\t\t\t\n",
    "\t# Get the normalization in L as a function of z\n",
    "\t\n",
    "\tnorm= np.zeros(len(z))\n",
    "\tphi_func_normed = [0]*len(z)\n",
    "\tfor zi in range(len(z)):\n",
    "\t\tphi_func_normed[zi] = np.zeros(len(L[zi]))\n",
    "\t\tnorm[zi] = scipy.integrate.simps(phi_func[zi], L[zi])\n",
    "\t\tphi_func_normed[zi] = phi_func[zi] / norm[zi]\n",
    "\n",
    "\treturn (L, phi_func_normed, phi_func)\n",
    "\t\n",
    "def get_fred_ofz(z, survey):\n",
    "\t\"\"\" This function gets the red fraction as a function of the redshift, using the Schecter luminosity function as defined in get_phi\"\"\"\n",
    "\n",
    "\tif (survey == 'SDSS'):\n",
    "\t\timport params as pa\n",
    "\telif (survey == 'LSST_DESI'):\n",
    "\t\timport params_LSST_DESI as pa\n",
    "\telse:\n",
    "\t\tprint \"We don't have support for that survey yet; exiting.\"\n",
    "\t\texit()\n",
    "\n",
    "\t(L_red, nothing, phi_red) = get_phi(z, pa.lumparams_red, survey)\n",
    "\t(L_all, nothing, phi_all) = get_phi(z, pa.lumparams_all, survey)\n",
    "\t\n",
    "\t# Integrate out in luminosity (phi is already normalized in luminosity\n",
    "\tphi_red_ofz = np.zeros(len(z))\n",
    "\tphi_all_ofz = np.zeros(len(z))\n",
    "\tfor zi in range(0,len(z)):\n",
    "\t\tphi_red_ofz[zi] = scipy.integrate.simps(phi_red[zi], L_red[zi])\n",
    "\t\tphi_all_ofz[zi] = scipy.integrate.simps(phi_all[zi], L_all[zi])\n",
    "\t\t\n",
    "\tfred_ofz = phi_red_ofz / phi_all_ofz\n",
    "\n",
    "\treturn fred_ofz"
   ]
  },
  {
   "cell_type": "code",
   "execution_count": 4,
   "metadata": {},
   "outputs": [],
   "source": [
    "zvec = np.linspace(pa.zsmin, pa.zsmax, 1000)\n",
    "\n",
    "# Get the luminosity function, as a function of z, for two different limiting magnitudes\n",
    "(L_24, nothing, phi_24) = get_phi(zvec, pa.lumparams_all, 24., survey)\n",
    "(L_25pt3, nothing, phi_25pt3)= get_phi(zvec, pa.lumparams_all, 25.3, survey)"
   ]
  },
  {
   "cell_type": "code",
   "execution_count": 5,
   "metadata": {},
   "outputs": [],
   "source": [
    "# Integrate both in luminosity\n",
    "phi_24_ofz = np.zeros(len(zvec))\n",
    "phi_25pt3_ofz = np.zeros(len(zvec))\n",
    "for zi in range(0,len(zvec)):\n",
    "    phi_24_ofz[zi] = scipy.integrate.simps(phi_24[zi], L_24[zi])\n",
    "    phi_25pt3_ofz[zi] = scipy.integrate.simps(phi_25pt3[zi], L_25pt3[zi])\n",
    "    "
   ]
  },
  {
   "cell_type": "code",
   "execution_count": 6,
   "metadata": {},
   "outputs": [],
   "source": [
    "# Get the source redshift distribution \n",
    "zsrc, N_ofz_unnormed = setup.get_NofZ_unnormed(pa.dNdzpar_fid, pa.dNdztype, pa.zsmin, pa.zsmax, 1000)\n",
    "norm = scipy.integrate.simps(N_ofz_unnormed, zsrc)\n",
    "dNdz = N_ofz_unnormed / norm\n"
   ]
  },
  {
   "cell_type": "code",
   "execution_count": 7,
   "metadata": {
    "collapsed": true
   },
   "outputs": [],
   "source": [
    "neff_24 = pa.n_s * scipy.integrate.simps(dNdz * phi_24_ofz / phi_25pt3_ofz, zvec)"
   ]
  },
  {
   "cell_type": "code",
   "execution_count": 8,
   "metadata": {},
   "outputs": [
    {
     "name": "stdout",
     "output_type": "stream",
     "text": [
      "neff_24 = 13.0491596813\n"
     ]
    }
   ],
   "source": [
    "print \"neff_24 =\", neff_24"
   ]
  },
  {
   "cell_type": "code",
   "execution_count": null,
   "metadata": {
    "collapsed": true
   },
   "outputs": [],
   "source": []
  }
 ],
 "metadata": {
  "kernelspec": {
   "display_name": "Python 2",
   "language": "python",
   "name": "python2"
  },
  "language_info": {
   "codemirror_mode": {
    "name": "ipython",
    "version": 2
   },
   "file_extension": ".py",
   "mimetype": "text/x-python",
   "name": "python",
   "nbconvert_exporter": "python",
   "pygments_lexer": "ipython2",
   "version": "2.7.12"
  }
 },
 "nbformat": 4,
 "nbformat_minor": 2
}
