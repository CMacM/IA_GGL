{
 "cells": [
  {
   "cell_type": "markdown",
   "metadata": {},
   "source": [
    "We want to know what is the acceptable level of error on c_z for SDSS and LSST_DESI such that statistical error dominates the error budget."
   ]
  },
  {
   "cell_type": "code",
   "execution_count": 1,
   "metadata": {},
   "outputs": [
    {
     "name": "stdout",
     "output_type": "stream",
     "text": [
      "SURVEY= SDSS\n"
     ]
    }
   ],
   "source": [
    "%matplotlib inline\n",
    "import numpy as np; import constrain_IA_BlazekMethod as Bl\n",
    "import shared_functions_setup as setup\n",
    "import matplotlib.pyplot as plt"
   ]
  },
  {
   "cell_type": "markdown",
   "metadata": {},
   "source": [
    "$\\Delta \\Sigma = c_z \\widetilde{\\Delta \\Sigma}$. Therefore, $\\frac{\\sigma^2(\\Delta \\Sigma)}{\\Delta \\Sigma^2} = \\sqrt{\\frac{\\sigma^2(c_z)}{c_z^2} + \\frac{\\sigma^2(\\widetilde{\\Delta\\Sigma})}{\\widetilde{\\Delta\\Sigma}^2}}$\n",
    "Let us suppose that we want the error on $\\Delta\\Sigma$ due to $c_z$ to make up no more than $x\\%$ of $\\sigma(\\Delta\\Sigma)$."
   ]
  },
  {
   "cell_type": "code",
   "execution_count": null,
   "metadata": {
    "collapsed": true
   },
   "outputs": [],
   "source": [
    "x=0.2 # 20 percent"
   ]
  },
  {
   "cell_type": "markdown",
   "metadata": {},
   "source": [
    "We want to know for what values of $\\sigma^2(c_z)$ is it true that $x^2 \\ge \\frac{\\widetilde{\\Delta\\Sigma^2}\\sigma^2(c_z)}{\\widetilde{\\Delta\\Sigma}^2 \\sigma^2(c_z) + c_z^2 \\sigma^2(\\widetilde{\\Delta\\Sigma})}$. This is equivalent to wanting to know when it is true that $\\frac{\\sigma(c_z)}{c_z} \\le \\frac{\\sigma(\\widetilde{\\Delta \\Sigma})}{\\widetilde{\\Delta \\Sigma}} \\frac{x}{\\sqrt{1-x^2}}$. Let's assume that the covariance of the 'B' source sample galaxy galaxy lensing is characteristic of a typical lensing measurement we would want to make. It would probably be better to use integrated signal to noise to avoid considering only the diagonal, but this will do for the moment to get a rough estimate."
   ]
  },
  {
   "cell_type": "code",
   "execution_count": null,
   "metadata": {},
   "outputs": [],
   "source": [
    "#Get the statistical covariance matrix and statistical only signal to noise\n",
    "\n",
    "SURVEY = 'SDSS'\n",
    "if (SURVEY=='SDSS'):\n",
    "\timport params as pa\n",
    "elif (SURVEY=='LSST_DESI'):\n",
    "\timport params_LSST_DESI as pa\n",
    "else:\n",
    "\tprint \"We don't have support for that survey yet; exiting.\"\n",
    "\texit()\n",
    "\n",
    "cov_DS_stat_SDSS = np.loadtxt('./txtfiles/covmats/cov_DelSig_zLext_SDSS_sample=B_rpts2000_lpts100000_deltaz=0.17_HODupdate.txt')\n",
    "\n",
    "# Get the theoretical lensing Delta Sigma \n",
    "\n",
    "rp_bins \t= \tsetup.setup_rp_bins(pa.rp_min, pa.rp_max, pa.N_bins)\n",
    "rp_cent\t\t=\tsetup.rp_bins_mid(rp_bins)\n",
    "DeltaSig = Bl.get_DeltaSig_theory(rp_bins, rp_cent)\n",
    "# Load the fiducial cz and get the estimated lensing Delta Sigma\n",
    "(cz_a_fid, cz_b_fid) = np.loadtxt('./txtfiles/cz/cz_afid_bfid_extl_survey=SDSS_deltaz=0.17_HODupdate.txt', unpack=True)\n",
    "EstDeltaSig = np.asarray(DeltaSig) / cz_b_fid \n",
    "\n",
    "# Statistical only signal-to-noise\n",
    "stat_StoNsq = np.dot(DeltaSig, np.dot(np.linalg.inv(cov_DS_stat_SDSS), DeltaSig))\n",
    "print \"StoN=\", np.sqrt(stat_StoNsq)\n"
   ]
  },
  {
   "cell_type": "code",
   "execution_count": null,
   "metadata": {},
   "outputs": [],
   "source": [
    "# Now make the systematics covariance matrix at a variety of values of fractional error on cz\n",
    "frac_err_sys = np.zeros(len(pa.fudge_frac_level))\n",
    "for fi in range(0, len(pa.fudge_frac_level)):\n",
    "    cov_DS_sys_SDSS = np.zeros((len(rp_cent), len(rp_cent)))\n",
    "    for rpi in range(0,len(rp_cent)):\n",
    "        for rpj in range(0,len(rp_cent)):\n",
    "            cov_DS_sys_SDSS = pa.fudge_frac_level[fi]**2 * DeltaSig[rpi] * DeltaSig[rpj]\n",
    "            \n",
    "    cov_tot = cov_DS_sys_SDSS + cov_DS_stat_SDSS\n",
    "    StoN_tot_sq = np.dot(DeltaSig, np.dot(np.linalg.inv(cov_tot), DeltaSig))\n",
    "    NtoS_sys = np.sqrt( StoN_tot_sq**(-1) - stat_StoNsq**(-1))\n",
    "    frac_err_sys[fi] = NtoS_sys / (np.sqrt(StoN_tot_sq)**(-1))"
   ]
  },
  {
   "cell_type": "code",
   "execution_count": null,
   "metadata": {},
   "outputs": [],
   "source": [
    "plt.figure()\n",
    "plt.loglog(pa.fudge_frac_level, frac_err_sys)\n",
    "plt.hold(True)\n",
    "plt.axhline(0.2)\n",
    "plt.show()"
   ]
  },
  {
   "cell_type": "code",
   "execution_count": null,
   "metadata": {},
   "outputs": [],
   "source": [
    "# get the maximum allowed values of fractional error on cz\n",
    "max_frac_err = np.diag(cov_DS_SDSS) / EstDeltaSig * x / (np.sqrt(1.-x**2))\n",
    "print \"The maximum fractional error allowed on cz in SDSS for max contribution to total error =\", x,\"fraction is\", max_frac_err\n"
   ]
  },
  {
   "cell_type": "code",
   "execution_count": null,
   "metadata": {
    "collapsed": true
   },
   "outputs": [],
   "source": []
  }
 ],
 "metadata": {
  "kernelspec": {
   "display_name": "Python 2",
   "language": "python",
   "name": "python2"
  },
  "language_info": {
   "codemirror_mode": {
    "name": "ipython",
    "version": 2
   },
   "file_extension": ".py",
   "mimetype": "text/x-python",
   "name": "python",
   "nbconvert_exporter": "python",
   "pygments_lexer": "ipython2",
   "version": "2.7.12"
  }
 },
 "nbformat": 4,
 "nbformat_minor": 2
}
