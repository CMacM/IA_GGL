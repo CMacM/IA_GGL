{
 "cells": [
  {
   "cell_type": "code",
   "execution_count": 2,
   "metadata": {
    "collapsed": true
   },
   "outputs": [],
   "source": [
    "%matplotlib inline\n",
    "import numpy as np\n",
    "import matplotlib.pyplot as plt"
   ]
  },
  {
   "cell_type": "code",
   "execution_count": 4,
   "metadata": {},
   "outputs": [],
   "source": [
    "# Import 2 1-halo terms\n",
    "rp, wgg1h_full = np.loadtxt('../txtfiles/wgg_1h_testfull.txt', unpack=True)\n",
    "rp, wgg1h_sat = np.loadtxt('../txtfiles/wgg_1h_testsat.txt', unpack=True)\n",
    "\n",
    "# Import 2-halo term\n",
    "rp, wgg2h = np.loadtxt('../txtfiles/wgg_2h_survey=SDSS_kpts=10000_extl_Aug28.txt', unpack=True)"
   ]
  },
  {
   "cell_type": "code",
   "execution_count": 13,
   "metadata": {},
   "outputs": [],
   "source": [
    "plt.figure()\n",
    "plt.loglog(rp, wgg1h_full + wgg2h, 'mo', label='Full ${n_{\\\\rm vol}}$')\n",
    "plt.hold(True)\n",
    "plt.loglog(rp, wgg1h_sat + wgg2h, 'go', label='Full ${n_{\\\\rm vol}}$')\n",
    "plt.xlim(0.05, 30.)\n",
    "plt.ylim(0., 10**4.)\n",
    "plt.ylabel('$w_{gg},\\, {\\\\rm Mpc/h}$')\n",
    "plt.xlabel('$r_p,\\, {\\\\rm Mpc/h}$')\n",
    "plt.legend()\n",
    "plt.savefig('../plots/wgg_tot_extl_survey=SDSS_testnsrc.pdf')\n",
    "plt.close()"
   ]
  },
  {
   "cell_type": "code",
   "execution_count": null,
   "metadata": {
    "collapsed": true
   },
   "outputs": [],
   "source": []
  }
 ],
 "metadata": {
  "kernelspec": {
   "display_name": "Python 2",
   "language": "python",
   "name": "python2"
  },
  "language_info": {
   "codemirror_mode": {
    "name": "ipython",
    "version": 2
   },
   "file_extension": ".py",
   "mimetype": "text/x-python",
   "name": "python",
   "nbconvert_exporter": "python",
   "pygments_lexer": "ipython2",
   "version": "2.7.12"
  }
 },
 "nbformat": 4,
 "nbformat_minor": 2
}
