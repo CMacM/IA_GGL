{
 "cells": [
  {
   "cell_type": "markdown",
   "metadata": {},
   "source": [
    "Check if neff is the main thing driving the fact that our method improves over Blazek et al more for LSST than for SDSs"
   ]
  },
  {
   "cell_type": "code",
   "execution_count": 46,
   "metadata": {
    "collapsed": true
   },
   "outputs": [],
   "source": [
    "neff_a_SDSS = 0.269\n",
    "neff_b_SDSS = 0.470\n",
    "\n",
    "neff_a_LSST = 2.71\n",
    "neff_b_LSST = 13.4\n",
    "\n",
    "neff_us_SDSS = 0.114\n",
    "neff_us_LSST = 1.72\n",
    "\n",
    "import numpy as np\n",
    "%matplotlib inline\n",
    "import matplotlib.pyplot as plt"
   ]
  },
  {
   "cell_type": "code",
   "execution_count": 32,
   "metadata": {
    "collapsed": true
   },
   "outputs": [],
   "source": [
    "Ratio_of_interest = (np.sqrt(neff_us_LSST) / np.sqrt(neff_a_LSST + neff_b_LSST)) * (np.sqrt(neff_a_SDSS + neff_b_SDSS) / np.sqrt(neff_us_SDSS))"
   ]
  },
  {
   "cell_type": "code",
   "execution_count": 33,
   "metadata": {},
   "outputs": [
    {
     "name": "stdout",
     "output_type": "stream",
     "text": [
      "ratio= 0.831928967917\n"
     ]
    }
   ],
   "source": [
    "print \"ratio=\", Ratio_of_interest"
   ]
  },
  {
   "cell_type": "markdown",
   "metadata": {},
   "source": [
    "Now check if the averaged SigmaC that goes into the shape noise is having a significant effect"
   ]
  },
  {
   "cell_type": "code",
   "execution_count": 34,
   "metadata": {
    "collapsed": true
   },
   "outputs": [],
   "source": [
    "SigA_SDSS = 9051.\n",
    "SigB_SDSS = 4639.\n",
    "SigA_LSST = 11798.\n",
    "SigB_LSST = 44752."
   ]
  },
  {
   "cell_type": "code",
   "execution_count": 35,
   "metadata": {
    "collapsed": true
   },
   "outputs": [],
   "source": [
    "Ratio_of_interest_2 = np.sqrt(SigA_LSST**2 + SigB_LSST**2) / np.sqrt(SigA_SDSS**2 + SigB_SDSS**2)"
   ]
  },
  {
   "cell_type": "code",
   "execution_count": 36,
   "metadata": {},
   "outputs": [
    {
     "name": "stdout",
     "output_type": "stream",
     "text": [
      "ratio= 4.55047656528\n"
     ]
    }
   ],
   "source": [
    "print \"ratio=\", Ratio_of_interest_2"
   ]
  },
  {
   "cell_type": "markdown",
   "metadata": {},
   "source": [
    "How about Aph?"
   ]
  },
  {
   "cell_type": "code",
   "execution_count": 37,
   "metadata": {
    "collapsed": true
   },
   "outputs": [],
   "source": [
    "Aph_SDSS = np.asarray( [ 0.82424604, 0.71659811, 0.58996672, 0.47072022, 0.37977066, 0.3209338, 0.28682109])\n",
    "Aph_LSST = np.asarray( [ 0.9016084, 0.83299881, 0.74244123, 0.64552007, 0.56250968, 0.5039363, 0.46802388])"
   ]
  },
  {
   "cell_type": "code",
   "execution_count": 51,
   "metadata": {},
   "outputs": [
    {
     "name": "stdout",
     "output_type": "stream",
     "text": [
      "ratio= [ 1.09385833  1.16243512  1.25844595  1.37134553  1.48118256  1.57021884\n",
      "  1.63176243]\n"
     ]
    },
    {
     "data": {
      "image/png": "[encoded data removed]",
      "text/plain": [
       "<matplotlib.figure.Figure at 0x7f6cb79f2410>"
      ]
     },
     "metadata": {},
     "output_type": "display_data"
    }
   ],
   "source": [
    "Ratio_Aph = Aph_LSST / Aph_SDSS\n",
    "print \"ratio=\", Ratio_Aph\n",
    "\n",
    "plt.figure()\n",
    "plt.plot(range(0,7),Aph_SDSS, 'g' )\n",
    "plt.hold(True)\n",
    "plt.plot(range(0,7), Aph_LSST, 'm')\n",
    "plt.show()"
   ]
  },
  {
   "cell_type": "code",
   "execution_count": 39,
   "metadata": {
    "collapsed": true
   },
   "outputs": [],
   "source": [
    "Denom_Bl_SDSS = np.asarray(  [ 21501.42962577,  11600.44045879,   6608.1447661,    4090.91988455,   2821.67994076,   2181.70134898,   1859.01011952])\n",
    "Denom_Bl_LSST = np.asarray( [ 32422.81845317 , 17728.19458937 , 10318.84324239,   6582.88593638 ,  4699.1343988  ,  3749.30559599 ,  3270.38110056] )"
   ]
  },
  {
   "cell_type": "code",
   "execution_count": 50,
   "metadata": {},
   "outputs": [
    {
     "data": {
      "image/png": "[encoded data removed]",
      "text/plain": [
       "<matplotlib.figure.Figure at 0x7f6cb7b02210>"
      ]
     },
     "metadata": {},
     "output_type": "display_data"
    }
   ],
   "source": [
    "plt.figure()\n",
    "plt.plot(range(0,7),Denom_Bl_SDSS, 'g' )\n",
    "plt.hold(True)\n",
    "plt.plot(range(0,7), Denom_Bl_LSST, 'm')\n",
    "plt.show()"
   ]
  },
  {
   "cell_type": "code",
   "execution_count": 52,
   "metadata": {},
   "outputs": [
    {
     "name": "stdout",
     "output_type": "stream",
     "text": [
      "ratio= [ 1.5079378   1.52823461  1.56153408  1.60914565  1.66536762  1.71852376\n",
      "  1.75920565]\n"
     ]
    }
   ],
   "source": [
    "Ratio_denom_Bl = Denom_Bl_LSST / Denom_Bl_SDSS\n",
    "print \"ratio=\", Ratio_denom_Bl"
   ]
  },
  {
   "cell_type": "code",
   "execution_count": 41,
   "metadata": {},
   "outputs": [
    {
     "name": "stdout",
     "output_type": "stream",
     "text": [
      "combined ratio= [ 3.30091647  3.46127076  3.66724549  3.87800551  4.04720644  4.1577802\n",
      "  4.2208236 ]\n"
     ]
    }
   ],
   "source": [
    "# So the combined effect on the ratio of S/N quantities from these three things is:\n",
    "print \"combined ratio=\", Ratio_of_interest_2 * Ratio_denom_Bl * Ratio_Aph"
   ]
  },
  {
   "cell_type": "markdown",
   "metadata": {},
   "source": [
    "Let's consider all of these together consistently:"
   ]
  },
  {
   "cell_type": "code",
   "execution_count": 42,
   "metadata": {
    "collapsed": true
   },
   "outputs": [],
   "source": [
    "gIA_LSST= np.asarray([  9.88145319e-06, 2.10381588e-05, 4.40255052e-05, 8.68461206e-05, 7.40816607e-05 , 3.29791510e-05, 2.89690248e-05])\n",
    "gIA_SDSS=np.asarray([  2.94221099e-05 ,  5.53794328e-05 ,  1.17111798e-04 ,  2.11296901e-04  , 1.67906006e-04  , 8.06624181e-05 ,  5.35593408e-05])"
   ]
  },
  {
   "cell_type": "code",
   "execution_count": 43,
   "metadata": {},
   "outputs": [],
   "source": [
    "cza_SDSS = 1.068; czb_SDSS = 1.070; cza_LSST = 1.023; czb_LSST = 1.016\n",
    "\n",
    "Cov_Bl_LSST = (cza_LSST**2 * SigA_LSST**2 / neff_a_LSST + czb_LSST**2 * SigB_LSST**2/ neff_b_LSST) / Denom_Bl_LSST**2\n",
    "Cov_Bl_SDSS = (cza_SDSS**2 * SigA_SDSS**2 / neff_a_SDSS + czb_SDSS**2*SigB_SDSS**2/ neff_b_SDSS) / Denom_Bl_SDSS**2\n",
    "\n",
    "Cov_us_SDSS = 1. / (neff_us_SDSS * Aph_SDSS**2)\n",
    "Cov_us_LSST = 1. / (neff_us_LSST * Aph_LSST**2)"
   ]
  },
  {
   "cell_type": "code",
   "execution_count": 45,
   "metadata": {},
   "outputs": [
    {
     "name": "stdout",
     "output_type": "stream",
     "text": [
      "Cov Bl LSST= [  0.19789194   0.66191256   1.9537438    4.80061617   9.42093291\n",
      "  14.79884985  19.45059608]\n",
      "Cov_Bl_SDSS= [   0.86475341    2.97083135    9.15520049   23.88828698   50.21245496\n",
      "   83.99169709  115.68137687]\n",
      "Cov_us_LSST= [ 0.71521342  0.83788187  1.05474479  1.39525007  1.83743317  2.28939256\n",
      "  2.65421151]\n",
      "Cov_us_SDSS= [  12.91164004   17.08220116   25.20229676   39.5885359    60.82082825\n",
      "   85.16560421  106.62842267]\n"
     ]
    }
   ],
   "source": [
    "print \"Cov Bl LSST=\", Cov_Bl_LSST\n",
    "print \"Cov_Bl_SDSS=\", Cov_Bl_SDSS\n",
    "\n",
    "print \"Cov_us_LSST=\", Cov_us_LSST\n",
    "print \"Cov_us_SDSS=\", Cov_us_SDSS"
   ]
  },
  {
   "cell_type": "code",
   "execution_count": 44,
   "metadata": {},
   "outputs": [
    {
     "name": "stdout",
     "output_type": "stream",
     "text": [
      "full ratio= 2.46599284845\n"
     ]
    }
   ],
   "source": [
    "print \"full ratio=\", np.sqrt(np.dot(gIA_LSST, np.dot(np.diag(Cov_Bl_LSST), gIA_LSST))/ np.dot(gIA_LSST, np.dot(np.diag(Cov_us_LSST), gIA_LSST))* np.dot(gIA_SDSS, np.dot(np.diag(Cov_us_SDSS), gIA_SDSS)) / np.dot(gIA_SDSS, np.dot(np.diag(Cov_Bl_SDSS), gIA_SDSS)))"
   ]
  },
  {
   "cell_type": "code",
   "execution_count": 54,
   "metadata": {},
   "outputs": [
    {
     "name": "stdout",
     "output_type": "stream",
     "text": [
      "full ratio= [ 0.5260127   0.88880997  1.36100623  1.85490839  2.26433761  2.54245836\n",
      "  2.70706506]\n"
     ]
    }
   ],
   "source": [
    "print \"full ratio=\", np.sqrt(Cov_Bl_LSST ) / np.sqrt(Cov_us_LSST) * np.sqrt(Cov_us_SDSS) / np.sqrt(Cov_us_SDSS)"
   ]
  },
  {
   "cell_type": "code",
   "execution_count": null,
   "metadata": {
    "collapsed": true
   },
   "outputs": [],
   "source": []
  }
 ],
 "metadata": {
  "kernelspec": {
   "display_name": "Python 2",
   "language": "python",
   "name": "python2"
  },
  "language_info": {
   "codemirror_mode": {
    "name": "ipython",
    "version": 2
   },
   "file_extension": ".py",
   "mimetype": "text/x-python",
   "name": "python",
   "nbconvert_exporter": "python",
   "pygments_lexer": "ipython2",
   "version": "2.7.12"
  }
 },
 "nbformat": 4,
 "nbformat_minor": 2
}
