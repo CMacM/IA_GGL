{
 "cells": [
  {
   "cell_type": "code",
   "execution_count": 1,
   "metadata": {},
   "outputs": [],
   "source": [
    "import pyccl as ccl\n",
    "import A_IA_funcs as ai\n",
    "import numpy as np"
   ]
  },
  {
   "cell_type": "code",
   "execution_count": 2,
   "metadata": {},
   "outputs": [],
   "source": [
    "# Define a CCL cosmology - use the built-in default here.\n",
    "cosmo = ccl.CosmologyVanillaLCDM()"
   ]
  },
  {
   "cell_type": "code",
   "execution_count": 3,
   "metadata": {},
   "outputs": [],
   "source": [
    "# Need a redshift distribution - insert your own here\n",
    "# Does not need to be pre-normalised\n",
    "z = np.linspace(0,4.0, 1000)\n",
    "dndz = z**1.24 * np.exp( - (z / 0.51)**1.01)\n",
    "\n",
    "nz = (z, dndz)"
   ]
  },
  {
   "cell_type": "code",
   "execution_count": 4,
   "metadata": {},
   "outputs": [],
   "source": [
    "# This function has a number of keyword params with defaults for the luminosity function params\n",
    "# The defaults are the 'all, deep2' values from the Krause, Eifler, Blazek 2016 paper\n",
    "# The no-keywoard argument call signature is\n",
    "# get_Ai(A0, beta, cosmo, dndz)\n",
    "\n",
    "Ai = ai.get_Ai(4.9, 1.3, cosmo, nz)"
   ]
  },
  {
   "cell_type": "code",
   "execution_count": 5,
   "metadata": {},
   "outputs": [
    {
     "name": "stdout",
     "output_type": "stream",
     "text": [
      "2.64479685936016\n"
     ]
    }
   ],
   "source": [
    "print(Ai)"
   ]
  },
  {
   "cell_type": "code",
   "execution_count": null,
   "metadata": {},
   "outputs": [],
   "source": []
  }
 ],
 "metadata": {
  "kernelspec": {
   "display_name": "desc-tjp",
   "language": "python",
   "name": "desc-tjp"
  },
  "language_info": {
   "codemirror_mode": {
    "name": "ipython",
    "version": 3
   },
   "file_extension": ".py",
   "mimetype": "text/x-python",
   "name": "python",
   "nbconvert_exporter": "python",
   "pygments_lexer": "ipython3",
   "version": "3.8.5"
  }
 },
 "nbformat": 4,
 "nbformat_minor": 4
}
