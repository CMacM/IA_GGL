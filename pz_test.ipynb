{
 "cells": [
  {
   "cell_type": "code",
   "execution_count": 1,
   "metadata": {},
   "outputs": [],
   "source": [
    "import numpy as np\n",
    "import matplotlib.pyplot as plt"
   ]
  },
  {
   "cell_type": "code",
   "execution_count": null,
   "metadata": {},
   "outputs": [],
   "source": [
    "#deltaz, sigma of Gaussian perturbing dNdz_mc\n",
    "#\n",
    "pz_pars = [[0.05,0.1], [-0.05, 0.1], [0.0, 0.1], [0.05, 0.01], [-0.05, 0.01]]"
   ]
  },
  {
   "cell_type": "code",
   "execution_count": null,
   "metadata": {},
   "outputs": [],
   "source": [
    "gammas = [0]*len(pz_pars); thetas = [0]*len(pz_pars)\n",
    "for i in range(0,len(pz_pars)):\n",
    "    thetas[i], gammas[i] = np.loadtxt('./txtfiles/photo_z_test/gamma_IA_est_DESY1_true-redshifts-different_sigma='+str(pz_pars[i][1])+'deltaz='+str(pz_pars[i][0])+'.txt', unpack=True)"
   ]
  },
  {
   "cell_type": "code",
   "execution_count": null,
   "metadata": {},
   "outputs": [],
   "source": [
    "theta_fid, gamma_fid = np.loadtxt('./txtfiles/photo_z_test/gamma_IA_est_DESY1_no_z_perturb_fidIA.txt', unpack=True)"
   ]
  },
  {
   "cell_type": "code",
   "execution_count": null,
   "metadata": {},
   "outputs": [],
   "source": [
    "plt.figure()\n",
    "#plt.loglog(theta_fid, gamma_fid, 'o', label='No photoz noise')\n",
    "#for i in range(0,len(pz_pars)):\n",
    "#    plt.loglog(thetas[i], np.abs(gammas[i]), 'o', label='$\\delta z$='+str(pz_pars[i][0])+', $\\sigma$='+str(pz_pars[i][1]))\n",
    "plt.loglog(thetas[0], gammas[0], 'o', label='$\\delta z$='+str(pz_pars[0][0])+', $\\sigma$='+str(pz_pars[0][1]))\n",
    "plt.loglog(thetas[1], gammas[1], 'o', label='$\\delta z$='+str(pz_pars[1][0])+', $\\sigma$='+str(pz_pars[1][1]))\n",
    "plt.loglog(thetas[2], gammas[2], 'o', label='$\\delta z$='+str(pz_pars[2][0])+', $\\sigma$='+str(pz_pars[2][1]))\n",
    "plt.loglog(thetas[3], gammas[3], 'o', label='$\\delta z$='+str(pz_pars[3][0])+', $\\sigma$='+str(pz_pars[3][1]))\n",
    "plt.loglog(thetas[4], np.abs(gammas[4]), '+', label='$\\delta z$='+str(pz_pars[4][0])+', $\\sigma$='+str(pz_pars[4][1]))\n",
    "plt.loglog(theta_fid, gamma_fid, 'o', label='Correct z')\n",
    "plt.ylabel('$\\gamma_{IA}(\\\\theta)$')\n",
    "plt.xlabel('$\\\\theta$, arcmin')\n",
    "plt.title('w/ fid IA, perturb true source redshift distributions \\n + negative, o positive')\n",
    "plt.ylim(10**(-8),10**(-2))\n",
    "plt.legend()\n",
    "plt.savefig('./perturb_true_source_dNdzs_wfidIA.png')"
   ]
  },
  {
   "cell_type": "code",
   "execution_count": null,
   "metadata": {},
   "outputs": [],
   "source": [
    "pz_pars = [[0.05,0.1], [-0.05, 0.1], [0.0, 0.1], [0.05, 0.01], [-0.05, 0.01]]"
   ]
  },
  {
   "cell_type": "code",
   "execution_count": null,
   "metadata": {},
   "outputs": [],
   "source": [
    "gammas = [0]*len(pz_pars); thetas = [0]*len(pz_pars)\n",
    "for i in range(0,len(pz_pars)):\n",
    "    thetas[i], gammas[i] = np.loadtxt('./txtfiles/photo_z_test/gamma_IA_est_DESY1_measured-redshifts-wrong_sigma='+str(pz_pars[i][1])+'deltaz='+str(pz_pars[i][0])+'.txt', unpack=True)"
   ]
  },
  {
   "cell_type": "code",
   "execution_count": null,
   "metadata": {},
   "outputs": [],
   "source": [
    "theta_fid, gamma_fid = np.loadtxt('./txtfiles/photo_z_test/gamma_IA_est_DESY1_no_z_perturb_fidIA.txt', unpack=True)"
   ]
  },
  {
   "cell_type": "code",
   "execution_count": null,
   "metadata": {},
   "outputs": [],
   "source": [
    "plt.figure()\n",
    "#plt.loglog(theta_fid, gamma_fid, 'o', label='No photoz noise')\n",
    "#for i in range(0,len(pz_pars)):\n",
    "#    plt.loglog(thetas[i], np.abs(gammas[i]), 'o', label='$\\delta z$='+str(pz_pars[i][0])+', $\\sigma$='+str(pz_pars[i][1]))\n",
    "plt.loglog(thetas[0], np.abs(gammas[0]), '+', label='$\\delta z$='+str(pz_pars[0][0])+', $\\sigma$='+str(pz_pars[0][1]))\n",
    "plt.loglog(thetas[1], gammas[1], 'o', label='$\\delta z$='+str(pz_pars[1][0])+', $\\sigma$='+str(pz_pars[1][1]))\n",
    "plt.loglog(thetas[2], np.abs(gammas[2]), '+', label='$\\delta z$='+str(pz_pars[2][0])+', $\\sigma$='+str(pz_pars[2][1]))\n",
    "plt.loglog(thetas[3], np.abs(gammas[3]), '+', label='$\\delta z$='+str(pz_pars[3][0])+', $\\sigma$='+str(pz_pars[3][1]))\n",
    "plt.loglog(thetas[4], gammas[4], 'o', label='$\\delta z$='+str(pz_pars[4][0])+', $\\sigma$='+str(pz_pars[4][1]))\n",
    "plt.loglog(theta_fid, gamma_fid, 'o', label='Correct z')\n",
    "plt.ylabel('$\\gamma_{IA}(\\\\theta)$')\n",
    "plt.xlabel('$\\\\theta$, arcmin')\n",
    "plt.title('w/ fid IA, perturb measured source redshift distributions \\n + negative, o positive')\n",
    "plt.ylim(10**(-8),10**(-2))\n",
    "plt.legend()\n",
    "plt.savefig('./perturb_measured_source_dNdzs_wfidIA.png')"
   ]
  },
  {
   "cell_type": "code",
   "execution_count": null,
   "metadata": {},
   "outputs": [],
   "source": [
    "gammas = [0]*len(pz_pars); thetas = [0]*len(pz_pars)\n",
    "for i in range(0,len(pz_pars)):\n",
    "    thetas[i], gammas[i] = np.loadtxt('./txtfiles/photo_z_test/gamma_IA_est_DESY1_all_perturbed_sigma='+str(pz_pars[i][1])+'deltaz='+str(pz_pars[i][0])+'.txt', unpack=True)"
   ]
  },
  {
   "cell_type": "code",
   "execution_count": null,
   "metadata": {},
   "outputs": [],
   "source": [
    "plt.figure()\n",
    "#plt.loglog(theta_fid, gamma_fid, 'o', label='No photoz noise')\n",
    "for i in range(0,len(pz_pars)):\n",
    "    plt.loglog(thetas[i], gammas[i], 'o', label='$\\delta z$='+str(pz_pars[i][0])+', $\\sigma$='+str(pz_pars[i][1]))\n",
    "plt.ylabel('$\\gamma_{IA}(\\\\theta)$')\n",
    "plt.xlabel('$\\\\theta$, arcmin')\n",
    "plt.title('No IA, all source redshifts shifted')\n",
    "plt.ylim(10**(-8),10**(-2))\n",
    "plt.legend()\n",
    "plt.savefig('./perturb_all_source_dNdzs.png')"
   ]
  },
  {
   "cell_type": "markdown",
   "metadata": {},
   "source": [
    "Make 2D plot of signal-to-noise of spurious signal owing to photo-z uncertainty as a function of $\\delta_z$ and $\\sigma_z$."
   ]
  },
  {
   "cell_type": "code",
   "execution_count": 2,
   "metadata": {},
   "outputs": [],
   "source": [
    "#sigz = np.linspace(0.01,0.1,10)\n",
    "#delz = np.linspace(-0.05,0.05,11)\n",
    "\n",
    "sigz = [0.01, 0.02, 0.03, 0.04, 0.05, 0.06, 0.07, 0.08, 0.09, 0.1]\n",
    "delz = [-0.18, -0.17, -0.16, -0.15, -0.14, -0.13, -0.12, -0.11, -0.1, -0.09, -0.08, -0.07, -0.06, -0.05, -0.04, -0.03, \n",
    "        -0.02, -0.01, 0.0, 0.01, 0.02, 0.03, 0.04, 0.05, 0.06, 0.07, 0.08, 0.09, 0.1]"
   ]
  },
  {
   "cell_type": "code",
   "execution_count": 3,
   "metadata": {},
   "outputs": [
    {
     "data": {
      "image/png": "[encoded data removed]",
      "text/plain": [
       "<Figure size 432x288 with 1 Axes>"
      ]
     },
     "metadata": {
      "needs_background": "light"
     },
     "output_type": "display_data"
    }
   ],
   "source": [
    "# Load data vectors for each case and get the signal to noise.\n",
    "# Load the covariance in order to do this\n",
    "data_cov = np.loadtxt('./txtfiles/DESY1_quantities_fromSara/CovMat')\n",
    "#data_cov_cut = data_cov[1:,1:]\n",
    "#cut_first_data_point = np.delete(np.delete(data_cov,[0], axis=0), [0], axis=1)\n",
    "#print(data_cov.shape)\n",
    "#inv_data_cov_cut = np.linalg.inv(data_cov_cut)\n",
    "inv_data_cov = np.linalg.inv(data_cov)\n",
    "gamma_IA_fid = np.loadtxt('./txtfiles/DESY1_quantities_fromSara/GammaIAfinal')\n",
    "\n",
    "plt.figure()\n",
    "#chisquared_cut = np.zeros((len(delz), len(sigz)))\n",
    "chisquared = np.zeros((len(delz), len(sigz)))\n",
    "for di in range(0,len(delz)):\n",
    "    for si in range(0,len(sigz)):\n",
    "        #print(str(delz[di]), str(sigz[si]))\n",
    "        theta, data_vec = np.loadtxt('./txtfiles/photo_z_test/gamma_IA_est_DESY1_no_fidIA_measured-redshifts-wrong_sigma='+str(sigz[si])+'deltaz='+str(delz[di])+'.txt', unpack=True)\n",
    "        plt.loglog(theta, -1.0*data_vec, 'o', label='$\\delta z$='+str(delz[di])+', $\\sigma$='+str(sigz[si]))\n",
    "        diff = data_vec - gamma_IA_fid\n",
    "        #print(diff)\n",
    "        #chisquared_cut[di, si] = np.dot(diff[1:],np.dot(inv_data_cov_cut,diff[1:]))\n",
    "        chisquared[di, si] = np.dot(diff,np.dot(inv_data_cov,diff))\n",
    "plt.ylabel('$\\gamma_{IA}(\\\\theta)$')\n",
    "plt.xlabel('$\\\\theta$, arcmin')\n",
    "plt.title('w/ fid IA, perturb measured source redshift distributions \\n + negative, o positive')\n",
    "plt.ylim(10**(-8),10**(-2))\n",
    "#plt.legend()\n",
    "#plt.savefig('./perturb_measured_source_dNdzs_nofidIA_w1halo_variableF.png')\n",
    "#plt.close()\n",
    "plt.show()"
   ]
  },
  {
   "cell_type": "code",
   "execution_count": null,
   "metadata": {},
   "outputs": [],
   "source": [
    "gamma_IA_fid"
   ]
  },
  {
   "cell_type": "code",
   "execution_count": null,
   "metadata": {},
   "outputs": [],
   "source": [
    "plt.figure()\n",
    "#plt.loglog(theta_fid, gamma_fid, 'o', label='No photoz noise')\n",
    "#for i in range(0,len(pz_pars)):\n",
    "#    plt.loglog(thetas[i], np.abs(gammas[i]), 'o', label='$\\delta z$='+str(pz_pars[i][0])+', $\\sigma$='+str(pz_pars[i][1]))\n",
    "plt.loglog(thetas[0], np.abs(gammas[0]), '+', label='$\\delta z$=, $\\sigma$='+str(pz_pars[0][1]))\n",
    "plt.loglog(thetas[1], gammas[1], 'o', label='$\\delta z$='+str(pz_pars[1][0])+', $\\sigma$='+str(pz_pars[1][1]))\n",
    "plt.loglog(thetas[2], np.abs(gammas[2]), '+', label='$\\delta z$='+str(pz_pars[2][0])+', $\\sigma$='+str(pz_pars[2][1]))\n",
    "plt.loglog(thetas[3], np.abs(gammas[3]), '+', label='$\\delta z$='+str(pz_pars[3][0])+', $\\sigma$='+str(pz_pars[3][1]))\n",
    "plt.loglog(thetas[4], gammas[4], 'o', label='$\\delta z$='+str(pz_pars[4][0])+', $\\sigma$='+str(pz_pars[4][1]))\n",
    "plt.loglog(theta_fid, gamma_fid, 'o', label='Correct z')\n",
    "plt.ylabel('$\\gamma_{IA}(\\\\theta)$')\n",
    "plt.xlabel('$\\\\theta$, arcmin')\n",
    "plt.title('w/ fid IA, perturb measured source redshift distributions \\n + negative, o positive')\n",
    "plt.ylim(10**(-8),10**(-2))\n",
    "plt.legend()\n",
    "plt.savefig('./perturb_measured_source_dNdzs_wfidIA.png')"
   ]
  },
  {
   "cell_type": "code",
   "execution_count": null,
   "metadata": {},
   "outputs": [],
   "source": [
    "plt.figure()\n",
    "plt.loglog(theta,np.abs(data_vec))\n",
    "plt.ylim(10**(-5),10**(-1))\n",
    "plt.show()"
   ]
  },
  {
   "cell_type": "code",
   "execution_count": 4,
   "metadata": {},
   "outputs": [],
   "source": [
    "DOF = len(diff)\n",
    "#DOF_cut = len(diff[1:])"
   ]
  },
  {
   "cell_type": "code",
   "execution_count": null,
   "metadata": {},
   "outputs": [],
   "source": [
    "delz[18:]"
   ]
  },
  {
   "cell_type": "code",
   "execution_count": 5,
   "metadata": {},
   "outputs": [
    {
     "data": {
      "image/png": "[encoded data removed]",
      "text/plain": [
       "<Figure size 432x288 with 2 Axes>"
      ]
     },
     "metadata": {
      "needs_background": "light"
     },
     "output_type": "display_data"
    }
   ],
   "source": [
    "plt.figure()\n",
    "#plt.imshow(chisquared[18:,:]/DOF, extent = [0.01, 0.1, 0.1, 0.0],interpolation='spline36')#, aspect=2.0/3.0)\n",
    "#plt.imshow(chisquared[8:19,:]/DOF, extent = [0.01, 0.1, 0, -0.1],interpolation='spline36')#, aspect=2.0/3.0)\n",
    "plt.imshow(chisquared/DOF, extent = [0.01, 0.1, 0.1, -0.18],interpolation='spline36')#, aspect=2.0/3.0)\n",
    "plt.xlabel('$\\sigma_z$', fontsize=14)\n",
    "plt.ylabel('$\\Delta z$', fontsize=14)\n",
    "plt.xticks(fontsize=12)\n",
    "plt.yticks(fontsize=12)\n",
    "plt.title('Reduced $\\chi^2$', fontsize=14)\n",
    "cbar = plt.colorbar()\n",
    "cbar.ax.tick_params(labelsize=14)\n",
    "plt.contour(sigz, delz, chisquared/DOF, [1.5], colors='#FFFFFF', linewidths=4)\n",
    "#plt.contour(sigz, delz[18:], chisquared[18:,:]/DOF, [1.5], colors='#FFFFFF', linewidths=4)\n",
    "#plt.savefig('./reduced_chisq_fulldvec_shift_one_sample_w1halo_variableF.png')\n",
    "plt.show()"
   ]
  },
  {
   "cell_type": "code",
   "execution_count": null,
   "metadata": {},
   "outputs": [],
   "source": [
    "print(chisquared/DOF)"
   ]
  },
  {
   "cell_type": "code",
   "execution_count": null,
   "metadata": {},
   "outputs": [],
   "source": [
    "print(delz[8:19])"
   ]
  },
  {
   "cell_type": "code",
   "execution_count": null,
   "metadata": {},
   "outputs": [],
   "source": [
    "#plt.imshow(chisquared_cut/DOF_cut, extent = [0.01, 0.1, 0.0, -0.18])\n",
    "#plt.xlabel('$\\sigma_z$')\n",
    "#plt.ylabel('$\\Delta z$')\n",
    "#plt.title('Reduced $\\chi^2$ (omit smallest angle data point)')\n",
    "#plt.colorbar()\n",
    "#plt.savefig('./reduced_chisq_cutdvec.png')"
   ]
  },
  {
   "cell_type": "code",
   "execution_count": null,
   "metadata": {},
   "outputs": [],
   "source": [
    "show_bad_regions = np.zeros((len(delz), len(sigz)))\n",
    "show_bad_regions_cut = np.zeros((len(delz), len(sigz)))\n",
    "for zi in range(len(delz)):\n",
    "    for si in range(len(sigz)):\n",
    "        if (chisquared[zi, si] / DOF > 1.5):\n",
    "            show_bad_regions[zi,si]=0.0\n",
    "        else:\n",
    "            show_bad_regions[zi,si] = chisquared[zi,si] / DOF\n",
    "            \n",
    "#for zi in range(len(delz)):\n",
    "#    for si in range(len(sigz)):\n",
    "#        if (chisquared_cut[zi, si] / DOF_cut > 1.0):\n",
    "#            show_bad_regions_cut[zi,si]=0.0\n",
    "#        else:\n",
    "#            show_bad_regions_cut[zi,si] = chisquared_cut[zi,si] / DOF_cut\n",
    "            "
   ]
  },
  {
   "cell_type": "code",
   "execution_count": null,
   "metadata": {},
   "outputs": [],
   "source": [
    "plt.imshow(show_bad_regions, extent = [0.01, 0.1, 0.1, -0.18])\n",
    "plt.title('Yellow region has reduced $\\chi^2<1.5$')\n",
    "plt.xlabel('$\\sigma_z$')\n",
    "plt.ylabel('$\\Delta z$')\n",
    "plt.colorbar()\n",
    "plt.tight_layout()\n",
    "plt.show()\n",
    "#plt.savefig('./confusion_region_fulldvec_shift_one_sample_w1halo_variableF.png')"
   ]
  },
  {
   "cell_type": "code",
   "execution_count": null,
   "metadata": {},
   "outputs": [],
   "source": [
    "#plt.imshow(show_bad_regions_cut, extent = [0.01, 0.1, 0.0, -0.18])\n",
    "#plt.title('Non-zero region has reduced $\\chi^2<1$ (cut data vector)')\n",
    "#plt.xlabel('$\\sigma_z$')\n",
    "#plt.ylabel('$\\Delta z$')\n",
    "#plt.colorbar()\n",
    "#plt.savefig('./confusion_region_cutdvec.png')"
   ]
  },
  {
   "cell_type": "code",
   "execution_count": null,
   "metadata": {},
   "outputs": [],
   "source": []
  }
 ],
 "metadata": {
  "kernelspec": {
   "display_name": "desc-tjp",
   "language": "python",
   "name": "desc-tjp"
  },
  "language_info": {
   "codemirror_mode": {
    "name": "ipython",
    "version": 3
   },
   "file_extension": ".py",
   "mimetype": "text/x-python",
   "name": "python",
   "nbconvert_exporter": "python",
   "pygments_lexer": "ipython3",
   "version": "3.8.10"
  }
 },
 "nbformat": 4,
 "nbformat_minor": 4
}
