{
 "cells": [
  {
   "cell_type": "code",
   "execution_count": 1,
   "metadata": {},
   "outputs": [],
   "source": [
    "import numpy as np\n",
    "import matplotlib.pyplot as plt\n",
    "import shared_functions_wlp_wls as ws\n",
    "import shared_functions_setup as setup\n",
    "import params_DESY1_testpz as pa\n",
    "import pyccl as ccl"
   ]
  },
  {
   "cell_type": "code",
   "execution_count": null,
   "metadata": {},
   "outputs": [],
   "source": [
    "z, win = ws.window('DESY1', 'A')\n",
    "plt.figure()\n",
    "plt.plot(z,win)\n",
    "plt.show()"
   ]
  },
  {
   "cell_type": "code",
   "execution_count": null,
   "metadata": {},
   "outputs": [],
   "source": [
    "z, win = ws.window('DESY1', 'B')\n",
    "plt.figure()\n",
    "plt.plot(z,win)\n",
    "plt.show()"
   ]
  },
  {
   "cell_type": "code",
   "execution_count": null,
   "metadata": {},
   "outputs": [],
   "source": [
    "Ai = ws.get_Ai('DESY1')\n",
    "print(Ai)"
   ]
  },
  {
   "cell_type": "code",
   "execution_count": null,
   "metadata": {},
   "outputs": [],
   "source": [
    "Ai_LSST = ws.get_Ai('LSST_DESI')\n",
    "print(Ai_LSST)\n",
    "# This is what I got in the paper with rachel, good"
   ]
  },
  {
   "cell_type": "code",
   "execution_count": 2,
   "metadata": {},
   "outputs": [],
   "source": [
    "cosmo_t = ccl.Cosmology(Omega_c = pa.OmC_t, Omega_b = pa.OmB, h = (pa.HH0_t/100.), sigma8 = pa.sigma8, n_s=pa.n_s)"
   ]
  },
  {
   "cell_type": "code",
   "execution_count": 3,
   "metadata": {},
   "outputs": [],
   "source": [
    "theta_min = 0.1\n",
    "theta_max = 200\n",
    "# Using 'true' parameters here because I am only changing to rp for convenience. \n",
    "#Change back before reporting anything.\n",
    "\n",
    "rp_min = setup.arcmin_to_rp(theta_min, pa.zeff,cosmo_t)\n",
    "rp_max = setup.arcmin_to_rp(theta_max, pa.zeff,cosmo_t)"
   ]
  },
  {
   "cell_type": "code",
   "execution_count": 4,
   "metadata": {},
   "outputs": [],
   "source": [
    "rp_bins = setup.setup_rp_bins(rp_min, rp_max, pa.N_bins)\n",
    "rp_cents_ = setup.rp_bins_mid(rp_bins)"
   ]
  },
  {
   "cell_type": "code",
   "execution_count": 6,
   "metadata": {},
   "outputs": [
    {
     "name": "stdout",
     "output_type": "stream",
     "text": [
      "Getting window\n",
      "Using perturbed source redshift distribution in window()\n",
      "Got window\n",
      "Getting Ai\n",
      "Got Ai\n",
      "Ai= 0.6781388259632811\n",
      "Getting power spectra\n",
      "Got power spectra\n",
      "Getting growth\n",
      "Got growth\n",
      "Getting redshift integrals\n",
      "Got redshift integrals\n",
      "Getting integral in kz\n",
      "Got integral in kz\n",
      "Getting integral in kperp\n",
      "Got integral in kperp\n"
     ]
    }
   ],
   "source": [
    "wgp2h = ws.wgp_2halo(rp_cents_, pa.bd, './txtfiles/photo_z_test/wgp2h_B_DESY1_true-redshifts-different_sigma='+str(pa.sigma)+'deltaz='+str(pa.del_z)+'.txt', 'DESY1', 'B')"
   ]
  },
  {
   "cell_type": "code",
   "execution_count": null,
   "metadata": {},
   "outputs": [],
   "source": [
    "plt.figure()\n",
    "plt.loglog(rp_cents_, wgp2h, 'o')\n",
    "plt.show()"
   ]
  },
  {
   "cell_type": "code",
   "execution_count": null,
   "metadata": {},
   "outputs": [],
   "source": [
    "wgg2h = ws.wgg_2halo(rp_cents_, pa.bd, pa.bs, './txtfiles/photo_z_test/wgg2h_A_DESY1_true-redshifts-different_sigma='+str(pa.sigma)+'deltaz='+str(pa.del_z)+'.txt', 'DESY1', 'A')"
   ]
  },
  {
   "cell_type": "code",
   "execution_count": null,
   "metadata": {},
   "outputs": [],
   "source": [
    "plt.figure()\n",
    "plt.loglog(rp_cents_, wgg2h, 'o')\n",
    "plt.show()"
   ]
  },
  {
   "cell_type": "code",
   "execution_count": null,
   "metadata": {},
   "outputs": [],
   "source": []
  }
 ],
 "metadata": {
  "kernelspec": {
   "display_name": "desc-tjp",
   "language": "python",
   "name": "desc-tjp"
  },
  "language_info": {
   "codemirror_mode": {
    "name": "ipython",
    "version": 3
   },
   "file_extension": ".py",
   "mimetype": "text/x-python",
   "name": "python",
   "nbconvert_exporter": "python",
   "pygments_lexer": "ipython3",
   "version": "3.8.5"
  }
 },
 "nbformat": 4,
 "nbformat_minor": 4
}
