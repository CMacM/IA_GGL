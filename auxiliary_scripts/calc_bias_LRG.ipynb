{
 "cells": [
  {
   "cell_type": "code",
   "execution_count": 1,
   "metadata": {
    "collapsed": true
   },
   "outputs": [],
   "source": [
    "%matplotlib inline\n",
    "import numpy as np\n",
    "import scipy.integrate\n",
    "import scipy.interpolate"
   ]
  },
  {
   "cell_type": "code",
   "execution_count": 2,
   "metadata": {
    "collapsed": true
   },
   "outputs": [],
   "source": [
    "zeff = 0.77"
   ]
  },
  {
   "cell_type": "code",
   "execution_count": 3,
   "metadata": {},
   "outputs": [],
   "source": [
    "def growth(z_, OmC, OmB, HH0, Nnu):\n",
    "    \"\"\" Returns the growth factor, normalized to 1 at z=0\"\"\"\n",
    "    \n",
    "    OmR\t=\t2.47*10**(-5)/(HH0/100.)**2\n",
    "    OmN\t=\tNnu*(7./8.)*(4./11.)**(4./3.)*OmR\n",
    "    OmL = 1. - OmC - OmB - OmR - OmN\n",
    "    \n",
    "    def int_(z):\n",
    "        return (1.+z) / ( (OmC+OmB)*(1+z)**3 + OmL + (OmR+OmN) * (1+z)**4 )**(1.5)\n",
    "\n",
    "    norm = scipy.integrate.quad(int_, 0, 1000.)[0]\n",
    "    \n",
    "    ans= scipy.integrate.quad(int_, z_, 1000)[0]\n",
    "\n",
    "    D = ans / norm\n",
    "\n",
    "    return D\n",
    "\n",
    "Nnu\t=\t3.046    # Massless neutrinos\n",
    "HH0 = 67.26 \n",
    "OmR\t=\t2.47*10**(-5)/(HH0/100.)**2\n",
    "OmN\t=\tNnu*(7./8.)*(4./11.)**(4./3.)*OmR\n",
    "OmB\t=\t0.02222/(HH0/100.)**2 \n",
    "OmC\t=\t0.1199/(HH0/100.)**2 \n",
    "OmM=  OmB+OmC\n",
    "A_s\t=\t2.2 * 10**(-9)\n",
    "n_s\t=\t0.9652\n"
   ]
  },
  {
   "cell_type": "code",
   "execution_count": 4,
   "metadata": {},
   "outputs": [
    {
     "name": "stdout",
     "output_type": "stream",
     "text": [
      "D= 0.432267713783\n",
      "b= 3.93274803043\n"
     ]
    }
   ],
   "source": [
    "D = growth(zeff, OmC, OmB, HH0, Nnu)\n",
    "print \"D=\", D\n",
    "\n",
    "b = 1.7 / D\n",
    "print \"b=\", b"
   ]
  },
  {
   "cell_type": "code",
   "execution_count": null,
   "metadata": {
    "collapsed": true
   },
   "outputs": [],
   "source": []
  }
 ],
 "metadata": {
  "kernelspec": {
   "display_name": "Python 2",
   "language": "python",
   "name": "python2"
  },
  "language_info": {
   "codemirror_mode": {
    "name": "ipython",
    "version": 2
   },
   "file_extension": ".py",
   "mimetype": "text/x-python",
   "name": "python",
   "nbconvert_exporter": "python",
   "pygments_lexer": "ipython2",
   "version": "2.7.12"
  }
 },
 "nbformat": 4,
 "nbformat_minor": 2
}
