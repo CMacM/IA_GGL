{
 "cells": [
  {
   "cell_type": "code",
   "execution_count": 1,
   "metadata": {
    "collapsed": true
   },
   "outputs": [],
   "source": [
    "import numpy as np"
   ]
  },
  {
   "cell_type": "code",
   "execution_count": 2,
   "metadata": {
    "collapsed": true
   },
   "outputs": [],
   "source": [
    "# Check convergence of statistical S-to-N with respect to rp resolution (shapes method)"
   ]
  },
  {
   "cell_type": "code",
   "execution_count": 3,
   "metadata": {
    "collapsed": true
   },
   "outputs": [],
   "source": [
    "rpts2000_StoN_SDSS = np.loadtxt('../txtfiles/StoNsq_shapes_withCV_survey=SDSS_rpts=2000_SNseparated.txt')\n",
    "rpts2500_StoN_SDSS = np.loadtxt('../txtfiles/StoNsq_shapes_withCV_survey=SDSS_rpts=2500_SNseparated.txt')\n",
    "\n",
    "rpts2000_StoN_LSST = np.loadtxt('../txtfiles/StoNsq_shapes_withCV_survey=LSST_DESI_rpts=2000_SNseparated.txt')\n",
    "rpts2500_StoN_LSST = np.loadtxt('../txtfiles/StoNsq_shapes_withCV_survey=LSST_DESI_rpts=2500_SNseparated.txt')"
   ]
  },
  {
   "cell_type": "code",
   "execution_count": 4,
   "metadata": {},
   "outputs": [
    {
     "name": "stdout",
     "output_type": "stream",
     "text": [
      "percent difference SDSS= [[ 0.04361123  0.04361123  0.04361123  0.04361123  0.04361123  0.04361123\n",
      "   0.04361123  0.04361123  0.04361123]\n",
      " [ 0.04361123  0.04361123  0.04361123  0.04361123  0.04361123  0.04361123\n",
      "   0.04361123  0.04361123  0.04361123]\n",
      " [ 0.04361123  0.04361123  0.04361123  0.04361123  0.04361123  0.04361123\n",
      "   0.04361123  0.04361123  0.04361123]\n",
      " [ 0.04361123  0.04361123  0.04361123  0.04361123  0.04361123  0.04361123\n",
      "   0.04361123  0.04361123  0.04361123]\n",
      " [ 0.04361123  0.04361123  0.04361123  0.04361123  0.04361123  0.04361123\n",
      "   0.04361123  0.04361123  0.04361123]\n",
      " [ 0.04361123  0.04361123  0.04361123  0.04361123  0.04361123  0.04361123\n",
      "   0.04361123  0.04361123  0.04361123]\n",
      " [ 0.04361123  0.04361123  0.04361123  0.04361123  0.04361123  0.04361123\n",
      "   0.04361123  0.04361123  0.04361123]\n",
      " [ 0.04361123  0.04361123  0.04361123  0.04361123  0.04361123  0.04361123\n",
      "   0.04361123  0.04361123  0.04361123]\n",
      " [ 0.04361123  0.04361123  0.04361123  0.04361123  0.04361123  0.04361123\n",
      "   0.04361123  0.04361123  0.04361123]]\n",
      "percent difference LSST + DESI= [[ 0.17233293  0.17233293  0.17233293  0.17233293  0.17233293  0.17233293\n",
      "   0.17233293  0.17233293  0.17233293]\n",
      " [ 0.17233293  0.17233293  0.17233293  0.17233293  0.17233293  0.17233293\n",
      "   0.17233293  0.17233293  0.17233293]\n",
      " [ 0.17233293  0.17233293  0.17233293  0.17233293  0.17233293  0.17233293\n",
      "   0.17233293  0.17233293  0.17233293]\n",
      " [ 0.17233293  0.17233293  0.17233293  0.17233293  0.17233293  0.17233293\n",
      "   0.17233293  0.17233293  0.17233293]\n",
      " [ 0.17233293  0.17233293  0.17233293  0.17233293  0.17233293  0.17233293\n",
      "   0.17233293  0.17233293  0.17233293]\n",
      " [ 0.17233293  0.17233293  0.17233293  0.17233293  0.17233293  0.17233293\n",
      "   0.17233293  0.17233293  0.17233293]\n",
      " [ 0.17233293  0.17233293  0.17233293  0.17233293  0.17233293  0.17233293\n",
      "   0.17233293  0.17233293  0.17233293]\n",
      " [ 0.17233293  0.17233293  0.17233293  0.17233293  0.17233293  0.17233293\n",
      "   0.17233293  0.17233293  0.17233293]\n",
      " [ 0.17233293  0.17233293  0.17233293  0.17233293  0.17233293  0.17233293\n",
      "   0.17233293  0.17233293  0.17233293]]\n"
     ]
    }
   ],
   "source": [
    "perc_diff_SDSS = np.abs(rpts2500_StoN_SDSS - rpts2000_StoN_SDSS) / np.abs(rpts2000_StoN_SDSS) * 100.\n",
    "print \"percent difference SDSS=\", perc_diff_SDSS\n",
    "\n",
    "perc_diff_LSST = np.abs(rpts2500_StoN_LSST - rpts2000_StoN_LSST) / np.abs(rpts2000_StoN_LSST) * 100.\n",
    "print \"percent difference LSST + DESI=\", perc_diff_LSST"
   ]
  },
  {
   "cell_type": "code",
   "execution_count": 10,
   "metadata": {
    "collapsed": true
   },
   "outputs": [],
   "source": [
    "# And Blazek method:"
   ]
  },
  {
   "cell_type": "code",
   "execution_count": 8,
   "metadata": {},
   "outputs": [],
   "source": [
    "rpts2000_StoN_Bl_SDSS = np.loadtxt('../txtfiles/StoNstat_Blazek_withCV_SNanalytic_survey=SDSSrpts=2000.txt')\n",
    "rpts2500_StoN_Bl_SDSS = np.loadtxt('../txtfiles/StoNstat_Blazek_withCV_SNanalytic_survey=SDSSrpts=2500.txt')\n",
    "\n",
    "rpts2000_StoN_Bl_LSST = np.loadtxt('../txtfiles/StoNstat_Blazek_withCV_SNanalytic_survey=LSST_DESIrpts=2000.txt')\n",
    "rpts2500_StoN_Bl_LSST = np.loadtxt('../txtfiles/StoNstat_Blazek_withCV_SNanalytic_survey=LSST_DESIrpts=2500.txt')"
   ]
  },
  {
   "cell_type": "code",
   "execution_count": 9,
   "metadata": {},
   "outputs": [
    {
     "name": "stdout",
     "output_type": "stream",
     "text": [
      "percent difference SDSS, Blazek= 0.186889605481\n",
      "percent difference LSST + DESI, Blazek= 0.242877685748\n"
     ]
    }
   ],
   "source": [
    "perc_diff_SDSS_Bl = np.abs(rpts2500_StoN_Bl_SDSS - rpts2000_StoN_Bl_SDSS) / np.abs(rpts2000_StoN_Bl_SDSS) * 100.\n",
    "print \"percent difference SDSS, Blazek=\", perc_diff_SDSS_Bl\n",
    "\n",
    "perc_diff_LSST_Bl = np.abs(rpts2500_StoN_Bl_LSST - rpts2000_StoN_Bl_LSST) / np.abs(rpts2000_StoN_Bl_LSST) * 100.\n",
    "print \"percent difference LSST + DESI, Blazek=\", perc_diff_LSST_Bl"
   ]
  },
  {
   "cell_type": "code",
   "execution_count": null,
   "metadata": {
    "collapsed": true
   },
   "outputs": [],
   "source": []
  }
 ],
 "metadata": {
  "kernelspec": {
   "display_name": "Python 2",
   "language": "python",
   "name": "python2"
  },
  "language_info": {
   "codemirror_mode": {
    "name": "ipython",
    "version": 2
   },
   "file_extension": ".py",
   "mimetype": "text/x-python",
   "name": "python",
   "nbconvert_exporter": "python",
   "pygments_lexer": "ipython2",
   "version": "2.7.12"
  }
 },
 "nbformat": 4,
 "nbformat_minor": 2
}
