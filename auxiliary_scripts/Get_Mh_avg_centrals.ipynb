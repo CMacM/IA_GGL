{
 "cells": [
  {
   "cell_type": "code",
   "execution_count": 1,
   "metadata": {
    "collapsed": true
   },
   "outputs": [],
   "source": [
    "import shared_functions_wlp_wls as shared\n",
    "import numpy as np\n",
    "import pyccl as ccl"
   ]
  },
  {
   "cell_type": "code",
   "execution_count": 1,
   "metadata": {},
   "outputs": [
    {
     "ename": "NameError",
     "evalue": "global name 'np' is not defined",
     "output_type": "error",
     "traceback": [
      "\u001b[0;31m---------------------------------------------------------------------------\u001b[0m",
      "\u001b[0;31mNameError\u001b[0m                                 Traceback (most recent call last)",
      "\u001b[0;32m<ipython-input-1-22c3c323ed39>\u001b[0m in \u001b[0;36m<module>\u001b[0;34m()\u001b[0m\n\u001b[1;32m     28\u001b[0m \u001b[0;34m\u001b[0m\u001b[0m\n\u001b[1;32m     29\u001b[0m \u001b[0;34m\u001b[0m\u001b[0m\n\u001b[0;32m---> 30\u001b[0;31m \u001b[0mMlow_halo\u001b[0m \u001b[0;34m=\u001b[0m \u001b[0mget_Mhlow\u001b[0m\u001b[0;34m(\u001b[0m\u001b[0mpa\u001b[0m\u001b[0;34m.\u001b[0m\u001b[0mng_Bl\u001b[0m\u001b[0;34m)\u001b[0m\u001b[0;34m\u001b[0m\u001b[0m\n\u001b[0m\u001b[1;32m     31\u001b[0m \u001b[0;32mprint\u001b[0m \u001b[0;34m\"Mlow halo=\"\u001b[0m\u001b[0;34m,\u001b[0m \u001b[0mMlow_halo\u001b[0m\u001b[0;34m\u001b[0m\u001b[0m\n\u001b[1;32m     32\u001b[0m \u001b[0;34m\u001b[0m\u001b[0m\n",
      "\u001b[0;32m<ipython-input-1-22c3c323ed39>\u001b[0m in \u001b[0;36mget_Mhlow\u001b[0;34m(n_gal)\u001b[0m\n\u001b[1;32m     11\u001b[0m     \u001b[0;34m\"\"\"Gets the min value of Mh for the sample for simple assumptions about f_sat and Ncen.\"\"\"\u001b[0m\u001b[0;34m\u001b[0m\u001b[0m\n\u001b[1;32m     12\u001b[0m \u001b[0;34m\u001b[0m\u001b[0m\n\u001b[0;32m---> 13\u001b[0;31m     \u001b[0mMhtest\u001b[0m \u001b[0;34m=\u001b[0m \u001b[0mnp\u001b[0m\u001b[0;34m.\u001b[0m\u001b[0mlogspace\u001b[0m\u001b[0;34m(\u001b[0m\u001b[0;36m9\u001b[0m\u001b[0;34m,\u001b[0m\u001b[0;36m16\u001b[0m\u001b[0;34m,\u001b[0m \u001b[0;36m1000\u001b[0m\u001b[0;34m)\u001b[0m\u001b[0;34m\u001b[0m\u001b[0m\n\u001b[0m\u001b[1;32m     14\u001b[0m \u001b[0;34m\u001b[0m\u001b[0m\n\u001b[1;32m     15\u001b[0m     \u001b[0mNcen\u001b[0m \u001b[0;34m=\u001b[0m \u001b[0;36m1\u001b[0m \u001b[0;31m# Assume 1 central galaxy per halo\u001b[0m\u001b[0;34m\u001b[0m\u001b[0m\n",
      "\u001b[0;31mNameError\u001b[0m: global name 'np' is not defined"
     ]
    }
   ],
   "source": [
    "SURVEY = 'SDSS'\n",
    "if (SURVEY == 'SDSS'):\n",
    "    import params as pa\n",
    "elif (SURVEY == 'LSST_DESI'):\n",
    "    import params_LSST_DESI as pa\n",
    "else:\n",
    "    print \"We don't have support for that survey yet; exiting.\"\n",
    "    exit()\n",
    "\n",
    "def get_Mhlow(n_gal):\n",
    "    \"\"\"Gets the min value of Mh for the sample for simple assumptions about f_sat and Ncen.\"\"\"\n",
    "    \n",
    "    Mhtest = np.logspace(9,16, 1000)\n",
    "    \n",
    "    Ncen = 1 # Assume 1 central galaxy per halo\n",
    "    f_sat = pa.fsat_LRG\n",
    "    Nsat = f_sat / (1. - f_sat)\n",
    "    p = ccl.Parameters(Omega_c = pa.OmC, Omega_b = pa.OmB, h = (pa.HH0/100.), A_s = 2.1*10**(-9), n_s=0.96)\n",
    "    cosmo = ccl.Cosmology(p)\n",
    "    HMF = ccl.massfunction.massfunc(cosmo, Mh_test / (pa.HH0/100.), 1./ (1. + pa.zeff), odelta=200.)\n",
    "    \n",
    "    ng_of_Mh = np.zeros(len(Mhtest))\n",
    "    for i in range(0,len(Mhtest)-1):\n",
    "        ng_of_Mh[i] = scipy.integrate.simps(HMF[i:] * (Ncen+ Nsat), np.log10(Mh_test)[i:])\n",
    "        \n",
    "        ind = next(j[0] for j in enumerate(ng_of_Mh) if j[1]>=ngvol)\n",
    "    return Mhtest[ind]\n",
    "\n",
    "\n",
    "Mlow_halo = get_Mhlow(pa.ng_Bl)\n",
    "print \"Mlow halo=\", Mlow_halo\n",
    "    \n",
    "\n",
    "#Mhavg = shared.get_Mh_avg(Mlow_star, pa.ng_Bl, SURVEY)\n",
    "#print \"Mh=\", Mhavg"
   ]
  },
  {
   "cell_type": "code",
   "execution_count": null,
   "metadata": {
    "collapsed": true,
    "scrolled": true
   },
   "outputs": [],
   "source": [
    "SURVEY = 'LSST_DESI'\n",
    "if (SURVEY == 'SDSS'):\n",
    "    import params as pa\n",
    "elif (SURVEY == 'LSST_DESI'):\n",
    "    import params_LSST_DESI as pa\n",
    "else:\n",
    "    print \"We don't have support for that survey yet; exiting.\"\n",
    "    exit()\n",
    "\n",
    "Mlow_star = shared.get_Mstar_low(SURVEY, pa.ng_Bl)\n",
    "\n",
    "Mhavg = shared.get_Mh_avg(Mlow_star, pa.ng_Bl, SURVEY)\n",
    "print \"Mh=\", Mhavg"
   ]
  },
  {
   "cell_type": "code",
   "execution_count": null,
   "metadata": {
    "collapsed": true
   },
   "outputs": [],
   "source": []
  }
 ],
 "metadata": {
  "kernelspec": {
   "display_name": "Python 2",
   "language": "python",
   "name": "python2"
  },
  "language_info": {
   "codemirror_mode": {
    "name": "ipython",
    "version": 2
   },
   "file_extension": ".py",
   "mimetype": "text/x-python",
   "name": "python",
   "nbconvert_exporter": "python",
   "pygments_lexer": "ipython2",
   "version": "2.7.12"
  }
 },
 "nbformat": 4,
 "nbformat_minor": 2
}
