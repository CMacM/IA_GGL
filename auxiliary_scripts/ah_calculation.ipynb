{
 "cells": [
  {
   "cell_type": "code",
   "execution_count": 1,
   "metadata": {
    "collapsed": true
   },
   "outputs": [],
   "source": [
    "%matplotlib inline\n",
    "import numpy as np\n",
    "import matplotlib.pyplot as plt\n",
    "import scipy.integrate\n",
    "import scipy.interpolate"
   ]
  },
  {
   "cell_type": "markdown",
   "metadata": {},
   "source": [
    "Get the value of ah from luminosity scaling, using methodology as in Krause et al. 2015"
   ]
  },
  {
   "cell_type": "code",
   "execution_count": 3,
   "metadata": {},
   "outputs": [],
   "source": [
    "# Set up a function for the comoving distance\n",
    "\n",
    "def com(z_, OmC, OmB, HH0, Nnu):\n",
    "    \"\"\" Gets the comoving distance in units of Mpc/h at a given redshift, z_ (assuming the cosmology defined in the params file). \"\"\"\n",
    "    \n",
    "    OmR\t=\t2.47*10**(-5)/(HH0/100.)**2\n",
    "    OmN\t=\tNnu*(7./8.)*(4./11.)**(4./3.)*OmR\n",
    "    OmL = 1. - OmC - OmB - OmR - OmN\n",
    "    c=2.99792458*10**(8)\n",
    "    H0\t=\t10**(5)/c\n",
    "    \n",
    "    def chi_int(z):\n",
    "        return 1. / (H0 * ( (OmC+OmB)*(1+z)**3 + OmL + (OmR+OmN) * (1+z)**4 )**(0.5))\n",
    "\n",
    "    if hasattr(z_, \"__len__\"):\n",
    "        chi=np.zeros((len(z_)))\n",
    "        for zi in range(0,len(z_)):\n",
    "            #print \"zi in com=\", zi\n",
    "            chi[zi] = scipy.integrate.quad(chi_int,0,z_[zi])[0]\n",
    "    else:\n",
    "        chi = scipy.integrate.quad(chi_int, 0, z_)[0]\n",
    "\n",
    "    return chi\n",
    "\n"
   ]
  },
  {
   "cell_type": "code",
   "execution_count": 4,
   "metadata": {
    "collapsed": true
   },
   "outputs": [],
   "source": [
    "# Set up the Schechter luminosity function parameters from Krause et al. 2015\n",
    "\n",
    "z_1 = 0.28; z_2 = 0.77; \n",
    "mlim_1 = 22.; mlim_2 = 27.; \n",
    "Mp = -22.\n",
    "Lp = 10.**(-0.4*(Mp-Mp))\n",
    "\n",
    "# Power law parameters\n",
    "alpha_h = 0.081; beta_h = 2.1\n",
    "A_0 = 4.9; beta = 1.30;\n",
    "\n",
    "# We are using parameters from Krause et al. 2015, red galaxies\n",
    "Mr_s = -20.34; Q = 1.8; alpha = -0.57; phi_0 = 1.1 * 10**(-2); P = -1.2\n"
   ]
  },
  {
   "cell_type": "code",
   "execution_count": 5,
   "metadata": {
    "collapsed": true
   },
   "outputs": [],
   "source": [
    "# Compute phi*(z) and M*(z) / L*(z), where z is the lens redshift \n",
    "zL1 = np.linspace(0.16, 0.36, 200); zL2 = np.linspace(0.025, 1.175, 200)\n",
    "\n",
    "phi_s_1 = phi_0 * 10**(0.4 * P*zL1); \n",
    "phi_s_2 = phi_0 * 10**(0.4 * P*zL2); \n",
    "\n",
    "Ms_1 = Mr_s - Q * ( zL1 - 0.1 ); Ms_2 = Mr_s - Q * ( zL2 - 0.1)\n",
    "Ls_1 = 10.**(-0.4 *(Ms_1-Mp)); Ls_2 = 10.**(-0.4 *(Ms_2-Mp))"
   ]
  },
  {
   "cell_type": "code",
   "execution_count": 6,
   "metadata": {
    "collapsed": true
   },
   "outputs": [],
   "source": [
    "# Import the k correction and EC correction from Poggianti (assuming elliptical galaxies)\n",
    "(z_k, kcorr, x,x,x) = np.loadtxt('../txtfiles/kcorr.dat', unpack=True)\n",
    "(z_e, ecorr, x,x,x) = np.loadtxt('../txtfiles/ecorr.dat', unpack=True)\n",
    "\n",
    "kcorr_interp = scipy.interpolate.interp1d(z_k, kcorr)\n",
    "ecorr_interp = scipy.interpolate.interp1d(z_e, ecorr)\n",
    "\n",
    "kcorr_1 = kcorr_interp(zL1)\n",
    "ecorr_1 = ecorr_interp(zL1)\n",
    "kcorr_2 = kcorr_interp(zL2)\n",
    "ecorr_2 = ecorr_interp(zL2)"
   ]
  },
  {
   "cell_type": "code",
   "execution_count": 7,
   "metadata": {
    "collapsed": true
   },
   "outputs": [],
   "source": [
    "# Get the absolute magnitude that corresponds to the limiting apparent magnitude\n",
    "dl_1 = com(zL1, 0.2, 0.05, 70., 3.046) * (1. + zL1)\n",
    "dl_2 = com(zL2, 0.2, 0.05, 70., 3.046) * (1. + zL2)\n",
    "\n",
    "Mlim_1 = mlim_1 - (5. * np.log10(dl_1) + 25. + kcorr_1 + ecorr_1); Llim_1 = 10.**(-0.4 * (Mlim_1-Mp))\n",
    "#print \"Mlim 1=\", Mlim_1\n",
    "Mlim_2 = mlim_2 - (5. * np.log10(dl_2) + 25. + kcorr_2 + ecorr_2); Llim_2 = 10.**(-0.4 * (Mlim_2-Mp))\n",
    "#print \"Mlim 2=\", Mlim_2\n"
   ]
  },
  {
   "cell_type": "code",
   "execution_count": 8,
   "metadata": {
    "collapsed": true
   },
   "outputs": [],
   "source": [
    "# Get the luminosity vectors over which to integrate\n",
    "# For each case, there will be a list of these, one for each redshift,\n",
    "# because the limiting values if z-dependent\n",
    "\n",
    "L_1 = [0] * len(zL1)\n",
    "for zi in range(0,len(zL1)):\n",
    "    L_1[zi] = scipy.logspace(np.log10(Llim_1[zi]), 2, 1000)\n",
    "L_2 = [0]*len(zL2)\n",
    "for zi in range(0,len(zL2)):\n",
    "    L_2[zi] = scipy.logspace(np.log10(Llim_2[zi]), 2, 1000)\n",
    "\n",
    "# Now get phi(L,z), where this exists for each z because the lenghts of the L vectors are different.\n",
    "phi_func_1 = [0]*len(zL1)\n",
    "for zi in range(0,len(zL1)):\n",
    "    phi_func_1[zi]= np.zeros((len(L_1[zi]),len(zL1) ))\n",
    "    for li in range(0,len(L_1[zi])):\n",
    "        phi_func_1[zi][li, zi] = phi_s_1[zi] * (L_1[zi][li] / Ls_1[zi]) ** (alpha) * np.exp(- L_1[zi][li] / Ls_1[zi])\n",
    "\n",
    "phi_func_2 = [0]*len(zL2)\n",
    "for zi in range(0,len(zL2)):\n",
    "    phi_func_2[zi]= np.zeros((len(L_2[zi]),len(zL2) ))\n",
    "    for li in range(0,len(L_2[zi])):\n",
    "        phi_func_2[zi][li, zi] = phi_s_2[zi] * (L_2[zi][li] / Ls_2[zi]) ** (alpha) * np.exp(- L_2[zi][li] / Ls_2[zi])        \n",
    "       "
   ]
  },
  {
   "cell_type": "code",
   "execution_count": 9,
   "metadata": {
    "collapsed": true
   },
   "outputs": [],
   "source": [
    "# Get the numerator and denom (norm) of the required averages in luminosity, still as functions of zL\n",
    "\n",
    "norm_1 = np.zeros(len(zL1)); num_ah_1 = np.zeros(len(zL1)); num_Ai_1 = np.zeros(len(zL1)) \n",
    "avgL_1 = np.zeros(len(zL1))\n",
    "for zi in range(len(zL1)):\n",
    "    norm_1[zi] = scipy.integrate.simps(phi_func_1[zi][:, zi], L_1[zi])\n",
    "    num_ah_1[zi] = scipy.integrate.simps(phi_func_1[zi][:, zi] * (alpha_h * (L_1[zi]) / Lp)**(beta_h), L_1[zi])\n",
    "    num_Ai_1[zi] = scipy.integrate.simps(phi_func_1[zi][:, zi] * (A_0 * (L_1[zi]) / Lp)**(beta), L_1[zi])\n",
    "    avgL_1[zi] = scipy.integrate.simps(phi_func_1[zi][:, zi] * L_1[zi] / Lp, L_1[zi])\n",
    "    \n",
    "norm_2 = np.zeros(len(zL2)); num_ah_2 = np.zeros(len(zL2)); num_Ai_2 = np.zeros(len(zL2))\n",
    "avgL_2=np.zeros(len(zL2))\n",
    "for zi in range(len(zL2)):\n",
    "    norm_2[zi] = scipy.integrate.simps(phi_func_2[zi][:, zi], L_2[zi])\n",
    "    num_ah_2[zi] = scipy.integrate.simps(phi_func_2[zi][:, zi] * (alpha_h * (L_2[zi]) / Lp)**(beta_h), L_2[zi])\n",
    "    num_Ai_2[zi] = scipy.integrate.simps(phi_func_2[zi][:, zi] * (A_0 * (L_2[zi]) / Lp)**(beta), L_2[zi])\n",
    "    avgL_2[zi] = scipy.integrate.simps(phi_func_2[zi][:, zi] * L_2[zi] / Lp, L_2[zi])\n"
   ]
  },
  {
   "cell_type": "code",
   "execution_count": 10,
   "metadata": {},
   "outputs": [
    {
     "ename": "ValueError",
     "evalue": "x and y can be no greater than 2-D",
     "output_type": "error",
     "traceback": [
      "\u001b[0;31m---------------------------------------------------------------------------\u001b[0m",
      "\u001b[0;31mValueError\u001b[0m                                Traceback (most recent call last)",
      "\u001b[0;32m<ipython-input-10-4b6db76e2bb5>\u001b[0m in \u001b[0;36m<module>\u001b[0;34m()\u001b[0m\n\u001b[1;32m      2\u001b[0m \u001b[0;34m\u001b[0m\u001b[0m\n\u001b[1;32m      3\u001b[0m \u001b[0mplt\u001b[0m\u001b[0;34m.\u001b[0m\u001b[0mfigure\u001b[0m\u001b[0;34m(\u001b[0m\u001b[0mfigsize\u001b[0m\u001b[0;34m=\u001b[0m\u001b[0;34m(\u001b[0m\u001b[0;36m10\u001b[0m\u001b[0;34m,\u001b[0m\u001b[0;36m10\u001b[0m\u001b[0;34m)\u001b[0m\u001b[0;34m)\u001b[0m\u001b[0;34m\u001b[0m\u001b[0m\n\u001b[0;32m----> 4\u001b[0;31m \u001b[0mplt\u001b[0m\u001b[0;34m.\u001b[0m\u001b[0mplot\u001b[0m\u001b[0;34m(\u001b[0m\u001b[0mL_1\u001b[0m\u001b[0;34m,\u001b[0m \u001b[0mphi_func_1\u001b[0m \u001b[0;34m/\u001b[0m \u001b[0mnorm_1\u001b[0m \u001b[0;34m,\u001b[0m \u001b[0;34m'm'\u001b[0m\u001b[0;34m,\u001b[0m \u001b[0mlabel\u001b[0m\u001b[0;34m=\u001b[0m\u001b[0;34m'SDSS'\u001b[0m\u001b[0;34m)\u001b[0m\u001b[0;34m\u001b[0m\u001b[0m\n\u001b[0m\u001b[1;32m      5\u001b[0m \u001b[0mplt\u001b[0m\u001b[0;34m.\u001b[0m\u001b[0mhold\u001b[0m\u001b[0;34m(\u001b[0m\u001b[0mTrue\u001b[0m\u001b[0;34m)\u001b[0m\u001b[0;34m\u001b[0m\u001b[0m\n\u001b[1;32m      6\u001b[0m \u001b[0mplt\u001b[0m\u001b[0;34m.\u001b[0m\u001b[0mplot\u001b[0m\u001b[0;34m(\u001b[0m\u001b[0mL_2\u001b[0m\u001b[0;34m,\u001b[0m \u001b[0mphi_func_2\u001b[0m \u001b[0;34m/\u001b[0m \u001b[0mnorm_2\u001b[0m \u001b[0;34m,\u001b[0m \u001b[0;34m'g'\u001b[0m\u001b[0;34m,\u001b[0m \u001b[0mlabel\u001b[0m\u001b[0;34m=\u001b[0m\u001b[0;34m'LSST+DESI'\u001b[0m\u001b[0;34m)\u001b[0m\u001b[0;34m\u001b[0m\u001b[0m\n",
      "\u001b[0;32m/usr/lib/python2.7/dist-packages/matplotlib/pyplot.pyc\u001b[0m in \u001b[0;36mplot\u001b[0;34m(*args, **kwargs)\u001b[0m\n\u001b[1;32m   3152\u001b[0m         \u001b[0max\u001b[0m\u001b[0;34m.\u001b[0m\u001b[0mhold\u001b[0m\u001b[0;34m(\u001b[0m\u001b[0mhold\u001b[0m\u001b[0;34m)\u001b[0m\u001b[0;34m\u001b[0m\u001b[0m\n\u001b[1;32m   3153\u001b[0m     \u001b[0;32mtry\u001b[0m\u001b[0;34m:\u001b[0m\u001b[0;34m\u001b[0m\u001b[0m\n\u001b[0;32m-> 3154\u001b[0;31m         \u001b[0mret\u001b[0m \u001b[0;34m=\u001b[0m \u001b[0max\u001b[0m\u001b[0;34m.\u001b[0m\u001b[0mplot\u001b[0m\u001b[0;34m(\u001b[0m\u001b[0;34m*\u001b[0m\u001b[0margs\u001b[0m\u001b[0;34m,\u001b[0m \u001b[0;34m**\u001b[0m\u001b[0mkwargs\u001b[0m\u001b[0;34m)\u001b[0m\u001b[0;34m\u001b[0m\u001b[0m\n\u001b[0m\u001b[1;32m   3155\u001b[0m     \u001b[0;32mfinally\u001b[0m\u001b[0;34m:\u001b[0m\u001b[0;34m\u001b[0m\u001b[0m\n\u001b[1;32m   3156\u001b[0m         \u001b[0max\u001b[0m\u001b[0;34m.\u001b[0m\u001b[0mhold\u001b[0m\u001b[0;34m(\u001b[0m\u001b[0mwashold\u001b[0m\u001b[0;34m)\u001b[0m\u001b[0;34m\u001b[0m\u001b[0m\n",
      "\u001b[0;32m/usr/lib/python2.7/dist-packages/matplotlib/__init__.pyc\u001b[0m in \u001b[0;36minner\u001b[0;34m(ax, *args, **kwargs)\u001b[0m\n\u001b[1;32m   1812\u001b[0m                     warnings.warn(msg % (label_namer, func.__name__),\n\u001b[1;32m   1813\u001b[0m                                   RuntimeWarning, stacklevel=2)\n\u001b[0;32m-> 1814\u001b[0;31m             \u001b[0;32mreturn\u001b[0m \u001b[0mfunc\u001b[0m\u001b[0;34m(\u001b[0m\u001b[0max\u001b[0m\u001b[0;34m,\u001b[0m \u001b[0;34m*\u001b[0m\u001b[0margs\u001b[0m\u001b[0;34m,\u001b[0m \u001b[0;34m**\u001b[0m\u001b[0mkwargs\u001b[0m\u001b[0;34m)\u001b[0m\u001b[0;34m\u001b[0m\u001b[0m\n\u001b[0m\u001b[1;32m   1815\u001b[0m         \u001b[0mpre_doc\u001b[0m \u001b[0;34m=\u001b[0m \u001b[0minner\u001b[0m\u001b[0;34m.\u001b[0m\u001b[0m__doc__\u001b[0m\u001b[0;34m\u001b[0m\u001b[0m\n\u001b[1;32m   1816\u001b[0m         \u001b[0;32mif\u001b[0m \u001b[0mpre_doc\u001b[0m \u001b[0;32mis\u001b[0m \u001b[0mNone\u001b[0m\u001b[0;34m:\u001b[0m\u001b[0;34m\u001b[0m\u001b[0m\n",
      "\u001b[0;32m/usr/lib/python2.7/dist-packages/matplotlib/axes/_axes.pyc\u001b[0m in \u001b[0;36mplot\u001b[0;34m(self, *args, **kwargs)\u001b[0m\n\u001b[1;32m   1422\u001b[0m             \u001b[0mkwargs\u001b[0m\u001b[0;34m[\u001b[0m\u001b[0;34m'color'\u001b[0m\u001b[0;34m]\u001b[0m \u001b[0;34m=\u001b[0m \u001b[0mc\u001b[0m\u001b[0;34m\u001b[0m\u001b[0m\n\u001b[1;32m   1423\u001b[0m \u001b[0;34m\u001b[0m\u001b[0m\n\u001b[0;32m-> 1424\u001b[0;31m         \u001b[0;32mfor\u001b[0m \u001b[0mline\u001b[0m \u001b[0;32min\u001b[0m \u001b[0mself\u001b[0m\u001b[0;34m.\u001b[0m\u001b[0m_get_lines\u001b[0m\u001b[0;34m(\u001b[0m\u001b[0;34m*\u001b[0m\u001b[0margs\u001b[0m\u001b[0;34m,\u001b[0m \u001b[0;34m**\u001b[0m\u001b[0mkwargs\u001b[0m\u001b[0;34m)\u001b[0m\u001b[0;34m:\u001b[0m\u001b[0;34m\u001b[0m\u001b[0m\n\u001b[0m\u001b[1;32m   1425\u001b[0m             \u001b[0mself\u001b[0m\u001b[0;34m.\u001b[0m\u001b[0madd_line\u001b[0m\u001b[0;34m(\u001b[0m\u001b[0mline\u001b[0m\u001b[0;34m)\u001b[0m\u001b[0;34m\u001b[0m\u001b[0m\n\u001b[1;32m   1426\u001b[0m             \u001b[0mlines\u001b[0m\u001b[0;34m.\u001b[0m\u001b[0mappend\u001b[0m\u001b[0;34m(\u001b[0m\u001b[0mline\u001b[0m\u001b[0;34m)\u001b[0m\u001b[0;34m\u001b[0m\u001b[0m\n",
      "\u001b[0;32m/usr/lib/python2.7/dist-packages/matplotlib/axes/_base.pyc\u001b[0m in \u001b[0;36m_grab_next_args\u001b[0;34m(self, *args, **kwargs)\u001b[0m\n\u001b[1;32m    384\u001b[0m                 \u001b[0;32mreturn\u001b[0m\u001b[0;34m\u001b[0m\u001b[0m\n\u001b[1;32m    385\u001b[0m             \u001b[0;32mif\u001b[0m \u001b[0mlen\u001b[0m\u001b[0;34m(\u001b[0m\u001b[0mremaining\u001b[0m\u001b[0;34m)\u001b[0m \u001b[0;34m<=\u001b[0m \u001b[0;36m3\u001b[0m\u001b[0;34m:\u001b[0m\u001b[0;34m\u001b[0m\u001b[0m\n\u001b[0;32m--> 386\u001b[0;31m                 \u001b[0;32mfor\u001b[0m \u001b[0mseg\u001b[0m \u001b[0;32min\u001b[0m \u001b[0mself\u001b[0m\u001b[0;34m.\u001b[0m\u001b[0m_plot_args\u001b[0m\u001b[0;34m(\u001b[0m\u001b[0mremaining\u001b[0m\u001b[0;34m,\u001b[0m \u001b[0mkwargs\u001b[0m\u001b[0;34m)\u001b[0m\u001b[0;34m:\u001b[0m\u001b[0;34m\u001b[0m\u001b[0m\n\u001b[0m\u001b[1;32m    387\u001b[0m                     \u001b[0;32myield\u001b[0m \u001b[0mseg\u001b[0m\u001b[0;34m\u001b[0m\u001b[0m\n\u001b[1;32m    388\u001b[0m                 \u001b[0;32mreturn\u001b[0m\u001b[0;34m\u001b[0m\u001b[0m\n",
      "\u001b[0;32m/usr/lib/python2.7/dist-packages/matplotlib/axes/_base.pyc\u001b[0m in \u001b[0;36m_plot_args\u001b[0;34m(self, tup, kwargs)\u001b[0m\n\u001b[1;32m    362\u001b[0m             \u001b[0mx\u001b[0m\u001b[0;34m,\u001b[0m \u001b[0my\u001b[0m \u001b[0;34m=\u001b[0m \u001b[0mindex_of\u001b[0m\u001b[0;34m(\u001b[0m\u001b[0mtup\u001b[0m\u001b[0;34m[\u001b[0m\u001b[0;34m-\u001b[0m\u001b[0;36m1\u001b[0m\u001b[0;34m]\u001b[0m\u001b[0;34m)\u001b[0m\u001b[0;34m\u001b[0m\u001b[0m\n\u001b[1;32m    363\u001b[0m \u001b[0;34m\u001b[0m\u001b[0m\n\u001b[0;32m--> 364\u001b[0;31m         \u001b[0mx\u001b[0m\u001b[0;34m,\u001b[0m \u001b[0my\u001b[0m \u001b[0;34m=\u001b[0m \u001b[0mself\u001b[0m\u001b[0;34m.\u001b[0m\u001b[0m_xy_from_xy\u001b[0m\u001b[0;34m(\u001b[0m\u001b[0mx\u001b[0m\u001b[0;34m,\u001b[0m \u001b[0my\u001b[0m\u001b[0;34m)\u001b[0m\u001b[0;34m\u001b[0m\u001b[0m\n\u001b[0m\u001b[1;32m    365\u001b[0m \u001b[0;34m\u001b[0m\u001b[0m\n\u001b[1;32m    366\u001b[0m         \u001b[0;32mif\u001b[0m \u001b[0mself\u001b[0m\u001b[0;34m.\u001b[0m\u001b[0mcommand\u001b[0m \u001b[0;34m==\u001b[0m \u001b[0;34m'plot'\u001b[0m\u001b[0;34m:\u001b[0m\u001b[0;34m\u001b[0m\u001b[0m\n",
      "\u001b[0;32m/usr/lib/python2.7/dist-packages/matplotlib/axes/_base.pyc\u001b[0m in \u001b[0;36m_xy_from_xy\u001b[0;34m(self, x, y)\u001b[0m\n\u001b[1;32m    223\u001b[0m             \u001b[0;32mraise\u001b[0m \u001b[0mValueError\u001b[0m\u001b[0;34m(\u001b[0m\u001b[0;34m\"x and y must have same first dimension\"\u001b[0m\u001b[0;34m)\u001b[0m\u001b[0;34m\u001b[0m\u001b[0m\n\u001b[1;32m    224\u001b[0m         \u001b[0;32mif\u001b[0m \u001b[0mx\u001b[0m\u001b[0;34m.\u001b[0m\u001b[0mndim\u001b[0m \u001b[0;34m>\u001b[0m \u001b[0;36m2\u001b[0m \u001b[0;32mor\u001b[0m \u001b[0my\u001b[0m\u001b[0;34m.\u001b[0m\u001b[0mndim\u001b[0m \u001b[0;34m>\u001b[0m \u001b[0;36m2\u001b[0m\u001b[0;34m:\u001b[0m\u001b[0;34m\u001b[0m\u001b[0m\n\u001b[0;32m--> 225\u001b[0;31m             \u001b[0;32mraise\u001b[0m \u001b[0mValueError\u001b[0m\u001b[0;34m(\u001b[0m\u001b[0;34m\"x and y can be no greater than 2-D\"\u001b[0m\u001b[0;34m)\u001b[0m\u001b[0;34m\u001b[0m\u001b[0m\n\u001b[0m\u001b[1;32m    226\u001b[0m \u001b[0;34m\u001b[0m\u001b[0m\n\u001b[1;32m    227\u001b[0m         \u001b[0;32mif\u001b[0m \u001b[0mx\u001b[0m\u001b[0;34m.\u001b[0m\u001b[0mndim\u001b[0m \u001b[0;34m==\u001b[0m \u001b[0;36m1\u001b[0m\u001b[0;34m:\u001b[0m\u001b[0;34m\u001b[0m\u001b[0m\n",
      "\u001b[0;31mValueError\u001b[0m: x and y can be no greater than 2-D"
     ]
    },
    {
     "data": {
      "image/png": "[encoded data removed]",
      "text/plain": [
       "<matplotlib.figure.Figure at 0x7f1c90a6cbd0>"
      ]
     },
     "metadata": {},
     "output_type": "display_data"
    }
   ],
   "source": [
    "#print \"phi_func_1 / norm_1 =\", phi_func_1 / norm_1 \n",
    "\n",
    "plt.figure(figsize=(10,10))\n",
    "plt.plot(L_1, phi_func_1 / norm_1 , 'm', label='SDSS')\n",
    "plt.hold(True)\n",
    "plt.plot(L_2, phi_func_2 / norm_2 , 'g', label='LSST+DESI')\n",
    "plt.hold(True)\n",
    "plt.axvline(x=Ls_1,color='m', linestyle = '--')\n",
    "plt.hold(True)\n",
    "plt.axvline(x=Ls_2,color='g', linestyle = '--')\n",
    "plt.xlabel('L/Lp', fontsize=20)\n",
    "plt.ylabel('$\\phi$', fontsize=20)\n",
    "plt.xlim(0., 1.5)\n",
    "#plt.ylim(10**(-8),1000)\n",
    "plt.tick_params(axis='both', labelsize='18')\n",
    "plt.legend()\n",
    "plt.title('Luminosity function, normalized', fontsize=20)\n",
    "#plt.savefig('../plots/Luminosity_functions.pdf')\n",
    "#plt.legend()\n",
    "plt.show()"
   ]
  },
  {
   "cell_type": "code",
   "execution_count": 11,
   "metadata": {},
   "outputs": [
    {
     "name": "stdout",
     "output_type": "stream",
     "text": [
      "L0= 630957344.48\n"
     ]
    },
    {
     "ename": "TypeError",
     "evalue": "unsupported operand type(s) for /: 'list' and 'float'",
     "output_type": "error",
     "traceback": [
      "\u001b[0;31m---------------------------------------------------------------------------\u001b[0m",
      "\u001b[0;31mTypeError\u001b[0m                                 Traceback (most recent call last)",
      "\u001b[0;32m<ipython-input-11-1b1364a856c5>\u001b[0m in \u001b[0;36m<module>\u001b[0;34m()\u001b[0m\n\u001b[1;32m      5\u001b[0m \u001b[0;31m#for i in range(0, len(z)):\u001b[0m\u001b[0;34m\u001b[0m\u001b[0;34m\u001b[0m\u001b[0m\n\u001b[1;32m      6\u001b[0m \u001b[0;31m#num = scipy.integrate.simps(phi_func[i, :] * alpha_h * (L_list[i] / L0)**beta_h, L_list[i])\u001b[0m\u001b[0;34m\u001b[0m\u001b[0;34m\u001b[0m\u001b[0m\n\u001b[0;32m----> 7\u001b[0;31m \u001b[0ma_h_1\u001b[0m \u001b[0;34m=\u001b[0m \u001b[0mscipy\u001b[0m\u001b[0;34m.\u001b[0m\u001b[0mintegrate\u001b[0m\u001b[0;34m.\u001b[0m\u001b[0msimps\u001b[0m\u001b[0;34m(\u001b[0m\u001b[0mphi_func_1\u001b[0m \u001b[0;34m/\u001b[0m \u001b[0mnorm_1\u001b[0m \u001b[0;34m*\u001b[0m \u001b[0malpha_h\u001b[0m \u001b[0;34m*\u001b[0m \u001b[0;34m(\u001b[0m\u001b[0mL_1\u001b[0m \u001b[0;34m/\u001b[0m \u001b[0mL0\u001b[0m\u001b[0;34m)\u001b[0m\u001b[0;34m**\u001b[0m\u001b[0mbeta_h\u001b[0m \u001b[0;34m*\u001b[0m \u001b[0mL_1\u001b[0m\u001b[0;34m,\u001b[0m \u001b[0mnp\u001b[0m\u001b[0;34m.\u001b[0m\u001b[0mlog\u001b[0m\u001b[0;34m(\u001b[0m\u001b[0mL_1\u001b[0m\u001b[0;34m)\u001b[0m\u001b[0;34m)\u001b[0m\u001b[0;34m\u001b[0m\u001b[0m\n\u001b[0m\u001b[1;32m      8\u001b[0m \u001b[0ma_h_2\u001b[0m \u001b[0;34m=\u001b[0m \u001b[0mscipy\u001b[0m\u001b[0;34m.\u001b[0m\u001b[0mintegrate\u001b[0m\u001b[0;34m.\u001b[0m\u001b[0msimps\u001b[0m\u001b[0;34m(\u001b[0m\u001b[0mphi_func_2\u001b[0m \u001b[0;34m/\u001b[0m \u001b[0mnorm_2\u001b[0m \u001b[0;34m*\u001b[0m \u001b[0malpha_h\u001b[0m \u001b[0;34m*\u001b[0m \u001b[0;34m(\u001b[0m\u001b[0mL_2\u001b[0m \u001b[0;34m/\u001b[0m \u001b[0mL0\u001b[0m\u001b[0;34m)\u001b[0m\u001b[0;34m**\u001b[0m\u001b[0mbeta_h\u001b[0m \u001b[0;34m*\u001b[0m \u001b[0mL_2\u001b[0m\u001b[0;34m,\u001b[0m \u001b[0mnp\u001b[0m\u001b[0;34m.\u001b[0m\u001b[0mlog\u001b[0m\u001b[0;34m(\u001b[0m\u001b[0mL_2\u001b[0m\u001b[0;34m)\u001b[0m\u001b[0;34m)\u001b[0m\u001b[0;34m\u001b[0m\u001b[0m\n\u001b[1;32m      9\u001b[0m \u001b[0;34m\u001b[0m\u001b[0m\n",
      "\u001b[0;31mTypeError\u001b[0m: unsupported operand type(s) for /: 'list' and 'float'"
     ]
    }
   ],
   "source": [
    "L0 = 10.**(-0.4 * (-22.))\n",
    "print \"L0=\", L0\n",
    "\n",
    "#a_h = [0]*(len(z))\n",
    "#for i in range(0, len(z)):\n",
    "#num = scipy.integrate.simps(phi_func[i, :] * alpha_h * (L_list[i] / L0)**beta_h, L_list[i])\n",
    "a_h_1 = scipy.integrate.simps(phi_func_1 / norm_1 * alpha_h * (L_1 / L0)**beta_h * L_1, np.log(L_1))\n",
    "a_h_2 = scipy.integrate.simps(phi_func_2 / norm_2 * alpha_h * (L_2 / L0)**beta_h * L_2, np.log(L_2))\n",
    "\n",
    "plt.figure(figsize=(10,10))\n",
    "plt.semilogx(L_1, phi_func_1 / norm_1* alpha_h * (L_1 / L0)**beta_h, 'm', label='SDSS')\n",
    "plt.hold(True)\n",
    "plt.semilogx(L_2, phi_func_2 / norm_2* alpha_h * (L_2 / L0)**beta_h, 'g', label='LSST+DESI')\n",
    "plt.xlabel(\"Luminosity (arbitrary units)\", fontsize=20)\n",
    "plt.ylabel(\"$a_h(L) \\phi(L)$\", fontsize=20)\n",
    "plt.tick_params(axis='both', labelsize='18')\n",
    "plt.savefig('../plots/Lum_func_times_ah.pdf')\n",
    "plt.legend()\n",
    "plt.show()\n",
    "\n",
    "print \"ah 1=\", a_h_1, \"ah 2=\", a_h_2"
   ]
  },
  {
   "cell_type": "code",
   "execution_count": null,
   "metadata": {
    "collapsed": true
   },
   "outputs": [],
   "source": [
    "# Get the normalized redshift distribution in terms of spec z\n",
    "#dNdz = get_NofZ([1.24, 0.51, 1.01], 'Smail', z)\n",
    "#dNdz = get_NofZ([2.338, 0.303], 'Nakajima', z)\n",
    "\n",
    "# and integrate over it\n",
    "\n",
    "#a_h_intz = scipy.integrate.simps(a_h*dNdz, z)\n",
    "print \"A=\", a_h"
   ]
  },
  {
   "cell_type": "code",
   "execution_count": null,
   "metadata": {
    "collapsed": true
   },
   "outputs": [],
   "source": []
  }
 ],
 "metadata": {
  "kernelspec": {
   "display_name": "Python 2",
   "language": "python",
   "name": "python2"
  },
  "language_info": {
   "codemirror_mode": {
    "name": "ipython",
    "version": 2
   },
   "file_extension": ".py",
   "mimetype": "text/x-python",
   "name": "python",
   "nbconvert_exporter": "python",
   "pygments_lexer": "ipython2",
   "version": "2.7.12"
  }
 },
 "nbformat": 4,
 "nbformat_minor": 2
}
