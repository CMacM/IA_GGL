{
 "cells": [
  {
   "cell_type": "code",
   "execution_count": 1,
   "metadata": {
    "collapsed": true
   },
   "outputs": [],
   "source": [
    "import numpy as np\n",
    "import matplotlib.pyplot as plt\n"
   ]
  },
  {
   "cell_type": "code",
   "execution_count": 2,
   "metadata": {},
   "outputs": [],
   "source": [
    "# Set up rp vector\n",
    "rp_edges = np.logspace(np.log10(0.05), np.log10(20), 8)\n",
    "logedges=np.log10(rp_edges)\n",
    "rpvec=np.zeros(len(rp_edges)-1)\n",
    "for ri in range(0,len(rp_edges)-1):\n",
    "\trpvec[ri]    =       10**((logedges[ri+1] - logedges[ri])/2. +logedges[ri])"
   ]
  },
  {
   "cell_type": "code",
   "execution_count": 3,
   "metadata": {},
   "outputs": [],
   "source": [
    "B_a_SDSS = np.loadtxt('./txtfiles/boosts/Boost_full_A_survey=SDSS_deltaz=0.17_fixDls.txt')\n",
    "B_b_SDSS = np.loadtxt('./txtfiles/boosts/Boost_full_B_survey=SDSS_deltaz=0.17_fixDls.txt')\n",
    "B_close_SDSS = np.loadtxt('./txtfiles/boosts/Boost_full_close_survey=SDSS_deltaz=0.17_fixDls.txt')\n",
    "\n",
    "B_a_LSST = np.loadtxt('./txtfiles/boosts/Boost_full_A_survey=LSST_DESI_deltaz=0.1_fixDls.txt')\n",
    "B_b_LSST = np.loadtxt('./txtfiles/boosts/Boost_full_B_survey=LSST_DESI_deltaz=0.1_fixDls.txt')\n",
    "B_close_LSST = np.loadtxt('./txtfiles/boosts/Boost_full_close_survey=LSST_DESI_deltaz=0.1_fixDls.txt')"
   ]
  },
  {
   "cell_type": "code",
   "execution_count": null,
   "metadata": {
    "collapsed": true
   },
   "outputs": [],
   "source": [
    "B_a_SDSS_interp = scipy.interpolate.interp1d(np.log(rpvec), np.log(B_a_SDSS))\n",
    "B_b_SDSS_interp = scipy.interpolate.interp1d(np.log(rpvec), np.log(B_b_SDSS))\n",
    "B_close_SDSS_interp = scipy.interpolate.interp1d(np.log(rpvec), np.log(B_close_SDSS))\n",
    "\n",
    "B_a_SDSS_1 = np.exp(B_a_SDSS_interp(np.log(1.)))\n",
    "B_b_SDSS_1 = np.exp(B_b_SDSS_interp(np.log(1.)))\n",
    "B_c_SDSS_1 = np.exp(B_c_SDSS_interp(np.log(1.)))\n",
    "\n",
    "B_a_LSST_interp = scipy.interpolate.interp1d(np.log(rpvec), np.log(B_a_LSST))\n",
    "B_b_LSST_interp = scipy.interpolate.interp1d(np.log(rpvec), np.log(B_b_LSST))\n",
    "B_close_LSST_interp = scipy.interpolate.interp1d(np.log(rpvec), np.log(B_close_LSST))\n",
    "\n",
    "B_a_LSST_1 = np.exp(B_a_LSST_interp(np.log(1.)))\n",
    "B_b_LSST_1 = np.exp(B_b_LSST_interp(np.log(1.)))\n",
    "B_c_LSST_1 = np.exp(B_c_LSST_interp(np.log(1.)))"
   ]
  },
  {
   "cell_type": "code",
   "execution_count": null,
   "metadata": {},
   "outputs": [],
   "source": [
    "plt.figure()\n",
    "plt.loglog(rpvec, B_a_SDSS, 'mo', label='a')\n",
    "plt.hold(True)\n",
    "plt.loglog(rpvec, B_b_SDSS, 'go', label='b')\n",
    "plt.hold(True)\n",
    "plt.loglog(rpvec, B_close_SDSS, 'bo', label='asc')\n",
    "plt.legend()\n",
    "plt.ylabel('B-1')\n",
    "plt.title('SDSS')\n",
    "plt.show()\n",
    "\n",
    "plt.figure()\n",
    "plt.loglog(rpvec, B_a_LSST, 'mo', label='a')\n",
    "plt.hold(True)\n",
    "plt.loglog(rpvec, B_b_LSST, 'go', label='b')\n",
    "plt.hold(True)\n",
    "plt.loglog(rpvec, B_close_LSST, 'bo', label='asc')\n",
    "plt.legend()\n",
    "plt.ylabel('B-1')\n",
    "plt.title('LSST')\n",
    "plt.show()"
   ]
  },
  {
   "cell_type": "code",
   "execution_count": null,
   "metadata": {},
   "outputs": [],
   "source": []
  },
  {
   "cell_type": "code",
   "execution_count": null,
   "metadata": {},
   "outputs": [],
   "source": []
  },
  {
   "cell_type": "code",
   "execution_count": null,
   "metadata": {
    "collapsed": true
   },
   "outputs": [],
   "source": []
  }
 ],
 "metadata": {
  "kernelspec": {
   "display_name": "Python 2",
   "language": "python",
   "name": "python2"
  },
  "language_info": {
   "codemirror_mode": {
    "name": "ipython",
    "version": 3
   },
   "file_extension": ".py",
   "mimetype": "text/x-python",
   "name": "python",
   "nbconvert_exporter": "python",
   "pygments_lexer": "ipython3",
   "version": "3.5.2"
  }
 },
 "nbformat": 4,
 "nbformat_minor": 2
}
