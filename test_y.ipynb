{
 "cells": [
  {
   "cell_type": "markdown",
   "metadata": {},
   "source": [
    "Test whether y(k,M) could be the source of trouble for the 1-halo terms"
   ]
  },
  {
   "cell_type": "code",
   "execution_count": 1,
   "metadata": {},
   "outputs": [
    {
     "name": "stderr",
     "output_type": "stream",
     "text": [
      "/usr/local/lib/python2.7/dist-packages/halotools/sim_manager/halo_table_cache.py:12: UserWarning: Some of the functionality of the HaloTableCache classrequires h5py to be installed.\n",
      "  warn(\"Some of the functionality of the HaloTableCache class\"\n",
      "/usr/local/lib/python2.7/dist-packages/halotools/sim_manager/user_supplied_ptcl_catalog.py:13: UserWarning: Most of the functionality of the sim_manager sub-package requires h5py to be installed,\n",
      "which can be accomplished either with pip or conda\n",
      "  warn(\"Most of the functionality of the sim_manager \"\n",
      "/usr/local/lib/python2.7/dist-packages/halotools/sim_manager/download_manager.py:39: UserWarning: Some of the functionality of the DownloadManager requires h5py to be installed,\n",
      "which can be accomplished either with pip or conda\n",
      "  warn(\"Some of the functionality of the DownloadManager requires h5py to be installed,\\n\"\n",
      "/usr/local/lib/python2.7/dist-packages/halotools/sim_manager/cached_halo_catalog.py:15: UserWarning: Most of the functionality of the sim_manager sub-package requires h5py to be installed,\n",
      "which can be accomplished either with pip or conda. \n",
      "  warn(\"Most of the functionality of the \"\n"
     ]
    }
   ],
   "source": [
    "%matplotlib inline\n",
    "\n",
    "import shared_functions_wlp_wls as shared; \n",
    "import numpy as np\n",
    "import scipy.integrate\n",
    "import matplotlib.pyplot as plt"
   ]
  },
  {
   "cell_type": "code",
   "execution_count": 2,
   "metadata": {
    "collapsed": true
   },
   "outputs": [],
   "source": [
    "def gety(M, kvec, rpts, survey):\n",
    "    \"\"\" Fourier transforms the density profile to get the power spectrum. \"\"\"\n",
    "    # Get the nfw density profile at the correct mass and redshift and at a variety of r\n",
    "    Rvir = shared.Rhalo(M, survey)\n",
    "    rvec = np.logspace(-8, np.log10(Rvir), rpts)\n",
    "    rho = shared.rho_NFW_ls(rvec, M, survey)  # Units Msol h^2 / Mpc^3, comoving. \n",
    "\n",
    "    u_ = np.zeros(len(kvec))\n",
    "    for ki in range(0,len(kvec)):\n",
    "        u_[ki]= 4. * np.pi / M * scipy.integrate.simps( rvec* np.sin(kvec[ki]*rvec)/ kvec[ki] * rho, rvec) # unitless / dimensionless.\n",
    "\n",
    "    return u_"
   ]
  },
  {
   "cell_type": "code",
   "execution_count": 3,
   "metadata": {},
   "outputs": [],
   "source": [
    "# We fix Mh to one value at a time for comparison\n",
    "Mh = 10.**16\n",
    "logkmin = -6; kpts =40000; logkmax = 5;\n",
    "kvec_short = np.logspace(logkmin, logkmax, 40)\n",
    "\n",
    "rpts = [10**6, 10**7]\n",
    "y = [0]*len(rpts)\n",
    "for ri in range(0,len(rpts)):\n",
    "    y[ri] = gety(Mh, kvec_short, rpts[ri], 'SDSS')\n",
    "    \n"
   ]
  },
  {
   "cell_type": "code",
   "execution_count": 4,
   "metadata": {
    "scrolled": true
   },
   "outputs": [
    {
     "data": {
      "image/png": "[encoded data removed]",
      "text/plain": [
       "<matplotlib.figure.Figure at 0x7faee9dc7d10>"
      ]
     },
     "metadata": {},
     "output_type": "display_data"
    }
   ],
   "source": [
    "plt.figure()\n",
    "plt.semilogx(kvec_short, y[0], 'ko')\n",
    "plt.hold(True)\n",
    "plt.semilogx(kvec_short, y[1], 'mo')\n",
    "#plt.savefig('./plots/y_testres.pdf')\n",
    "plt.show()"
   ]
  },
  {
   "cell_type": "code",
   "execution_count": 5,
   "metadata": {},
   "outputs": [
    {
     "data": {
      "image/png": "[encoded data removed]",
      "text/plain": [
       "<matplotlib.figure.Figure at 0x7faee9dc7090>"
      ]
     },
     "metadata": {},
     "output_type": "display_data"
    }
   ],
   "source": [
    "plt.figure()\n",
    "plt.loglog(kvec_short, np.abs((y[0]-y[1])/ y[1]), 'ko')\n",
    "#plt.savefig('./plots/y_testres_fracdiff.pdf')\n",
    "plt.show()"
   ]
  },
  {
   "cell_type": "code",
   "execution_count": null,
   "metadata": {
    "collapsed": true
   },
   "outputs": [],
   "source": []
  }
 ],
 "metadata": {
  "kernelspec": {
   "display_name": "Python 2",
   "language": "python",
   "name": "python2"
  },
  "language_info": {
   "codemirror_mode": {
    "name": "ipython",
    "version": 2
   },
   "file_extension": ".py",
   "mimetype": "text/x-python",
   "name": "python",
   "nbconvert_exporter": "python",
   "pygments_lexer": "ipython2",
   "version": "2.7.12"
  }
 },
 "nbformat": 4,
 "nbformat_minor": 2
}
