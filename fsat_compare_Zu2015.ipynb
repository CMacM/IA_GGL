{
 "cells": [
  {
   "cell_type": "code",
   "execution_count": 13,
   "metadata": {},
   "outputs": [],
   "source": [
    "%matplotlib inline\n",
    "import matplotlib.pyplot as plt\n",
    "import numpy as np\n",
    "import shared_functions_wlp_wls as shared\n",
    "import scipy.integrate\n",
    "from halotools.empirical_models import PrebuiltHodModelFactory\n",
    "import pyccl as ccl"
   ]
  },
  {
   "cell_type": "code",
   "execution_count": 2,
   "metadata": {
    "collapsed": true
   },
   "outputs": [],
   "source": [
    "SURVEY = 'SDSS'\n",
    "if (SURVEY=='SDSS'):\n",
    "    import params as pa\n",
    "elif (SURVEY=='LSST_DESI'):\n",
    "    import params_LSST_DESI as pa\n",
    "else:\n",
    "    print \"We don't have support for that survey yet; exiting.\"\n",
    "    exit()"
   ]
  },
  {
   "cell_type": "markdown",
   "metadata": {},
   "source": [
    "Goal: compare satellite fractions for a given stellar mass bin to those given in Table 1 of Zu & Mandelbaum 2015 using both our code and the PreBuilt model in HaloTools"
   ]
  },
  {
   "cell_type": "code",
   "execution_count": 3,
   "metadata": {
    "collapsed": true
   },
   "outputs": [],
   "source": [
    "# Define a halo mass range\n",
    "lgMh = np.linspace(9.0, 16.0, 100)\n",
    "Mh = 10**(lgMh)"
   ]
  },
  {
   "cell_type": "markdown",
   "metadata": {},
   "source": [
    "Define a series of $M_*^{\\rm low}$ values such that we get the bins in Table 1"
   ]
  },
  {
   "cell_type": "code",
   "execution_count": 4,
   "metadata": {
    "collapsed": true
   },
   "outputs": [],
   "source": [
    "lgMslow = np.asarray([8.5, 9.4, 9.8, 10.2, 10.6, 11, 11.2, 11.4, 12])\n",
    "Mslow = 10**(lgMslow)"
   ]
  },
  {
   "cell_type": "markdown",
   "metadata": {},
   "source": [
    "Get $<N_{\\rm sat}>$ and $<N_{\\rm cen}>$ from our code with each of these limiting stellar masses, and then subtract appropriately to get the values in stellar mass bins."
   ]
  },
  {
   "cell_type": "code",
   "execution_count": 21,
   "metadata": {},
   "outputs": [
    {
     "data": {
      "image/png": "[encoded data removed]",
      "text/plain": [
       "<matplotlib.figure.Figure at 0x7f3ae3ff5650>"
      ]
     },
     "metadata": {},
     "output_type": "display_data"
    }
   ],
   "source": [
    "Nsat_us = [0]*len(Mslow); Ncen_us = [0]*len(Mslow)\n",
    "for mi in range(0, len(Mslow)):\n",
    "    Nsat_us[mi] = shared.get_Nsat_Zu(Mh, Mslow[mi], 'tot', 'SDSS')\n",
    "    Ncen_us[mi] = shared.get_Ncen_Zu(Mh, Mslow[mi], 'SDSS')\n",
    "    \n",
    "plt.figure()\n",
    "plt.semilogy(lgMh, Nsat_us[-1])\n",
    "plt.ylim(0.01, 100)\n",
    "plt.xlim(11.5, 15.5)\n",
    "plt.show()\n",
    "    \n",
    "Nsat_bin_us = [0] * (len(Mslow)-1); Ncen_bin_us = [0] * (len(Mslow)-1)\n",
    "for mi in range(0,len(Mslow)-1):\n",
    "    Nsat_bin_us[mi] = Nsat_us[mi] - Nsat_us[mi+1]\n",
    "    Ncen_bin_us[mi] = Ncen_us[mi] - Ncen_us[mi+1]"
   ]
  },
  {
   "cell_type": "markdown",
   "metadata": {},
   "source": [
    "Set up and get the same from halotools"
   ]
  },
  {
   "cell_type": "code",
   "execution_count": 22,
   "metadata": {},
   "outputs": [
    {
     "data": {
      "image/png": "[encoded data removed]",
      "text/plain": [
       "<matplotlib.figure.Figure at 0x7f3ae3e4be50>"
      ]
     },
     "metadata": {},
     "output_type": "display_data"
    }
   ],
   "source": [
    "Nsat_HT = [0]*len(Mslow); Ncen_HT = [0]*len(Mslow);\n",
    "for mi in range(0,len(Mslow)):\n",
    "    model = PrebuiltHodModelFactory('zu_mandelbaum15', threshold = lgMslow[mi], prim_haloprop_key = 'halo_m200m')\n",
    "    Nsat_HT[mi] = model.mean_occupation_satellites(prim_haloprop=Mh)\n",
    "    Ncen_HT[mi] = model.mean_occupation_centrals(prim_haloprop=Mh)\n",
    "    \n",
    "Nsat_bin_HT = [0] * (len(Mslow)-1); Ncen_bin_HT = [0] * (len(Mslow)-1)\n",
    "for mi in range(0,len(Mslow)-1):\n",
    "    Nsat_bin_HT[mi] = Nsat_HT[mi] - Nsat_HT[mi+1]\n",
    "    Ncen_bin_HT[mi] = Ncen_HT[mi] - Ncen_HT[mi+1]\n",
    "    \n",
    "plt.figure()\n",
    "plt.semilogy(lgMh, Nsat_HT[-1])\n",
    "plt.ylim(0.01, 100)\n",
    "plt.xlim(11.5, 15.5)\n",
    "plt.show()"
   ]
  },
  {
   "cell_type": "markdown",
   "metadata": {},
   "source": [
    "Get the Tinker Halomass function from CCL at the appropriate redshifts for comparison."
   ]
  },
  {
   "cell_type": "code",
   "execution_count": 15,
   "metadata": {},
   "outputs": [],
   "source": [
    "#Initialize the cosmology\n",
    "p = ccl.Parameters(Omega_c = pa.OmC_s, Omega_b = pa.OmB_s, h = (pa.HH0_s/100.), sigma8=pa.sigma8_s, n_s=pa.n_s_s)\n",
    "cosmo = ccl.Cosmology(p)\n",
    "\n",
    "z_bin = np.asarray([0.02, 0.04, 0.06, 0.08, 0.1, 0.15, 0.17, 0.19])\n",
    "HMF = [0]*len(z_bin)\n",
    "for zi in range(0,len(HMF)):\n",
    "    HMF[zi]= ccl.massfunction.massfunc(cosmo, Mh / (pa.HH0_s/100.), 1./ (1. + z_bin[zi]), odelta=200.) / (pa.HH0_s/100.)**3"
   ]
  },
  {
   "cell_type": "markdown",
   "metadata": {
    "collapsed": true
   },
   "source": [
    "Integrate over the halo mass function to get the satellite fraction in each bin in both cases."
   ]
  },
  {
   "cell_type": "code",
   "execution_count": 17,
   "metadata": {
    "collapsed": true
   },
   "outputs": [],
   "source": [
    "fsat_us = np.zeros(len(z_bin)); fsat_HT = np.zeros(len(z_bin))\n",
    "for i in range(0,len(z_bin)):\n",
    "    nsat_tot_us = scipy.integrate.simps(HMF[i] * Nsat_bin_us[i], np.log10(Mh/(pa.HH0_s/100.)))\n",
    "    ncen_tot_us = scipy.integrate.simps(HMF[i] * Ncen_bin_us[i], np.log10(Mh/(pa.HH0_s/100.)))\n",
    "    ntot_us = nsat_tot_us + ncen_tot_us\n",
    "    fsat_us[i] = nsat_tot_us / ntot_us\n",
    "    \n",
    "    nsat_tot_HT = scipy.integrate.simps(HMF[i] * Nsat_bin_HT[i], np.log10(Mh/(pa.HH0_s/100.)))\n",
    "    ncen_tot_HT = scipy.integrate.simps(HMF[i] * Ncen_bin_HT[i], np.log10(Mh/(pa.HH0_s/100.)))\n",
    "    ntot_HT = nsat_tot_HT + ncen_tot_HT\n",
    "    fsat_HT[i] = nsat_tot_HT / ntot_HT"
   ]
  },
  {
   "cell_type": "markdown",
   "metadata": {},
   "source": [
    "What happens if I look at the satelite fraction in both cases for the thresholded bin at 9.8, roughly the SDSS sample?"
   ]
  },
  {
   "cell_type": "code",
   "execution_count": 29,
   "metadata": {},
   "outputs": [
    {
     "name": "stdout",
     "output_type": "stream",
     "text": [
      "fsat, SDSS us= 0.508565506593\n",
      "fsat, SDSS HT= 0.332190257066\n"
     ]
    }
   ],
   "source": [
    " HMF_SDSS= ccl.massfunction.massfunc(cosmo, Mh / (pa.HH0_s/100.), 1./ (1. + 0.28), odelta=200.) / (pa.HH0_s/100.)**3\n",
    "\n",
    "nsat_SDSS_us = scipy.integrate.simps(HMF_SDSS * Nsat_us[2], np.log10(Mh / (pa.HH0_s / 100.)))\n",
    "ncen_SDSS_us = scipy.integrate.simps(HMF_SDSS * Ncen_us[2], np.log10(Mh / (pa.HH0_s / 100.)))\n",
    "\n",
    "print \"fsat, SDSS us=\", nsat_SDSS_us / (ncen_SDSS_us + nsat_SDSS_us)\n",
    "\n",
    "nsat_SDSS_HT = scipy.integrate.simps(HMF_SDSS * Nsat_HT[2], np.log10(Mh / (pa.HH0_s / 100.)))\n",
    "ncen_SDSS_HT = scipy.integrate.simps(HMF_SDSS * Ncen_HT[2], np.log10(Mh / (pa.HH0_s / 100.)))\n",
    "\n",
    "print \"fsat, SDSS HT=\", nsat_SDSS_HT / (ncen_SDSS_HT + nsat_SDSS_HT)"
   ]
  },
  {
   "cell_type": "markdown",
   "metadata": {},
   "source": [
    "output these values"
   ]
  },
  {
   "cell_type": "code",
   "execution_count": 18,
   "metadata": {},
   "outputs": [
    {
     "name": "stdout",
     "output_type": "stream",
     "text": [
      "M= 8.5 - 9.4  fsat us= 0.621238261325 fsat HT= 0.00623306756781\n",
      "M= 9.4 - 9.8  fsat us= 0.630025212506 fsat HT= 0.390284056261\n",
      "M= 9.8 - 10.2  fsat us= 0.612449767253 fsat HT= 0.389858729725\n",
      "M= 10.2 - 10.6  fsat us= 0.550548731105 fsat HT= 0.373017985063\n",
      "M= 10.6 - 11.0  fsat us= 0.425363218604 fsat HT= 0.329791809627\n",
      "M= 11.0 - 11.2  fsat us= 0.28090789263 fsat HT= 0.284657673595\n",
      "M= 11.2 - 11.4  fsat us= 0.202736521275 fsat HT= 0.256309622356\n",
      "M= 11.4 - 12.0  fsat us= 0.135776891882 fsat HT= 0.20587168957\n"
     ]
    }
   ],
   "source": [
    "for i in range(0, len(z_bin)):\n",
    "    print \"M=\", lgMslow[i], \"-\", lgMslow[i+1], \" fsat us=\", fsat_us[i], \"fsat HT=\", fsat_HT[i]"
   ]
  },
  {
   "cell_type": "code",
   "execution_count": null,
   "metadata": {
    "collapsed": true
   },
   "outputs": [],
   "source": []
  }
 ],
 "metadata": {
  "kernelspec": {
   "display_name": "Python 2",
   "language": "python",
   "name": "python2"
  },
  "language_info": {
   "codemirror_mode": {
    "name": "ipython",
    "version": 2
   },
   "file_extension": ".py",
   "mimetype": "text/x-python",
   "name": "python",
   "nbconvert_exporter": "python",
   "pygments_lexer": "ipython2",
   "version": "2.7.12"
  }
 },
 "nbformat": 4,
 "nbformat_minor": 2
}
