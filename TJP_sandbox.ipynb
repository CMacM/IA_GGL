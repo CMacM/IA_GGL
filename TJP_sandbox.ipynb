{
 "cells": [
  {
   "cell_type": "code",
   "execution_count": 1,
   "id": "cf17e07a-d45c-4da2-81de-f88a0362f41d",
   "metadata": {
    "tags": []
   },
   "outputs": [],
   "source": [
    "import numpy as np\n",
    "import sacc\n",
    "import matplotlib.pyplot as plt\n",
    "import pyccl as ccl\n",
    "import scipy\n",
    "import importlib as imp\n",
    "\n",
    "import CM_code.spurious_george as sp\n",
    "imp.reload(sp)\n",
    "import CM_code.halo_model as halo\n",
    "imp.reload(halo)\n",
    "import CM_code.lsst_coZmology as zed\n",
    "imp.reload(zed)\n",
    "\n",
    "# import main.py from TJPCov folder\n",
    "import TJPCov.tjpcov as tjp"
   ]
  },
  {
   "cell_type": "code",
   "execution_count": 2,
   "id": "a709cb97-2c32-48b2-bf21-2e7f049f9419",
   "metadata": {},
   "outputs": [],
   "source": [
    "# import LSST SRD cosmology from CM modules\n",
    "cosmo = zed.cosmo_SRD\n",
    "\n",
    "# import frequently used values from spurious george\n",
    "th_min = sp.theta_min\n",
    "th_max = sp.theta_max\n",
    "th_bins = sp.theta_cents\n",
    "N_bins = sp.N_bins\n",
    "\n",
    "d2r = np.pi / 180."
   ]
  },
  {
   "cell_type": "markdown",
   "id": "e453f7a2-e661-4e7f-be54-fcf6e6d6ad43",
   "metadata": {},
   "source": [
    "### Let's start by creating $C_{gg}^{l}$"
   ]
  },
  {
   "cell_type": "code",
   "execution_count": 3,
   "id": "84040b47-1519-4188-85ae-2fc7682c4883",
   "metadata": {},
   "outputs": [],
   "source": [
    "ell = np.unique(np.geomspace(180/(sp.theta_max/60.) - 10, \n",
    "                             180/(sp.theta_min/60.) + 10, \n",
    "                             1024).astype(int))\n",
    "\n",
    "# compute angular power spectrum for galaxy-galaxy lensing\n",
    "Cl_gg, lensTracer, sourceTracer = sp.get_LSST_Cl(ell, 'gg')"
   ]
  },
  {
   "cell_type": "markdown",
   "id": "f9a6a821-6810-4aec-b777-a57547342c4e",
   "metadata": {
    "tags": []
   },
   "source": [
    "### Next we set all the parameter data that TJP will need"
   ]
  },
  {
   "cell_type": "code",
   "execution_count": 5,
   "id": "df597033-e873-4a97-ba96-5151df57a1ba",
   "metadata": {},
   "outputs": [],
   "source": [
    "Cgg_data = sacc.Sacc()\n",
    "Cgg_data.metadata['info'] = 'Cl_gg for LSST-like lenses and sources'\n",
    "\n",
    "Cgg_data.metadata['fsky'] = sp.pa.fsky # fsky from Danielle's LSST params\n",
    "\n",
    "# TJP wants theta in DEGREES\n",
    "Cgg_data.metadata['th_bins'] = th_bins/60.\n",
    "\n",
    "# WHAT IS GOING ON HERE??? - Q. still stands, didn't have time to talk about it\n",
    "th=np.logspace(np.log10(th_min*0.98),np.log10(1.),N_bins*30)\n",
    "th2=np.linspace(1.,th_max*1.02,N_bins*30) \n",
    "Cgg_data.metadata['th'] = np.unique(np.sort(np.append(th,th2)))\n",
    "\n",
    "# Add ell values to meta data\n",
    "Cgg_data.metadata['ell'] = ell\n",
    "Cgg_data.metadata['ell_bins'] = np.linspace(ell[0],ell[-1],60)\n",
    "\n",
    "thb=0.5*(Cgg_data.metadata['th_bins'][1:]+Cgg_data.metadata['th_bins'][:-1])"
   ]
  },
  {
   "cell_type": "markdown",
   "id": "256c93c0-08a4-424e-a9bb-5b41c6fd297a",
   "metadata": {},
   "source": [
    "### Now carry out the first part of the calculation, Wigner Transform"
   ]
  },
  {
   "cell_type": "code",
   "execution_count": 6,
   "id": "e57dcfa3-621c-407f-b4d2-9de75ffb89fb",
   "metadata": {},
   "outputs": [],
   "source": [
    "# Need to define spin of tracers for Wigner Transform\n",
    "# CHECK WITH DANIELLE: Both tracers are position tracers so spin 0?\n",
    "WT_factors={}\n",
    "WT_factors['lens','source']=(0,0)\n",
    "WT_factors['source','lens']=(0,0)\n",
    "WT_factors['lens','lens']=(0,0)\n",
    "WT_factors['source','source']=(0,0)"
   ]
  },
  {
   "cell_type": "code",
   "execution_count": 13,
   "id": "f67c79ab-0297-4224-a2a9-a6286c9f6e4c",
   "metadata": {},
   "outputs": [
    {
     "name": "stdout",
     "output_type": "stream",
     "text": [
      "CPU times: user 728 ms, sys: 1.94 s, total: 2.67 s\n",
      "Wall time: 3.52 s\n"
     ]
    }
   ],
   "source": [
    "# Set kwargs for Wigner Transform (fourier space transform so need theta and ell)\n",
    "WT_kwargs={'l': Cgg_data.metadata['ell'],\n",
    "           'theta': Cgg_data.metadata['th']*d2r, 's1_s2':[(0,0),(0,0),(0,0),(0,0)]}\n",
    "%time WT = tjp.wigner_transform(**WT_kwargs)"
   ]
  },
  {
   "cell_type": "code",
   "execution_count": 16,
   "id": "00d14e70-e6fa-469f-b5a3-e09ef0fa7abc",
   "metadata": {},
   "outputs": [],
   "source": [
    "# Define tracer noise (should be same for both as they are position tracers)\n",
    "Ngal = 3600. * n_s # Check this definition for Ngal\n",
    "tracer_noise = 1./ Ngal"
   ]
  },
  {
   "cell_type": "markdown",
   "id": "f577b562-2558-4396-ad8c-85ca8994b6aa",
   "metadata": {
    "tags": []
   },
   "source": [
    "### Finally, try compute the covariance matrix for Cl_gg\n",
    "- Need to figure out what the correct tracer combinations are\n",
    "\n",
    "    Ok, so we have: *lens-lens, source-lens, and source-source*"
   ]
  },
  {
   "cell_type": "code",
   "execution_count": 48,
   "id": "8578ce26-0d48-4a95-a2f8-1eff56055196",
   "metadata": {},
   "outputs": [],
   "source": [
    "# import redshift data and set K values of Pk calculations\n",
    "zl, dndz_l, zleff = zed.get_dndz_spec('lens')\n",
    "zs, dndz_s, zseff = zed.get_dndz_spec('source')\n",
    "\n",
    "a_l = 1. / (1. + zl)\n",
    "a_s = 1. / (1. + zs)\n",
    "\n",
    "k = np.geomspace(1E-4, 5E2, 3*sp.interp_len)"
   ]
  },
  {
   "cell_type": "code",
   "execution_count": 49,
   "id": "0e20b4d0-653f-4a4f-89b0-38f2ba614280",
   "metadata": {},
   "outputs": [
    {
     "name": "stdout",
     "output_type": "stream",
     "text": [
      "pk_ll done...\n",
      "pk_ls done...\n",
      "pk_ss done...\n",
      "returning: Pk_ll, Pk_ls, Pk_ss\n"
     ]
    }
   ],
   "source": [
    "pk_ll, pk_ls, pk_ss = halo.get_Pgg_2D(k, np.flip(a_l))"
   ]
  },
  {
   "cell_type": "code",
   "execution_count": 77,
   "id": "8d5aeb5c-8a3b-4d44-a4ef-c3406e658035",
   "metadata": {},
   "outputs": [
    {
     "name": "stdout",
     "output_type": "stream",
     "text": [
      "lensTracer sourceTracer\n",
      "position 00 = pk_ls\n",
      "lensTracer sourceTracer\n",
      "position 01 = pk_ls\n",
      "lensTracer sourceTracer\n",
      "position 10 = pk_ls\n",
      "lensTracer sourceTracer\n",
      "position 11 = pk_ls\n"
     ]
    }
   ],
   "source": [
    "#tracer_combs = [[lensTracer,lensTracer],[lensTracer,sourceTracer],[sourceTracer,sourceTracer]]\n",
    "tracer_combs = [['lensTracer','lensTracer'],['lensTracer','sourceTracer'],['sourceTracer','sourceTracer']]\n",
    "tracer_comb1 = tracer_combs[0]\n",
    "tracer_comb2 = tracer_combs[2]\n",
    "\n",
    "pk_arr = np.full((2, 2), fill_value=[[pk_ll, pk_ll], [pk_ll, pk_ll]])\n",
    "\n",
    "for i in range(2):\n",
    "    for j in range(2):\n",
    "        print(tracer_comb1[i],tracer_comb2[j])\n",
    "        if tracer_comb1[i] == lensTracer and tracer_comb2[j] == lensTracer:\n",
    "            pk_arr[i,j] = pk_ll\n",
    "            print('position %d%d = pk_ll'%(i,j))\n",
    "        elif tracer_comb1[i] == sourceTracer and tracer_comb2[j] == sourceTracer:\n",
    "            pk_arr[i,j] = pk_ss\n",
    "            print('position %d%d = pk_ss'%(i,j))\n",
    "        else:\n",
    "            pk_arr[i,j] = pk_ls\n",
    "            print('position %d%d = pk_ls'%(i,j))"
   ]
  },
  {
   "cell_type": "code",
   "execution_count": 57,
   "id": "a3e4b791-d2e6-4aa5-bd87-fe0dabda0b3f",
   "metadata": {},
   "outputs": [
    {
     "ename": "NameError",
     "evalue": "name 'tracer_comb1' is not defined",
     "output_type": "error",
     "traceback": [
      "\u001b[0;31m---------------------------------------------------------------------------\u001b[0m",
      "\u001b[0;31mNameError\u001b[0m                                 Traceback (most recent call last)",
      "Cell \u001b[0;32mIn [57], line 9\u001b[0m\n\u001b[1;32m      7\u001b[0m \u001b[38;5;28;01mfor\u001b[39;00m i \u001b[38;5;129;01min\u001b[39;00m \u001b[38;5;28mrange\u001b[39m(\u001b[38;5;241m2\u001b[39m):\n\u001b[1;32m      8\u001b[0m     \u001b[38;5;28;01mfor\u001b[39;00m j \u001b[38;5;129;01min\u001b[39;00m \u001b[38;5;28mrange\u001b[39m(\u001b[38;5;241m2\u001b[39m):\n\u001b[0;32m----> 9\u001b[0m         \u001b[38;5;28;01mif\u001b[39;00m \u001b[43mtracer_comb1\u001b[49m[i] \u001b[38;5;241m==\u001b[39m lensTracer \u001b[38;5;129;01mand\u001b[39;00m tracer_comb2[j] \u001b[38;5;241m==\u001b[39m lensTracer:\n\u001b[1;32m     10\u001b[0m             pk[i,j] \u001b[38;5;241m=\u001b[39m pk_ll\n\u001b[1;32m     11\u001b[0m         \u001b[38;5;28;01melif\u001b[39;00m tracer_comb1[i] \u001b[38;5;241m==\u001b[39m sourceTracer \u001b[38;5;129;01mand\u001b[39;00m tracer_comb2[j] \u001b[38;5;241m==\u001b[39m sourceTracer:\n",
      "\u001b[0;31mNameError\u001b[0m: name 'tracer_comb1' is not defined"
     ]
    }
   ],
   "source": [
    "# Next we can compute Clgg for each tracer combination\n",
    "ell = Cgg_data.metadata['ell']\n",
    "Cgg = {} \n",
    "    \n",
    "Cgg[13] = ccl.angular_cl(cosmo, tracer_comb1[0], tracer_comb2[0], ell)\n",
    "Cgg[24] = ccl.angular_cl(cosmo, tracer_comb1[1], tracer_comb2[1], ell)\n",
    "Cgg[14] = ccl.angular_cl(cosmo, tracer_comb1[0], tracer_comb2[1], ell)\n",
    "Cgg[23] = ccl.angular_cl(cosmo, tracer_comb1[1], tracer_comb2[0], ell)\n",
    "\n",
    "norm = (2*ell+1)*np.gradient(ell)*Cgg_data.metadata['fsky']\n",
    "\n"
   ]
  }
 ],
 "metadata": {
  "kernelspec": {
   "display_name": "Python [conda env:ccl_tjp]",
   "language": "python",
   "name": "conda-env-ccl_tjp-py"
  },
  "language_info": {
   "codemirror_mode": {
    "name": "ipython",
    "version": 3
   },
   "file_extension": ".py",
   "mimetype": "text/x-python",
   "name": "python",
   "nbconvert_exporter": "python",
   "pygments_lexer": "ipython3",
   "version": "3.9.15"
  }
 },
 "nbformat": 4,
 "nbformat_minor": 5
}
