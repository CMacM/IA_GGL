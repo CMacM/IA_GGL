{
 "cells": [
  {
   "cell_type": "code",
   "execution_count": null,
   "metadata": {},
   "outputs": [],
   "source": [
    "%pylab inline"
   ]
  },
  {
   "cell_type": "code",
   "execution_count": 15,
   "metadata": {},
   "outputs": [],
   "source": [
    "import pyccl as ccl\n",
    "import sacc\n",
    "import sys\n",
    "import numpy as np\n",
    "sys.path.append('../')\n",
    "import TJPCov.tjpcov as tjpcov"
   ]
  },
  {
   "cell_type": "code",
   "execution_count": 3,
   "metadata": {},
   "outputs": [
    {
     "data": {
      "text/plain": [
       "'2.5.1'"
      ]
     },
     "execution_count": 3,
     "metadata": {},
     "output_type": "execute_result"
    }
   ],
   "source": [
    "ccl.__version__"
   ]
  },
  {
   "cell_type": "code",
   "execution_count": 4,
   "metadata": {},
   "outputs": [],
   "source": [
    "cosmo = ccl.Cosmology(Omega_c = 0.27, Omega_b = 0.045, h = 0.67, sigma8 = 0.83, n_s = 0.96,transfer_function='boltzmann_class')"
   ]
  },
  {
   "cell_type": "code",
   "execution_count": 32,
   "metadata": {
    "collapsed": true,
    "jupyter": {
     "outputs_hidden": true
    },
    "tags": []
   },
   "outputs": [
    {
     "ename": "FileNotFoundError",
     "evalue": "[Errno 2] No such file or directory: 'TJPCov/twopoint_data.sacc'",
     "output_type": "error",
     "traceback": [
      "\u001b[0;31m---------------------------------------------------------------------------\u001b[0m",
      "\u001b[0;31mFileNotFoundError\u001b[0m                         Traceback (most recent call last)",
      "Cell \u001b[0;32mIn [32], line 1\u001b[0m\n\u001b[0;32m----> 1\u001b[0m twopoint_data \u001b[38;5;241m=\u001b[39m \u001b[43msacc\u001b[49m\u001b[38;5;241;43m.\u001b[39;49m\u001b[43mSacc\u001b[49m\u001b[38;5;241;43m.\u001b[39;49m\u001b[43mload_fits\u001b[49m\u001b[43m(\u001b[49m\u001b[38;5;124;43m'\u001b[39;49m\u001b[38;5;124;43mTJPCov/twopoint_data.sacc\u001b[39;49m\u001b[38;5;124;43m'\u001b[39;49m\u001b[43m)\u001b[49m \u001b[38;5;66;03m#provided by Emily Longley\u001b[39;00m\n\u001b[1;32m      2\u001b[0m twopoint_data\u001b[38;5;241m.\u001b[39mget_data_types()\n",
      "File \u001b[0;32m/nobackup/b7009348/miniconda3/envs/ccl_tjp/lib/python3.9/site-packages/sacc/sacc.py:853\u001b[0m, in \u001b[0;36mSacc.load_fits\u001b[0;34m(cls, filename)\u001b[0m\n\u001b[1;32m    840\u001b[0m \u001b[38;5;129m@classmethod\u001b[39m\n\u001b[1;32m    841\u001b[0m \u001b[38;5;28;01mdef\u001b[39;00m \u001b[38;5;21mload_fits\u001b[39m(\u001b[38;5;28mcls\u001b[39m, filename):\n\u001b[1;32m    842\u001b[0m     \u001b[38;5;124;03m\"\"\"\u001b[39;00m\n\u001b[1;32m    843\u001b[0m \u001b[38;5;124;03m    Load a Sacc data set from a FITS file.\u001b[39;00m\n\u001b[1;32m    844\u001b[0m \n\u001b[0;32m   (...)\u001b[0m\n\u001b[1;32m    851\u001b[0m \u001b[38;5;124;03m        A FITS format sacc file\u001b[39;00m\n\u001b[1;32m    852\u001b[0m \u001b[38;5;124;03m    \"\"\"\u001b[39;00m\n\u001b[0;32m--> 853\u001b[0m     hdu_list \u001b[38;5;241m=\u001b[39m \u001b[43mfits\u001b[49m\u001b[38;5;241;43m.\u001b[39;49m\u001b[43mopen\u001b[49m\u001b[43m(\u001b[49m\u001b[43mfilename\u001b[49m\u001b[43m,\u001b[49m\u001b[43m \u001b[49m\u001b[38;5;124;43m\"\u001b[39;49m\u001b[38;5;124;43mreadonly\u001b[39;49m\u001b[38;5;124;43m\"\u001b[39;49m\u001b[43m)\u001b[49m\n\u001b[1;32m    855\u001b[0m     \u001b[38;5;66;03m# Split the HDU's into the different sacc types\u001b[39;00m\n\u001b[1;32m    856\u001b[0m     tracer_tables \u001b[38;5;241m=\u001b[39m [Table\u001b[38;5;241m.\u001b[39mread(hdu)\n\u001b[1;32m    857\u001b[0m                      \u001b[38;5;28;01mfor\u001b[39;00m hdu \u001b[38;5;129;01min\u001b[39;00m hdu_list\n\u001b[1;32m    858\u001b[0m                      \u001b[38;5;28;01mif\u001b[39;00m hdu\u001b[38;5;241m.\u001b[39mheader\u001b[38;5;241m.\u001b[39mget(\u001b[38;5;124m'\u001b[39m\u001b[38;5;124mSACCTYPE\u001b[39m\u001b[38;5;124m'\u001b[39m) \u001b[38;5;241m==\u001b[39m \u001b[38;5;124m'\u001b[39m\u001b[38;5;124mtracer\u001b[39m\u001b[38;5;124m'\u001b[39m]\n",
      "File \u001b[0;32m/nobackup/b7009348/miniconda3/envs/ccl_tjp/lib/python3.9/site-packages/astropy/io/fits/hdu/hdulist.py:175\u001b[0m, in \u001b[0;36mfitsopen\u001b[0;34m(name, mode, memmap, save_backup, cache, lazy_load_hdus, ignore_missing_simple, **kwargs)\u001b[0m\n\u001b[1;32m    172\u001b[0m \u001b[38;5;28;01mif\u001b[39;00m \u001b[38;5;129;01mnot\u001b[39;00m name:\n\u001b[1;32m    173\u001b[0m     \u001b[38;5;28;01mraise\u001b[39;00m \u001b[38;5;167;01mValueError\u001b[39;00m(\u001b[38;5;124mf\u001b[39m\u001b[38;5;124m'\u001b[39m\u001b[38;5;124mEmpty filename: \u001b[39m\u001b[38;5;132;01m{\u001b[39;00mname\u001b[38;5;132;01m!r}\u001b[39;00m\u001b[38;5;124m'\u001b[39m)\n\u001b[0;32m--> 175\u001b[0m \u001b[38;5;28;01mreturn\u001b[39;00m \u001b[43mHDUList\u001b[49m\u001b[38;5;241;43m.\u001b[39;49m\u001b[43mfromfile\u001b[49m\u001b[43m(\u001b[49m\u001b[43mname\u001b[49m\u001b[43m,\u001b[49m\u001b[43m \u001b[49m\u001b[43mmode\u001b[49m\u001b[43m,\u001b[49m\u001b[43m \u001b[49m\u001b[43mmemmap\u001b[49m\u001b[43m,\u001b[49m\u001b[43m \u001b[49m\u001b[43msave_backup\u001b[49m\u001b[43m,\u001b[49m\u001b[43m \u001b[49m\u001b[43mcache\u001b[49m\u001b[43m,\u001b[49m\n\u001b[1;32m    176\u001b[0m \u001b[43m                        \u001b[49m\u001b[43mlazy_load_hdus\u001b[49m\u001b[43m,\u001b[49m\u001b[43m \u001b[49m\u001b[43mignore_missing_simple\u001b[49m\u001b[43m,\u001b[49m\u001b[43m \u001b[49m\u001b[38;5;241;43m*\u001b[39;49m\u001b[38;5;241;43m*\u001b[39;49m\u001b[43mkwargs\u001b[49m\u001b[43m)\u001b[49m\n",
      "File \u001b[0;32m/nobackup/b7009348/miniconda3/envs/ccl_tjp/lib/python3.9/site-packages/astropy/io/fits/hdu/hdulist.py:410\u001b[0m, in \u001b[0;36mHDUList.fromfile\u001b[0;34m(cls, fileobj, mode, memmap, save_backup, cache, lazy_load_hdus, ignore_missing_simple, **kwargs)\u001b[0m\n\u001b[1;32m    398\u001b[0m \u001b[38;5;129m@classmethod\u001b[39m\n\u001b[1;32m    399\u001b[0m \u001b[38;5;28;01mdef\u001b[39;00m \u001b[38;5;21mfromfile\u001b[39m(\u001b[38;5;28mcls\u001b[39m, fileobj, mode\u001b[38;5;241m=\u001b[39m\u001b[38;5;28;01mNone\u001b[39;00m, memmap\u001b[38;5;241m=\u001b[39m\u001b[38;5;28;01mNone\u001b[39;00m,\n\u001b[1;32m    400\u001b[0m              save_backup\u001b[38;5;241m=\u001b[39m\u001b[38;5;28;01mFalse\u001b[39;00m, cache\u001b[38;5;241m=\u001b[39m\u001b[38;5;28;01mTrue\u001b[39;00m, lazy_load_hdus\u001b[38;5;241m=\u001b[39m\u001b[38;5;28;01mTrue\u001b[39;00m,\n\u001b[1;32m    401\u001b[0m              ignore_missing_simple\u001b[38;5;241m=\u001b[39m\u001b[38;5;28;01mFalse\u001b[39;00m, \u001b[38;5;241m*\u001b[39m\u001b[38;5;241m*\u001b[39mkwargs):\n\u001b[1;32m    402\u001b[0m     \u001b[38;5;124;03m\"\"\"\u001b[39;00m\n\u001b[1;32m    403\u001b[0m \u001b[38;5;124;03m    Creates an `HDUList` instance from a file-like object.\u001b[39;00m\n\u001b[1;32m    404\u001b[0m \n\u001b[0;32m   (...)\u001b[0m\n\u001b[1;32m    407\u001b[0m \u001b[38;5;124;03m    documentation for details of the parameters accepted by this method).\u001b[39;00m\n\u001b[1;32m    408\u001b[0m \u001b[38;5;124;03m    \"\"\"\u001b[39;00m\n\u001b[0;32m--> 410\u001b[0m     \u001b[38;5;28;01mreturn\u001b[39;00m \u001b[38;5;28;43mcls\u001b[39;49m\u001b[38;5;241;43m.\u001b[39;49m\u001b[43m_readfrom\u001b[49m\u001b[43m(\u001b[49m\u001b[43mfileobj\u001b[49m\u001b[38;5;241;43m=\u001b[39;49m\u001b[43mfileobj\u001b[49m\u001b[43m,\u001b[49m\u001b[43m \u001b[49m\u001b[43mmode\u001b[49m\u001b[38;5;241;43m=\u001b[39;49m\u001b[43mmode\u001b[49m\u001b[43m,\u001b[49m\u001b[43m \u001b[49m\u001b[43mmemmap\u001b[49m\u001b[38;5;241;43m=\u001b[39;49m\u001b[43mmemmap\u001b[49m\u001b[43m,\u001b[49m\n\u001b[1;32m    411\u001b[0m \u001b[43m                         \u001b[49m\u001b[43msave_backup\u001b[49m\u001b[38;5;241;43m=\u001b[39;49m\u001b[43msave_backup\u001b[49m\u001b[43m,\u001b[49m\u001b[43m \u001b[49m\u001b[43mcache\u001b[49m\u001b[38;5;241;43m=\u001b[39;49m\u001b[43mcache\u001b[49m\u001b[43m,\u001b[49m\n\u001b[1;32m    412\u001b[0m \u001b[43m                         \u001b[49m\u001b[43mignore_missing_simple\u001b[49m\u001b[38;5;241;43m=\u001b[39;49m\u001b[43mignore_missing_simple\u001b[49m\u001b[43m,\u001b[49m\n\u001b[1;32m    413\u001b[0m \u001b[43m                         \u001b[49m\u001b[43mlazy_load_hdus\u001b[49m\u001b[38;5;241;43m=\u001b[39;49m\u001b[43mlazy_load_hdus\u001b[49m\u001b[43m,\u001b[49m\u001b[43m \u001b[49m\u001b[38;5;241;43m*\u001b[39;49m\u001b[38;5;241;43m*\u001b[39;49m\u001b[43mkwargs\u001b[49m\u001b[43m)\u001b[49m\n",
      "File \u001b[0;32m/nobackup/b7009348/miniconda3/envs/ccl_tjp/lib/python3.9/site-packages/astropy/io/fits/hdu/hdulist.py:1062\u001b[0m, in \u001b[0;36mHDUList._readfrom\u001b[0;34m(cls, fileobj, data, mode, memmap, cache, lazy_load_hdus, ignore_missing_simple, **kwargs)\u001b[0m\n\u001b[1;32m   1059\u001b[0m \u001b[38;5;28;01mif\u001b[39;00m fileobj \u001b[38;5;129;01mis\u001b[39;00m \u001b[38;5;129;01mnot\u001b[39;00m \u001b[38;5;28;01mNone\u001b[39;00m:\n\u001b[1;32m   1060\u001b[0m     \u001b[38;5;28;01mif\u001b[39;00m \u001b[38;5;129;01mnot\u001b[39;00m \u001b[38;5;28misinstance\u001b[39m(fileobj, _File):\n\u001b[1;32m   1061\u001b[0m         \u001b[38;5;66;03m# instantiate a FITS file object (ffo)\u001b[39;00m\n\u001b[0;32m-> 1062\u001b[0m         fileobj \u001b[38;5;241m=\u001b[39m \u001b[43m_File\u001b[49m\u001b[43m(\u001b[49m\u001b[43mfileobj\u001b[49m\u001b[43m,\u001b[49m\u001b[43m \u001b[49m\u001b[43mmode\u001b[49m\u001b[38;5;241;43m=\u001b[39;49m\u001b[43mmode\u001b[49m\u001b[43m,\u001b[49m\u001b[43m \u001b[49m\u001b[43mmemmap\u001b[49m\u001b[38;5;241;43m=\u001b[39;49m\u001b[43mmemmap\u001b[49m\u001b[43m,\u001b[49m\u001b[43m \u001b[49m\u001b[43mcache\u001b[49m\u001b[38;5;241;43m=\u001b[39;49m\u001b[43mcache\u001b[49m\u001b[43m)\u001b[49m\n\u001b[1;32m   1063\u001b[0m     \u001b[38;5;66;03m# The Astropy mode is determined by the _File initializer if the\u001b[39;00m\n\u001b[1;32m   1064\u001b[0m     \u001b[38;5;66;03m# supplied mode was None\u001b[39;00m\n\u001b[1;32m   1065\u001b[0m     mode \u001b[38;5;241m=\u001b[39m fileobj\u001b[38;5;241m.\u001b[39mmode\n",
      "File \u001b[0;32m/nobackup/b7009348/miniconda3/envs/ccl_tjp/lib/python3.9/site-packages/astropy/io/fits/file.py:170\u001b[0m, in \u001b[0;36m_File.__init__\u001b[0;34m(self, fileobj, mode, memmap, overwrite, cache)\u001b[0m\n\u001b[1;32m    168\u001b[0m     \u001b[38;5;28mself\u001b[39m\u001b[38;5;241m.\u001b[39m_open_fileobj(fileobj, mode, overwrite)\n\u001b[1;32m    169\u001b[0m \u001b[38;5;28;01melif\u001b[39;00m \u001b[38;5;28misinstance\u001b[39m(fileobj, (\u001b[38;5;28mstr\u001b[39m, \u001b[38;5;28mbytes\u001b[39m)):\n\u001b[0;32m--> 170\u001b[0m     \u001b[38;5;28;43mself\u001b[39;49m\u001b[38;5;241;43m.\u001b[39;49m\u001b[43m_open_filename\u001b[49m\u001b[43m(\u001b[49m\u001b[43mfileobj\u001b[49m\u001b[43m,\u001b[49m\u001b[43m \u001b[49m\u001b[43mmode\u001b[49m\u001b[43m,\u001b[49m\u001b[43m \u001b[49m\u001b[43moverwrite\u001b[49m\u001b[43m)\u001b[49m\n\u001b[1;32m    171\u001b[0m \u001b[38;5;28;01melse\u001b[39;00m:\n\u001b[1;32m    172\u001b[0m     \u001b[38;5;28mself\u001b[39m\u001b[38;5;241m.\u001b[39m_open_filelike(fileobj, mode, overwrite)\n",
      "File \u001b[0;32m/nobackup/b7009348/miniconda3/envs/ccl_tjp/lib/python3.9/site-packages/astropy/io/fits/file.py:562\u001b[0m, in \u001b[0;36m_File._open_filename\u001b[0;34m(self, filename, mode, overwrite)\u001b[0m\n\u001b[1;32m    559\u001b[0m ext \u001b[38;5;241m=\u001b[39m os\u001b[38;5;241m.\u001b[39mpath\u001b[38;5;241m.\u001b[39msplitext(\u001b[38;5;28mself\u001b[39m\u001b[38;5;241m.\u001b[39mname)[\u001b[38;5;241m1\u001b[39m]\n\u001b[1;32m    561\u001b[0m \u001b[38;5;28;01mif\u001b[39;00m \u001b[38;5;129;01mnot\u001b[39;00m \u001b[38;5;28mself\u001b[39m\u001b[38;5;241m.\u001b[39m_try_read_compressed(\u001b[38;5;28mself\u001b[39m\u001b[38;5;241m.\u001b[39mname, magic, mode, ext\u001b[38;5;241m=\u001b[39mext):\n\u001b[0;32m--> 562\u001b[0m     \u001b[38;5;28mself\u001b[39m\u001b[38;5;241m.\u001b[39m_file \u001b[38;5;241m=\u001b[39m \u001b[38;5;28;43mopen\u001b[39;49m\u001b[43m(\u001b[49m\u001b[38;5;28;43mself\u001b[39;49m\u001b[38;5;241;43m.\u001b[39;49m\u001b[43mname\u001b[49m\u001b[43m,\u001b[49m\u001b[43m \u001b[49m\u001b[43mIO_FITS_MODES\u001b[49m\u001b[43m[\u001b[49m\u001b[43mmode\u001b[49m\u001b[43m]\u001b[49m\u001b[43m)\u001b[49m\n\u001b[1;32m    563\u001b[0m     \u001b[38;5;28mself\u001b[39m\u001b[38;5;241m.\u001b[39mclose_on_error \u001b[38;5;241m=\u001b[39m \u001b[38;5;28;01mTrue\u001b[39;00m\n\u001b[1;32m    565\u001b[0m \u001b[38;5;66;03m# Make certain we're back at the beginning of the file\u001b[39;00m\n\u001b[1;32m    566\u001b[0m \u001b[38;5;66;03m# BZ2File does not support seek when the file is open for writing, but\u001b[39;00m\n\u001b[1;32m    567\u001b[0m \u001b[38;5;66;03m# when opening a file for write, bz2.BZ2File always truncates anyway.\u001b[39;00m\n",
      "\u001b[0;31mFileNotFoundError\u001b[0m: [Errno 2] No such file or directory: 'TJPCov/twopoint_data.sacc'"
     ]
    }
   ],
   "source": [
    "twopoint_data = sacc.Sacc.load_fits('TJPCov/twopoint_data.sacc') #provided by Emily Longley\n",
    "twopoint_data.get_data_types()\n",
    "# Angular Cl is calculated later on"
   ]
  },
  {
   "cell_type": "code",
   "execution_count": 14,
   "metadata": {},
   "outputs": [
    {
     "data": {
      "text/plain": [
       "{'source_0': <sacc.tracers.NZTracer at 0x7fb3ca1bc0a0>,\n",
       " 'source_1': <sacc.tracers.NZTracer at 0x7fb3ca1bc520>,\n",
       " 'source_2': <sacc.tracers.NZTracer at 0x7fb3ca1bc790>,\n",
       " 'source_3': <sacc.tracers.NZTracer at 0x7fb3ca1bcb50>,\n",
       " 'lens_0': <sacc.tracers.NZTracer at 0x7fb3ca1bc250>}"
      ]
     },
     "execution_count": 14,
     "metadata": {},
     "output_type": "execute_result"
    }
   ],
   "source": [
    "twopoint_data.tracers\n",
    "# Only has z and dndz in it I think? Perhaps don't need to put anything in SACC?"
   ]
  },
  {
   "cell_type": "code",
   "execution_count": 7,
   "metadata": {},
   "outputs": [],
   "source": [
    "twopoint_data.metadata['fsky']=0.3"
   ]
  },
  {
   "cell_type": "code",
   "execution_count": 10,
   "metadata": {},
   "outputs": [],
   "source": [
    "d2r=np.pi/180"
   ]
  },
  {
   "cell_type": "code",
   "execution_count": 16,
   "metadata": {},
   "outputs": [],
   "source": [
    "#FIXME: ell_bins and th_bins should be passed by sacc. ell0 and th can be decided based on binning or can also be passed by sacc.\n",
    "twopoint_data.metadata['ell']=np.arange(2,500)\n",
    "twopoint_data.metadata['ell_bins']=np.arange(2,500,20)\n",
    "th_min=2.5/60 # in degrees\n",
    "th_max=250./60\n",
    "n_th_bins=20\n",
    "twopoint_data.metadata['th_bins']=np.logspace(np.log10(th_min),np.log10(th_max),n_th_bins+1)\n",
    "\n",
    "th=np.logspace(np.log10(th_min*0.98),np.log10(1),n_th_bins*30) #covariance is oversampled at th values and then binned.\n",
    "th2=np.linspace(1,th_max*1.02,n_th_bins*30) #binned covariance can be sensitive to the th values. Make sue you check convergence for your application\n",
    "# th2=np.logspace(np.log10(1),np.log10(th_max),60*6)\n",
    "twopoint_data.metadata['th']=np.unique(np.sort(np.append(th,th2)))\n",
    "thb=0.5*(twopoint_data.metadata['th_bins'][1:]+twopoint_data.metadata['th_bins'][:-1])"
   ]
  },
  {
   "cell_type": "code",
   "execution_count": 17,
   "metadata": {},
   "outputs": [],
   "source": [
    "#The spin based factor to decide the wigner transform. Based on spin of tracers. Sometimes we may use s1_s2 to denote these factors\n",
    "WT_factors={}\n",
    "WT_factors['lens','source']=(0,2)\n",
    "WT_factors['source','lens']=(2,0) #same as (0,2)\n",
    "WT_factors['source','source']={'plus':(2,2),'minus':(2,-2)}\n",
    "WT_factors['lens','lens']=(0,0)"
   ]
  },
  {
   "cell_type": "code",
   "execution_count": 18,
   "metadata": {},
   "outputs": [
    {
     "name": "stdout",
     "output_type": "stream",
     "text": [
      "CPU times: user 655 ms, sys: 2.08 s, total: 2.74 s\n",
      "Wall time: 2.96 s\n"
     ]
    }
   ],
   "source": [
    "#### Wigner Transform setup... \n",
    "WT_kwargs={'l': twopoint_data.metadata['ell'],'theta': twopoint_data.metadata['th']*d2r,'s1_s2':[(2,2),(2,-2),(0,2),(2,0),(0,0)]}\n",
    "%time WT=tjpcov.wigner_transform(**WT_kwargs)"
   ]
  },
  {
   "cell_type": "code",
   "execution_count": 28,
   "metadata": {},
   "outputs": [],
   "source": [
    "tracer_combs = twopoint_data.get_tracer_combinations()"
   ]
  },
  {
   "cell_type": "code",
   "execution_count": 31,
   "metadata": {},
   "outputs": [
    {
     "data": {
      "text/plain": [
       "[('lens_0', 'lens_0'),\n",
       " ('source_0', 'lens_0'),\n",
       " ('source_1', 'lens_0'),\n",
       " ('source_2', 'lens_0'),\n",
       " ('source_3', 'lens_0'),\n",
       " ('source_0', 'source_0'),\n",
       " ('source_1', 'source_0'),\n",
       " ('source_1', 'source_1'),\n",
       " ('source_2', 'source_0'),\n",
       " ('source_2', 'source_1'),\n",
       " ('source_2', 'source_2'),\n",
       " ('source_3', 'source_0'),\n",
       " ('source_3', 'source_1'),\n",
       " ('source_3', 'source_2'),\n",
       " ('source_3', 'source_3')]"
      ]
     },
     "execution_count": 31,
     "metadata": {},
     "output_type": "execute_result"
    }
   ],
   "source": [
    "tracer_combs"
   ]
  },
  {
   "cell_type": "code",
   "execution_count": 20,
   "metadata": {},
   "outputs": [
    {
     "data": {
      "text/plain": [
       "['galaxy_density_xi',\n",
       " 'galaxy_shearDensity_xi_t',\n",
       " 'galaxy_shear_xi_minus',\n",
       " 'galaxy_shear_xi_plus']"
      ]
     },
     "execution_count": 20,
     "metadata": {},
     "output_type": "execute_result"
    }
   ],
   "source": [
    "twopoint_data.get_data_types()"
   ]
  },
  {
   "cell_type": "code",
   "execution_count": 21,
   "metadata": {},
   "outputs": [
    {
     "data": {
      "text/plain": [
       "{'source_0': <sacc.tracers.NZTracer at 0x7fb3ca1bc0a0>,\n",
       " 'source_1': <sacc.tracers.NZTracer at 0x7fb3ca1bc520>,\n",
       " 'source_2': <sacc.tracers.NZTracer at 0x7fb3ca1bc790>,\n",
       " 'source_3': <sacc.tracers.NZTracer at 0x7fb3ca1bcb50>,\n",
       " 'lens_0': <sacc.tracers.NZTracer at 0x7fb3ca1bc250>}"
      ]
     },
     "execution_count": 21,
     "metadata": {},
     "output_type": "execute_result"
    }
   ],
   "source": [
    "twopoint_data.tracers"
   ]
  },
  {
   "cell_type": "code",
   "execution_count": 22,
   "metadata": {},
   "outputs": [],
   "source": [
    "#this function will generate and return CCL_tracer objects and also compute the noise for all the tracers\n",
    "def get_tracer_info(two_point_data={}):\n",
    "    ccl_tracers={}\n",
    "    tracer_Noise={}\n",
    "    for tracer in twopoint_data.tracers:\n",
    "        tracer_dat=twopoint_data.get_tracer(tracer)\n",
    "        z= tracer_dat.z\n",
    "        #FIXME: Following should be read from sacc dataset.\n",
    "        Ngal = 26. #arc_min^2\n",
    "        sigma_e=.26 #shape noise per component.\n",
    "        b = 1.5*np.ones(len(z)) #Galaxy bias (constant with scale and z)\n",
    "        AI = .5*np.ones(len(z)) #Galaxy bias (constant with scale and z)\n",
    "        Ngal=Ngal*3600/d2r**2\n",
    "        #red_frac=0.2*np.ones(len(z))\n",
    "        \n",
    "        dNdz = tracer_dat.nz\n",
    "        dNdz/=(dNdz*np.gradient(z)).sum()\n",
    "        dNdz*=Ngal\n",
    "        \n",
    "        if 'source' in tracer:  \n",
    "            ccl_tracers[tracer]=ccl.WeakLensingTracer(cosmo, dndz=(z, dNdz),ia_bias=(z,AI)) #CCL automatically normalizes dNdz\n",
    "            tracer_Noise[tracer]=sigma_e**2/Ngal\n",
    "        elif 'lens' in tracer:\n",
    "            tracer_Noise[tracer]=1./Ngal\n",
    "            ccl_tracers[tracer]=ccl.NumberCountsTracer(cosmo, has_rsd=False, dndz=(z,dNdz), bias=(z,b))\n",
    "    return ccl_tracers,tracer_Noise"
   ]
  },
  {
   "cell_type": "code",
   "execution_count": 23,
   "metadata": {},
   "outputs": [],
   "source": [
    "def get_cov_WT_spin(tracer_comb=None):\n",
    "    tracers=tuple(i.split('_')[0] for i in tracer_comb)\n",
    "    return WT_factors[tracers]"
   ]
  },
  {
   "cell_type": "code",
   "execution_count": 24,
   "metadata": {},
   "outputs": [],
   "source": [
    "#compute a single covariance matrix for a given pair of C_ell or xi.  \n",
    "def cl_gaussian_cov(tracer_comb1=None,tracer_comb2=None,ccl_tracers=None,tracer_Noise=None,two_point_data=None,do_xi=False,\n",
    "                    xi_plus_minus1='plus',xi_plus_minus2='plus'):  \n",
    "    #fsky should be read from the sacc\n",
    "    #tracers 1,2,3,4=tracer_comb1[0],tracer_comb1[1],tracer_comb2[0],tracer_comb2[1]\n",
    "    ell=two_point_data.metadata['ell']\n",
    "    cl={}\n",
    "    cl[13] = ccl.angular_cl(cosmo, ccl_tracers[tracer_comb1[0]], ccl_tracers[tracer_comb2[0]], ell)\n",
    "    cl[24] = ccl.angular_cl(cosmo, ccl_tracers[tracer_comb1[1]], ccl_tracers[tracer_comb2[1]], ell)\n",
    "    cl[14] = ccl.angular_cl(cosmo, ccl_tracers[tracer_comb1[0]], ccl_tracers[tracer_comb2[1]], ell)\n",
    "    cl[23] = ccl.angular_cl(cosmo, ccl_tracers[tracer_comb1[1]], ccl_tracers[tracer_comb2[0]], ell)\n",
    "    \n",
    "    SN={}\n",
    "    SN[13]=tracer_Noise[tracer_comb1[0]] if tracer_comb1[0]==tracer_comb2[0]  else 0\n",
    "    SN[24]=tracer_Noise[tracer_comb1[1]] if tracer_comb1[1]==tracer_comb2[1]  else 0\n",
    "    SN[14]=tracer_Noise[tracer_comb1[0]] if tracer_comb1[0]==tracer_comb2[1]  else 0\n",
    "    SN[23]=tracer_Noise[tracer_comb1[1]] if tracer_comb1[1]==tracer_comb2[0]  else 0\n",
    "    \n",
    "    if do_xi:\n",
    "        norm=np.pi*4*two_point_data.metadata['fsky']\n",
    "    else: #do c_ell\n",
    "        norm=(2*ell+1)*np.gradient(ell)*two_point_data.metadata['fsky']\n",
    "\n",
    "    coupling_mat={}\n",
    "    coupling_mat[1324]=np.eye(len(ell)) #placeholder\n",
    "    coupling_mat[1423]=np.eye(len(ell)) #placeholder\n",
    "    \n",
    "    cov={}\n",
    "    cov[1324]=np.outer(cl[13]+SN[13],cl[24]+SN[24])*coupling_mat[1324]\n",
    "    cov[1423]=np.outer(cl[14]+SN[14],cl[23]+SN[23])*coupling_mat[1423]\n",
    "    \n",
    "    if self.do_xi and np.all(np.array(tracers)=='shear'): #this add the B-mode shape noise contribution. We assume B-mode power (C_ell) is 0\n",
    "        Bmode_F=1\n",
    "        if xi_plus_minus1!=xi_plus_minus2:\n",
    "            Bmode_F=-1 #in the cross term, this contribution is subtracted. eq. 29-31 of https://arxiv.org/pdf/0708.0387.pdf\n",
    "        cov[1324]+=np.outer(cl[13]*0+SN[13],cl[24]*0+SN[24])*coupling_mat[1324]*Bmode_F\n",
    "        cov[1423]+=np.outer(cl[14]*0+SN[14],cl[23]*0+SN[23])*coupling_mat[1423]*Bmode_F\n",
    "        \n",
    "    cov['final']=cov[1423]+cov[1324]\n",
    "    \n",
    "    if do_xi:\n",
    "        s1_s2_1=get_cov_WT_spin(tracer_comb=tracer_comb1)\n",
    "        s1_s2_2=get_cov_WT_spin(tracer_comb=tracer_comb2)\n",
    "        \n",
    "        if isinstance(s1_s2_1,dict):\n",
    "            s1_s2_1=s1_s2_1[xi_plus_minus1] \n",
    "        if isinstance(s1_s2_2,dict):\n",
    "            s1_s2_2=s1_s2_2[xi_plus_minus2]\n",
    "            \n",
    "        th,cov['final']=WT.projected_covariance2(l_cl=ell,s1_s2=s1_s2_1, s1_s2_cross=s1_s2_2,\n",
    "                                                      cl_cov=cov['final'])\n",
    "\n",
    "    cov['final']/=norm\n",
    "    \n",
    "    if do_xi:\n",
    "        thb,cov['final_b']=tjpcov.bin_cov(r=th/d2r,r_bins=two_point_data.metadata['th_bins'],cov=cov['final']) \n",
    "    else:\n",
    "        if two_point_data.metadata['ell_bins'] is not None:\n",
    "            lb,cov['final_b']=tjpcov.bin_cov(r=ell,r_bins=two_point_data.metadata['ell_bins'],cov=cov['final']) \n",
    "            \n",
    "#     cov[1324]=None #if want to save memory\n",
    "#     cov[1423]=None #if want to save memory\n",
    "    return cov"
   ]
  },
  {
   "cell_type": "code",
   "execution_count": 25,
   "metadata": {},
   "outputs": [],
   "source": [
    "#compute all the covariances and then combine them into one single giant matrix\n",
    "def get_all_cov(two_point_data={},do_xi=False):\n",
    "    #FIXME: Only input needed should be two_point_data, which is the sacc data file. Other parameters should be included within sacc and read from there.\n",
    "    ccl_tracers,tracer_Noise=get_tracer_info(two_point_data=two_point_data)\n",
    "    tracer_combs=two_point_data.get_tracer_combinations()# we will loop over all these\n",
    "    N2pt=len(tracer_combs)\n",
    "    if two_point_data.metadata['ell_bins'] is not None:\n",
    "        Nell_bins=len(two_point_data.metadata['ell_bins'])-1\n",
    "    else:\n",
    "        Nell_bins=len(two_point_data.metadata['ell'])\n",
    "    if do_xi:\n",
    "        Nell_bins=len(two_point_data.metadata['th_bins'])-1\n",
    "    cov_full=np.zeros((Nell_bins*N2pt,Nell_bins*N2pt))\n",
    "    for i in np.arange(N2pt):\n",
    "        print(\"{}/{}\".format(i+1, N2pt))\n",
    "        tracer_comb1=tracer_combs[i]\n",
    "        indx_i=i*Nell_bins\n",
    "        for j in np.arange(i,N2pt):\n",
    "            tracer_comb2=tracer_combs[j]\n",
    "            indx_j=j*Nell_bins\n",
    "            cov_ij=cl_gaussian_cov(tracer_comb1=tracer_comb1,tracer_comb2=tracer_comb2,ccl_tracers=ccl_tracers,\n",
    "                                        tracer_Noise=tracer_Noise,do_xi=do_xi,two_point_data=two_point_data)\n",
    "            if do_xi or two_point_data.metadata['ell_bins'] is not None:\n",
    "                cov_ij=cov_ij['final_b']\n",
    "            else:\n",
    "                cov_ij=cov_ij['final']\n",
    "            cov_full[indx_i:indx_i+Nell_bins,indx_j:indx_j+Nell_bins]=cov_ij\n",
    "            cov_full[indx_j:indx_j+Nell_bins,indx_i:indx_i+Nell_bins]=cov_ij.T\n",
    "    return cov_full"
   ]
  },
  {
   "cell_type": "code",
   "execution_count": 26,
   "metadata": {},
   "outputs": [
    {
     "name": "stdout",
     "output_type": "stream",
     "text": [
      "1/15\n"
     ]
    },
    {
     "ename": "ModuleNotFoundError",
     "evalue": "No module named 'classy'",
     "output_type": "error",
     "traceback": [
      "\u001b[0;31m---------------------------------------------------------------------------\u001b[0m",
      "\u001b[0;31mModuleNotFoundError\u001b[0m                       Traceback (most recent call last)",
      "Cell \u001b[0;32mIn [26], line 2\u001b[0m\n\u001b[1;32m      1\u001b[0m \u001b[38;5;66;03m#C_ell covariance\u001b[39;00m\n\u001b[0;32m----> 2\u001b[0m cov_cl\u001b[38;5;241m=\u001b[39m\u001b[43mget_all_cov\u001b[49m\u001b[43m(\u001b[49m\u001b[43mtwo_point_data\u001b[49m\u001b[38;5;241;43m=\u001b[39;49m\u001b[43mtwopoint_data\u001b[49m\u001b[43m,\u001b[49m\u001b[43mdo_xi\u001b[49m\u001b[38;5;241;43m=\u001b[39;49m\u001b[38;5;28;43;01mFalse\u001b[39;49;00m\u001b[43m)\u001b[49m\n\u001b[1;32m      3\u001b[0m \u001b[38;5;66;03m#xi covariance .... right now shear-shear is xi+ only. xi- needs to be added in the loops.\u001b[39;00m\n\u001b[1;32m      4\u001b[0m cov_xi\u001b[38;5;241m=\u001b[39mget_all_cov(two_point_data\u001b[38;5;241m=\u001b[39mtwopoint_data,do_xi\u001b[38;5;241m=\u001b[39m\u001b[38;5;28;01mTrue\u001b[39;00m)\n",
      "Cell \u001b[0;32mIn [25], line 21\u001b[0m, in \u001b[0;36mget_all_cov\u001b[0;34m(two_point_data, do_xi)\u001b[0m\n\u001b[1;32m     19\u001b[0m tracer_comb2\u001b[38;5;241m=\u001b[39mtracer_combs[j]\n\u001b[1;32m     20\u001b[0m indx_j\u001b[38;5;241m=\u001b[39mj\u001b[38;5;241m*\u001b[39mNell_bins\n\u001b[0;32m---> 21\u001b[0m cov_ij\u001b[38;5;241m=\u001b[39m\u001b[43mcl_gaussian_cov\u001b[49m\u001b[43m(\u001b[49m\u001b[43mtracer_comb1\u001b[49m\u001b[38;5;241;43m=\u001b[39;49m\u001b[43mtracer_comb1\u001b[49m\u001b[43m,\u001b[49m\u001b[43mtracer_comb2\u001b[49m\u001b[38;5;241;43m=\u001b[39;49m\u001b[43mtracer_comb2\u001b[49m\u001b[43m,\u001b[49m\u001b[43mccl_tracers\u001b[49m\u001b[38;5;241;43m=\u001b[39;49m\u001b[43mccl_tracers\u001b[49m\u001b[43m,\u001b[49m\n\u001b[1;32m     22\u001b[0m \u001b[43m                            \u001b[49m\u001b[43mtracer_Noise\u001b[49m\u001b[38;5;241;43m=\u001b[39;49m\u001b[43mtracer_Noise\u001b[49m\u001b[43m,\u001b[49m\u001b[43mdo_xi\u001b[49m\u001b[38;5;241;43m=\u001b[39;49m\u001b[43mdo_xi\u001b[49m\u001b[43m,\u001b[49m\u001b[43mtwo_point_data\u001b[49m\u001b[38;5;241;43m=\u001b[39;49m\u001b[43mtwo_point_data\u001b[49m\u001b[43m)\u001b[49m\n\u001b[1;32m     23\u001b[0m \u001b[38;5;28;01mif\u001b[39;00m do_xi \u001b[38;5;129;01mor\u001b[39;00m two_point_data\u001b[38;5;241m.\u001b[39mmetadata[\u001b[38;5;124m'\u001b[39m\u001b[38;5;124mell_bins\u001b[39m\u001b[38;5;124m'\u001b[39m] \u001b[38;5;129;01mis\u001b[39;00m \u001b[38;5;129;01mnot\u001b[39;00m \u001b[38;5;28;01mNone\u001b[39;00m:\n\u001b[1;32m     24\u001b[0m     cov_ij\u001b[38;5;241m=\u001b[39mcov_ij[\u001b[38;5;124m'\u001b[39m\u001b[38;5;124mfinal_b\u001b[39m\u001b[38;5;124m'\u001b[39m]\n",
      "Cell \u001b[0;32mIn [24], line 8\u001b[0m, in \u001b[0;36mcl_gaussian_cov\u001b[0;34m(tracer_comb1, tracer_comb2, ccl_tracers, tracer_Noise, two_point_data, do_xi, xi_plus_minus1, xi_plus_minus2)\u001b[0m\n\u001b[1;32m      6\u001b[0m ell\u001b[38;5;241m=\u001b[39mtwo_point_data\u001b[38;5;241m.\u001b[39mmetadata[\u001b[38;5;124m'\u001b[39m\u001b[38;5;124mell\u001b[39m\u001b[38;5;124m'\u001b[39m]\n\u001b[1;32m      7\u001b[0m cl\u001b[38;5;241m=\u001b[39m{}\n\u001b[0;32m----> 8\u001b[0m cl[\u001b[38;5;241m13\u001b[39m] \u001b[38;5;241m=\u001b[39m \u001b[43mccl\u001b[49m\u001b[38;5;241;43m.\u001b[39;49m\u001b[43mangular_cl\u001b[49m\u001b[43m(\u001b[49m\u001b[43mcosmo\u001b[49m\u001b[43m,\u001b[49m\u001b[43m \u001b[49m\u001b[43mccl_tracers\u001b[49m\u001b[43m[\u001b[49m\u001b[43mtracer_comb1\u001b[49m\u001b[43m[\u001b[49m\u001b[38;5;241;43m0\u001b[39;49m\u001b[43m]\u001b[49m\u001b[43m]\u001b[49m\u001b[43m,\u001b[49m\u001b[43m \u001b[49m\u001b[43mccl_tracers\u001b[49m\u001b[43m[\u001b[49m\u001b[43mtracer_comb2\u001b[49m\u001b[43m[\u001b[49m\u001b[38;5;241;43m0\u001b[39;49m\u001b[43m]\u001b[49m\u001b[43m]\u001b[49m\u001b[43m,\u001b[49m\u001b[43m \u001b[49m\u001b[43mell\u001b[49m\u001b[43m)\u001b[49m\n\u001b[1;32m      9\u001b[0m cl[\u001b[38;5;241m24\u001b[39m] \u001b[38;5;241m=\u001b[39m ccl\u001b[38;5;241m.\u001b[39mangular_cl(cosmo, ccl_tracers[tracer_comb1[\u001b[38;5;241m1\u001b[39m]], ccl_tracers[tracer_comb2[\u001b[38;5;241m1\u001b[39m]], ell)\n\u001b[1;32m     10\u001b[0m cl[\u001b[38;5;241m14\u001b[39m] \u001b[38;5;241m=\u001b[39m ccl\u001b[38;5;241m.\u001b[39mangular_cl(cosmo, ccl_tracers[tracer_comb1[\u001b[38;5;241m0\u001b[39m]], ccl_tracers[tracer_comb2[\u001b[38;5;241m1\u001b[39m]], ell)\n",
      "File \u001b[0;32m/nobackup/b7009348/miniconda3/envs/ccl_tjp/lib/python3.9/site-packages/pyccl/cls.py:61\u001b[0m, in \u001b[0;36mangular_cl\u001b[0;34m(cosmo, cltracer1, cltracer2, ell, p_of_k_a, l_limber, limber_integration_method)\u001b[0m\n\u001b[1;32m     58\u001b[0m cosmo_in \u001b[38;5;241m=\u001b[39m cosmo\n\u001b[1;32m     59\u001b[0m cosmo \u001b[38;5;241m=\u001b[39m cosmo\u001b[38;5;241m.\u001b[39mcosmo\n\u001b[0;32m---> 61\u001b[0m psp \u001b[38;5;241m=\u001b[39m \u001b[43mparse_pk2d\u001b[49m\u001b[43m(\u001b[49m\u001b[43mcosmo_in\u001b[49m\u001b[43m,\u001b[49m\u001b[43m \u001b[49m\u001b[43mp_of_k_a\u001b[49m\u001b[43m)\u001b[49m\n\u001b[1;32m     63\u001b[0m \u001b[38;5;66;03m# Create tracer colections\u001b[39;00m\n\u001b[1;32m     64\u001b[0m status \u001b[38;5;241m=\u001b[39m \u001b[38;5;241m0\u001b[39m\n",
      "File \u001b[0;32m/nobackup/b7009348/miniconda3/envs/ccl_tjp/lib/python3.9/site-packages/pyccl/pk2d.py:460\u001b[0m, in \u001b[0;36mparse_pk2d\u001b[0;34m(cosmo, p_of_k_a, is_linear)\u001b[0m\n\u001b[1;32m    458\u001b[0m     pk \u001b[38;5;241m=\u001b[39m cosmo\u001b[38;5;241m.\u001b[39mget_linear_power(name)\n\u001b[1;32m    459\u001b[0m \u001b[38;5;28;01melse\u001b[39;00m:\n\u001b[0;32m--> 460\u001b[0m     \u001b[43mcosmo\u001b[49m\u001b[38;5;241;43m.\u001b[39;49m\u001b[43mcompute_nonlin_power\u001b[49m\u001b[43m(\u001b[49m\u001b[43m)\u001b[49m\n\u001b[1;32m    461\u001b[0m     pk \u001b[38;5;241m=\u001b[39m cosmo\u001b[38;5;241m.\u001b[39mget_nonlin_power(name)\n\u001b[1;32m    462\u001b[0m psp \u001b[38;5;241m=\u001b[39m pk\u001b[38;5;241m.\u001b[39mpsp\n",
      "File \u001b[0;32m/nobackup/b7009348/miniconda3/envs/ccl_tjp/lib/python3.9/site-packages/pyccl/core.py:913\u001b[0m, in \u001b[0;36mCosmology.compute_nonlin_power\u001b[0;34m(self)\u001b[0m\n\u001b[1;32m    911\u001b[0m \u001b[38;5;66;03m# needed for halofit, halomodel and linear options\u001b[39;00m\n\u001b[1;32m    912\u001b[0m \u001b[38;5;28;01mif\u001b[39;00m (mps \u001b[38;5;241m!=\u001b[39m \u001b[38;5;124m'\u001b[39m\u001b[38;5;124memu\u001b[39m\u001b[38;5;124m'\u001b[39m) \u001b[38;5;129;01mand\u001b[39;00m (mps \u001b[38;5;129;01mis\u001b[39;00m \u001b[38;5;129;01mnot\u001b[39;00m \u001b[38;5;28;01mNone\u001b[39;00m):\n\u001b[0;32m--> 913\u001b[0m     \u001b[38;5;28;43mself\u001b[39;49m\u001b[38;5;241;43m.\u001b[39;49m\u001b[43mcompute_linear_power\u001b[49m\u001b[43m(\u001b[49m\u001b[43m)\u001b[49m\n\u001b[1;32m    915\u001b[0m \u001b[38;5;28;01mif\u001b[39;00m mps \u001b[38;5;241m==\u001b[39m \u001b[38;5;124m\"\u001b[39m\u001b[38;5;124mcamb\u001b[39m\u001b[38;5;124m\"\u001b[39m \u001b[38;5;129;01mand\u001b[39;00m \u001b[38;5;28mself\u001b[39m\u001b[38;5;241m.\u001b[39m_has_pk_nl:\n\u001b[1;32m    916\u001b[0m     \u001b[38;5;66;03m# Already computed\u001b[39;00m\n\u001b[1;32m    917\u001b[0m     \u001b[38;5;28;01mreturn\u001b[39;00m\n",
      "File \u001b[0;32m/nobackup/b7009348/miniconda3/envs/ccl_tjp/lib/python3.9/site-packages/pyccl/core.py:799\u001b[0m, in \u001b[0;36mCosmology.compute_linear_power\u001b[0;34m(self)\u001b[0m\n\u001b[1;32m    796\u001b[0m     \u001b[38;5;28;01mraise\u001b[39;00m CCLError(\u001b[38;5;124m\"\u001b[39m\u001b[38;5;124mYou want to compute the linear power spectrum, \u001b[39m\u001b[38;5;124m\"\u001b[39m\n\u001b[1;32m    797\u001b[0m                    \u001b[38;5;124m\"\u001b[39m\u001b[38;5;124mbut you selected `transfer_function=None`.\u001b[39m\u001b[38;5;124m\"\u001b[39m)\n\u001b[1;32m    798\u001b[0m \u001b[38;5;28;01melif\u001b[39;00m trf \u001b[38;5;241m==\u001b[39m \u001b[38;5;124m'\u001b[39m\u001b[38;5;124mboltzmann_class\u001b[39m\u001b[38;5;124m'\u001b[39m:\n\u001b[0;32m--> 799\u001b[0m     pk \u001b[38;5;241m=\u001b[39m \u001b[43mget_class_pk_lin\u001b[49m\u001b[43m(\u001b[49m\u001b[38;5;28;43mself\u001b[39;49m\u001b[43m)\u001b[49m\n\u001b[1;32m    800\u001b[0m \u001b[38;5;28;01melif\u001b[39;00m trf \u001b[38;5;241m==\u001b[39m \u001b[38;5;124m'\u001b[39m\u001b[38;5;124mboltzmann_isitgr\u001b[39m\u001b[38;5;124m'\u001b[39m:\n\u001b[1;32m    801\u001b[0m     rescale_mg \u001b[38;5;241m=\u001b[39m \u001b[38;5;28;01mFalse\u001b[39;00m\n",
      "File \u001b[0;32m/nobackup/b7009348/miniconda3/envs/ccl_tjp/lib/python3.9/site-packages/pyccl/boltzmann.py:421\u001b[0m, in \u001b[0;36mget_class_pk_lin\u001b[0;34m(cosmo)\u001b[0m\n\u001b[1;32m    409\u001b[0m \u001b[38;5;28;01mdef\u001b[39;00m \u001b[38;5;21mget_class_pk_lin\u001b[39m(cosmo):\n\u001b[1;32m    410\u001b[0m     \u001b[38;5;124;03m\"\"\"Run CLASS and return the linear power spectrum.\u001b[39;00m\n\u001b[1;32m    411\u001b[0m \n\u001b[1;32m    412\u001b[0m \u001b[38;5;124;03m    Args:\u001b[39;00m\n\u001b[0;32m   (...)\u001b[0m\n\u001b[1;32m    419\u001b[0m \u001b[38;5;124;03m            The linear power spectrum.\u001b[39;00m\n\u001b[1;32m    420\u001b[0m \u001b[38;5;124;03m    \"\"\"\u001b[39;00m\n\u001b[0;32m--> 421\u001b[0m     \u001b[38;5;28;01mimport\u001b[39;00m \u001b[38;5;21;01mclassy\u001b[39;00m\n\u001b[1;32m    423\u001b[0m     params \u001b[38;5;241m=\u001b[39m {\n\u001b[1;32m    424\u001b[0m         \u001b[38;5;124m\"\u001b[39m\u001b[38;5;124moutput\u001b[39m\u001b[38;5;124m\"\u001b[39m: \u001b[38;5;124m\"\u001b[39m\u001b[38;5;124mmPk\u001b[39m\u001b[38;5;124m\"\u001b[39m,\n\u001b[1;32m    425\u001b[0m         \u001b[38;5;124m\"\u001b[39m\u001b[38;5;124mnon linear\u001b[39m\u001b[38;5;124m\"\u001b[39m: \u001b[38;5;124m\"\u001b[39m\u001b[38;5;124mnone\u001b[39m\u001b[38;5;124m\"\u001b[39m,\n\u001b[0;32m   (...)\u001b[0m\n\u001b[1;32m    433\u001b[0m         \u001b[38;5;124m\"\u001b[39m\u001b[38;5;124mOmega_k\u001b[39m\u001b[38;5;124m\"\u001b[39m: cosmo[\u001b[38;5;124m\"\u001b[39m\u001b[38;5;124mOmega_k\u001b[39m\u001b[38;5;124m\"\u001b[39m],\n\u001b[1;32m    434\u001b[0m         \u001b[38;5;124m\"\u001b[39m\u001b[38;5;124mn_s\u001b[39m\u001b[38;5;124m\"\u001b[39m: cosmo[\u001b[38;5;124m\"\u001b[39m\u001b[38;5;124mn_s\u001b[39m\u001b[38;5;124m\"\u001b[39m]}\n\u001b[1;32m    436\u001b[0m     \u001b[38;5;66;03m# cosmological constant?\u001b[39;00m\n\u001b[1;32m    437\u001b[0m     \u001b[38;5;66;03m# set Omega_Lambda = 0.0 if w !=-1 or wa != 0\u001b[39;00m\n",
      "\u001b[0;31mModuleNotFoundError\u001b[0m: No module named 'classy'"
     ]
    }
   ],
   "source": [
    "#C_ell covariance\n",
    "cov_cl=get_all_cov(two_point_data=twopoint_data,do_xi=False)\n",
    "#xi covariance .... right now shear-shear is xi+ only. xi- needs to be added in the loops.\n",
    "cov_xi=get_all_cov(two_point_data=twopoint_data,do_xi=True)"
   ]
  },
  {
   "cell_type": "code",
   "execution_count": null,
   "metadata": {},
   "outputs": [],
   "source": [
    "err=np.sqrt(np.diag(cov_cl))\n",
    "corr_m=cov_cl/np.outer(err,err)\n",
    "pcolor(corr_m,vmin=-1,vmax=1,cmap='seismic')"
   ]
  },
  {
   "cell_type": "code",
   "execution_count": null,
   "metadata": {},
   "outputs": [],
   "source": [
    "err=np.sqrt(np.diag(cov_xi))\n",
    "corr_m=cov_xi/np.outer(err,err)\n",
    "pcolor(corr_m,vmin=-1,vmax=1,cmap='seismic')"
   ]
  },
  {
   "cell_type": "code",
   "execution_count": null,
   "metadata": {},
   "outputs": [],
   "source": []
  }
 ],
 "metadata": {
  "kernelspec": {
   "display_name": "Python [conda env:ccl_tjp]",
   "language": "python",
   "name": "conda-env-ccl_tjp-py"
  },
  "language_info": {
   "codemirror_mode": {
    "name": "ipython",
    "version": 3
   },
   "file_extension": ".py",
   "mimetype": "text/x-python",
   "name": "python",
   "nbconvert_exporter": "python",
   "pygments_lexer": "ipython3",
   "version": "3.9.15"
  }
 },
 "nbformat": 4,
 "nbformat_minor": 4
}
