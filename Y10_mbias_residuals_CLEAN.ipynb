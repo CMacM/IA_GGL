{
 "cells": [
  {
   "cell_type": "code",
   "execution_count": 1,
   "id": "a5c57e2d-62cc-4dbe-9569-95c92370cd81",
   "metadata": {},
   "outputs": [],
   "source": [
    "import CM_code.spurious_george as sp\n",
    "import numpy as np\n",
    "import pyccl as ccl\n",
    "import matplotlib.pyplot as plt\n",
    "import scipy\n",
    "import importlib as imp\n",
    "import DL_basis_code.shared_functions_setup as setup\n",
    "\n",
    "imp.reload(sp)\n",
    "\n",
    "plt.rcParams['figure.facecolor'] = 'white'\n",
    "plt.rcParams['font.family'] = 'serif'\n",
    "plt.rcParams['font.serif'] = ['cmr10']\n",
    "plt.rcParams['mathtext.fontset'] ='cm'\n",
    "plt.rc('axes', unicode_minus=False)\n",
    "plt.rc('axes.formatter', use_mathtext=True)"
   ]
  },
  {
   "cell_type": "markdown",
   "id": "e7facd2f-1e71-454a-be4e-7659aaa42cde",
   "metadata": {},
   "source": [
    "### Load in theta, boost, and F data"
   ]
  },
  {
   "cell_type": "code",
   "execution_count": 2,
   "id": "802b9ad9-ee18-406f-adf3-aeb377973a5f",
   "metadata": {},
   "outputs": [],
   "source": [
    "F_theta = sp.get_F(theta_dependence=True, year=10)\n",
    "B_min1 = np.load('generated_data/Boost_data_year10.npz')['B_min1']\n",
    "theta = sp.theta_cents"
   ]
  },
  {
   "cell_type": "markdown",
   "id": "7166c13f-1e85-4291-9ec5-20edbb1da982",
   "metadata": {},
   "source": [
    "### Calculate maximum lensing residual"
   ]
  },
  {
   "cell_type": "code",
   "execution_count": null,
   "id": "8b82a814-4404-4e58-b14b-7df43482f40a",
   "metadata": {},
   "outputs": [],
   "source": [
    "# define multiplicative bias uncertainty\n",
    "sigma_m = 0.003\n",
    "\n",
    "# set ell values based on theta range\n",
    "ell = np.unique(np.geomspace(180/(theta[-1]/60.) - 10, 180/(theta[0]/60.) + 10, 1024).astype(int))\n",
    "\n",
    "# compute angular power spectrum for galaxy-galaxy lensing using H.O.D.s\n",
    "Cl_gM, lensTracer, shearTracer = sp.get_LSST_Cl(ell, 'gm', year=10)\n",
    "\n",
    "# compute lensing shear\n",
    "y_L = ccl.correlation(sp.halo.cosmo_SRD, ell, Cl_gM, theta / 60., type='NG')\n",
    "\n",
    "# multiply by maximum residual bias and divide by P.A. fraction\n",
    "delM_yL = 2.*sigma_m*y_L / (B_min1 + F_theta)"
   ]
  },
  {
   "cell_type": "markdown",
   "id": "4f00e446-c879-4570-a576-23d0a9816270",
   "metadata": {},
   "source": [
    "### Calculate theoretical IA signal using L-NLA model"
   ]
  },
  {
   "cell_type": "code",
   "execution_count": 4,
   "id": "cf1d2c73-e362-41fb-8ac1-9421b43907d0",
   "metadata": {},
   "outputs": [],
   "source": [
    "# load in redshift data\n",
    "z_s, dndz_s, zseff = sp.zed.get_dndz_phot('source', year=10)\n",
    "z_l, dndz_l, zleff = sp.zed.get_dndz_spec('lens', year=10)\n",
    "\n",
    "# define IA model\n",
    "f_red = 0.16\n",
    "A_IA = 5.\n",
    "\n",
    "IA_amps = f_red * A_IA * np.ones_like(z_s)\n",
    "\n",
    "intrinsicTracer = ccl.WeakLensingTracer(sp.zed.cosmo_SRD, (z_s, dndz_s), has_shear=False, \n",
    "                                     ia_bias=(z_s, IA_amps))\n",
    "\n",
    "# CALCULATE IA USING HALO MODEL POWER SPECTRUM\n",
    "\n",
    "# defined to be same as in boost function\n",
    "k_arr = np.geomspace(1E-4, 5E2, 3000)\n",
    "\n",
    "a_l = 1. / (1. + z_l)\n",
    "\n",
    "# create 2D power spectrum objects for galaxy-IA correlation\n",
    "pk_gMf = sp.halo.get_Pk2D('gm', k_arr, np.flip(a_l))\n",
    "\n",
    "# compute aps for galaxy-intrinsic\n",
    "Cl_IA = ccl.angular_cl(sp.zed.cosmo_SRD, lensTracer, intrinsicTracer, ell, p_of_k_a=pk_gMf)\n",
    "\n",
    "# get IA tangential shear\n",
    "y_IA = ccl.correlation(sp.zed.cosmo_SRD, ell, Cl_IA, theta / 60., type='NG')\n",
    "bar_yIA = y_IA / (B_min1 + F_theta)"
   ]
  },
  {
   "cell_type": "markdown",
   "id": "b2239723-5791-42f1-931a-3a2ed5971a2e",
   "metadata": {},
   "source": [
    "### Load in Y1 covariance matrix and combine with lensing residual "
   ]
  },
  {
   "cell_type": "code",
   "execution_count": 10,
   "id": "26cfc7b3-452f-458f-a8cd-25ab3323c15e",
   "metadata": {},
   "outputs": [],
   "source": [
    "# load in matrices and rho values\n",
    "cov_file = np.load('generated_data/lsst-y10-covmats-IA.npz')\n",
    "rho = cov_file['rho']\n",
    "covs = cov_file['cov']\n",
    "\n",
    "# add residual in quadrature to cov matrix\n",
    "cov_IA = np.zeros_like(covs)\n",
    "sigma_IA = np.zeros_like(covs[0])\n",
    "for j in range(len(rho)):\n",
    "    for i in range(len(theta)):\n",
    "        for k in range(len(theta)):\n",
    "            cov_IA[j,i,k] = (covs[j,i,k] / ((B_min1[i] + F_theta[i])*(B_min1[k] + F_theta[k]))) + delM_yL[i]*delM_yL[k]\n",
    "    sigma_IA[j] = np.sqrt(np.diag(cov_IA[j,:,:]))"
   ]
  },
  {
   "cell_type": "code",
   "execution_count": 11,
   "id": "8bbf281f-381f-4629-917c-b8eeacb26a2f",
   "metadata": {},
   "outputs": [
    {
     "name": "stdout",
     "output_type": "stream",
     "text": [
      "[0.00094584 0.00095274 0.00126634 0.00105803 0.00091373 0.00076091\n",
      " 0.00065271 0.00054571 0.00040355 0.00020979]\n"
     ]
    }
   ],
   "source": [
    "# difference between sigma_IA for min and max rho values \n",
    "print(sigma_IA[0] - sigma_IA[8])"
   ]
  },
  {
   "cell_type": "markdown",
   "id": "56e1f431-8d53-4c60-8644-5b98cecebecb",
   "metadata": {},
   "source": [
    "### Plot (1-0.5)yIA and (0.026)yL "
   ]
  },
  {
   "cell_type": "code",
   "execution_count": 12,
   "id": "2216bff1-5c20-496b-a9d6-2d3a5fd7dba7",
   "metadata": {},
   "outputs": [
    {
     "data": {
      "text/plain": [
       "Text(0.5, 0, '$\\\\theta$ (arcmin)')"
      ]
     },
     "execution_count": 12,
     "metadata": {},
     "output_type": "execute_result"
    },
    {
     "data": {
      "image/png": "[encoded data removed]",
      "text/plain": [
       "<Figure size 600x500 with 1 Axes>"
      ]
     },
     "metadata": {},
     "output_type": "display_data"
    }
   ],
   "source": [
    "plt.figure(figsize=[6,5])\n",
    "plt.errorbar(theta, -(1-0.5)*bar_yIA, np.sqrt(np.diag(covs[0])/(B_min1+F_theta)**2), linewidth=0, marker='o', markersize=2., color='orange',\n",
    "            elinewidth=1., capsize=5.)\n",
    "plt.plot(theta, delM_yL, linewidth=0, marker='^', color='mediumvioletred')\n",
    "plt.xscale('log')\n",
    "plt.yscale('log')\n",
    "plt.ylim([1E-5, 2E-2])\n",
    "plt.title('Stat only covariance')\n",
    "plt.xlabel(r'$\\theta$ (arcmin)', fontsize=15)"
   ]
  },
  {
   "cell_type": "markdown",
   "id": "7b4c8bbe-291e-4f4a-9ba1-3dd4586a9cd4",
   "metadata": {},
   "source": [
    "### Plot (1-a)yIA for different a values"
   ]
  },
  {
   "cell_type": "code",
   "execution_count": 13,
   "id": "e8ee3339-0f64-4a49-bf7c-f033f72792c9",
   "metadata": {},
   "outputs": [
    {
     "data": {
      "text/plain": [
       "Text(0.5, 1.0, 'Stat+Sys Covariance, $\\\\rho=0.1$')"
      ]
     },
     "execution_count": 13,
     "metadata": {},
     "output_type": "execute_result"
    },
    {
     "data": {
      "image/png": "[encoded data removed]",
      "text/plain": [
       "<Figure size 600x500 with 1 Axes>"
      ]
     },
     "metadata": {},
     "output_type": "display_data"
    }
   ],
   "source": [
    "a = [0.1,0.3,0.5,0.7]\n",
    "logshift = np.zeros([len(a),len(bar_yIA)])\n",
    "yIA_1mina = np.zeros([len(a),len(bar_yIA)])\n",
    "for i in range(len(a)):\n",
    "    yIA_1mina[i,:] = -(1.-a[i]) * bar_yIA[:]\n",
    "    logshift[i,:] = 0.08*theta*i\n",
    "\n",
    "plt.figure(figsize=[6,5])\n",
    "plt.errorbar(theta+logshift[0], yIA_1mina[0], sigma_IA[0], linewidth=0, marker='o', markersize=5., color='orange',\n",
    "            elinewidth=1., capsize=5.)\n",
    "plt.errorbar(theta+logshift[1], yIA_1mina[1], sigma_IA[0], linewidth=0, marker='^', markersize=5., color='blue',\n",
    "            elinewidth=1., capsize=5.)\n",
    "plt.errorbar(theta+logshift[2], yIA_1mina[2], sigma_IA[0], linewidth=0, marker='s', markersize=5., color='red',\n",
    "            elinewidth=1., capsize=5.)\n",
    "plt.errorbar(theta+logshift[3], yIA_1mina[3], sigma_IA[0], linewidth=0, marker='D', markersize=5., color='black',\n",
    "            elinewidth=1., capsize=5.)\n",
    "plt.legend([r'$a=%g$'%a[0],r'$a=%g$'%a[1],r'$a=%g$'%a[2],r'$a=%g$'%a[3]],)\n",
    "\n",
    "plt.hlines(y=0.,xmin=0.1*theta.min(),xmax=1.6*theta.max(), color='black')\n",
    "plt.xscale('log')\n",
    "plt.xticks(fontsize=12)\n",
    "plt.yticks(fontsize=12)\n",
    "#plt.yscale('log')\n",
    "plt.ylim([-1E-3, 1.15E-2])\n",
    "plt.xlim(0.2,30)\n",
    "plt.xlabel(r'$\\theta$ (arcmin)', fontsize=14)\n",
    "plt.ylabel(r'$(1-a)\\bar{\\gamma}_{IA}$', fontsize=14)\n",
    "plt.title(r'Stat+Sys Covariance, $\\rho=%g$'%(rho[0]), fontsize=14)"
   ]
  }
 ],
 "metadata": {
  "kernelspec": {
   "display_name": "Python [conda env:ccl_tjp]",
   "language": "python",
   "name": "conda-env-ccl_tjp-py"
  },
  "language_info": {
   "codemirror_mode": {
    "name": "ipython",
    "version": 3
   },
   "file_extension": ".py",
   "mimetype": "text/x-python",
   "name": "python",
   "nbconvert_exporter": "python",
   "pygments_lexer": "ipython3",
   "version": "3.9.15"
  }
 },
 "nbformat": 4,
 "nbformat_minor": 5
}
