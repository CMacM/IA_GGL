{
 "cells": [
  {
   "cell_type": "code",
   "execution_count": 10,
   "id": "a331cfe1-a9d9-4fdd-94ff-ec5a1268d358",
   "metadata": {},
   "outputs": [],
   "source": [
    "import numpy as np\n",
    "import sacc\n",
    "import matplotlib.pyplot as plt\n",
    "import pyccl as ccl\n",
    "import scipy\n",
    "import importlib as imp\n",
    "import astropy.io.fits as fits\n",
    "\n",
    "import CM_code.spurious_george as sp\n",
    "imp.reload(sp)\n",
    "import CM_code.halo_model as halo\n",
    "imp.reload(halo)\n",
    "import CM_code.lsst_coZmology as zed\n",
    "imp.reload(zed)\n",
    "import CM_code.tjp_helper as tjp_helper\n",
    "imp.reload(tjp_helper)\n",
    "\n",
    "# import main.py from TJPCov folder\n",
    "import tjpcov as tjp\n",
    "from tjpcov.covariance_calculator import CovarianceCalculator\n",
    "\n",
    "\n",
    "data_dir = '/home/b7009348/WGL_project/DES-data/'\n",
    "lens_file = data_dir+'DES_Y1A1_3x2pt_redMaGiC_zerr_CATALOG.fits'\n",
    "source_Zs = data_dir+'mof_BPZ_(stacking).fits'\n",
    "im3_file_full = data_dir+'y1_im3_shapes_matched.fits'\n",
    "\n",
    "plt.rcParams['font.family'] = 'serif'\n",
    "plt.rcParams['font.serif'] = ['cmr10']\n",
    "plt.rcParams['mathtext.fontset'] ='cm'\n",
    "plt.rcParams['figure.facecolor'] = 'white'\n",
    "plt.rc('axes', unicode_minus=False)\n",
    "plt.rc('axes.formatter', use_mathtext=True)"
   ]
  },
  {
   "cell_type": "markdown",
   "id": "196da370-9b7d-4c16-8580-07470e0d576a",
   "metadata": {},
   "source": [
    "### I'm going to start in the case with n IA for the sake of comparison to SRD forecasting\n",
    "- Initially I will just look at single $\\gamma_t$ covaraince for specific redshift bins"
   ]
  },
  {
   "cell_type": "code",
   "execution_count": 13,
   "id": "42d706d7-91a8-458d-a94a-9c6859fbb20e",
   "metadata": {},
   "outputs": [],
   "source": [
    "# create LSST sacc file\n",
    "s = sacc.Sacc()\n",
    "\n",
    "th_lsst = np.logspace(np.log10(2.5),np.log10(250),10) #forecasts\n",
    "\n",
    "# start by adding redshift data (this will be used internally by TJP\n",
    "# to create WL and NC tracers\n",
    "z_l, dndz_l, zleff = zed.get_dndz_spec('lens')\n",
    "s.add_tracer('NZ','lens', z=z_l, nz=dndz_l)\n",
    "\n",
    "z_s, dndz_s, zseff = zed.get_dndz_spec('source')\n",
    "s.add_tracer('NZ','source', z=z_s, nz=dndz_s)\n",
    "\n",
    "lensTracer = ccl.NumberCountsTracer(zed.cosmo_SRD, has_rsd=False, dndz=(z_l, dndz_l), \n",
    "                                    bias=(z_l, sp.lens_bias(z_l))\n",
    "shearTracer = ccl.WeakLensingTracer(zed.cosmo_SRD, (z_s, dndz_s), has_shear=True)\n",
    "\n",
    "ell = np.unique(np.geomspace(180/(th_lsst[-1]/60.) - 10, 180/(th_lsst[0]/60.) + 10, 1024).astype(int))\n",
    "\n",
    "Cl = ccl.angular_cl(zed.cosmo_SRD, lensTracer, shearTracer, ell)\n",
    "\n",
    "LSST_xi = ccl.correlation(zed.cosmo_SRD, ell, Cl, th_lsst/60., type='NG')\n",
    "\n",
    "s.add_theta_xi('galaxy_shearDensity_xi_t', 'lens', 'source', th_lsst/60., LSST_xi)\n",
    "\n",
    "s.save_fits('forecast_MEM_data_lsst-y1.fits', overwrite=True)"
   ]
  },
  {
   "cell_type": "code",
   "execution_count": null,
   "id": "bc5e68dd-d79b-420d-8759-6204b3227f8f",
   "metadata": {},
   "outputs": [
    {
     "name": "stdout",
     "output_type": "stream",
     "text": [
      "Computing independent covariance blocks\n",
      "('lens', 'source') ('lens', 'source')\n"
     ]
    },
    {
     "name": "stderr",
     "output_type": "stream",
     "text": [
      "/home/b7009348/WGL_project/LSST_forecast_code/tjpcov/covariance_builder.py:897: UserWarning: Missing n_ell_coupled info for some tracers in the sacc file. You will have to pass it withthe cache\n",
      "  warnings.warn(\n"
     ]
    },
    {
     "name": "stdout",
     "output_type": "stream",
     "text": [
      "Building the covariance: placing blocks in their place\n",
      "('lens', 'source') ('lens', 'source')\n",
      "Computing independent covariance blocks\n",
      "('lens', 'source') ('lens', 'source')\n",
      "Building the covariance: placing blocks in their place\n",
      "('lens', 'source') ('lens', 'source')\n"
     ]
    }
   ],
   "source": [
    "lsst_config = tjp_helper.generate_config(cosmo=zed.cosmo_SRD, sacc_file='forecast_MEM_data_lsst-y1.fits',\n",
    "                                   cov_type='RealGaussianFsky', Nlen=18., Nsrc=10., sig_e=0.13, len_bias=1.5, IA=0.,\n",
    "                                   add_keys=[['ProjectedReal',['lmax', 42427]],['GaussianFsky',['fsky', 0.436]]])\n",
    "\n",
    "lsstX_config = tjp_helper.generate_config(cosmo=zed.cosmo_SRD, sacc_file='forecast_MEM_data_lsst-y1.fits',\n",
    "                                   cov_type='RealGaussianFsky', Nlen=18., Nsrc=10., sig_e=np.sqrt(0.2*0.13*0.13), len_bias=1.5, IA=0.,\n",
    "                                   add_keys=[['ProjectedReal',['lmax', 42427]],['GaussianFsky',['fsky', 0.436]]])\n",
    "\n",
    "cov = CovarianceCalculator(lsst_config)\n",
    "cov_same = cov.get_covariance()\n",
    "\n",
    "cov = CovarianceCalculator(lsstX_config)\n",
    "cov_cross = cov.get_covariance()\n",
    "\n",
    "test_cov = 2.*cov_same - 2.*cov_cross"
   ]
  },
  {
   "cell_type": "code",
   "execution_count": null,
   "id": "41fa2c9f-0429-4e43-92a3-80344cba4c3d",
   "metadata": {},
   "outputs": [
    {
     "ename": "LinAlgError",
     "evalue": "Matrix is not positive definite",
     "output_type": "error",
     "traceback": [
      "\u001b[0;31m---------------------------------------------------------------------------\u001b[0m",
      "\u001b[0;31mLinAlgError\u001b[0m                               Traceback (most recent call last)",
      "Cell \u001b[0;32mIn [19], line 1\u001b[0m\n\u001b[0;32m----> 1\u001b[0m \u001b[43mnp\u001b[49m\u001b[38;5;241;43m.\u001b[39;49m\u001b[43mlinalg\u001b[49m\u001b[38;5;241;43m.\u001b[39;49m\u001b[43mcholesky\u001b[49m\u001b[43m(\u001b[49m\u001b[43mtest_cov\u001b[49m\u001b[43m)\u001b[49m\n",
      "File \u001b[0;32m<__array_function__ internals>:180\u001b[0m, in \u001b[0;36mcholesky\u001b[0;34m(*args, **kwargs)\u001b[0m\n",
      "File \u001b[0;32m/nobackup/b7009348/miniconda3/envs/ccl_tjp/lib/python3.9/site-packages/numpy/linalg/linalg.py:770\u001b[0m, in \u001b[0;36mcholesky\u001b[0;34m(a)\u001b[0m\n\u001b[1;32m    768\u001b[0m t, result_t \u001b[38;5;241m=\u001b[39m _commonType(a)\n\u001b[1;32m    769\u001b[0m signature \u001b[38;5;241m=\u001b[39m \u001b[38;5;124m'\u001b[39m\u001b[38;5;124mD->D\u001b[39m\u001b[38;5;124m'\u001b[39m \u001b[38;5;28;01mif\u001b[39;00m isComplexType(t) \u001b[38;5;28;01melse\u001b[39;00m \u001b[38;5;124m'\u001b[39m\u001b[38;5;124md->d\u001b[39m\u001b[38;5;124m'\u001b[39m\n\u001b[0;32m--> 770\u001b[0m r \u001b[38;5;241m=\u001b[39m \u001b[43mgufunc\u001b[49m\u001b[43m(\u001b[49m\u001b[43ma\u001b[49m\u001b[43m,\u001b[49m\u001b[43m \u001b[49m\u001b[43msignature\u001b[49m\u001b[38;5;241;43m=\u001b[39;49m\u001b[43msignature\u001b[49m\u001b[43m,\u001b[49m\u001b[43m \u001b[49m\u001b[43mextobj\u001b[49m\u001b[38;5;241;43m=\u001b[39;49m\u001b[43mextobj\u001b[49m\u001b[43m)\u001b[49m\n\u001b[1;32m    771\u001b[0m \u001b[38;5;28;01mreturn\u001b[39;00m wrap(r\u001b[38;5;241m.\u001b[39mastype(result_t, copy\u001b[38;5;241m=\u001b[39m\u001b[38;5;28;01mFalse\u001b[39;00m))\n",
      "File \u001b[0;32m/nobackup/b7009348/miniconda3/envs/ccl_tjp/lib/python3.9/site-packages/numpy/linalg/linalg.py:92\u001b[0m, in \u001b[0;36m_raise_linalgerror_nonposdef\u001b[0;34m(err, flag)\u001b[0m\n\u001b[1;32m     91\u001b[0m \u001b[38;5;28;01mdef\u001b[39;00m \u001b[38;5;21m_raise_linalgerror_nonposdef\u001b[39m(err, flag):\n\u001b[0;32m---> 92\u001b[0m     \u001b[38;5;28;01mraise\u001b[39;00m LinAlgError(\u001b[38;5;124m\"\u001b[39m\u001b[38;5;124mMatrix is not positive definite\u001b[39m\u001b[38;5;124m\"\u001b[39m)\n",
      "\u001b[0;31mLinAlgError\u001b[0m: Matrix is not positive definite"
     ]
    }
   ],
   "source": [
    "np.linalg.cholesky(test_cov)"
   ]
  }
 ],
 "metadata": {
  "kernelspec": {
   "display_name": "Python [conda env:ccl_tjp]",
   "language": "python",
   "name": "conda-env-ccl_tjp-py"
  },
  "language_info": {
   "codemirror_mode": {
    "name": "ipython",
    "version": 3
   },
   "file_extension": ".py",
   "mimetype": "text/x-python",
   "name": "python",
   "nbconvert_exporter": "python",
   "pygments_lexer": "ipython3",
   "version": "3.9.15"
  }
 },
 "nbformat": 4,
 "nbformat_minor": 5
}
