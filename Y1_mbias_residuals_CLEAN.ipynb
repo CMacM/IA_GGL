{
 "cells": [
  {
   "cell_type": "code",
   "execution_count": 19,
   "id": "a5c57e2d-62cc-4dbe-9569-95c92370cd81",
   "metadata": {},
   "outputs": [],
   "source": [
    "import CM_code.spurious_george as sp\n",
    "import numpy as np\n",
    "import pyccl as ccl\n",
    "import matplotlib.pyplot as plt\n",
    "import scipy\n",
    "import importlib as imp\n",
    "import DL_basis_code.shared_functions_setup as setup\n",
    "\n",
    "imp.reload(sp)\n",
    "\n",
    "plt.rcParams['figure.facecolor'] = 'white'\n",
    "plt.rcParams['font.family'] = 'serif'\n",
    "plt.rcParams['font.serif'] = ['cmr10']\n",
    "plt.rcParams['mathtext.fontset'] ='cm'\n",
    "plt.rc('axes', unicode_minus=False)\n",
    "plt.rc('axes.formatter', use_mathtext=True)"
   ]
  },
  {
   "cell_type": "markdown",
   "id": "e7facd2f-1e71-454a-be4e-7659aaa42cde",
   "metadata": {},
   "source": [
    "### Load in theta, boost, and F data"
   ]
  },
  {
   "cell_type": "code",
   "execution_count": 20,
   "id": "802b9ad9-ee18-406f-adf3-aeb377973a5f",
   "metadata": {},
   "outputs": [
    {
     "name": "stdout",
     "output_type": "stream",
     "text": [
      "Pk_gg calculated\n"
     ]
    },
    {
     "ename": "KeyboardInterrupt",
     "evalue": "",
     "output_type": "error",
     "traceback": [
      "\u001b[0;31m---------------------------------------------------------------------------\u001b[0m",
      "\u001b[0;31mKeyboardInterrupt\u001b[0m                         Traceback (most recent call last)",
      "Cell \u001b[0;32mIn [20], line 2\u001b[0m\n\u001b[1;32m      1\u001b[0m F_theta \u001b[38;5;241m=\u001b[39m sp\u001b[38;5;241m.\u001b[39mget_F(theta_dependence\u001b[38;5;241m=\u001b[39m\u001b[38;5;28;01mTrue\u001b[39;00m)\n\u001b[0;32m----> 2\u001b[0m B_min1 \u001b[38;5;241m=\u001b[39m \u001b[43msp\u001b[49m\u001b[38;5;241;43m.\u001b[39;49m\u001b[43mget_boosts\u001b[49m\u001b[43m(\u001b[49m\u001b[43m)\u001b[49m\n\u001b[1;32m      3\u001b[0m \u001b[38;5;66;03m#B_min1 = np.load('generated_data/Boost_data_year1.npz')['B_min1']\u001b[39;00m\n\u001b[1;32m      4\u001b[0m theta \u001b[38;5;241m=\u001b[39m sp\u001b[38;5;241m.\u001b[39mtheta_cents\n",
      "File \u001b[0;32m~/WGL_project/LSST_forecast_code/CM_code/spurious_george.py:321\u001b[0m, in \u001b[0;36mget_boosts\u001b[0;34m(onehalo, year)\u001b[0m\n\u001b[1;32m    318\u001b[0m weights \u001b[38;5;241m=\u001b[39m zed\u001b[38;5;241m.\u001b[39mget_weights()\n\u001b[1;32m    320\u001b[0m \u001b[38;5;66;03m# call to previous function to obtain xi_ls for integral\u001b[39;00m\n\u001b[0;32m--> 321\u001b[0m xi_ls, r_p, Pi, z_Pi, z_l, dndz_l \u001b[38;5;241m=\u001b[39m \u001b[43mget_xi_ls\u001b[49m\u001b[43m(\u001b[49m\u001b[43monehalo\u001b[49m\u001b[38;5;241;43m=\u001b[39;49m\u001b[43monehalo\u001b[49m\u001b[43m,\u001b[49m\u001b[43m \u001b[49m\u001b[43myear\u001b[49m\u001b[38;5;241;43m=\u001b[39;49m\u001b[43myear\u001b[49m\u001b[43m)\u001b[49m\n\u001b[1;32m    323\u001b[0m \u001b[38;5;66;03m# set dndz parameters from LSST SRD\u001b[39;00m\n\u001b[1;32m    324\u001b[0m \u001b[38;5;28;01mif\u001b[39;00m year \u001b[38;5;241m==\u001b[39m \u001b[38;5;241m1\u001b[39m:\n",
      "File \u001b[0;32m~/WGL_project/LSST_forecast_code/CM_code/spurious_george.py:257\u001b[0m, in \u001b[0;36mget_xi_ls\u001b[0;34m(onehalo, year)\u001b[0m\n\u001b[1;32m    254\u001b[0m     Pi[\u001b[38;5;241m-\u001b[39m\u001b[38;5;241m1\u001b[39m] \u001b[38;5;241m=\u001b[39m Pi_pos\n\u001b[1;32m    256\u001b[0m \u001b[38;5;66;03m# call to other function to calculate xi_gg\u001b[39;00m\n\u001b[0;32m--> 257\u001b[0m xi_gg, r_p, r \u001b[38;5;241m=\u001b[39m \u001b[43mget_xi_gg\u001b[49m\u001b[43m(\u001b[49m\u001b[43mmaxPiPos\u001b[49m\u001b[43m,\u001b[49m\u001b[43m \u001b[49m\u001b[43mminPiPos\u001b[49m\u001b[43m,\u001b[49m\u001b[43m \u001b[49m\u001b[43monehalo\u001b[49m\u001b[38;5;241;43m=\u001b[39;49m\u001b[43monehalo\u001b[49m\u001b[43m,\u001b[49m\u001b[43m \u001b[49m\u001b[43myear\u001b[49m\u001b[38;5;241;43m=\u001b[39;49m\u001b[43myear\u001b[49m\u001b[43m)\u001b[49m\n\u001b[1;32m    259\u001b[0m \u001b[38;5;66;03m# define function used to calculate xi_ls(r,Pi) at fixed zl\u001b[39;00m\n\u001b[1;32m    260\u001b[0m \u001b[38;5;28;01mdef\u001b[39;00m \u001b[38;5;21mcalculate_xi_ls\u001b[39m(zl, r, r_p, Pi, xi_gg):\n\u001b[1;32m    261\u001b[0m     \u001b[38;5;66;03m# xi_gg is a function of r, so we interpolate it across r to later find x_ls as a function of rp and pi\u001b[39;00m\n",
      "File \u001b[0;32m~/WGL_project/LSST_forecast_code/CM_code/spurious_george.py:212\u001b[0m, in \u001b[0;36mget_xi_gg\u001b[0;34m(maxPi, minPi, onehalo, year)\u001b[0m\n\u001b[1;32m    209\u001b[0m xi_gg \u001b[38;5;241m=\u001b[39m np\u001b[38;5;241m.\u001b[39mzeros([\u001b[38;5;28mlen\u001b[39m(r), \u001b[38;5;28mlen\u001b[39m(z_l)])\n\u001b[1;32m    210\u001b[0m \u001b[38;5;28;01mfor\u001b[39;00m zl \u001b[38;5;129;01min\u001b[39;00m \u001b[38;5;28mrange\u001b[39m(\u001b[38;5;28mlen\u001b[39m(z_l)):\n\u001b[1;32m    211\u001b[0m     \u001b[38;5;66;03m# r is in Mpc/h so we need to convert back to h\u001b[39;00m\n\u001b[0;32m--> 212\u001b[0m     xi_gg[:,zl] \u001b[38;5;241m=\u001b[39m \u001b[43mccl\u001b[49m\u001b[38;5;241;43m.\u001b[39;49m\u001b[43mcorrelations\u001b[49m\u001b[38;5;241;43m.\u001b[39;49m\u001b[43mcorrelation_3d\u001b[49m\u001b[43m(\u001b[49m\u001b[43mzed\u001b[49m\u001b[38;5;241;43m.\u001b[39;49m\u001b[43mcosmo_SRD\u001b[49m\u001b[43m,\u001b[49m\u001b[43m \u001b[49m\u001b[43mnp\u001b[49m\u001b[38;5;241;43m.\u001b[39;49m\u001b[43mflip\u001b[49m\u001b[43m(\u001b[49m\u001b[43mLa_arr\u001b[49m\u001b[43m[\u001b[49m\u001b[43mzl\u001b[49m\u001b[43m]\u001b[49m\u001b[43m)\u001b[49m\u001b[43m,\u001b[49m\u001b[43m \u001b[49m\n\u001b[1;32m    213\u001b[0m \u001b[43m                                       \u001b[49m\u001b[43mr\u001b[49m\u001b[43m \u001b[49m\u001b[38;5;241;43m/\u001b[39;49m\u001b[43m \u001b[49m\u001b[43m(\u001b[49m\u001b[43mpa\u001b[49m\u001b[38;5;241;43m.\u001b[39;49m\u001b[43mHH0\u001b[49m\u001b[43m \u001b[49m\u001b[38;5;241;43m/\u001b[39;49m\u001b[43m \u001b[49m\u001b[38;5;241;43m100.\u001b[39;49m\u001b[43m)\u001b[49m\u001b[43m,\u001b[49m\u001b[43m \u001b[49m\u001b[43mpk_gg2D\u001b[49m\u001b[43m)\u001b[49m\n\u001b[1;32m    214\u001b[0m \u001b[38;5;28mprint\u001b[39m(\u001b[38;5;124m'\u001b[39m\u001b[38;5;124mxi_gg calculated\u001b[39m\u001b[38;5;124m'\u001b[39m)\n\u001b[1;32m    216\u001b[0m \u001b[38;5;28;01mreturn\u001b[39;00m xi_gg, r_p, r\n",
      "File \u001b[0;32m/nobackup/b7009348/miniconda3/envs/ccl_tjp/lib/python3.9/site-packages/pyccl/correlations.py:147\u001b[0m, in \u001b[0;36mcorrelation_3d\u001b[0;34m(cosmo, a, r, p_of_k_a)\u001b[0m\n\u001b[1;32m    144\u001b[0m     r \u001b[38;5;241m=\u001b[39m np\u001b[38;5;241m.\u001b[39marray([r, ])\n\u001b[1;32m    146\u001b[0m \u001b[38;5;66;03m# Call 3D correlation function\u001b[39;00m\n\u001b[0;32m--> 147\u001b[0m xi, status \u001b[38;5;241m=\u001b[39m \u001b[43mlib\u001b[49m\u001b[38;5;241;43m.\u001b[39;49m\u001b[43mcorrelation_3d_vec\u001b[49m\u001b[43m(\u001b[49m\u001b[43mcosmo\u001b[49m\u001b[43m,\u001b[49m\u001b[43m \u001b[49m\u001b[43mpsp\u001b[49m\u001b[43m,\u001b[49m\u001b[43m \u001b[49m\u001b[43ma\u001b[49m\u001b[43m,\u001b[49m\u001b[43m \u001b[49m\u001b[43mr\u001b[49m\u001b[43m,\u001b[49m\n\u001b[1;32m    148\u001b[0m \u001b[43m                                    \u001b[49m\u001b[38;5;28;43mlen\u001b[39;49m\u001b[43m(\u001b[49m\u001b[43mr\u001b[49m\u001b[43m)\u001b[49m\u001b[43m,\u001b[49m\u001b[43m \u001b[49m\u001b[43mstatus\u001b[49m\u001b[43m)\u001b[49m\n\u001b[1;32m    149\u001b[0m check(status, cosmo_in)\n\u001b[1;32m    150\u001b[0m \u001b[38;5;28;01mif\u001b[39;00m scalar:\n",
      "File \u001b[0;32m/nobackup/b7009348/miniconda3/envs/ccl_tjp/lib/python3.9/site-packages/pyccl/ccllib.py:1687\u001b[0m, in \u001b[0;36mcorrelation_3d_vec\u001b[0;34m(cosmo, psp, a, r, nxi, status)\u001b[0m\n\u001b[1;32m   1683\u001b[0m \u001b[38;5;28;01mif\u001b[39;00m numpy\u001b[38;5;241m.\u001b[39mshape(r) \u001b[38;5;241m!=\u001b[39m (nxi,):\n\u001b[1;32m   1684\u001b[0m     \u001b[38;5;28;01mraise\u001b[39;00m CCLError(\u001b[38;5;124m\"\u001b[39m\u001b[38;5;124mInput shape for `r` must match `(nxi,)`!\u001b[39m\u001b[38;5;124m\"\u001b[39m)\n\u001b[0;32m-> 1687\u001b[0m \u001b[38;5;28;01mreturn\u001b[39;00m \u001b[43m_ccllib\u001b[49m\u001b[38;5;241;43m.\u001b[39;49m\u001b[43mcorrelation_3d_vec\u001b[49m\u001b[43m(\u001b[49m\u001b[43mcosmo\u001b[49m\u001b[43m,\u001b[49m\u001b[43m \u001b[49m\u001b[43mpsp\u001b[49m\u001b[43m,\u001b[49m\u001b[43m \u001b[49m\u001b[43ma\u001b[49m\u001b[43m,\u001b[49m\u001b[43m \u001b[49m\u001b[43mr\u001b[49m\u001b[43m,\u001b[49m\u001b[43m \u001b[49m\u001b[43mnxi\u001b[49m\u001b[43m,\u001b[49m\u001b[43m \u001b[49m\u001b[43mstatus\u001b[49m\u001b[43m)\u001b[49m\n",
      "\u001b[0;31mKeyboardInterrupt\u001b[0m: "
     ]
    }
   ],
   "source": [
    "F_theta = sp.get_F(theta_dependence=True)\n",
    "B_min1 = sp.get_boosts()\n",
    "#B_min1 = np.load('generated_data/Boost_data_year1.npz')['B_min1']\n",
    "theta = sp.theta_cents"
   ]
  },
  {
   "cell_type": "markdown",
   "id": "7166c13f-1e85-4291-9ec5-20edbb1da982",
   "metadata": {},
   "source": [
    "### Calculate maximum lensing residual"
   ]
  },
  {
   "cell_type": "code",
   "execution_count": 135,
   "id": "8b82a814-4404-4e58-b14b-7df43482f40a",
   "metadata": {},
   "outputs": [],
   "source": [
    "# define multiplicative bias uncertainty\n",
    "sigma_m = 0.013\n",
    "\n",
    "# set ell values based on theta range\n",
    "ell = np.unique(np.geomspace(180/(theta[-1]/60.) - 10, 180/(theta[0]/60.) + 10, 1024).astype(int))\n",
    "\n",
    "# compute angular power spectrum for galaxy-galaxy lensing using H.O.D.s\n",
    "Cl_gM, lensTracer, shearTracer = sp.get_LSST_Cl(ell, 'gm')\n",
    "\n",
    "# compute lensing shear\n",
    "y_L = ccl.correlation(sp.halo.cosmo_SRD, ell, Cl_gM, theta / 60., type='NG')"
   ]
  },
  {
   "cell_type": "code",
   "execution_count": 163,
   "id": "3808ff7a-09b3-4905-8abe-6514cf413672",
   "metadata": {},
   "outputs": [],
   "source": [
    "# multiply by maximum residual bias and divide by P.A. fraction\n",
    "delM_yL = 2.*sigma_m*y_L / (B_min1 + F_theta)"
   ]
  },
  {
   "cell_type": "markdown",
   "id": "4f00e446-c879-4570-a576-23d0a9816270",
   "metadata": {},
   "source": [
    "### Calculate theoretical IA signal using L-NLA model"
   ]
  },
  {
   "cell_type": "code",
   "execution_count": 136,
   "id": "cf1d2c73-e362-41fb-8ac1-9421b43907d0",
   "metadata": {},
   "outputs": [],
   "source": [
    "# load in redshift data\n",
    "z_s, dndz_s, zseff = sp.zed.get_dndz_phot('source')\n",
    "z_l, dndz_l, zleff = sp.zed.get_dndz_spec('lens')\n",
    "\n",
    "# define IA model\n",
    "f_red = 0.16\n",
    "A_IA = 5.\n",
    "\n",
    "IA_amps = f_red * A_IA * np.ones_like(z_s)\n",
    "\n",
    "intrinsicTracer = ccl.WeakLensingTracer(sp.zed.cosmo_SRD, (z_s, dndz_s), has_shear=False, \n",
    "                                     ia_bias=(z_s, IA_amps))\n",
    "\n",
    "# CALCULATE IA USING HALO MODEL POWER SPECTRUM\n",
    "\n",
    "# defined to be same as in boost function\n",
    "k_arr = np.geomspace(1E-4, 5E2, 3000)\n",
    "\n",
    "a_l = 1. / (1. + z_l)\n",
    "\n",
    "# create 2D power spectrum objects for galaxy-IA correlation\n",
    "pk_gMf = sp.halo.get_Pk2D('gm', k_arr, np.flip(a_l))\n",
    "\n",
    "# compute aps for galaxy-intrinsic\n",
    "Cl_IA = ccl.angular_cl(sp.zed.cosmo_SRD, lensTracer, intrinsicTracer, ell, p_of_k_a=pk_gMf)"
   ]
  },
  {
   "cell_type": "code",
   "execution_count": 164,
   "id": "51e536c2-6aff-4855-988e-75a34c4fe553",
   "metadata": {},
   "outputs": [],
   "source": [
    "# get IA tangential shear\n",
    "y_IA = ccl.correlation(sp.zed.cosmo_SRD, ell, Cl_IA, theta / 60., type='NG')\n",
    "bar_yIA = y_IA / (B_min1 + F_theta)"
   ]
  },
  {
   "cell_type": "markdown",
   "id": "b2239723-5791-42f1-931a-3a2ed5971a2e",
   "metadata": {},
   "source": [
    "### Load in Y1 covariance matrix and combine with lensing residual "
   ]
  },
  {
   "cell_type": "code",
   "execution_count": 21,
   "id": "26cfc7b3-452f-458f-a8cd-25ab3323c15e",
   "metadata": {},
   "outputs": [
    {
     "ename": "NameError",
     "evalue": "name 'theta' is not defined",
     "output_type": "error",
     "traceback": [
      "\u001b[0;31m---------------------------------------------------------------------------\u001b[0m",
      "\u001b[0;31mNameError\u001b[0m                                 Traceback (most recent call last)",
      "Cell \u001b[0;32mIn [21], line 10\u001b[0m\n\u001b[1;32m      8\u001b[0m sigma_IA \u001b[38;5;241m=\u001b[39m np\u001b[38;5;241m.\u001b[39mzeros_like(covs[\u001b[38;5;241m0\u001b[39m])\n\u001b[1;32m      9\u001b[0m \u001b[38;5;28;01mfor\u001b[39;00m j \u001b[38;5;129;01min\u001b[39;00m \u001b[38;5;28mrange\u001b[39m(\u001b[38;5;28mlen\u001b[39m(rho)):\n\u001b[0;32m---> 10\u001b[0m     \u001b[38;5;28;01mfor\u001b[39;00m i \u001b[38;5;129;01min\u001b[39;00m \u001b[38;5;28mrange\u001b[39m(\u001b[38;5;28mlen\u001b[39m(\u001b[43mtheta\u001b[49m)):\n\u001b[1;32m     11\u001b[0m         \u001b[38;5;28;01mfor\u001b[39;00m k \u001b[38;5;129;01min\u001b[39;00m \u001b[38;5;28mrange\u001b[39m(\u001b[38;5;28mlen\u001b[39m(theta)):\n\u001b[1;32m     12\u001b[0m             cov_IA[j,i,k] \u001b[38;5;241m=\u001b[39m (covs[j,i,k] \u001b[38;5;241m/\u001b[39m ((B_min1[i] \u001b[38;5;241m+\u001b[39m F_theta[i])\u001b[38;5;241m*\u001b[39m(B_min1[k] \u001b[38;5;241m+\u001b[39m F_theta[k]))) \u001b[38;5;241m+\u001b[39m delM_yL[i]\u001b[38;5;241m*\u001b[39mdelM_yL[k]\n",
      "\u001b[0;31mNameError\u001b[0m: name 'theta' is not defined"
     ]
    }
   ],
   "source": [
    "# load in matrices and rho values\n",
    "cov_file = np.load('generated_data/lsst-y1-covmats-IA.npz')\n",
    "rho = cov_file['rho']\n",
    "covs = cov_file['cov']\n",
    "\n",
    "# add residual in quadrature to cov matrix\n",
    "cov_IA = np.zeros_like(covs)\n",
    "sigma_IA = np.zeros_like(covs[0])\n",
    "for j in range(len(rho)):\n",
    "    for i in range(len(theta)):\n",
    "        for k in range(len(theta)):\n",
    "            cov_IA[j,i,k] = (covs[j,i,k] / ((B_min1[i] + F_theta[i])*(B_min1[k] + F_theta[k]))) + delM_yL[i]*delM_yL[k]\n",
    "    sigma_IA[j] = np.sqrt(np.diag(cov_IA[j,:,:]))"
   ]
  },
  {
   "cell_type": "code",
   "execution_count": 153,
   "id": "8bbf281f-381f-4629-917c-b8eeacb26a2f",
   "metadata": {},
   "outputs": [
    {
     "name": "stdout",
     "output_type": "stream",
     "text": [
      "[1.16232136e-07 2.92429633e-07 3.52656979e-07 4.83799953e-07\n",
      " 6.99123237e-07 1.11715334e-06 1.81335290e-06 2.74077829e-06\n",
      " 3.49057163e-06 4.00517872e-06]\n"
     ]
    }
   ],
   "source": [
    "# difference between sigma_IA for min and max rho values \n",
    "print(sigma_IA[0] - sigma_IA[8])"
   ]
  },
  {
   "cell_type": "markdown",
   "id": "56e1f431-8d53-4c60-8644-5b98cecebecb",
   "metadata": {},
   "source": [
    "### Plot (1-0.5)yIA and (0.026)yL "
   ]
  },
  {
   "cell_type": "code",
   "execution_count": 154,
   "id": "2216bff1-5c20-496b-a9d6-2d3a5fd7dba7",
   "metadata": {},
   "outputs": [
    {
     "data": {
      "text/plain": [
       "Text(0.5, 0, '$\\\\theta$ (arcmin)')"
      ]
     },
     "execution_count": 154,
     "metadata": {},
     "output_type": "execute_result"
    },
    {
     "data": {
      "image/png": "[encoded data removed]",
      "text/plain": [
       "<Figure size 600x500 with 1 Axes>"
      ]
     },
     "metadata": {},
     "output_type": "display_data"
    }
   ],
   "source": [
    "plt.figure(figsize=[6,5])\n",
    "plt.errorbar(theta, -(1-0.5)*bar_yIA, np.sqrt(np.diag(covs[0])/(B_min1+F_theta)**2), linewidth=0, marker='o', markersize=2., color='orange',\n",
    "            elinewidth=1., capsize=5.)\n",
    "plt.plot(theta, delM_yL, linewidth=0, marker='^', color='mediumvioletred')\n",
    "plt.xscale('log')\n",
    "plt.yscale('log')\n",
    "plt.ylim([1E-5, 2E-2])\n",
    "plt.title('Stat only covariance')\n",
    "plt.xlabel(r'$\\theta$ (arcmin)', fontsize=15)"
   ]
  },
  {
   "cell_type": "markdown",
   "id": "7b4c8bbe-291e-4f4a-9ba1-3dd4586a9cd4",
   "metadata": {},
   "source": [
    "### Plot (1-a)yIA for different a values"
   ]
  },
  {
   "cell_type": "code",
   "execution_count": 166,
   "id": "e8ee3339-0f64-4a49-bf7c-f033f72792c9",
   "metadata": {},
   "outputs": [
    {
     "data": {
      "text/plain": [
       "Text(0.5, 1.0, 'Stat+Sys Covariance, $\\\\rho=0.5$')"
      ]
     },
     "execution_count": 166,
     "metadata": {},
     "output_type": "execute_result"
    },
    {
     "data": {
      "image/png": "[encoded data removed]",
      "text/plain": [
       "<Figure size 600x500 with 1 Axes>"
      ]
     },
     "metadata": {},
     "output_type": "display_data"
    }
   ],
   "source": [
    "a = [0.1,0.3,0.5,0.7]\n",
    "logshift = np.zeros([len(a),len(bar_yIA)])\n",
    "yIA_1mina = np.zeros([len(a),len(bar_yIA)])\n",
    "for i in range(len(a)):\n",
    "    yIA_1mina[i,:] = -(1.-a[i]) * bar_yIA[:]\n",
    "    logshift[i,:] = 0.08*theta*i\n",
    "\n",
    "plt.figure(figsize=[6,5])\n",
    "plt.errorbar(theta+logshift[0], yIA_1mina[0], sigma_IA[4], linewidth=0, marker='o', markersize=5., color='orange',\n",
    "            elinewidth=1., capsize=5.)\n",
    "plt.errorbar(theta+logshift[1], yIA_1mina[1], sigma_IA[4], linewidth=0, marker='^', markersize=5., color='blue',\n",
    "            elinewidth=1., capsize=5.)\n",
    "plt.errorbar(theta+logshift[2], yIA_1mina[2], sigma_IA[4], linewidth=0, marker='s', markersize=5., color='red',\n",
    "            elinewidth=1., capsize=5.)\n",
    "plt.errorbar(theta+logshift[3], yIA_1mina[3], sigma_IA[4], linewidth=0, marker='D', markersize=5., color='black',\n",
    "            elinewidth=1., capsize=5.)\n",
    "plt.legend([r'$a=%g$'%a[0],r'$a=%g$'%a[1],r'$a=%g$'%a[2],r'$a=%g$'%a[3]],)\n",
    "\n",
    "plt.hlines(y=0.,xmin=0.1*theta.min(),xmax=1.6*theta.max(), color='black')\n",
    "plt.xscale('log')\n",
    "plt.xticks(fontsize=12)\n",
    "plt.yticks(fontsize=12)\n",
    "#plt.yscale('log')\n",
    "plt.ylim([-1E-3, 1.15E-2])\n",
    "plt.xlim(0.2,30)\n",
    "plt.xlabel(r'$\\theta$ (arcmin)', fontsize=14)\n",
    "plt.ylabel(r'$(1-a)\\bar{\\gamma}_{IA}$', fontsize=14)\n",
    "plt.title(r'Stat+Sys Covariance, $\\rho=%g$'%(rho[4]), fontsize=14)"
   ]
  }
 ],
 "metadata": {
  "kernelspec": {
   "display_name": "Python [conda env:ccl_tjp]",
   "language": "python",
   "name": "conda-env-ccl_tjp-py"
  },
  "language_info": {
   "codemirror_mode": {
    "name": "ipython",
    "version": 3
   },
   "file_extension": ".py",
   "mimetype": "text/x-python",
   "name": "python",
   "nbconvert_exporter": "python",
   "pygments_lexer": "ipython3",
   "version": "3.9.15"
  }
 },
 "nbformat": 4,
 "nbformat_minor": 5
}
